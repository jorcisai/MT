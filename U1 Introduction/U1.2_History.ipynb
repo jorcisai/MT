{
 "cells": [
  {
   "cell_type": "markdown",
   "metadata": {},
   "source": [
    "# Brief history\n",
    "\n",
    "<ul>\n",
    "<li>1947: Weaver mentions the possibility of using a computer to translate</li>\n",
    "<li>1950: Started excited reasearch in MT (Georgetown–IBM experiment)</li>\n",
    "<li>1957: Chomsky states that natural language is not governed by statistics</li>\n",
    "<li>1960: ALPAC report: MT, no market and useless results</li>\n",
    "<li>1960-2000: Knowledge-based approaches (SYSTRAN)</li>\n",
    "<li>1989-: Data-driven approaches:</li>\n",
    "<ul>\n",
    "<li>1989-1995: Statistical approach for word-based models (IBM)</li>\n",
    "<li>1995-2005: Increasing research on statistical approach (GIZA++, SFST)</li>\n",
    "<li>2005-2015: Phrase-based approaches (Moses)\n",
    "<li>2010-2015: Continuous space representation spurks neural machine translation (NMT)\n",
    "<li>2015-: Industrial use of NMT (Transformer)</li>\n",
    "<li>2019-: Large pre-trained models for translation (encoder-decoder or decoder-only)</li>\n",
    "</ul>\n",
    "</ul>\n",
    "\n",
    "<p style=\"page-break-after:always;\"></p>"
   ]
  }
 ],
 "metadata": {
  "language_info": {
   "name": "python"
  }
 },
 "nbformat": 4,
 "nbformat_minor": 2
}
