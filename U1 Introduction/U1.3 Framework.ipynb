{
 "cells": [
  {
   "cell_type": "markdown",
   "metadata": {},
   "source": [
    "<ul>\n",
    "<li>Every sentence $$y$$ from a target language is considered as a possible\n",
    "translation of a given sentence x from a source language.</li>\n",
    "<li>For each possible pair of sentences y, x, there is a probability Pr(y | x).</li>\n",
    "</ul>"
   ]
  },
  {
   "cell_type": "code",
   "execution_count": null,
   "metadata": {},
   "outputs": [],
   "source": []
  }
 ],
 "metadata": {
  "language_info": {
   "name": "python"
  }
 },
 "nbformat": 4,
 "nbformat_minor": 2
}
