{
 "cells": [
  {
   "cell_type": "markdown",
   "metadata": {},
   "source": [
    "<center>\n",
    "<h1>Machine Translation</h1>\n",
    "</center>\n",
    "\n",
    "<br><br><br><br><br><br><br><br>\n",
    "\n",
    "<center>\n",
    "<h1>Introduction</h1>\n",
    "</center>\n",
    "\n",
    "<p style=\"page-break-after:always;\"></p>"
   ]
  },
  {
   "cell_type": "markdown",
   "metadata": {},
   "source": [
    "# Motivation\n",
    "\n",
    "<ul>\n",
    "<li> Machine Translation (MT) demand is continuosly increasing year after year </li>\n",
    "<li> Increased use of MT and post-editing (PE) </li>\n",
    "<li> Increasing demand of multimodal translation in marketing </li>\n",
    "<li> Rise of multilingual content in e-learning platforms </li>\n",
    "<li> Growing demand of streaming multilingual audiovisual content: TV broadcasting, conferences, meetings </li>\n",
    "</ul>"
   ]
  },
  {
   "cell_type": "markdown",
   "metadata": {},
   "source": [
    "![Machine translation market size worldwide, from 2016 to 2024 (in million U.S. dollars)](figs/MT_MarketSize2024.png)"
   ]
  }
 ],
 "metadata": {
  "language_info": {
   "name": "python"
  }
 },
 "nbformat": 4,
 "nbformat_minor": 2
}
