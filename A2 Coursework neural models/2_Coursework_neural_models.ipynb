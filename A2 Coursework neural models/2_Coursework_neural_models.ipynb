{
 "cells": [
  {
   "cell_type": "markdown",
   "metadata": {},
   "source": [
    "# A2. Coursework on neural models (3.75 points)\n",
    "The goal of this coursework is to apply pre-trained translation models to a translation task selected by the student. To this purpose a series of Jupyter Notebooks as examples have been provided applying NLLB and LLAMA-2 models to the translation task Europarl-ST.\n",
    "\n",
    "### Recommended steps (deadline: 28/01/2025)\n",
    "\n",
    "1\\. Select one dataset for a [translation task from HuggingFace](https://huggingface.co/datasets?task_categories=task_categories:translation) and inform the lecturers on your choice to make sure that no other student has selected it\n",
    "\n",
    "2\\. Run experiments from provided notebooks on your selected dataset. Report BLEU and COMET in all cases.\n",
    "\n",
    "3\\. Run experiments on one alternative pre-trained model\n",
    "\n",
    "4\\. Work on extensions of the previous notebooks \n",
    "\n",
    "  - Run experiments on one additional alternative model\n",
    "\n",
    "  - Explore training parameters\n",
    "\n",
    "  - Explore inference parameters\n",
    "\n",
    "  - Explore an alternative existing PEFT method\n",
    "\n",
    "  - Report on additional evaluation measures\n",
    "  \n",
    "  - Extension proposed by the student\n",
    "\n"
   ]
  }
 ],
 "metadata": {
  "language_info": {
   "name": "python"
  }
 },
 "nbformat": 4,
 "nbformat_minor": 2
}
