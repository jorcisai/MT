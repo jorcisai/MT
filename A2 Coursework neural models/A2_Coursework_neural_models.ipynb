{
 "cells": [
  {
   "cell_type": "markdown",
   "metadata": {},
   "source": [
    "# A2. Coursework on neural models (3.75 points)\n",
    "The goal of this coursework is to apply pre-trained translation models to a translation task selected by the student. To this purpose a series of Jupyter Notebooks as examples have been provided applying NLLB and LLAMA-2 models to the translation task Europarl-ST.\n",
    "\n",
    "### Recommended steps (deadline: 22/12/2024)\n",
    "\n",
    "1\\. Select one dataset for a [translation task from HuggingFace](https://huggingface.co/datasets?task_categories=task_categories:translation) and inform the lecturers on your choice to make sure that no other student has selected it.\n",
    "\n",
    "2\\. Run provided notebooks on your selected dataset. Report BLEU and COMET. (Compulsory: 2.0 points)  \n",
    "\n",
    "3\\. Work on extensions of the previous notebooks \n",
    "\n",
    "  - Run experiments on one alternative model (Compulsory: 1.0 point)\n",
    "\n",
    "  - Run experiments on one additional alternative model (Optional: 0.5 points)\n",
    "\n",
    "  - Explore training parameters (Optional: 0.5 points)\n",
    "\n",
    "  - Explore inference parameters (Optional: 0.5 points) \n",
    "\n",
    "  - Explore an alternative existing PEFT method (Optional: 0.5 points)\n",
    "\n",
    "  - Report (at least two) additional evaluation measures (Optional: 0.5 points)\n",
    "  \n",
    "  - Extension proposed by the student (Optional: X.X points)\n",
    "\n"
   ]
  }
 ],
 "metadata": {
  "language_info": {
   "name": "python"
  }
 },
 "nbformat": 4,
 "nbformat_minor": 2
}
