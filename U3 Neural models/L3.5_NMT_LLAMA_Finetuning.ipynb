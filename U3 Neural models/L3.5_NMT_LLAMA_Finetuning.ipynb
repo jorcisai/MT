{
  "cells": [
    {
      "cell_type": "markdown",
      "metadata": {
        "id": "wM_yRc9BRYtt"
      },
      "source": [
        "# Fine-tuning"
      ]
    },
    {
      "cell_type": "markdown",
      "metadata": {
        "id": "HCNCzeYLRdf6"
      },
      "source": [
        "Fine-tuning refers to the process in transfer learning in which the parameter values of a model trained on a large dataset are modified when the training process continues on a small dataset (see [Kevin Murphy's book](https://probml.github.io/pml-book/book1.html) Section 19.2 for further details). The main motivation is to adapt a pre-trained model trained on a large amount of data to tackle a specific task providing better performance that would be achieved training on the small task-specific dataset."
      ]
    },
    {
      "cell_type": "code",
      "execution_count": 1,
      "metadata": {
        "colab": {
          "base_uri": "https://localhost:8080/"
        },
        "id": "TL9gzprDRK3u",
        "outputId": "c758d30a-27d1-471b-ae72-211aff17bee7"
      },
      "outputs": [
        {
          "name": "stdout",
          "output_type": "stream",
          "text": [
            "Requirement already satisfied: datasets in /home/jorcisai/Docencia/.venv_python3.10_keras/lib/python3.10/site-packages (3.0.2)\n",
            "Requirement already satisfied: evaluate in /home/jorcisai/Docencia/.venv_python3.10_keras/lib/python3.10/site-packages (0.4.3)\n",
            "Requirement already satisfied: transformers==4.30 in /home/jorcisai/Docencia/.venv_python3.10_keras/lib/python3.10/site-packages (4.30.0)\n",
            "Requirement already satisfied: accelerate in /home/jorcisai/Docencia/.venv_python3.10_keras/lib/python3.10/site-packages (1.0.1)\n",
            "Requirement already satisfied: peft in /home/jorcisai/Docencia/.venv_python3.10_keras/lib/python3.10/site-packages (0.13.2)\n",
            "Requirement already satisfied: bitsandbytes in /home/jorcisai/Docencia/.venv_python3.10_keras/lib/python3.10/site-packages (0.44.1)\n",
            "Requirement already satisfied: filelock in /home/jorcisai/Docencia/.venv_python3.10_keras/lib/python3.10/site-packages (from transformers==4.30) (3.16.1)\n",
            "Requirement already satisfied: huggingface-hub<1.0,>=0.14.1 in /home/jorcisai/Docencia/.venv_python3.10_keras/lib/python3.10/site-packages (from transformers==4.30) (0.26.1)\n",
            "Requirement already satisfied: numpy>=1.17 in /home/jorcisai/Docencia/.venv_python3.10_keras/lib/python3.10/site-packages (from transformers==4.30) (1.26.4)\n",
            "Requirement already satisfied: packaging>=20.0 in /home/jorcisai/Docencia/.venv_python3.10_keras/lib/python3.10/site-packages (from transformers==4.30) (24.1)\n",
            "Requirement already satisfied: pyyaml>=5.1 in /home/jorcisai/Docencia/.venv_python3.10_keras/lib/python3.10/site-packages (from transformers==4.30) (6.0.2)\n",
            "Requirement already satisfied: regex!=2019.12.17 in /home/jorcisai/Docencia/.venv_python3.10_keras/lib/python3.10/site-packages (from transformers==4.30) (2024.9.11)\n",
            "Requirement already satisfied: requests in /home/jorcisai/Docencia/.venv_python3.10_keras/lib/python3.10/site-packages (from transformers==4.30) (2.32.3)\n",
            "Requirement already satisfied: tokenizers!=0.11.3,<0.14,>=0.11.1 in /home/jorcisai/Docencia/.venv_python3.10_keras/lib/python3.10/site-packages (from transformers==4.30) (0.13.3)\n",
            "Requirement already satisfied: safetensors>=0.3.1 in /home/jorcisai/Docencia/.venv_python3.10_keras/lib/python3.10/site-packages (from transformers==4.30) (0.4.5)\n",
            "Requirement already satisfied: tqdm>=4.27 in /home/jorcisai/Docencia/.venv_python3.10_keras/lib/python3.10/site-packages (from transformers==4.30) (4.66.5)\n",
            "Requirement already satisfied: pyarrow>=15.0.0 in /home/jorcisai/Docencia/.venv_python3.10_keras/lib/python3.10/site-packages (from datasets) (17.0.0)\n",
            "Requirement already satisfied: dill<0.3.9,>=0.3.0 in /home/jorcisai/Docencia/.venv_python3.10_keras/lib/python3.10/site-packages (from datasets) (0.3.8)\n",
            "Requirement already satisfied: pandas in /home/jorcisai/Docencia/.venv_python3.10_keras/lib/python3.10/site-packages (from datasets) (2.2.3)\n",
            "Requirement already satisfied: xxhash in /home/jorcisai/Docencia/.venv_python3.10_keras/lib/python3.10/site-packages (from datasets) (3.5.0)\n",
            "Requirement already satisfied: multiprocess<0.70.17 in /home/jorcisai/Docencia/.venv_python3.10_keras/lib/python3.10/site-packages (from datasets) (0.70.16)\n",
            "Requirement already satisfied: fsspec<=2024.9.0,>=2023.1.0 in /home/jorcisai/Docencia/.venv_python3.10_keras/lib/python3.10/site-packages (from fsspec[http]<=2024.9.0,>=2023.1.0->datasets) (2024.9.0)\n",
            "Requirement already satisfied: aiohttp in /home/jorcisai/Docencia/.venv_python3.10_keras/lib/python3.10/site-packages (from datasets) (3.10.10)\n",
            "Requirement already satisfied: psutil in /home/jorcisai/Docencia/.venv_python3.10_keras/lib/python3.10/site-packages (from accelerate) (6.0.0)\n",
            "Requirement already satisfied: torch>=1.10.0 in /home/jorcisai/Docencia/.venv_python3.10_keras/lib/python3.10/site-packages (from accelerate) (2.5.0)\n",
            "Requirement already satisfied: aiohappyeyeballs>=2.3.0 in /home/jorcisai/Docencia/.venv_python3.10_keras/lib/python3.10/site-packages (from aiohttp->datasets) (2.4.3)\n",
            "Requirement already satisfied: aiosignal>=1.1.2 in /home/jorcisai/Docencia/.venv_python3.10_keras/lib/python3.10/site-packages (from aiohttp->datasets) (1.3.1)\n",
            "Requirement already satisfied: attrs>=17.3.0 in /home/jorcisai/Docencia/.venv_python3.10_keras/lib/python3.10/site-packages (from aiohttp->datasets) (24.2.0)\n",
            "Requirement already satisfied: frozenlist>=1.1.1 in /home/jorcisai/Docencia/.venv_python3.10_keras/lib/python3.10/site-packages (from aiohttp->datasets) (1.5.0)\n",
            "Requirement already satisfied: multidict<7.0,>=4.5 in /home/jorcisai/Docencia/.venv_python3.10_keras/lib/python3.10/site-packages (from aiohttp->datasets) (6.1.0)\n",
            "Requirement already satisfied: yarl<2.0,>=1.12.0 in /home/jorcisai/Docencia/.venv_python3.10_keras/lib/python3.10/site-packages (from aiohttp->datasets) (1.16.0)\n",
            "Requirement already satisfied: async-timeout<5.0,>=4.0 in /home/jorcisai/Docencia/.venv_python3.10_keras/lib/python3.10/site-packages (from aiohttp->datasets) (4.0.3)\n",
            "Requirement already satisfied: typing-extensions>=3.7.4.3 in /home/jorcisai/Docencia/.venv_python3.10_keras/lib/python3.10/site-packages (from huggingface-hub<1.0,>=0.14.1->transformers==4.30) (4.12.2)\n",
            "Requirement already satisfied: charset-normalizer<4,>=2 in /home/jorcisai/Docencia/.venv_python3.10_keras/lib/python3.10/site-packages (from requests->transformers==4.30) (3.4.0)\n",
            "Requirement already satisfied: idna<4,>=2.5 in /home/jorcisai/Docencia/.venv_python3.10_keras/lib/python3.10/site-packages (from requests->transformers==4.30) (3.10)\n",
            "Requirement already satisfied: urllib3<3,>=1.21.1 in /home/jorcisai/Docencia/.venv_python3.10_keras/lib/python3.10/site-packages (from requests->transformers==4.30) (2.2.3)\n",
            "Requirement already satisfied: certifi>=2017.4.17 in /home/jorcisai/Docencia/.venv_python3.10_keras/lib/python3.10/site-packages (from requests->transformers==4.30) (2024.8.30)\n",
            "Requirement already satisfied: networkx in /home/jorcisai/Docencia/.venv_python3.10_keras/lib/python3.10/site-packages (from torch>=1.10.0->accelerate) (3.4.2)\n",
            "Requirement already satisfied: jinja2 in /home/jorcisai/Docencia/.venv_python3.10_keras/lib/python3.10/site-packages (from torch>=1.10.0->accelerate) (3.1.4)\n",
            "Requirement already satisfied: nvidia-cuda-nvrtc-cu12==12.4.127 in /home/jorcisai/Docencia/.venv_python3.10_keras/lib/python3.10/site-packages (from torch>=1.10.0->accelerate) (12.4.127)\n",
            "Requirement already satisfied: nvidia-cuda-runtime-cu12==12.4.127 in /home/jorcisai/Docencia/.venv_python3.10_keras/lib/python3.10/site-packages (from torch>=1.10.0->accelerate) (12.4.127)\n",
            "Requirement already satisfied: nvidia-cuda-cupti-cu12==12.4.127 in /home/jorcisai/Docencia/.venv_python3.10_keras/lib/python3.10/site-packages (from torch>=1.10.0->accelerate) (12.4.127)\n",
            "Requirement already satisfied: nvidia-cudnn-cu12==9.1.0.70 in /home/jorcisai/Docencia/.venv_python3.10_keras/lib/python3.10/site-packages (from torch>=1.10.0->accelerate) (9.1.0.70)\n",
            "Requirement already satisfied: nvidia-cublas-cu12==12.4.5.8 in /home/jorcisai/Docencia/.venv_python3.10_keras/lib/python3.10/site-packages (from torch>=1.10.0->accelerate) (12.4.5.8)\n",
            "Requirement already satisfied: nvidia-cufft-cu12==11.2.1.3 in /home/jorcisai/Docencia/.venv_python3.10_keras/lib/python3.10/site-packages (from torch>=1.10.0->accelerate) (11.2.1.3)\n",
            "Requirement already satisfied: nvidia-curand-cu12==10.3.5.147 in /home/jorcisai/Docencia/.venv_python3.10_keras/lib/python3.10/site-packages (from torch>=1.10.0->accelerate) (10.3.5.147)\n",
            "Requirement already satisfied: nvidia-cusolver-cu12==11.6.1.9 in /home/jorcisai/Docencia/.venv_python3.10_keras/lib/python3.10/site-packages (from torch>=1.10.0->accelerate) (11.6.1.9)\n",
            "Requirement already satisfied: nvidia-cusparse-cu12==12.3.1.170 in /home/jorcisai/Docencia/.venv_python3.10_keras/lib/python3.10/site-packages (from torch>=1.10.0->accelerate) (12.3.1.170)\n",
            "Requirement already satisfied: nvidia-nccl-cu12==2.21.5 in /home/jorcisai/Docencia/.venv_python3.10_keras/lib/python3.10/site-packages (from torch>=1.10.0->accelerate) (2.21.5)\n",
            "Requirement already satisfied: nvidia-nvtx-cu12==12.4.127 in /home/jorcisai/Docencia/.venv_python3.10_keras/lib/python3.10/site-packages (from torch>=1.10.0->accelerate) (12.4.127)\n",
            "Requirement already satisfied: nvidia-nvjitlink-cu12==12.4.127 in /home/jorcisai/Docencia/.venv_python3.10_keras/lib/python3.10/site-packages (from torch>=1.10.0->accelerate) (12.4.127)\n",
            "Requirement already satisfied: triton==3.1.0 in /home/jorcisai/Docencia/.venv_python3.10_keras/lib/python3.10/site-packages (from torch>=1.10.0->accelerate) (3.1.0)\n",
            "Requirement already satisfied: sympy==1.13.1 in /home/jorcisai/Docencia/.venv_python3.10_keras/lib/python3.10/site-packages (from torch>=1.10.0->accelerate) (1.13.1)\n",
            "Requirement already satisfied: mpmath<1.4,>=1.1.0 in /home/jorcisai/Docencia/.venv_python3.10_keras/lib/python3.10/site-packages (from sympy==1.13.1->torch>=1.10.0->accelerate) (1.3.0)\n",
            "Requirement already satisfied: python-dateutil>=2.8.2 in /home/jorcisai/Docencia/.venv_python3.10_keras/lib/python3.10/site-packages (from pandas->datasets) (2.9.0.post0)\n",
            "Requirement already satisfied: pytz>=2020.1 in /home/jorcisai/Docencia/.venv_python3.10_keras/lib/python3.10/site-packages (from pandas->datasets) (2024.2)\n",
            "Requirement already satisfied: tzdata>=2022.7 in /home/jorcisai/Docencia/.venv_python3.10_keras/lib/python3.10/site-packages (from pandas->datasets) (2024.2)\n",
            "Requirement already satisfied: six>=1.5 in /home/jorcisai/Docencia/.venv_python3.10_keras/lib/python3.10/site-packages (from python-dateutil>=2.8.2->pandas->datasets) (1.16.0)\n",
            "Requirement already satisfied: propcache>=0.2.0 in /home/jorcisai/Docencia/.venv_python3.10_keras/lib/python3.10/site-packages (from yarl<2.0,>=1.12.0->aiohttp->datasets) (0.2.0)\n",
            "Requirement already satisfied: MarkupSafe>=2.0 in /home/jorcisai/Docencia/.venv_python3.10_keras/lib/python3.10/site-packages (from jinja2->torch>=1.10.0->accelerate) (3.0.1)\n",
            "\n",
            "\u001b[1m[\u001b[0m\u001b[34;49mnotice\u001b[0m\u001b[1;39;49m]\u001b[0m\u001b[39;49m A new release of pip is available: \u001b[0m\u001b[31;49m24.2\u001b[0m\u001b[39;49m -> \u001b[0m\u001b[32;49m24.3.1\u001b[0m\n",
            "\u001b[1m[\u001b[0m\u001b[34;49mnotice\u001b[0m\u001b[1;39;49m]\u001b[0m\u001b[39;49m To update, run: \u001b[0m\u001b[32;49mpip install --upgrade pip\u001b[0m\n",
            "Requirement already satisfied: sacrebleu in /home/jorcisai/Docencia/.venv_python3.10_keras/lib/python3.10/site-packages (2.4.3)\n",
            "Requirement already satisfied: portalocker in /home/jorcisai/Docencia/.venv_python3.10_keras/lib/python3.10/site-packages (from sacrebleu) (2.10.1)\n",
            "Requirement already satisfied: regex in /home/jorcisai/Docencia/.venv_python3.10_keras/lib/python3.10/site-packages (from sacrebleu) (2024.9.11)\n",
            "Requirement already satisfied: tabulate>=0.8.9 in /home/jorcisai/Docencia/.venv_python3.10_keras/lib/python3.10/site-packages (from sacrebleu) (0.9.0)\n",
            "Requirement already satisfied: numpy>=1.17 in /home/jorcisai/Docencia/.venv_python3.10_keras/lib/python3.10/site-packages (from sacrebleu) (1.26.4)\n",
            "Requirement already satisfied: colorama in /home/jorcisai/Docencia/.venv_python3.10_keras/lib/python3.10/site-packages (from sacrebleu) (0.4.6)\n",
            "Requirement already satisfied: lxml in /home/jorcisai/Docencia/.venv_python3.10_keras/lib/python3.10/site-packages (from sacrebleu) (5.3.0)\n",
            "\n",
            "\u001b[1m[\u001b[0m\u001b[34;49mnotice\u001b[0m\u001b[1;39;49m]\u001b[0m\u001b[39;49m A new release of pip is available: \u001b[0m\u001b[31;49m24.2\u001b[0m\u001b[39;49m -> \u001b[0m\u001b[32;49m24.3.1\u001b[0m\n",
            "\u001b[1m[\u001b[0m\u001b[34;49mnotice\u001b[0m\u001b[1;39;49m]\u001b[0m\u001b[39;49m To update, run: \u001b[0m\u001b[32;49mpip install --upgrade pip\u001b[0m\n",
            "Requirement already satisfied: huggingface_hub in /home/jorcisai/Docencia/.venv_python3.10_keras/lib/python3.10/site-packages (0.26.1)\n",
            "Requirement already satisfied: filelock in /home/jorcisai/Docencia/.venv_python3.10_keras/lib/python3.10/site-packages (from huggingface_hub) (3.16.1)\n",
            "Requirement already satisfied: fsspec>=2023.5.0 in /home/jorcisai/Docencia/.venv_python3.10_keras/lib/python3.10/site-packages (from huggingface_hub) (2024.9.0)\n",
            "Requirement already satisfied: packaging>=20.9 in /home/jorcisai/Docencia/.venv_python3.10_keras/lib/python3.10/site-packages (from huggingface_hub) (24.1)\n",
            "Requirement already satisfied: pyyaml>=5.1 in /home/jorcisai/Docencia/.venv_python3.10_keras/lib/python3.10/site-packages (from huggingface_hub) (6.0.2)\n",
            "Requirement already satisfied: requests in /home/jorcisai/Docencia/.venv_python3.10_keras/lib/python3.10/site-packages (from huggingface_hub) (2.32.3)\n",
            "Requirement already satisfied: tqdm>=4.42.1 in /home/jorcisai/Docencia/.venv_python3.10_keras/lib/python3.10/site-packages (from huggingface_hub) (4.66.5)\n",
            "Requirement already satisfied: typing-extensions>=3.7.4.3 in /home/jorcisai/Docencia/.venv_python3.10_keras/lib/python3.10/site-packages (from huggingface_hub) (4.12.2)\n",
            "Requirement already satisfied: charset-normalizer<4,>=2 in /home/jorcisai/Docencia/.venv_python3.10_keras/lib/python3.10/site-packages (from requests->huggingface_hub) (3.4.0)\n",
            "Requirement already satisfied: idna<4,>=2.5 in /home/jorcisai/Docencia/.venv_python3.10_keras/lib/python3.10/site-packages (from requests->huggingface_hub) (3.10)\n",
            "Requirement already satisfied: urllib3<3,>=1.21.1 in /home/jorcisai/Docencia/.venv_python3.10_keras/lib/python3.10/site-packages (from requests->huggingface_hub) (2.2.3)\n",
            "Requirement already satisfied: certifi>=2017.4.17 in /home/jorcisai/Docencia/.venv_python3.10_keras/lib/python3.10/site-packages (from requests->huggingface_hub) (2024.8.30)\n",
            "\n",
            "\u001b[1m[\u001b[0m\u001b[34;49mnotice\u001b[0m\u001b[1;39;49m]\u001b[0m\u001b[39;49m A new release of pip is available: \u001b[0m\u001b[31;49m24.2\u001b[0m\u001b[39;49m -> \u001b[0m\u001b[32;49m24.3.1\u001b[0m\n",
            "\u001b[1m[\u001b[0m\u001b[34;49mnotice\u001b[0m\u001b[1;39;49m]\u001b[0m\u001b[39;49m To update, run: \u001b[0m\u001b[32;49mpip install --upgrade pip\u001b[0m\n"
          ]
        }
      ],
      "source": [
        "!pip install datasets evaluate transformers==4.30 accelerate peft bitsandbytes\n",
        "!pip install sacrebleu\n",
        "!pip install huggingface_hub"
      ]
    },
    {
      "cell_type": "markdown",
      "metadata": {
        "id": "UXPA1gkxSfdf"
      },
      "source": [
        "In this notebook, we are going to use for fine-tuning a dataset set that is already available in the [Datasets repository](https://huggingface.co/datasets) from Hugging Face. However, the [Datasets library](https://huggingface.co/docs/datasets) makes easy to access and load datasets. For example, you can easily load your own dataset following [this tutorial](https://huggingface.co/docs/datasets/loading#local-and-remote-files).\n",
        "\n",
        "More precisely, we are going to explain how to fine-tune the [Llama2 model](https://huggingface.co/docs/transformers/model_doc/llama2) on the [Europarl-ST dataset](https://huggingface.co/datasets/tj-solergibert/Europarl-ST), but only that [dataset of Europarl-ST focused on the text data for MT from English](https://huggingface.co/datasets/tj-solergibert/Europarl-ST-processed-mt-en)."
      ]
    },
    {
      "cell_type": "code",
      "execution_count": 2,
      "metadata": {
        "id": "y7hplYI_R-Yi"
      },
      "outputs": [
        {
          "name": "stderr",
          "output_type": "stream",
          "text": [
            "/home/jorcisai/Docencia/.venv_python3.10_keras/lib/python3.10/site-packages/tqdm/auto.py:21: TqdmWarning: IProgress not found. Please update jupyter and ipywidgets. See https://ipywidgets.readthedocs.io/en/stable/user_install.html\n",
            "  from .autonotebook import tqdm as notebook_tqdm\n"
          ]
        },
        {
          "name": "stdout",
          "output_type": "stream",
          "text": [
            "DatasetDict({\n",
            "    train: Dataset({\n",
            "        features: ['source_text', 'dest_text', 'dest_lang'],\n",
            "        num_rows: 602605\n",
            "    })\n",
            "    test: Dataset({\n",
            "        features: ['source_text', 'dest_text', 'dest_lang'],\n",
            "        num_rows: 86170\n",
            "    })\n",
            "    valid: Dataset({\n",
            "        features: ['source_text', 'dest_text', 'dest_lang'],\n",
            "        num_rows: 81968\n",
            "    })\n",
            "})\n"
          ]
        }
      ],
      "source": [
        "from datasets import load_dataset\n",
        "\n",
        "raw_datasets = load_dataset(\"tj-solergibert/Europarl-ST-processed-mt-en\")\n",
        "\n",
        "print(raw_datasets)"
      ]
    },
    {
      "cell_type": "markdown",
      "metadata": {},
      "source": [
        "As shown, the Europarl-ST already comes with a pre-defined partition on the three conventional sets: training, validation and test. Each set is a dictionary with a list of source sentences (source_text), target sentences (dest_text) and the target language (dest_lang).\n",
        "\n",
        "Let's take a closer look at the features of the training set:"
      ]
    },
    {
      "cell_type": "code",
      "execution_count": 3,
      "metadata": {},
      "outputs": [
        {
          "data": {
            "text/plain": [
              "{'source_text': Value(dtype='string', id=None),\n",
              " 'dest_text': Value(dtype='string', id=None),\n",
              " 'dest_lang': ClassLabel(names=['de', 'en', 'es', 'fr', 'it', 'nl', 'pl', 'pt', 'ro'], id=None)}"
            ]
          },
          "execution_count": 3,
          "metadata": {},
          "output_type": "execute_result"
        }
      ],
      "source": [
        "raw_datasets[\"train\"].features"
      ]
    },
    {
      "cell_type": "markdown",
      "metadata": {},
      "source": [
        "As you can see, the possible target languages are German, English, Spanish, French, Italian, Dutch, Polish, Portuguese and Romanian.\n",
        "\n",
        "Let us take a look at the translations of the first two English sentences:"
      ]
    },
    {
      "cell_type": "code",
      "execution_count": 4,
      "metadata": {},
      "outputs": [
        {
          "data": {
            "text/plain": [
              "['Since 1977, most financial services, including insurance and investment fund management, have been exempt from VAT.',\n",
              " 'Since 1977, most financial services, including insurance and investment fund management, have been exempt from VAT.',\n",
              " 'Since 1977, most financial services, including insurance and investment fund management, have been exempt from VAT.',\n",
              " 'Since 1977, most financial services, including insurance and investment fund management, have been exempt from VAT.',\n",
              " 'Since 1977, most financial services, including insurance and investment fund management, have been exempt from VAT.',\n",
              " 'Since 1977, most financial services, including insurance and investment fund management, have been exempt from VAT.',\n",
              " 'Since 1977, most financial services, including insurance and investment fund management, have been exempt from VAT.',\n",
              " 'During this period, two problems have essentially arisen: the definition of the scope of the exemption and the impossibility of recovering VAT incurred in order to provide exempt services, giving rise to the phenomenon of hidden VAT.',\n",
              " 'During this period, two problems have essentially arisen: the definition of the scope of the exemption and the impossibility of recovering VAT incurred in order to provide exempt services, giving rise to the phenomenon of hidden VAT.',\n",
              " 'During this period, two problems have essentially arisen: the definition of the scope of the exemption and the impossibility of recovering VAT incurred in order to provide exempt services, giving rise to the phenomenon of hidden VAT.',\n",
              " 'During this period, two problems have essentially arisen: the definition of the scope of the exemption and the impossibility of recovering VAT incurred in order to provide exempt services, giving rise to the phenomenon of hidden VAT.',\n",
              " 'During this period, two problems have essentially arisen: the definition of the scope of the exemption and the impossibility of recovering VAT incurred in order to provide exempt services, giving rise to the phenomenon of hidden VAT.',\n",
              " 'During this period, two problems have essentially arisen: the definition of the scope of the exemption and the impossibility of recovering VAT incurred in order to provide exempt services, giving rise to the phenomenon of hidden VAT.',\n",
              " 'During this period, two problems have essentially arisen: the definition of the scope of the exemption and the impossibility of recovering VAT incurred in order to provide exempt services, giving rise to the phenomenon of hidden VAT.']"
            ]
          },
          "execution_count": 4,
          "metadata": {},
          "output_type": "execute_result"
        }
      ],
      "source": [
        "raw_datasets[\"train\"][:14][\"source_text\"]"
      ]
    },
    {
      "cell_type": "code",
      "execution_count": 5,
      "metadata": {},
      "outputs": [
        {
          "data": {
            "text/plain": [
              "['Seit 1977 wurden die meisten Finanzdienstleistungen, einschließlich Versicherungen und Verwaltung von Investmentfunds, von der Mehrwertsteuer ausgenommen.',\n",
              " 'La mayoría de los servicios financieros, incluidos los seguros y la gestión de fondos de inversión, están exentos de IVA desde 1977.',\n",
              " 'Depuis 1977, la plupart des services financiers, dont les assurances et la gestion des fonds de placement, ne sont pas tenus d ’ appliquer une TVA.',\n",
              " 'Dal 1997 la maggior parte dei servizi finanziari, compresi i servizi assicurativi e la gestione di fondi di investimento, sono esenti da IVA.',\n",
              " 'Sinds 1977 zijn de meeste financiële diensten, met inbegrip van verzekeringen en het beheer van beleggingsfondsen, vrijgesteld van btw.',\n",
              " 'większość usług finansowych, w tym usług w zakresie ubezpieczeń i zarządzania funduszami inwestycyjnymi, była zwolniona z opodatkowania podatkiem VAT.',\n",
              " 'Desde 1977 que a maioria dos serviços financeiros, incluindo os seguros e a gestão de fundos de investimento, estão isentos de IVA.',\n",
              " 'Im Laufe dieser Zeit haben sich grundsätzlich zwei Probleme herausgebildet: die Definition des Anwendungsbereichs dieser Befreiung und die Unmöglichkeit, die Vorsteuer zurückzufordern, um steuerbefreite Dienstleistungen bereitzustellen, was zum Phänomen der versteckten Mehrwertsteuer führt.',\n",
              " 'Durante este período han surgido fundamentalmente dos dificultades: la definición del ámbito de la exención y la imposibilidad de recuperar el IVA soportado para prestar servicios exentos, que da lugar al fenómeno del IVA oculto.',\n",
              " 'Depuis, deux problèmes majeurs ont émergé : la définition de la portée de l ’ exonération et l ’ impossibilité de récupérer la TVA supportée pour offrir des services exonérés, donnant naissance au phénomène de TVA cachée.',\n",
              " 'Nel corso di questo periodo, sono emersi soprattutto due problemi: la definizione dell ’ ambito di applicazione dell ’ esenzione e l ’ impossibilità di portare in detrazione l ’ IVA versata per fornire servizi esenti, che si è tradotta nell ’ insorgenza del fenomeno dell ’ IVA nascosta.',\n",
              " 'In deze periode zijn er in hoofdzaak twee problemen naar voren gekomen: de bepaling van het toepassingsgebied van de vrijstelling en de onmogelijkheid om btw terug te vorderen die is betaald om de vrijgestelde diensten te kunnen leveren, een onmogelijkheid die tot het verschijnsel van de “verborgen btw ” heeft geleid.',\n",
              " 'W tym okresie pojawiły się zasadniczo dwa problemy: problem określenia zakresu zwolnienia oraz niemożności odzyskania podatku VAT poniesionego w celu świadczenia usług zwolnionych z opodatkowania, co doprowadziło do powstania zjawiska ukrytego VAT.',\n",
              " 'Durante este período, surgiram essencialmente dois problemas: a definição do âmbito da isenção e a impossibilidade de recuperar o IVA suportado para prestar serviços isentos, dando origem ao fenómeno do IVA oculto.']"
            ]
          },
          "execution_count": 5,
          "metadata": {},
          "output_type": "execute_result"
        }
      ],
      "source": [
        "raw_datasets[\"train\"][:14][\"dest_text\"]"
      ]
    },
    {
      "cell_type": "code",
      "execution_count": 6,
      "metadata": {},
      "outputs": [
        {
          "data": {
            "text/plain": [
              "[0, 2, 3, 4, 5, 6, 7, 0, 2, 3, 4, 5, 6, 7]"
            ]
          },
          "execution_count": 6,
          "metadata": {},
          "output_type": "execute_result"
        }
      ],
      "source": [
        "raw_datasets[\"train\"][:14][\"dest_lang\"]"
      ]
    },
    {
      "cell_type": "markdown",
      "metadata": {
        "id": "fRDyuB1WS2rI"
      },
      "source": [
        "As shown, each English sentence is repeated for each of the seven target languages (0: 'de', 2: 'es', 3: 'fr', 4: 'it', 5: 'nl', 6: 'pl', 7: 'pt').\n",
        "\n",
        "The Llama2 model is a pretrained Large Language Model (LLM) ready to tackle several NLP tasks, being one of the them the translation from English into Spanish. Let us filter the Europarl-ST only for English into Spanish using a simple [lambda function](https://realpython.com/python-lambda/) with the [Dataset.filter() function](https://huggingface.co/docs/datasets/v2.9.0/en/package_reference/main_classes#datasets.Dataset.filter)."
      ]
    },
    {
      "cell_type": "code",
      "execution_count": 7,
      "metadata": {
        "id": "Ad9k3TpjSHf8"
      },
      "outputs": [],
      "source": [
        "lang=\"es\"\n",
        "lang_id = raw_datasets[\"train\"].features[\"dest_lang\"].names.index(lang)\n",
        "raw_datasets = raw_datasets.filter(lambda x: x[\"dest_lang\"] == lang_id)"
      ]
    },
    {
      "cell_type": "markdown",
      "metadata": {
        "id": "5cNMslyoqecM"
      },
      "source": [
        "More precisely, we are going to be using the Llama-2 checkpoint [meta-llama/Llama-2-7b-hf](https://huggingface.co/meta-llama/Llama-2-7b-hf) to run our experiments for which you need to accept the LLAMA 2 COMMUNITY LICENSE AGREEMENT. Processing your request may take some time, so please do it in advance."
      ]
    },
    {
      "cell_type": "markdown",
      "metadata": {},
      "source": [
        "Logging in HuggingFace to be granted access to Llama2 with 7B parameters:"
      ]
    },
    {
      "cell_type": "code",
      "execution_count": 8,
      "metadata": {
        "colab": {
          "base_uri": "https://localhost:8080/"
        },
        "id": "fexMWFnHwOo3",
        "outputId": "8ac18246-03dd-41ff-89db-fcee2a357d19"
      },
      "outputs": [],
      "source": [
        "!huggingface-cli login"
      ]
    },
    {
      "cell_type": "markdown",
      "metadata": {},
      "source": [
        "We can apply the tokenizer function to any dataset taking advantage that Hugging Face Datasets are [Apache Arrow](https://arrow.apache.org) files stored on the disk, so you only keep the samples you ask for loaded in memory.\n",
        "\n",
        "To keep the data as a dataset, we will use the [Dataset.map() function](https://huggingface.co/docs/datasets/en/package_reference/main_classes#datasets.Dataset.map). This also allows us some extra flexibility, if we need more preprocessing done than just tokenization. The map() method works by applying a function on each element of the dataset.\n",
        "\n",
        "In our case, each sample pair is going to be preprocessed according to the needs of the model that is to be fine-tuned. In the case of Llama2, it is recommended to explicitly state a task prompt for each source sentence:"
      ]
    },
    {
      "cell_type": "code",
      "execution_count": 9,
      "metadata": {
        "colab": {
          "base_uri": "https://localhost:8080/"
        },
        "id": "sP5IzzXJS-cG",
        "outputId": "a0c0d1ed-04a4-4baa-a320-601804e0bd5c"
      },
      "outputs": [
        {
          "name": "stderr",
          "output_type": "stream",
          "text": [
            "/home/jorcisai/Docencia/.venv_python3.10_keras/lib/python3.10/site-packages/huggingface_hub/file_download.py:797: FutureWarning: `resume_download` is deprecated and will be removed in version 1.0.0. Downloads always resume when possible. If you want to force a new download, use `force_download=True`.\n",
            "  warnings.warn(\n"
          ]
        }
      ],
      "source": [
        "from transformers import AutoTokenizer\n",
        "\n",
        "max_tok_length = 16\n",
        "checkpoint = \"meta-llama/Llama-2-7b-hf\"\n",
        "tokenizer = AutoTokenizer.from_pretrained(\n",
        "    checkpoint, use_auth_token=True,\n",
        "    padding=True,\n",
        "    pad_to_multiple_of=8,\n",
        "    truncation=True,\n",
        "    max_length=max_tok_length,\n",
        "    padding_side='left',\n",
        "    )\n",
        "tokenizer.pad_token = \"[PAD]\""
      ]
    },
    {
      "cell_type": "code",
      "execution_count": 10,
      "metadata": {},
      "outputs": [],
      "source": [
        "def preprocess_function(sample):\n",
        "    model_inputs = tokenizer(\n",
        "        sample[\"source_text\"], \n",
        "        text_target = sample[\"dest_text\"],\n",
        "        )\n",
        "    return model_inputs"
      ]
    },
    {
      "cell_type": "markdown",
      "metadata": {
        "id": "ikPYZOwitWiy"
      },
      "source": [
        "The way the Datasets library applies this processing is by adding new fields to the datasets, one for each key in the dictionary returned by the tokenize function, that is, *input_ids*, *attention_mask* and *labels*. We can check what the preprocess_function is doing with a small sample"
      ]
    },
    {
      "cell_type": "code",
      "execution_count": 11,
      "metadata": {},
      "outputs": [
        {
          "name": "stdout",
          "output_type": "stream",
          "text": [
            "{'input_ids': [[1, 4001, 29871, 29896, 29929, 29955, 29955, 29892, 1556, 18161, 5786, 29892, 3704, 1663, 18541, 322, 13258, 358, 5220, 10643, 29892, 505, 1063, 429, 3456, 515, 478, 1299, 29889], [1, 7133, 445, 3785, 29892, 1023, 4828, 505, 13674, 564, 7674, 29901, 278, 5023, 310, 278, 6874, 310, 278, 11875, 683, 322, 278, 7275, 29879, 4127, 310, 9792, 292, 478, 1299, 297, 2764, 1127, 297, 1797, 304, 3867, 429, 3456, 5786, 29892, 6820, 14451, 304, 278, 27791, 265, 310, 7934, 478, 1299, 29889]], 'token_type_ids': [[0, 0, 0, 0, 0, 0, 0, 0, 0, 0, 0, 0, 0, 0, 0, 0, 0, 0, 0, 0, 0, 0, 0, 0, 0, 0, 0, 0, 0], [0, 0, 0, 0, 0, 0, 0, 0, 0, 0, 0, 0, 0, 0, 0, 0, 0, 0, 0, 0, 0, 0, 0, 0, 0, 0, 0, 0, 0, 0, 0, 0, 0, 0, 0, 0, 0, 0, 0, 0, 0, 0, 0, 0, 0, 0, 0, 0, 0, 0, 0, 0, 0]], 'attention_mask': [[1, 1, 1, 1, 1, 1, 1, 1, 1, 1, 1, 1, 1, 1, 1, 1, 1, 1, 1, 1, 1, 1, 1, 1, 1, 1, 1, 1, 1], [1, 1, 1, 1, 1, 1, 1, 1, 1, 1, 1, 1, 1, 1, 1, 1, 1, 1, 1, 1, 1, 1, 1, 1, 1, 1, 1, 1, 1, 1, 1, 1, 1, 1, 1, 1, 1, 1, 1, 1, 1, 1, 1, 1, 1, 1, 1, 1, 1, 1, 1, 1, 1]], 'labels': [[1, 997, 26960, 316, 1232, 3348, 19382, 22347, 9672, 29892, 13654, 4396, 1232, 7025, 1883, 343, 425, 7737, 3175, 316, 6299, 359, 316, 297, 874, 3175, 29892, 21654, 429, 296, 359, 316, 6599, 29909, 5125, 29871, 29896, 29929, 29955, 29955, 29889], [1, 13912, 4404, 24685, 5905, 25300, 1941, 15281, 2689, 3248, 270, 928, 499, 3076, 29901, 425, 7403, 6396, 628, 3976, 8337, 2049, 316, 425, 429, 264, 1290, 343, 425, 7275, 13017, 2368, 316, 22869, 279, 560, 6599, 29909, 12103, 441, 912, 1702, 18619, 279, 3348, 19382, 429, 296, 359, 29892, 712, 1146, 11629, 394, 18371, 29980, 28136, 628, 6599, 29909, 12954, 499, 29877, 29889]]}\n"
          ]
        }
      ],
      "source": [
        "sample = raw_datasets[\"train\"].select(range(2))\n",
        "model_input = preprocess_function(sample)\n",
        "print(model_input)"
      ]
    },
    {
      "cell_type": "code",
      "execution_count": 12,
      "metadata": {},
      "outputs": [
        {
          "name": "stdout",
          "output_type": "stream",
          "text": [
            "['<s>', '▁Since', '▁', '1', '9', '7', '7', ',', '▁most', '▁financial', '▁services', ',', '▁including', '▁ins', 'urance', '▁and', '▁invest', 'ment', '▁fund', '▁management', ',', '▁have', '▁been', '▁ex', 'empt', '▁from', '▁V', 'AT', '.']\n",
            "['<s>', '▁During', '▁this', '▁period', ',', '▁two', '▁problems', '▁have', '▁essentially', '▁ar', 'isen', ':', '▁the', '▁definition', '▁of', '▁the', '▁scope', '▁of', '▁the', '▁exem', 'ption', '▁and', '▁the', '▁impos', 's', 'ibility', '▁of', '▁recover', 'ing', '▁V', 'AT', '▁in', 'cur', 'red', '▁in', '▁order', '▁to', '▁provide', '▁ex', 'empt', '▁services', ',', '▁giving', '▁rise', '▁to', '▁the', '▁phenomen', 'on', '▁of', '▁hidden', '▁V', 'AT', '.']\n"
          ]
        }
      ],
      "source": [
        "for sample in model_input['input_ids']:\n",
        "    print(tokenizer.convert_ids_to_tokens(sample))"
      ]
    },
    {
      "cell_type": "markdown",
      "metadata": {},
      "source": [
        "We can recover the source text by applying [batch_decode](https://huggingface.co/docs/transformers/en/internal/tokenization_utils#transformers.PreTrainedTokenizerBase.batch_decode) of the tokenizer "
      ]
    },
    {
      "cell_type": "code",
      "execution_count": 13,
      "metadata": {},
      "outputs": [
        {
          "name": "stderr",
          "output_type": "stream",
          "text": [
            "2024-11-17 13:08:14.184715: I tensorflow/core/util/port.cc:153] oneDNN custom operations are on. You may see slightly different numerical results due to floating-point round-off errors from different computation orders. To turn them off, set the environment variable `TF_ENABLE_ONEDNN_OPTS=0`.\n",
            "2024-11-17 13:08:14.363972: E external/local_xla/xla/stream_executor/cuda/cuda_fft.cc:485] Unable to register cuFFT factory: Attempting to register factory for plugin cuFFT when one has already been registered\n",
            "2024-11-17 13:08:14.426096: E external/local_xla/xla/stream_executor/cuda/cuda_dnn.cc:8454] Unable to register cuDNN factory: Attempting to register factory for plugin cuDNN when one has already been registered\n",
            "2024-11-17 13:08:14.440615: E external/local_xla/xla/stream_executor/cuda/cuda_blas.cc:1452] Unable to register cuBLAS factory: Attempting to register factory for plugin cuBLAS when one has already been registered\n",
            "2024-11-17 13:08:14.550143: I tensorflow/core/platform/cpu_feature_guard.cc:210] This TensorFlow binary is optimized to use available CPU instructions in performance-critical operations.\n",
            "To enable the following instructions: AVX2 AVX_VNNI FMA, in other operations, rebuild TensorFlow with the appropriate compiler flags.\n",
            "2024-11-17 13:08:15.512997: W tensorflow/compiler/tf2tensorrt/utils/py_utils.cc:38] TF-TRT Warning: Could not find TensorRT\n"
          ]
        },
        {
          "data": {
            "text/plain": [
              "['<s> Since 1977, most financial services, including insurance and investment fund management, have been exempt from VAT.',\n",
              " '<s> During this period, two problems have essentially arisen: the definition of the scope of the exemption and the impossibility of recovering VAT incurred in order to provide exempt services, giving rise to the phenomenon of hidden VAT.']"
            ]
          },
          "execution_count": 13,
          "metadata": {},
          "output_type": "execute_result"
        }
      ],
      "source": [
        "tokenizer.batch_decode(model_input['input_ids'])"
      ]
    },
    {
      "cell_type": "markdown",
      "metadata": {},
      "source": [
        "Now, we can apply the preprocess_function to the raw datasets (training, validation and test):"
      ]
    },
    {
      "cell_type": "code",
      "execution_count": 14,
      "metadata": {},
      "outputs": [],
      "source": [
        "tokenized_datasets = raw_datasets.map(preprocess_function, batched=True)"
      ]
    },
    {
      "cell_type": "markdown",
      "metadata": {},
      "source": [
        "We are going to filter the tokenized datasets by maximum number of tokens in source and target language:"
      ]
    },
    {
      "cell_type": "code",
      "execution_count": 15,
      "metadata": {},
      "outputs": [],
      "source": [
        "tokenized_datasets = tokenized_datasets.filter(lambda x: len(x[\"input_ids\"]) <= max_tok_length and len(x[\"labels\"]) <= max_tok_length , desc=f\"Discarding source and target sentences with more than {max_tok_length} tokens\")"
      ]
    },
    {
      "cell_type": "markdown",
      "metadata": {},
      "source": [
        "We can take a quick look at the length histogram in the source language:"
      ]
    },
    {
      "cell_type": "code",
      "execution_count": 16,
      "metadata": {},
      "outputs": [
        {
          "name": "stdout",
          "output_type": "stream",
          "text": [
            " 3   6\n",
            " 4  64\n",
            " 5  79\n",
            " 6 304\n",
            " 7 455\n",
            " 8 568\n",
            " 9 704\n",
            "10 703\n",
            "11 629\n",
            "12 545\n",
            "13 370\n",
            "14 200\n",
            "15 135\n",
            "16  68\n"
          ]
        }
      ],
      "source": [
        "dic = {}\n",
        "for sample in tokenized_datasets['train']:\n",
        "    sample_length = len(sample['input_ids'])\n",
        "    if sample_length not in dic:\n",
        "        dic[sample_length] = 1\n",
        "    else:\n",
        "        dic[sample_length] += 1 \n",
        "\n",
        "for i in range(1,max_tok_length+1):\n",
        "    if i in dic:\n",
        "        print(f\"{i:>2} {dic[i]:>3}\")"
      ]
    },
    {
      "cell_type": "markdown",
      "metadata": {},
      "source": [
        "Checking a sample after filtering by maximum number of tokens:"
      ]
    },
    {
      "cell_type": "code",
      "execution_count": 17,
      "metadata": {},
      "outputs": [
        {
          "name": "stdout",
          "output_type": "stream",
          "text": [
            "[1, 3237, 7178, 29892, 591, 2609, 12522, 1749, 5076, 304, 445, 29889]\n",
            "[1, 1, 1, 1, 1, 1, 1, 1, 1, 1, 1, 1]\n",
            "[1, 922, 30046, 272, 28828, 29892, 694, 13279, 7681, 274, 3127, 279, 1232, 288, 14736, 29889]\n",
            "[1, 1334, 817, 304, 4337, 7113, 7824, 2428, 4924, 29889]\n",
            "[1, 1, 1, 1, 1, 1, 1, 1, 1, 1]\n",
            "[1, 11389, 712, 1029, 4096, 279, 17926, 1185, 2428, 1730, 3175, 14721, 29874, 29889]\n",
            "[1, 450, 24161, 411, 16762, 471, 6200, 1407, 10676, 29889]\n",
            "[1, 1, 1, 1, 1, 1, 1, 1, 1, 1]\n",
            "[1, 319, 15255, 6079, 29892, 425, 24161, 378, 16762, 3576, 12287, 15258, 29889]\n",
            "[1, 512, 445, 3390, 2086, 29892, 591, 526, 10223, 292, 363, 278, 5434, 29889]\n",
            "[1, 1, 1, 1, 1, 1, 1, 1, 1, 1, 1, 1, 1, 1]\n",
            "[1, 18247, 427, 831, 29877, 29892, 4697, 14054, 29892, 707, 14054, 447, 27182, 3105, 2192, 29889]\n",
            "[1, 2193, 338, 451, 1855, 29311, 3381, 29889]\n",
            "[1, 1, 1, 1, 1, 1, 1, 1]\n",
            "[1, 382, 578, 694, 831, 425, 1120, 29463, 983, 29311, 22919, 29889]\n"
          ]
        }
      ],
      "source": [
        "for sample in tokenized_datasets['train'].select(range(5)):\n",
        "    print(sample['input_ids'])\n",
        "    print(sample['attention_mask'])\n",
        "    print(sample['labels'])"
      ]
    },
    {
      "cell_type": "code",
      "execution_count": 18,
      "metadata": {
        "id": "LeG-nuU-SvXX"
      },
      "outputs": [],
      "source": [
        "import torch\n",
        "\n",
        "src = \"en\"\n",
        "tgt = lang\n",
        "task_prefix = f\"Translate from {src} to {tgt}:\\n\"\n",
        "s = \"\"\n",
        "\n",
        "prefix_tok_len = len(tokenizer.encode(f\"{task_prefix}{src}: {s} = {tgt}: \"))\n",
        "max_tok_len = prefix_tok_len\n",
        "# Adding 2 for new line in target sentence and eos_token_id token\n",
        "max_tok_len += 2 * max_tok_length + 2\n",
        "\n",
        "\n",
        "def preprocess4training_function(sample):\n",
        "    \n",
        "    sample_size = len(sample[\"source_text\"])\n",
        "\n",
        "    # Creating the prompt with the task description for each source sentence\n",
        "    inputs  = [f\"{task_prefix}{src}: {s} = {tgt}: \" for s in sample[\"source_text\"]]\n",
        "\n",
        "    # Appending new line after each sample in the batch\n",
        "    targets = [f\"{s}\\n\" for s in sample[\"dest_text\"]]\n",
        "\n",
        "    # Applying the Llama2 tokenizer to the inputs and targets \n",
        "    # to obtain \"input_ids\" (token_ids) and \"attention mask\" \n",
        "    model_inputs = tokenizer(inputs)\n",
        "    labels = tokenizer(targets)\n",
        "    \n",
        "    # Each input is appended with its target \n",
        "    # Each target is prepended with as many special token id (-100) as the original input length\n",
        "    # Both input and target (label) has the same max_tok_len\n",
        "    # Attention mask is all 1s \n",
        "    for i in range(sample_size):\n",
        "        sample_input_ids = model_inputs[\"input_ids\"][i]\n",
        "        label_input_ids = labels[\"input_ids\"][i] + [tokenizer.eos_token_id]\n",
        "        model_inputs[\"input_ids\"][i] = sample_input_ids + label_input_ids\n",
        "        labels[\"input_ids\"][i] = [-100] * len(sample_input_ids) + label_input_ids\n",
        "        model_inputs[\"attention_mask\"][i] = [1] * len(model_inputs[\"input_ids\"][i])\n",
        "\n",
        "    # Each input is applied left padding up to max_tok_len\n",
        "    # Attention mask is 0 for padding\n",
        "    # Each target (label) is left filled with special token id (-100)\n",
        "    # Finally inputs, attention_mask and targets (labels) are truncated to max_tok_len\n",
        "    for i in range(sample_size):\n",
        "        sample_input_ids = model_inputs[\"input_ids\"][i]\n",
        "        label_input_ids = labels[\"input_ids\"][i]\n",
        "        model_inputs[\"input_ids\"][i] = [tokenizer.pad_token_id] * (\n",
        "            max_tok_len - len(sample_input_ids)\n",
        "        ) + sample_input_ids\n",
        "        model_inputs[\"attention_mask\"][i] = [0] * (max_tok_len - len(sample_input_ids)) + model_inputs[\n",
        "            \"attention_mask\"\n",
        "        ][i]\n",
        "        labels[\"input_ids\"][i] = [-100] * (max_tok_len - len(sample_input_ids)) + label_input_ids\n",
        "        model_inputs[\"input_ids\"][i] = torch.tensor(model_inputs[\"input_ids\"][i][:max_tok_len])\n",
        "        model_inputs[\"attention_mask\"][i] = torch.tensor(model_inputs[\"attention_mask\"][i][:max_tok_len])\n",
        "        labels[\"input_ids\"][i] = torch.tensor(labels[\"input_ids\"][i][:max_tok_len])\n",
        "    model_inputs[\"labels\"] = labels[\"input_ids\"]\n",
        "    return model_inputs\n"
      ]
    },
    {
      "cell_type": "markdown",
      "metadata": {},
      "source": [
        "We can check what the preprocess4training_function is doing:"
      ]
    },
    {
      "cell_type": "code",
      "execution_count": 19,
      "metadata": {},
      "outputs": [
        {
          "name": "stdout",
          "output_type": "stream",
          "text": [
            "{'input_ids': [tensor([    0,     0,     0,     0,     0,     0,     1,  4103,  9632,   515,\n",
            "          427,   304,   831, 29901,    13,   264, 29901,  3237,  7178, 29892,\n",
            "          591,  2609, 12522,  1749,  5076,   304,   445, 29889,   353,   831,\n",
            "        29901, 29871,     1,   922, 30046,   272, 28828, 29892,   694, 13279,\n",
            "         7681,   274,  3127,   279,  1232,   288, 14736, 29889,    13,     2]), tensor([    0,     0,     0,     0,     0,     0,     0,     0,     0,     0,\n",
            "            1,  4103,  9632,   515,   427,   304,   831, 29901,    13,   264,\n",
            "        29901,  1334,   817,   304,  4337,  7113,  7824,  2428,  4924, 29889,\n",
            "          353,   831, 29901, 29871,     1, 11389,   712,  1029,  4096,   279,\n",
            "        17926,  1185,  2428,  1730,  3175, 14721, 29874, 29889,    13,     2])], 'token_type_ids': [[0, 0, 0, 0, 0, 0, 0, 0, 0, 0, 0, 0, 0, 0, 0, 0, 0, 0, 0, 0, 0, 0, 0, 0, 0, 0], [0, 0, 0, 0, 0, 0, 0, 0, 0, 0, 0, 0, 0, 0, 0, 0, 0, 0, 0, 0, 0, 0, 0, 0]], 'attention_mask': [tensor([0, 0, 0, 0, 0, 0, 1, 1, 1, 1, 1, 1, 1, 1, 1, 1, 1, 1, 1, 1, 1, 1, 1, 1,\n",
            "        1, 1, 1, 1, 1, 1, 1, 1, 1, 1, 1, 1, 1, 1, 1, 1, 1, 1, 1, 1, 1, 1, 1, 1,\n",
            "        1, 1]), tensor([0, 0, 0, 0, 0, 0, 0, 0, 0, 0, 1, 1, 1, 1, 1, 1, 1, 1, 1, 1, 1, 1, 1, 1,\n",
            "        1, 1, 1, 1, 1, 1, 1, 1, 1, 1, 1, 1, 1, 1, 1, 1, 1, 1, 1, 1, 1, 1, 1, 1,\n",
            "        1, 1])], 'labels': [tensor([ -100,  -100,  -100,  -100,  -100,  -100,  -100,  -100,  -100,  -100,\n",
            "         -100,  -100,  -100,  -100,  -100,  -100,  -100,  -100,  -100,  -100,\n",
            "         -100,  -100,  -100,  -100,  -100,  -100,  -100,  -100,  -100,  -100,\n",
            "         -100,  -100,     1,   922, 30046,   272, 28828, 29892,   694, 13279,\n",
            "         7681,   274,  3127,   279,  1232,   288, 14736, 29889,    13,     2]), tensor([ -100,  -100,  -100,  -100,  -100,  -100,  -100,  -100,  -100,  -100,\n",
            "         -100,  -100,  -100,  -100,  -100,  -100,  -100,  -100,  -100,  -100,\n",
            "         -100,  -100,  -100,  -100,  -100,  -100,  -100,  -100,  -100,  -100,\n",
            "         -100,  -100,  -100,  -100,     1, 11389,   712,  1029,  4096,   279,\n",
            "        17926,  1185,  2428,  1730,  3175, 14721, 29874, 29889,    13,     2])]}\n",
            "['<unk><unk><unk><unk><unk><unk><s> Translate from en to es:\\nen: Mr President, we cannot shut our eyes to this. = es: <s> Señor Presidente, no podemos cerrar los ojos.\\n</s>', '<unk><unk><unk><unk><unk><unk><unk><unk><unk><unk><s> Translate from en to es:\\nen: We need to move towards European supervision. = es: <s> Hay que avanzar hacia una supervisión europea.\\n</s>']\n"
          ]
        }
      ],
      "source": [
        "sample = tokenized_datasets['train'].select(range(2))\n",
        "model_input = preprocess4training_function(sample)\n",
        "print(model_input)\n",
        "print(tokenizer.batch_decode(model_input.input_ids))"
      ]
    },
    {
      "cell_type": "markdown",
      "metadata": {},
      "source": [
        "We need to replace -100 by 0 to apply batch_decode:"
      ]
    },
    {
      "cell_type": "code",
      "execution_count": 20,
      "metadata": {},
      "outputs": [
        {
          "name": "stdout",
          "output_type": "stream",
          "text": [
            "['<unk><unk><unk><unk><unk><unk><unk><unk><unk><unk><unk><unk><unk><unk><unk><unk><unk><unk><unk><unk><unk><unk><unk><unk><unk><unk><unk><unk><unk><unk><unk><unk><s> Señor Presidente, no podemos cerrar los ojos.\\n</s>']\n",
            "['<unk><unk><unk><unk><unk><unk><unk><unk><unk><unk><unk><unk><unk><unk><unk><unk><unk><unk><unk><unk><unk><unk><unk><unk><unk><unk><unk><unk><unk><unk><unk><unk><unk><unk><s> Hay que avanzar hacia una supervisión europea.\\n</s>']\n"
          ]
        }
      ],
      "source": [
        "import numpy as np\n",
        "for i in range(len(model_input['labels'])):\n",
        "  print(tokenizer.batch_decode([np.where(model_input['labels'][i] < 0, tokenizer.pad_token_id, model_input['labels'][i])]))"
      ]
    },
    {
      "cell_type": "markdown",
      "metadata": {},
      "source": [
        "In the case of the test set, we just preprocess the inputs (source sentences)"
      ]
    },
    {
      "cell_type": "code",
      "execution_count": 21,
      "metadata": {},
      "outputs": [],
      "source": [
        "def preprocess4test_function(sample):\n",
        "    inputs = [f\"{task_prefix}{src}: {s} = {tgt}: \" for s in sample[\"source_text\"]]\n",
        "    model_inputs = tokenizer(inputs,padding=True,)\n",
        "    return model_inputs"
      ]
    },
    {
      "cell_type": "markdown",
      "metadata": {},
      "source": [
        "We can check what the preprocess4test_function is doing:"
      ]
    },
    {
      "cell_type": "code",
      "execution_count": 22,
      "metadata": {},
      "outputs": [
        {
          "name": "stdout",
          "output_type": "stream",
          "text": [
            "{'input_ids': [[1, 4103, 9632, 515, 427, 304, 831, 29901, 13, 264, 29901, 3237, 7178, 29892, 591, 2609, 12522, 1749, 5076, 304, 445, 29889, 353, 831, 29901, 29871], [0, 0, 1, 4103, 9632, 515, 427, 304, 831, 29901, 13, 264, 29901, 1334, 817, 304, 4337, 7113, 7824, 2428, 4924, 29889, 353, 831, 29901, 29871]], 'token_type_ids': [[0, 0, 0, 0, 0, 0, 0, 0, 0, 0, 0, 0, 0, 0, 0, 0, 0, 0, 0, 0, 0, 0, 0, 0, 0, 0], [0, 0, 0, 0, 0, 0, 0, 0, 0, 0, 0, 0, 0, 0, 0, 0, 0, 0, 0, 0, 0, 0, 0, 0, 0, 0]], 'attention_mask': [[1, 1, 1, 1, 1, 1, 1, 1, 1, 1, 1, 1, 1, 1, 1, 1, 1, 1, 1, 1, 1, 1, 1, 1, 1, 1], [0, 0, 1, 1, 1, 1, 1, 1, 1, 1, 1, 1, 1, 1, 1, 1, 1, 1, 1, 1, 1, 1, 1, 1, 1, 1]]}\n",
            "['<s> Translate from en to es:\\nen: Mr President, we cannot shut our eyes to this. = es: ', '<unk><unk><s> Translate from en to es:\\nen: We need to move towards European supervision. = es: ']\n"
          ]
        }
      ],
      "source": [
        "sample = tokenized_datasets['train'].select(range(2))\n",
        "model_input = preprocess4test_function(sample)\n",
        "print(model_input)\n",
        "print(tokenizer.batch_decode(model_input.input_ids))"
      ]
    },
    {
      "cell_type": "markdown",
      "metadata": {},
      "source": [
        "Preprocessing train and dev sets:"
      ]
    },
    {
      "cell_type": "code",
      "execution_count": 23,
      "metadata": {},
      "outputs": [],
      "source": [
        "preprocessed_train_dataset = tokenized_datasets['train'].map(preprocess4training_function, batched=True)\n",
        "preprocessed_dev_dataset = tokenized_datasets['valid'].map(preprocess4training_function, batched=True)"
      ]
    },
    {
      "cell_type": "code",
      "execution_count": 24,
      "metadata": {},
      "outputs": [
        {
          "name": "stdout",
          "output_type": "stream",
          "text": [
            "[0, 0, 0, 0, 0, 0, 1, 4103, 9632, 515, 427, 304, 831, 29901, 13, 264, 29901, 3237, 7178, 29892, 591, 2609, 12522, 1749, 5076, 304, 445, 29889, 353, 831, 29901, 29871, 1, 922, 30046, 272, 28828, 29892, 694, 13279, 7681, 274, 3127, 279, 1232, 288, 14736, 29889, 13, 2]\n",
            "[0, 0, 0, 0, 0, 0, 1, 1, 1, 1, 1, 1, 1, 1, 1, 1, 1, 1, 1, 1, 1, 1, 1, 1, 1, 1, 1, 1, 1, 1, 1, 1, 1, 1, 1, 1, 1, 1, 1, 1, 1, 1, 1, 1, 1, 1, 1, 1, 1, 1]\n",
            "[-100, -100, -100, -100, -100, -100, -100, -100, -100, -100, -100, -100, -100, -100, -100, -100, -100, -100, -100, -100, -100, -100, -100, -100, -100, -100, -100, -100, -100, -100, -100, -100, 1, 922, 30046, 272, 28828, 29892, 694, 13279, 7681, 274, 3127, 279, 1232, 288, 14736, 29889, 13, 2]\n",
            "[0, 0, 0, 0, 0, 0, 0, 0, 0, 0, 1, 4103, 9632, 515, 427, 304, 831, 29901, 13, 264, 29901, 1334, 817, 304, 4337, 7113, 7824, 2428, 4924, 29889, 353, 831, 29901, 29871, 1, 11389, 712, 1029, 4096, 279, 17926, 1185, 2428, 1730, 3175, 14721, 29874, 29889, 13, 2]\n",
            "[0, 0, 0, 0, 0, 0, 0, 0, 0, 0, 1, 1, 1, 1, 1, 1, 1, 1, 1, 1, 1, 1, 1, 1, 1, 1, 1, 1, 1, 1, 1, 1, 1, 1, 1, 1, 1, 1, 1, 1, 1, 1, 1, 1, 1, 1, 1, 1, 1, 1]\n",
            "[-100, -100, -100, -100, -100, -100, -100, -100, -100, -100, -100, -100, -100, -100, -100, -100, -100, -100, -100, -100, -100, -100, -100, -100, -100, -100, -100, -100, -100, -100, -100, -100, -100, -100, 1, 11389, 712, 1029, 4096, 279, 17926, 1185, 2428, 1730, 3175, 14721, 29874, 29889, 13, 2]\n",
            "[0, 0, 0, 0, 0, 0, 0, 0, 0, 0, 0, 1, 4103, 9632, 515, 427, 304, 831, 29901, 13, 264, 29901, 450, 24161, 411, 16762, 471, 6200, 1407, 10676, 29889, 353, 831, 29901, 29871, 1, 319, 15255, 6079, 29892, 425, 24161, 378, 16762, 3576, 12287, 15258, 29889, 13, 2]\n",
            "[0, 0, 0, 0, 0, 0, 0, 0, 0, 0, 0, 1, 1, 1, 1, 1, 1, 1, 1, 1, 1, 1, 1, 1, 1, 1, 1, 1, 1, 1, 1, 1, 1, 1, 1, 1, 1, 1, 1, 1, 1, 1, 1, 1, 1, 1, 1, 1, 1, 1]\n",
            "[-100, -100, -100, -100, -100, -100, -100, -100, -100, -100, -100, -100, -100, -100, -100, -100, -100, -100, -100, -100, -100, -100, -100, -100, -100, -100, -100, -100, -100, -100, -100, -100, -100, -100, -100, 1, 319, 15255, 6079, 29892, 425, 24161, 378, 16762, 3576, 12287, 15258, 29889, 13, 2]\n",
            "[0, 0, 0, 0, 1, 4103, 9632, 515, 427, 304, 831, 29901, 13, 264, 29901, 512, 445, 3390, 2086, 29892, 591, 526, 10223, 292, 363, 278, 5434, 29889, 353, 831, 29901, 29871, 1, 18247, 427, 831, 29877, 29892, 4697, 14054, 29892, 707, 14054, 447, 27182, 3105, 2192, 29889, 13, 2]\n",
            "[0, 0, 0, 0, 1, 1, 1, 1, 1, 1, 1, 1, 1, 1, 1, 1, 1, 1, 1, 1, 1, 1, 1, 1, 1, 1, 1, 1, 1, 1, 1, 1, 1, 1, 1, 1, 1, 1, 1, 1, 1, 1, 1, 1, 1, 1, 1, 1, 1, 1]\n",
            "[-100, -100, -100, -100, -100, -100, -100, -100, -100, -100, -100, -100, -100, -100, -100, -100, -100, -100, -100, -100, -100, -100, -100, -100, -100, -100, -100, -100, -100, -100, -100, -100, 1, 18247, 427, 831, 29877, 29892, 4697, 14054, 29892, 707, 14054, 447, 27182, 3105, 2192, 29889, 13, 2]\n",
            "[0, 0, 0, 0, 0, 0, 0, 0, 0, 0, 0, 0, 0, 0, 1, 4103, 9632, 515, 427, 304, 831, 29901, 13, 264, 29901, 2193, 338, 451, 1855, 29311, 3381, 29889, 353, 831, 29901, 29871, 1, 382, 578, 694, 831, 425, 1120, 29463, 983, 29311, 22919, 29889, 13, 2]\n",
            "[0, 0, 0, 0, 0, 0, 0, 0, 0, 0, 0, 0, 0, 0, 1, 1, 1, 1, 1, 1, 1, 1, 1, 1, 1, 1, 1, 1, 1, 1, 1, 1, 1, 1, 1, 1, 1, 1, 1, 1, 1, 1, 1, 1, 1, 1, 1, 1, 1, 1]\n",
            "[-100, -100, -100, -100, -100, -100, -100, -100, -100, -100, -100, -100, -100, -100, -100, -100, -100, -100, -100, -100, -100, -100, -100, -100, -100, -100, -100, -100, -100, -100, -100, -100, -100, -100, -100, -100, 1, 382, 578, 694, 831, 425, 1120, 29463, 983, 29311, 22919, 29889, 13, 2]\n"
          ]
        }
      ],
      "source": [
        "for sample in preprocessed_train_dataset.select(range(5)):\n",
        "    print(sample['input_ids'])\n",
        "    print(sample['attention_mask'])\n",
        "    print(sample['labels'])"
      ]
    },
    {
      "cell_type": "markdown",
      "metadata": {},
      "source": [
        "Preprocessing test set:"
      ]
    },
    {
      "cell_type": "code",
      "execution_count": 25,
      "metadata": {},
      "outputs": [],
      "source": [
        "preprocessed_test_dataset = tokenized_datasets['test'].map(preprocess4test_function, batched=True)"
      ]
    },
    {
      "cell_type": "code",
      "execution_count": 26,
      "metadata": {},
      "outputs": [
        {
          "name": "stdout",
          "output_type": "stream",
          "text": [
            "[0, 0, 0, 0, 0, 1, 4103, 9632, 515, 427, 304, 831, 29901, 13, 264, 29901, 1938, 591, 864, 304, 26054, 895, 278, 2791, 1691, 29973, 353, 831, 29901, 29871]\n",
            "[0, 0, 0, 0, 0, 1, 1, 1, 1, 1, 1, 1, 1, 1, 1, 1, 1, 1, 1, 1, 1, 1, 1, 1, 1, 1, 1, 1, 1, 1]\n",
            "[1, 18613, 2182, 7884, 26054, 15356, 1232, 16856, 2255, 29973]\n",
            "[0, 0, 0, 1, 4103, 9632, 515, 427, 304, 831, 29901, 13, 264, 29901, 2398, 29892, 445, 947, 451, 2099, 766, 29885, 424, 1847, 963, 29889, 353, 831, 29901, 29871]\n",
            "[0, 0, 0, 1, 1, 1, 1, 1, 1, 1, 1, 1, 1, 1, 1, 1, 1, 1, 1, 1, 1, 1, 1, 1, 1, 1, 1, 1, 1, 1]\n",
            "[1, 28608, 831, 29877, 694, 28711, 553, 29885, 424, 295, 279, 5409, 29889]\n",
            "[0, 0, 0, 0, 0, 0, 0, 0, 0, 0, 1, 4103, 9632, 515, 427, 304, 831, 29901, 13, 264, 29901, 306, 674, 1286, 1369, 29889, 353, 831, 29901, 29871]\n",
            "[0, 0, 0, 0, 0, 0, 0, 0, 0, 0, 1, 1, 1, 1, 1, 1, 1, 1, 1, 1, 1, 1, 1, 1, 1, 1, 1, 1, 1, 1]\n",
            "[1, 319, 15255, 16296, 712, 3710, 347, 2502, 29889]\n",
            "[0, 0, 0, 0, 0, 0, 1, 4103, 9632, 515, 427, 304, 831, 29901, 13, 264, 29901, 450, 6121, 7881, 2609, 3933, 2411, 465, 573, 29889, 353, 831, 29901, 29871]\n",
            "[0, 0, 0, 0, 0, 0, 1, 1, 1, 1, 1, 1, 1, 1, 1, 1, 1, 1, 1, 1, 1, 1, 1, 1, 1, 1, 1, 1, 1, 1]\n",
            "[1, 997, 8759, 2368, 19285, 694, 11493, 9410, 687, 261, 2411, 294, 1821, 15053, 18261, 29889]\n",
            "[0, 0, 0, 1, 4103, 9632, 515, 427, 304, 831, 29901, 13, 264, 29901, 10050, 621, 6393, 29892, 727, 1818, 367, 263, 6411, 8362, 21957, 29889, 353, 831, 29901, 29871]\n",
            "[0, 0, 0, 1, 1, 1, 1, 1, 1, 1, 1, 1, 1, 1, 1, 1, 1, 1, 1, 1, 1, 1, 1, 1, 1, 1, 1, 1, 1, 1]\n",
            "[1, 28608, 29892, 4457, 15588, 29892, 14842, 712, 22975, 443, 24578, 1592, 309, 4626, 912, 29889]\n"
          ]
        }
      ],
      "source": [
        "for sample in preprocessed_test_dataset.select(range(5)):\n",
        "    print(sample['input_ids'])\n",
        "    print(sample['attention_mask'])\n",
        "    print(sample['labels'])"
      ]
    },
    {
      "cell_type": "markdown",
      "metadata": {
        "id": "Wvq0dw72RY0H"
      },
      "source": [
        "[bitsandbytes](https://huggingface.co/docs/bitsandbytes/main/en/index) is a quantization library with a Transformers integration. With this integration, you can quantize a model to 8 or 4-bits and enable many other options by configuring the BitsAndBytesConfig class. For example, you can:\n",
        "\n",
        "<ul>\n",
        "<li>set load_in_4bit=True to quantize the model to 4-bits when you load it</li>\n",
        "<li>set bnb_4bit_quant_type=\"nf4\" to use a special 4-bit data type for weights initialized from a normal distribution</li>\n",
        "<li>set bnb_4bit_use_double_quant=True to use a nested quantization scheme to quantize the already quantized weights</li>\n",
        "<li>set bnb_4bit_compute_dtype=torch.bfloat16 to use bfloat16 for faster computation</li>\n",
        "</ul>\n"
      ]
    },
    {
      "cell_type": "code",
      "execution_count": 27,
      "metadata": {
        "id": "-CB5VE-8RBMI"
      },
      "outputs": [],
      "source": [
        "from transformers import BitsAndBytesConfig\n",
        "\n",
        "quantization_config = BitsAndBytesConfig(\n",
        "    load_in_4bit=True,\n",
        "    bnb_4bit_quant_type=\"nf4\",\n",
        "    bnb_4bit_use_double_quant=True,\n",
        "    bnb_4bit_compute_dtype=torch.bfloat16,\n",
        ")"
      ]
    },
    {
      "cell_type": "markdown",
      "metadata": {
        "id": "xx1Wb0xWh0aJ"
      },
      "source": [
        "Pass the quantization_config to the from_pretrained method."
      ]
    },
    {
      "cell_type": "code",
      "execution_count": 28,
      "metadata": {
        "colab": {
          "base_uri": "https://localhost:8080/",
          "height": 330,
          "referenced_widgets": [
            "e6401447d5574c6c914a10a86c9d7a12",
            "95d6e78e5cc64b548a4246e75cbdd339",
            "1332dc1126e04ecb94e1a16c17e4a8bb",
            "d84c10a21efb4151a946a0ee346fe475",
            "8a288521789946e59822daefdc65dc76",
            "c8e4ac606ff94649ae5bea5fd03a53bd",
            "c802a71fa81e4b1f98a401562c8f8bb6",
            "9acb5f182a2245c6845265fb24598610",
            "1c44edf580a745a796f053763ef0c10e",
            "b83bc6b34e8d420584a1444cda964507",
            "e6cbb0c9ded74628803c3b50ce985c76",
            "7f45142dd163479da556f9351dc40a1e",
            "ca820224af3f42869f3355f9f4b157f7",
            "656adba43b9744e1bfa4bf862a5b68fe",
            "c4841a5131ff4f09ac6548bcc8e65372",
            "1550afebe1304839b6f0968c1f65635b",
            "c600506deb8b47608ac779d3862385c6",
            "02ae2e7c77c24d8ca9cc1563ab625d64",
            "695e6aa450b9459999023fdb8eeaddae",
            "4cc0769e36d14b108619dcdda71d5271",
            "9e4021943a1443ad876e2c03b6aa54be",
            "27310c9ff2db4492829f09bf40f16093",
            "e983089a34694b3b9759a359425f6413",
            "cc6c64d10fbd47a996c37e6386a40e56",
            "a3ea9d959af9467691639f687667393a",
            "2ee6471cb69541e29df0a78f9213c9c2",
            "5d5c01992c134b51b5bcc150eba766ec",
            "c1db576076e64ef8ac5656799a040db8",
            "7c5b5df07185494d9c3e9670eb558a9b",
            "95dbb8d6f8d44bcd993082ceeeeae790",
            "2c5112d32c9f4614815083f6d4688826",
            "6768a820c77d47f48eff9cec2e4d5c12",
            "d0e0715965024aecadf294fb29f02a40",
            "38f53009c2584c77ad6ba831a119c4c6",
            "6acb4358d0a1445180bb8c5f5ae4deb2",
            "5b0dd2b65be74cb6a169583bf1a7886f",
            "39553763b6cb410b8186a25c2781a9c1",
            "bd19d2a424db4bcf8e31ffd5c69a894c",
            "f54e710d0b214504be4cc8758c954cbf",
            "1c94872bf825495eb62915cd2644e5f5",
            "5c52897b010349fc9be5b815d15f1935",
            "6b25a63cb07047e7a63e99c7ba2a0e56",
            "14483bbbf7a54f97af987eac7c729465",
            "8e2610fd1ab14363bb5118e8d42ea842",
            "d13ab3bdc5d94f72b7ac35b4dfbf6985",
            "0c45604ee504431a804b34ad1b825fcf",
            "2cd5981846894d298f339bba957c04f9",
            "821a610d7aac4e6191025918fab24b07",
            "3b5160caa0a5476ba8383cc1226abcd2",
            "939db26d2a7b406c91fc40711dc0af9d",
            "2adee6006f2b4146a80cb5cb298a7ecc",
            "2f4f11561c5747c08011ee77225ca941",
            "43980460124240339c57d35341409137",
            "af05aa958cdb4bd9995c05b2741a0b29",
            "0dba5a19747247cba94790c117f64921",
            "a1f24667c8b54398a3c1964d450b0770",
            "7c4274f03e3943cca317015889fd5321",
            "16cff61e16a74a8faeea300f1aa0a44b",
            "e79fe5bd141d42fa937dec87eae8c1bc",
            "1f3e6cc71a944c8a865ef901977ed491",
            "eb612eb7def7422382777499204bd4d5",
            "4af2bcd67a79427d86295272fb34f514",
            "13d2bbe8a20f41cab9cdeba3ee8bc1d7",
            "8966d12f6e1e4801a4c3a2237833c43e",
            "e052cd1447154d86b97f8054feb9cdf2",
            "ff61ea6b056d4ef3ba43d77e5ef5333d",
            "bbbf795cd3c44d03a0c19a5852812c45",
            "2195f4ff1b054e88bb7f90f7355f7141",
            "6a9f181dc1594d9fad1a0e8301ab4fd3",
            "7dda2dde7b3f4943871c8ae7f5a97d0a",
            "f48c6cb2f7df407fbfd16cf919a3a4d3",
            "1db7c353bdc842018dc3cd08ab0ee822",
            "1f059aecbeac42ce805dda63cdf0e04d",
            "66555b1667a1407cb61fadefb6efe0ff",
            "eb0f0576e5e74017a5162db5997ab6d0",
            "c8ce77726d004987bf1a2d80f63d409b",
            "e4a906370930464f8f7b76f783443a91"
          ]
        },
        "id": "FvJh2KbXhsq0",
        "outputId": "8dd876a5-c556-4f55-8bfc-fb56d88702d2"
      },
      "outputs": [
        {
          "name": "stderr",
          "output_type": "stream",
          "text": [
            "/home/jorcisai/Docencia/.venv_python3.10_keras/lib/python3.10/site-packages/huggingface_hub/file_download.py:797: FutureWarning: `resume_download` is deprecated and will be removed in version 1.0.0. Downloads always resume when possible. If you want to force a new download, use `force_download=True`.\n",
            "  warnings.warn(\n",
            "Loading checkpoint shards: 100%|██████████| 2/2 [00:09<00:00,  4.75s/it]\n",
            "/home/jorcisai/Docencia/.venv_python3.10_keras/lib/python3.10/site-packages/huggingface_hub/file_download.py:797: FutureWarning: `resume_download` is deprecated and will be removed in version 1.0.0. Downloads always resume when possible. If you want to force a new download, use `force_download=True`.\n",
            "  warnings.warn(\n"
          ]
        }
      ],
      "source": [
        "from transformers import AutoModelForCausalLM\n",
        "\n",
        "model = AutoModelForCausalLM.from_pretrained(\n",
        "    checkpoint,\n",
        "    quantization_config=quantization_config,\n",
        "    torch_dtype=torch.bfloat16,\n",
        ")"
      ]
    },
    {
      "cell_type": "markdown",
      "metadata": {
        "id": "rKGyGF3yiAGW"
      },
      "source": [
        "Next, you should call the prepare_model_for_kbit_training() function to preprocess the quantized model for training."
      ]
    },
    {
      "cell_type": "code",
      "execution_count": 29,
      "metadata": {
        "id": "Aol7-qjnh-wy"
      },
      "outputs": [],
      "source": [
        "from peft import prepare_model_for_kbit_training\n",
        "\n",
        "model = prepare_model_for_kbit_training(model, use_gradient_checkpointing=False, gradient_checkpointing_kwargs={'use_reentrant':False})"
      ]
    },
    {
      "cell_type": "markdown",
      "metadata": {
        "id": "OkodAwomzOnw"
      },
      "source": [
        "[LoRA (Low-Rank Adaptation of Large Language Models)](https://huggingface.co/docs/peft/task_guides/lora_based_methods) is a [parameter-efficient fine-tuning (PEFT)](https://huggingface.co/docs/peft/index) technique that significantly reduces the number of trainable parameters. It works by inserting a smaller number of new weights into the model and only these are trained. This makes training with LoRA much faster, memory-efficient, and produces smaller model weights (a few hundred MBs), which are easier to store and share."
      ]
    },
    {
      "cell_type": "markdown",
      "metadata": {
        "id": "V2YsZZRS3EjW"
      },
      "source": [
        "Each PEFT method is defined by a PeftConfig class that stores all the important parameters for building a PeftModel. For example, to train with LoRA, load and create a LoraConfig class and specify the following parameters:\n",
        "\n",
        "<ul>\n",
        "<li>task_type: the task to train for (sequence-to-sequence language modeling in this case)</li>\n",
        "<li>r: the dimension of the low-rank matrices</li>\n",
        "<li>lora_alpha: the scaling factor for the low-rank matrices</li>\n",
        "<li>target_modules: determine what set of parameters are adapted</li>\n",
        "<li>lora_dropout: the dropout probability of the LoRA layers</li>\n",
        "</ul>"
      ]
    },
    {
      "cell_type": "code",
      "execution_count": 30,
      "metadata": {
        "id": "PX2aoTaP8a7E"
      },
      "outputs": [],
      "source": [
        "from peft import LoraConfig, get_peft_model\n",
        "\n",
        "config = LoraConfig(\n",
        "    task_type=\"CAUSAL_LM\",\n",
        "    r=16,\n",
        "    lora_alpha=32,\n",
        "    lora_dropout=0.05,\n",
        "    bias=\"none\",\n",
        "    inference_mode=False,\n",
        ")"
      ]
    },
    {
      "cell_type": "markdown",
      "metadata": {
        "id": "Fe2tlCvq4O37"
      },
      "source": [
        "Once LoRA and the quantization are setup, create a quantized PeftModel with the get_peft_model() function. It takes a quantized model and the LoraConfig containing the parameters for how to configure a model for training with LoRA."
      ]
    },
    {
      "cell_type": "code",
      "execution_count": 31,
      "metadata": {
        "colab": {
          "base_uri": "https://localhost:8080/"
        },
        "id": "6ktKBsGk3xnS",
        "outputId": "426af03b-558b-45d0-9d41-c1405a6ee7bf"
      },
      "outputs": [
        {
          "name": "stdout",
          "output_type": "stream",
          "text": [
            "trainable params: 8,388,608 || all params: 6,746,804,224 || trainable%: 0.1243\n"
          ]
        }
      ],
      "source": [
        "lora_model = get_peft_model(model, config)\n",
        "lora_model.print_trainable_parameters()"
      ]
    },
    {
      "cell_type": "markdown",
      "metadata": {
        "id": "svnkucAy5vif"
      },
      "source": [
        "The function that is responsible for putting together samples inside a batch is called a collate function."
      ]
    },
    {
      "cell_type": "code",
      "execution_count": 32,
      "metadata": {
        "id": "gTmwSsMwotFN"
      },
      "outputs": [],
      "source": [
        "from transformers import DataCollatorForLanguageModeling\n",
        "data_collator = DataCollatorForLanguageModeling(tokenizer=tokenizer, mlm=False, pad_to_multiple_of=8)"
      ]
    },
    {
      "cell_type": "markdown",
      "metadata": {
        "id": "RhLzOH1q79yN"
      },
      "source": [
        "## Training"
      ]
    },
    {
      "cell_type": "markdown",
      "metadata": {
        "id": "OTKy2iMm76pv"
      },
      "source": [
        "The first step before we can define our [Trainer](https://huggingface.co/docs/transformers/en/main_classes/trainer) is to define a [TrainingArguments class](https://huggingface.co/docs/transformers/en/main_classes/trainer#transformers.TrainingArguments) that will contain all the hyperparameters the Trainer will use for training and evaluation. The only compulsory argument you have to provide is a directory where the trained model will be saved, as well as the checkpoints along the way. For all the rest, you can set them depending on the recommendations from the model developers:"
      ]
    },
    {
      "cell_type": "code",
      "execution_count": 33,
      "metadata": {
        "id": "jeVuvzuCpODy"
      },
      "outputs": [],
      "source": [
        "from transformers import TrainingArguments\n",
        "\n",
        "batch_size = 4\n",
        "gradient_accumulation_steps = 8\n",
        "model_name = checkpoint.split(\"/\")[-1]\n",
        "args = TrainingArguments(\n",
        "    f\"{model_name}-finetuned-en-to-es\",\n",
        "    evaluation_strategy = \"epoch\",\n",
        "    learning_rate=1e-4,\n",
        "    per_device_train_batch_size=batch_size,\n",
        "    per_device_eval_batch_size=batch_size,\n",
        "    weight_decay=0.01,\n",
        "    save_total_limit=2,\n",
        "    num_train_epochs=3,\n",
        "    warmup_steps=100,\n",
        "    optim=\"adamw_bnb_8bit\",\n",
        "    prediction_loss_only=True,\n",
        "    gradient_accumulation_steps = gradient_accumulation_steps,\n",
        "    bf16=True,\n",
        "    bf16_full_eval=True,\n",
        "    group_by_length=True,\n",
        ")"
      ]
    },
    {
      "cell_type": "markdown",
      "metadata": {
        "id": "yMFKwK5t9a1_"
      },
      "source": [
        "Once we have our model, we can define a Trainer by passing it all the objects constructed up to now — the model, the training_args, the training and validation datasets, the tokenizer and the data collator:"
      ]
    },
    {
      "cell_type": "code",
      "execution_count": 34,
      "metadata": {
        "id": "GWozoD4e829l"
      },
      "outputs": [],
      "source": [
        "from transformers import Trainer\n",
        "\n",
        "trainer = Trainer(\n",
        "    lora_model,\n",
        "    args,\n",
        "    train_dataset=preprocessed_train_dataset,\n",
        "    eval_dataset=preprocessed_dev_dataset,\n",
        "    tokenizer=tokenizer,\n",
        "    data_collator=data_collator,\n",
        ")\n"
      ]
    },
    {
      "cell_type": "markdown",
      "metadata": {
        "id": "ywslCh4i973F"
      },
      "source": [
        "To fine-tune the model on our dataset, we just have to call the [train() function](https://huggingface.co/docs/transformers/en/main_classes/trainer#transformers.Trainer.train) of our Trainer. However, the [wandb library](https://docs.wandb.ai/guides) is used and it requires to have a [wandb account and login](https://docs.wandb.ai/guides/integrations/huggingface/)."
      ]
    },
    {
      "cell_type": "code",
      "execution_count": 35,
      "metadata": {
        "colab": {
          "base_uri": "https://localhost:8080/",
          "height": 432
        },
        "id": "VhTvBw5H98tA",
        "outputId": "73f57e89-81c3-444c-995a-bd8c18b983a6"
      },
      "outputs": [
        {
          "name": "stderr",
          "output_type": "stream",
          "text": [
            "\u001b[34m\u001b[1mwandb\u001b[0m: Using wandb-core as the SDK backend. Please refer to https://wandb.me/wandb-core for more information.\n",
            "\u001b[34m\u001b[1mwandb\u001b[0m: Currently logged in as: \u001b[33mjorcisai\u001b[0m (\u001b[33mjorcisai-universitat-polit-cnica-de-val-ncia\u001b[0m). Use \u001b[1m`wandb login --relogin`\u001b[0m to force relogin\n"
          ]
        },
        {
          "data": {
            "text/html": [
              "Tracking run with wandb version 0.18.5"
            ],
            "text/plain": [
              "<IPython.core.display.HTML object>"
            ]
          },
          "metadata": {},
          "output_type": "display_data"
        },
        {
          "data": {
            "text/html": [
              "Run data is saved locally in <code>/home/jorcisai/Docencia/TA/github/U3 Neural models/wandb/run-20241117_130833-0ml699m9</code>"
            ],
            "text/plain": [
              "<IPython.core.display.HTML object>"
            ]
          },
          "metadata": {},
          "output_type": "display_data"
        },
        {
          "data": {
            "text/html": [
              "Syncing run <strong><a href='https://wandb.ai/jorcisai-universitat-polit-cnica-de-val-ncia/huggingface/runs/0ml699m9' target=\"_blank\">noble-energy-43</a></strong> to <a href='https://wandb.ai/jorcisai-universitat-polit-cnica-de-val-ncia/huggingface' target=\"_blank\">Weights & Biases</a> (<a href='https://wandb.me/run' target=\"_blank\">docs</a>)<br/>"
            ],
            "text/plain": [
              "<IPython.core.display.HTML object>"
            ]
          },
          "metadata": {},
          "output_type": "display_data"
        },
        {
          "data": {
            "text/html": [
              " View project at <a href='https://wandb.ai/jorcisai-universitat-polit-cnica-de-val-ncia/huggingface' target=\"_blank\">https://wandb.ai/jorcisai-universitat-polit-cnica-de-val-ncia/huggingface</a>"
            ],
            "text/plain": [
              "<IPython.core.display.HTML object>"
            ]
          },
          "metadata": {},
          "output_type": "display_data"
        },
        {
          "data": {
            "text/html": [
              " View run at <a href='https://wandb.ai/jorcisai-universitat-polit-cnica-de-val-ncia/huggingface/runs/0ml699m9' target=\"_blank\">https://wandb.ai/jorcisai-universitat-polit-cnica-de-val-ncia/huggingface/runs/0ml699m9</a>"
            ],
            "text/plain": [
              "<IPython.core.display.HTML object>"
            ]
          },
          "metadata": {},
          "output_type": "display_data"
        },
        {
          "name": "stderr",
          "output_type": "stream",
          "text": [
            "  0%|          | 0/453 [00:00<?, ?it/s]You're using a LlamaTokenizerFast tokenizer. Please note that with a fast tokenizer, using the `__call__` method is faster than using a method to encode the text followed by a call to the `pad` method to get a padded encoding.\n",
            "                                                 \n",
            " 33%|███▎      | 151/453 [17:17<31:34,  6.27s/it]"
          ]
        },
        {
          "name": "stdout",
          "output_type": "stream",
          "text": [
            "{'eval_loss': 0.8713889122009277, 'eval_runtime': 82.2772, 'eval_samples_per_second': 7.499, 'eval_steps_per_second': 1.884, 'epoch': 1.0}\n"
          ]
        },
        {
          "name": "stderr",
          "output_type": "stream",
          "text": [
            "                                                   \n",
            " 67%|██████▋   | 302/453 [34:34<15:48,  6.28s/it]"
          ]
        },
        {
          "name": "stdout",
          "output_type": "stream",
          "text": [
            "{'eval_loss': 0.8552596569061279, 'eval_runtime': 82.3098, 'eval_samples_per_second': 7.496, 'eval_steps_per_second': 1.883, 'epoch': 2.0}\n"
          ]
        },
        {
          "name": "stderr",
          "output_type": "stream",
          "text": [
            "                                                   \n",
            "100%|██████████| 453/453 [51:49<00:00,  6.87s/it]"
          ]
        },
        {
          "name": "stdout",
          "output_type": "stream",
          "text": [
            "{'eval_loss': 0.8534792065620422, 'eval_runtime': 82.2238, 'eval_samples_per_second': 7.504, 'eval_steps_per_second': 1.885, 'epoch': 3.0}\n",
            "{'train_runtime': 3111.6739, 'train_samples_per_second': 4.657, 'train_steps_per_second': 0.146, 'train_loss': 1.1817702404973787, 'epoch': 3.0}\n"
          ]
        },
        {
          "name": "stderr",
          "output_type": "stream",
          "text": [
            "\n"
          ]
        },
        {
          "data": {
            "text/plain": [
              "TrainOutput(global_step=453, training_loss=1.1817702404973787, metrics={'train_runtime': 3111.6739, 'train_samples_per_second': 4.657, 'train_steps_per_second': 0.146, 'train_loss': 1.1817702404973787, 'epoch': 3.0})"
            ]
          },
          "execution_count": 35,
          "metadata": {},
          "output_type": "execute_result"
        }
      ],
      "source": [
        "trainer.train()"
      ]
    },
    {
      "cell_type": "markdown",
      "metadata": {
        "id": "YmEa-41Cm1jA"
      },
      "source": [
        "## Inference"
      ]
    },
    {
      "cell_type": "markdown",
      "metadata": {
        "id": "FmSvHSn_nAMI"
      },
      "source": [
        "At inference time, it is recommended to use [generate()](https://huggingface.co/docs/transformers/en/main_classes/text_generation#transformers.GenerationMixin.generate). This method takes care of encoding the input and auto-regressively generates the decoder output. Check out [this blog post](https://huggingface.co/blog/how-to-generate) to know all the details about generating text with Transformers."
      ]
    },
    {
      "cell_type": "markdown",
      "metadata": {},
      "source": [
        "Let us first load the default inference parameters of Llama-2: "
      ]
    },
    {
      "cell_type": "code",
      "execution_count": 42,
      "metadata": {
        "colab": {
          "base_uri": "https://localhost:8080/"
        },
        "id": "lgQfEkYESvXa",
        "outputId": "5fed8970-64c5-4a1d-bbc0-ff9d6253c632"
      },
      "outputs": [
        {
          "name": "stdout",
          "output_type": "stream",
          "text": [
            "GenerationConfig {\n",
            "  \"bos_token_id\": 1,\n",
            "  \"do_sample\": true,\n",
            "  \"eos_token_id\": 2,\n",
            "  \"max_length\": 4096,\n",
            "  \"pad_token_id\": 0,\n",
            "  \"temperature\": 0.6,\n",
            "  \"top_p\": 0.9,\n",
            "  \"transformers_version\": \"4.30.0\"\n",
            "}\n",
            "\n"
          ]
        }
      ],
      "source": [
        "from transformers import GenerationConfig\n",
        "\n",
        "generation_config = GenerationConfig.from_pretrained(\n",
        "    checkpoint,\n",
        ")\n",
        "\n",
        "print(generation_config)"
      ]
    },
    {
      "cell_type": "markdown",
      "metadata": {},
      "source": [
        "As observed, the default search strategy for Llama-2 is Top-p with probability 0.9 and temperature 0.6 ($0<T<1$ amplifies output probability differences and makes output more deterministic). [The search strategy can be selected](https://huggingface.co/docs/transformers/en/generation_strategies) at inference time. "
      ]
    },
    {
      "cell_type": "markdown",
      "metadata": {},
      "source": [
        "First, the test set is divided in small batches to reduce GPU memory comsumption:"
      ]
    },
    {
      "cell_type": "code",
      "execution_count": 43,
      "metadata": {
        "colab": {
          "base_uri": "https://localhost:8080/",
          "height": 49,
          "referenced_widgets": [
            "b70bcd5076904bc7a5edda47a35162d2",
            "36bc63eac84f4465a760907115c5b71c",
            "7c0f07acb89e4ec7a7142bee22d0ffc1",
            "8d046b2458fa45369a77ffd4d33d545a",
            "c7f13fd7f1664bbea8e09abd90e65519",
            "d5ed587dcede4c529d9a680cd3efeb48",
            "04d6d5534ab54928944887ffe7c768bc",
            "4d39fa5ab9b2483f8e837534f5cb6403",
            "b25e2b1488274aff91b057bf2b538dff",
            "b3378368bc514c6d9e5559006a2aa022",
            "827cd2c15c7c43e3892c40c90d462ec3"
          ]
        },
        "id": "sgI35SEkSvXe",
        "outputId": "40c89a7a-9c62-4e05-bbf7-18ba8007be5f"
      },
      "outputs": [],
      "source": [
        "test_batch_size = 4\n",
        "batch_tokenized_test = preprocessed_test_dataset.batch(test_batch_size)"
      ]
    },
    {
      "cell_type": "markdown",
      "metadata": {},
      "source": [
        "Batches are provided to the [generate()](https://huggingface.co/docs/transformers/en/main_classes/text_generation#transformers.GenerationMixin.generate) together with inference parameters to define the search strategy. In this case, num_beams = 1 and do_sample = False means greedy search. "
      ]
    },
    {
      "cell_type": "code",
      "execution_count": 46,
      "metadata": {
        "id": "0uG5hifcnu5h"
      },
      "outputs": [],
      "source": [
        "number_of_batches = len(batch_tokenized_test[\"input_ids\"])\n",
        "output_sequences = []\n",
        "for i in range(number_of_batches):\n",
        "    output_batch = lora_model.generate(\n",
        "        generation_config=generation_config, \n",
        "        input_ids=torch.tensor(batch_tokenized_test[\"input_ids\"][i]).cuda(), \n",
        "        attention_mask=torch.tensor(batch_tokenized_test[\"attention_mask\"][i]).cuda(), \n",
        "        max_length = max_tok_len, \n",
        "        num_beams=1, \n",
        "        do_sample=False,)\n",
        "    output_sequences.extend(output_batch)"
      ]
    },
    {
      "cell_type": "markdown",
      "metadata": {},
      "source": [
        "## Evaluation"
      ]
    },
    {
      "cell_type": "markdown",
      "metadata": {},
      "source": [
        "The output of the model is automatically evaluated compared to the reference translations. To this purpose, we use the [Evaluate library](https://huggingface.co/docs/evaluate) which includes the definition of generic and task-specific metrics. In our case, we use the [BLEU metric](https://huggingface.co/spaces/evaluate-metric/bleu), or to be more precise, [sacreBLEU](https://huggingface.co/spaces/evaluate-metric/sacrebleu)."
      ]
    },
    {
      "cell_type": "code",
      "execution_count": 47,
      "metadata": {
        "colab": {
          "base_uri": "https://localhost:8080/",
          "height": 49,
          "referenced_widgets": [
            "b2f117dedd29405ea3d1b4ed1629f7bc",
            "d5adf62636f64ef5be9fe15200659919",
            "69fd5416240b4a3f9198bc13c312b754",
            "fdb1fd6d8f7a48a39f0568b3fe92873e",
            "f8a4778a319c48cb82224914f5f58e69",
            "46374c0d7c044fca9c54c2cebf5c7a77",
            "0dba847ababc4bd0b0dfbf148df4bbfc",
            "6066cb7b865842c88ef5db1515135c87",
            "e0c730a86b0041eabafe409340cf2ec3",
            "64da833ed58e4dc49b05efa0e0b7827d",
            "edeb660a2ecc41769efac439d25acd19"
          ]
        },
        "id": "SLzemg4MV7Cd",
        "outputId": "dd40a0af-68d7-4813-8dde-464ff16cab00"
      },
      "outputs": [],
      "source": [
        "from evaluate import load\n",
        "\n",
        "metric = load(\"sacrebleu\")"
      ]
    },
    {
      "cell_type": "markdown",
      "metadata": {},
      "source": [
        "The example below performs a basic post-processing to decode the predictions and extract the translation:"
      ]
    },
    {
      "cell_type": "code",
      "execution_count": 73,
      "metadata": {
        "id": "P_iJmaRmWAIl"
      },
      "outputs": [],
      "source": [
        "import re\n",
        "\n",
        "def compute_metrics(sample, output_sequences):\n",
        "    inputs = [f\"{task_prefix}{src}: {s} = {tgt}: \"  for s in sample[\"source_text\"]]\n",
        "    preds = tokenizer.batch_decode(output_sequences, skip_special_tokens=True)\n",
        "    print(inputs)\n",
        "    print(preds)\n",
        "    for i, (input,pred) in enumerate(zip(inputs,preds)):\n",
        "      pred = re.search(r'^.*\\n',pred.removeprefix(input).lstrip())\n",
        "      if pred is not None:\n",
        "        preds[i] = pred.group()[:-1]\n",
        "      else:\n",
        "        preds[i] = \"\"\n",
        "    print(sample[\"source_text\"])\n",
        "    print(sample[\"dest_text\"])\n",
        "    print(preds)\n",
        "    result = metric.compute(predictions=preds, references=sample[\"dest_text\"])\n",
        "    result = {\"bleu\": result[\"score\"]}\n",
        "    return result"
      ]
    },
    {
      "cell_type": "code",
      "execution_count": 74,
      "metadata": {
        "colab": {
          "base_uri": "https://localhost:8080/"
        },
        "id": "silQFJOM5ye9",
        "outputId": "c9c0be5f-b025-4ca5-9c31-2e490a345a43"
      },
      "outputs": [
        {
          "name": "stdout",
          "output_type": "stream",
          "text": [
            "['Translate from en to es:\\nen: Do we want to liberalise the markets? = es: ', 'Translate from en to es:\\nen: However, this does not mean dismantling them. = es: ', 'Translate from en to es:\\nen: I will now start. = es: ', 'Translate from en to es:\\nen: The international community cannot remain impassive. = es: ', 'Translate from en to es:\\nen: Nonetheless, there must be a balanced outcome. = es: ', 'Translate from en to es:\\nen: We now know what he wanted it for. = es: ', 'Translate from en to es:\\nen: Secondly, some of your suggestions are inadvisable. = es: ', 'Translate from en to es:\\nen: This would not do. = es: ', 'Translate from en to es:\\nen: I cannot, therefore, agree with you on this point. = es: ', 'Translate from en to es:\\nen: It can already be seen, Mr Cappato. = es: ', 'Translate from en to es:\\nen: Thank you for your generosity, Mr President. = es: ', 'Translate from en to es:\\nen: The ideal solution would be to use physical means. = es: ', 'Translate from en to es:\\nen: I think the task is quite a difficult one. = es: ', 'Translate from en to es:\\nen: I am pleased at that. = es: ', 'Translate from en to es:\\nen: This is by no means the case. = es: ', 'Translate from en to es:\\nen: Many thanks, that is all. = es: ', 'Translate from en to es:\\nen: We already have an established law at the national level. = es: ', 'Translate from en to es:\\nen: I believe that we should congratulate ourselves. = es: ', 'Translate from en to es:\\nen: It is a shame that no one listened to us. = es: ', 'Translate from en to es:\\nen: Perhaps you should do so now. = es: ', 'Translate from en to es:\\nen: We really owe it to all the victims. = es: ', 'Translate from en to es:\\nen: It is a real problem. = es: ', 'Translate from en to es:\\nen: We have that right. = es: ', 'Translate from en to es:\\nen: You can count on our solidarity. = es: ', 'Translate from en to es:\\nen: Women for Zapatero! = es: ', 'Translate from en to es:\\nen: This text does, however, have significant added value. = es: ', 'Translate from en to es:\\nen: The judgment of history is clear. = es: ', 'Translate from en to es:\\nen: The ruins of the homeland are safe. = es: ', 'Translate from en to es:\\nen: Do not worry comrades. = es: ', 'Translate from en to es:\\nen: Now we are going. = es: ', 'Translate from en to es:\\nen: I am delighted at what Mr Cioloş had to say. = es: ', 'Translate from en to es:\\nen: Let us therefore be consistent. = es: ', 'Translate from en to es:\\nen: This is one of the two conditions. = es: ', 'Translate from en to es:\\nen: Indeed it is. = es: ', 'Translate from en to es:\\nen: The truth is that there is a great deal at stake. = es: ', 'Translate from en to es:\\nen: Since then, we have been trying to resolve this issue. = es: ', 'Translate from en to es:\\nen: We have not managed to do so. = es: ', 'Translate from en to es:\\nen: They almost never have rooms and they never have interpretation. = es: ', 'Translate from en to es:\\nen: This is not enough. = es: ', 'Translate from en to es:\\nen: We have an opportunity. = es: ', 'Translate from en to es:\\nen: public freedoms. = es: ', 'Translate from en to es:\\nen: What is the point of the Alliance of Civilisations? = es: ', 'Translate from en to es:\\nen: That is how it should be. = es: ', 'Translate from en to es:\\nen: Talking does not cost anything, but we need to act. = es: ', 'Translate from en to es:\\nen: I do not believe it is. = es: ', 'Translate from en to es:\\nen: We are worth the same and deserve the same. = es: ', 'Translate from en to es:\\nen: The parliamentary passage of this report is not over, therefore. = es: ', 'Translate from en to es:\\nen: The initial draft was a bad one. = es: ', 'Translate from en to es:\\nen: That is not enough. = es: ', 'Translate from en to es:\\nen: Europe is the right stage for this purpose. = es: ', 'Translate from en to es:\\nen: And I ask for the control systems to be reviewed. = es: ', 'Translate from en to es:\\nen: And for Mrs Merkel to accept responsibility. = es: ', 'Translate from en to es:\\nen: She cannot ignore the fact that Hamburg is in her country. = es: ', 'Translate from en to es:\\nen: She cannot ignore her responsibilities. = es: ', 'Translate from en to es:\\nen: An epidemic knows no frontiers. = es: ', 'Translate from en to es:\\nen: We ask for compensation. = es: ', 'Translate from en to es:\\nen: It is Germany that has a serious credibility problem. = es: ', 'Translate from en to es:\\nen: She is nothing of the sort: she lacks moral fibre. = es: ', 'Translate from en to es:\\nen: We can no longer close our eyes to the situation. = es: ', 'Translate from en to es:\\nen: Some may say these ideas are elementary. = es: ', 'Translate from en to es:\\nen: Therefore, EU support is necessary. = es: ', 'Translate from en to es:\\nen: I hope that the Council will take note of this. = es: ', 'Translate from en to es:\\nen: The spread of aquaculture is important. = es: ', 'Translate from en to es:\\nen: None of this has come to pass. = es: ', 'Translate from en to es:\\nen: Let us move on to some details. = es: ', 'Translate from en to es:\\nen: Goodbye, then, to the Spanish Presidency. = es: ', 'Translate from en to es:\\nen: Unlike me, you have had time to talk about them. = es: ', 'Translate from en to es:\\nen: I have a general thought. = es: ', 'Translate from en to es:\\nen: No, a thousand times no. = es: ', 'Translate from en to es:\\nen: At the moment, projects drag on endlessly. = es: ', 'Translate from en to es:\\nen: This must be done without delay and without waiting any longer. = es: ', 'Translate from en to es:\\nen: It is a disappointing outcome. = es: ', 'Translate from en to es:\\nen: Why not? = es: ', 'Translate from en to es:\\nen: It deserves that. = es: ', 'Translate from en to es:\\nen: The courage shown by newspaper is also commendable. = es: ', 'Translate from en to es:\\nen: An election campaign is about to begin in Spain. = es: ', 'Translate from en to es:\\nen: Let us reinvigorate our values. = es: ', 'Translate from en to es:\\nen: Valencian farmers do not live off subsidies. = es: ', 'Translate from en to es:\\nen: That is real justice. = es: ', 'Translate from en to es:\\nen: This is not our intention. = es: ', 'Translate from en to es:\\nen: For that, I congratulate her. = es: ', 'Translate from en to es:\\nen: Something is going on, and it is quite obvious. = es: ', 'Translate from en to es:\\nen: Where do we do all of this? = es: ', 'Translate from en to es:\\nen: Well, in the next CAP reform, of course. = es: ', 'Translate from en to es:\\nen: Good luck, Venezuela! = es: ', 'Translate from en to es:\\nen: There is still much to be done. = es: ', 'Translate from en to es:\\nen: It is clear that the current agreement does not do this. = es: ', 'Translate from en to es:\\nen: These products are primarily Moroccan tomatoes. = es: ', 'Translate from en to es:\\nen: We have come a long way but there is a lot left to do. = es: ', 'Translate from en to es:\\nen: That is the risk. = es: ', 'Translate from en to es:\\nen: My country, Spain, has only just embarked on this experience. = es: ', 'Translate from en to es:\\nen: These cases, however, are of urgent need. = es: ', 'Translate from en to es:\\nen: Naturally, we do not welcome any of these references. = es: ', 'Translate from en to es:\\nen: That is the case with agriculture. = es: ', 'Translate from en to es:\\nen: We have therefore called for two things. = es: ', 'Translate from en to es:\\nen: Nothing could be further from the truth. = es: ', 'Translate from en to es:\\nen: existing mechanisms. = es: ', 'Translate from en to es:\\nen: Allow me to do so with you this evening. = es: ', 'Translate from en to es:\\nen: This, then, is the point I am trying to make. = es: ', 'Translate from en to es:\\nen: I do not know if I am dreaming, ladies and gentlemen. = es: ', 'Translate from en to es:\\nen: This is your opportunity. = es: ', 'Translate from en to es:\\nen: As I have already said, it is the time to support Europe. = es: ', 'Translate from en to es:\\nen: Moreover, their capacity for regeneration is very limited. = es: ', 'Translate from en to es:\\nen: The Treaty is very clear. = es: ', 'Translate from en to es:\\nen: Sensitive areas must be protected. = es: ', 'Translate from en to es:\\nen: However, not all areas are equally sensitive. = es: ', 'Translate from en to es:\\nen: citizens, want. = es: ', 'Translate from en to es:\\nen: I would like to highlight the participation of the public. = es: ', 'Translate from en to es:\\nen: Is he familiar with the Spanish Constitution? = es: ', 'Translate from en to es:\\nen: The figures speak for themselves. = es: ', 'Translate from en to es:\\nen: Social dialogue is vital. = es: ', 'Translate from en to es:\\nen: Thank you, all four rapporteurs. = es: ', 'Translate from en to es:\\nen: That should be our approach. = es: ', 'Translate from en to es:\\nen: The third point is simplification. = es: ', 'Translate from en to es:\\nen: We do not want everyone trying to go their own way. = es: ', 'Translate from en to es:\\nen: We must ensure that this gap is reduced. = es: ', 'Translate from en to es:\\nen: That would certainly be a sound instrument. = es: ', 'Translate from en to es:\\nen: These are things which are often lumped together. = es: ', 'Translate from en to es:\\nen: However, this is not fraud, but wastefulness. = es: ', 'Translate from en to es:\\nen: There was a silence, a taboo. = es: ', 'Translate from en to es:\\nen: The European Parliament considers this unacceptable. = es: ', 'Translate from en to es:\\nen: Thank you very much. = es: ', 'Translate from en to es:\\nen: Not everything can be measured by the same yardstick. = es: ', 'Translate from en to es:\\nen: Do you know what this is? = es: ', 'Translate from en to es:\\nen: Mr President, I want to keep this short. = es: ', 'Translate from en to es:\\nen: I have a lot of sympathy for that. = es: ', 'Translate from en to es:\\nen: This is something that we can talk about. = es: ', 'Translate from en to es:\\nen: The problem is that that is exactly what we have not done. = es: ', 'Translate from en to es:\\nen: What we need is exactly the opposite. = es: ', 'Translate from en to es:\\nen: The first public hearing is due to take place on 31 March. = es: ', 'Translate from en to es:\\nen: The most important of these have already been mentioned. = es: ', 'Translate from en to es:\\nen: We have already heard about all of this. = es: ', 'Translate from en to es:\\nen: Who are you aiming to pillory for this? = es: ', 'Translate from en to es:\\nen: A brief remark on cloning. = es: ', 'Translate from en to es:\\nen: Madam President, it is perfectly simple. = es: ', 'Translate from en to es:\\nen: We need an instrument to deal with this problem. = es: ', 'Translate from en to es:\\nen: In my opinion, it is right to consider something like this. = es: ', 'Translate from en to es:\\nen: This is just one of the many improvements proposed. = es: ', 'Translate from en to es:\\nen: Thank you for your positive cooperation. = es: ', 'Translate from en to es:\\nen: We have lost a lot of money. = es: ', 'Translate from en to es:\\nen: Let me explain how I arrived at this image. = es: ', 'Translate from en to es:\\nen: The fund is too small to achieve anything. = es: ', 'Translate from en to es:\\nen: We need to find something better. = es: ', 'Translate from en to es:\\nen: Why exactly? = es: ', 'Translate from en to es:\\nen: We do not all need to reinvent the bicycle. = es: ', 'Translate from en to es:\\nen: They are important to the attractiveness of a town. = es: ', 'Translate from en to es:\\nen: That would take some of the strain off a city. = es: ', 'Translate from en to es:\\nen: It is also important to take account of demographic change. = es: ', 'Translate from en to es:\\nen: Our society is constantly ageing. = es: ', 'Translate from en to es:\\nen: Anything else would simply promote the countryside. = es: ', 'Translate from en to es:\\nen: We do not need an urban mobility observatory. = es: ', 'Translate from en to es:\\nen: It also safeguards the use of personal data. = es: ', 'Translate from en to es:\\nen: A revision of the current regulation was necessary. = es: ', 'Translate from en to es:\\nen: However, this dialogue must be conducted honestly. = es: ', 'Translate from en to es:\\nen: What is your position on this? = es: ', 'Translate from en to es:\\nen: How is it currently being dealt with? = es: ', 'Translate from en to es:\\nen: Hopefully, they would also find out what you did five years ago. = es: ', 'Translate from en to es:\\nen: I believe that is very, very little. = es: ', 'Translate from en to es:\\nen: There is no joint proposal for this election. = es: ', 'Translate from en to es:\\nen: This is where Stockholm fails. = es: ', 'Translate from en to es:\\nen: Are there adequate controls? = es: ', 'Translate from en to es:\\nen: Unemployment cannot be lastingly combated in this way. = es: ', 'Translate from en to es:\\nen: In this form, we will reject this programme. = es: ', 'Translate from en to es:\\nen: Time is running out! = es: ', 'Translate from en to es:\\nen: The choice is between the market and social policy. = es: ', 'Translate from en to es:\\nen: This is the case of Aminatou Haidar. = es: ', 'Translate from en to es:\\nen: That was my first request, Mr President. = es: ', 'Translate from en to es:\\nen: The second request will follow immediately. = es: ', 'Translate from en to es:\\nen: That is my personal opinion on the matter. = es: ', 'Translate from en to es:\\nen: Do you have an opinion on this? = es: ', 'Translate from en to es:\\nen: Europe must actively involve itself here. = es: ', 'Translate from en to es:\\nen: We need cooperation, not confrontation. = es: ', 'Translate from en to es:\\nen: I would like to put that in a political context. = es: ', 'Translate from en to es:\\nen: I would like to ask you to reconsider this. = es: ', 'Translate from en to es:\\nen: I would like to ask you to reconsider this. = es: ', 'Translate from en to es:\\nen: Did Mrs Malmström explain this to you? = es: ', 'Translate from en to es:\\nen: It did not answer my question, however. = es: ', 'Translate from en to es:\\nen: I would be grateful if you could answer precisely. = es: ', 'Translate from en to es:\\nen: Our view of the situation is exactly the same. = es: ', 'Translate from en to es:\\nen: This is why we are supporting this motion. = es: ', 'Translate from en to es:\\nen: Why is that? = es: ', 'Translate from en to es:\\nen: I believe this is the challenge. = es: ', 'Translate from en to es:\\nen: The two things cannot be compared. = es: ', 'Translate from en to es:\\nen: They have deformed extremities and organs. = es: ', 'Translate from en to es:\\nen: Can we accept responsibility for this? = es: ', 'Translate from en to es:\\nen: This is a consistent approach. = es: ', 'Translate from en to es:\\nen: Of course, it must also apply to imports. = es: ', 'Translate from en to es:\\nen: This is a fundamental, ethical question. = es: ', 'Translate from en to es:\\nen: I do not want to and I am not able to. = es: ', 'Translate from en to es:\\nen: I do not believe that this is an exaggerated horror story. = es: ', 'Translate from en to es:\\nen: We can push this through. = es: ', 'Translate from en to es:\\nen: In any case, we need a one-stop shop. = es: ', 'Translate from en to es:\\nen: That is not the case, however. = es: ', 'Translate from en to es:\\nen: Cities are an important driving force behind development in Europe. = es: ', 'Translate from en to es:\\nen: Is this still the case? = es: ', 'Translate from en to es:\\nen: If so, what percentage were you thinking of? = es: ', 'Translate from en to es:\\nen: Ireland shows that this is not the case. = es: ', 'Translate from en to es:\\nen: It is very important; action needs to be taken quickly. = es: ', 'Translate from en to es:\\nen: Our patients expect it. = es: ', 'Translate from en to es:\\nen: Then we will have done a good job. = es: ', 'Translate from en to es:\\nen: Indeed, why should they? = es: ', 'Translate from en to es:\\nen: Our industry is investing money and manpower in development. = es: ', 'Translate from en to es:\\nen: I am a farmer by profession. = es: ', 'Translate from en to es:\\nen: I am already looking forward to your proposal. = es: ', 'Translate from en to es:\\nen: We owe this to our citizens. = es: ', 'Translate from en to es:\\nen: There is therefore an urgent need for action. = es: ', 'Translate from en to es:\\nen: I would like to mention this once again. = es: ', 'Translate from en to es:\\nen: We will abstain from voting on this amendment. = es: ', 'Translate from en to es:\\nen: This will lead to significant cost increases. = es: ', 'Translate from en to es:\\nen: I have a request for you, Mr Füle. = es: ', 'Translate from en to es:\\nen: More work is urgently needed on this. = es: ', 'Translate from en to es:\\nen: We are being transported to the concentration camp. = es: ', 'Translate from en to es:\\nen: Thank you once again for everything that you have done for me. = es: ', 'Translate from en to es:\\nen: Greetings to you all. See you in heaven. = es: ', 'Translate from en to es:\\nen: Robert. = es: ', 'Translate from en to es:\\nen: We see two major problems with this. = es: ', 'Translate from en to es:\\nen: That is rather dishonest. = es: ', 'Translate from en to es:\\nen: Or have we obstructed it? = es: ', 'Translate from en to es:\\nen: These instruments are urgently needed. = es: ', 'Translate from en to es:\\nen: When will the Commission submit this proposal? = es: ', 'Translate from en to es:\\nen: What are you doing to speed things up? = es: ', 'Translate from en to es:\\nen: How is this being achieved? = es: ', 'Translate from en to es:\\nen: There have already been deaths and woundings. = es: ', 'Translate from en to es:\\nen: Sudan was a failed state. = es: ', 'Translate from en to es:\\nen: I suppose that this represents some sort of progress. = es: ', 'Translate from en to es:\\nen: We are currently talking about 51 regions. = es: ', 'Translate from en to es:\\nen: What about conflicts of interest? = es: ', 'Translate from en to es:\\nen: Not all financial innovation is sound. = es: ', 'Translate from en to es:\\nen: We are not going to step on your toes. = es: ', 'Translate from en to es:\\nen: Why did it not include it? = es: ', 'Translate from en to es:\\nen: At present things are not too satisfactory. = es: ', 'Translate from en to es:\\nen: The communication contains some worrying messages. = es: ', 'Translate from en to es:\\nen: I would like to thank you for this opportunity. = es: ', 'Translate from en to es:\\nen: What have you in the Council done? = es: ', 'Translate from en to es:\\nen: You have to change your position on this line. = es: ', 'Translate from en to es:\\nen: Will you do so? = es: ', 'Translate from en to es:\\nen: To my mind, it makes no economic sense. = es: ', 'Translate from en to es:\\nen: It does not make humanitarian sense. = es: ', 'Translate from en to es:\\nen: The industry is already in serious trouble. = es: ', 'Translate from en to es:\\nen: For the moment, we do not have this type of quality information. = es: ', 'Translate from en to es:\\nen: The problems we face are European. = es: ', 'Translate from en to es:\\nen: We did not reach an agreement. = es: ', 'Translate from en to es:\\nen: Let us have some action. = es: ', 'Translate from en to es:\\nen: If it does not, it needs changing. = es: ', 'Translate from en to es:\\nen: So we have got to be careful about that. = es: ', 'Translate from en to es:\\nen: The first, of course, is jobs. = es: ', 'Translate from en to es:\\nen: It is an aspect of the Internet that needs our attention. = es: ', 'Translate from en to es:\\nen: We have to make sure that minorities also feel protected. = es: ', 'Translate from en to es:\\nen: I would just like briefly to explain why. = es: ', 'Translate from en to es:\\nen: That is why Amendment 81 is so important. = es: ', 'Translate from en to es:\\nen: So I think it should be included. = es: ', 'Translate from en to es:\\nen: This is a good report. = es: ', 'Translate from en to es:\\nen: The situation has got much worse since then. = es: ', 'Translate from en to es:\\nen: With this ban we are failing in both areas. = es: ', 'Translate from en to es:\\nen: We should bear that in mind. = es: ', 'Translate from en to es:\\nen: There is no easy response to this issue either. = es: ', 'Translate from en to es:\\nen: If there was, some country would have found it by now. = es: ', 'Translate from en to es:\\nen: That is our challenge today. = es: ', 'Translate from en to es:\\nen: Four months later: nothing. = es: ', 'Translate from en to es:\\nen: Three quick points. = es: ', 'Translate from en to es:\\nen: It is actually a major opener. = es: ', 'Translate from en to es:\\nen: The study was paid for by Parliament. = es: ', 'Translate from en to es:\\nen: Under the current treaty rules, we are merely consulted. = es: ', 'Translate from en to es:\\nen: Many of them are prepared to start immediately. = es: ', 'Translate from en to es:\\nen: It would have strengthened them. = es: ', 'Translate from en to es:\\nen: They wanted that. = es: ', 'Translate from en to es:\\nen: Why hide behind the Commission? = es: ', 'Translate from en to es:\\nen: The lack of reciprocity is not being addressed. = es: ', 'Translate from en to es:\\nen: Tell me; I am all ears. = es: ', 'Translate from en to es:\\nen: But you could not do even this today. = es: ', 'Translate from en to es:\\nen: Only some data will go there. = es: ', 'Translate from en to es:\\nen: SWIFT tells us that is not the case. = es: ', 'Translate from en to es:\\nen: The United States administration tells us that is not the case. = es: ', 'Translate from en to es:\\nen: Where are they? = es: ', 'Translate from en to es:\\nen: This is the first major FTA. = es: ', 'Translate from en to es:\\nen: This is a template. = es: ', 'Translate from en to es:\\nen: We need to do it right. = es: ', 'Translate from en to es:\\nen: Please do not get me wrong. = es: ', 'Translate from en to es:\\nen: Employees in the EU deserve better. = es: ', 'Translate from en to es:\\nen: That is indeed very disquieting. = es: ', 'Translate from en to es:\\nen: We should not let it pass. = es: ', 'Translate from en to es:\\nen: That is what we need to answer. = es: ', 'Translate from en to es:\\nen: Madam President, I supported this report. = es: ', 'Translate from en to es:\\nen: They are furious at the complete lack of transparency. = es: ', 'Translate from en to es:\\nen: This is not how it should be in a democracy. = es: ', 'Translate from en to es:\\nen: Criminal groups operate freely in the country. = es: ', 'Translate from en to es:\\nen: The situation is completely unclear for the local people. = es: ', 'Translate from en to es:\\nen: However, these are exceptional circumstances. = es: ', 'Translate from en to es:\\nen: For example, what would be the exact role? = es: ', 'Translate from en to es:\\nen: To whom would this person be accountable? = es: ', 'Translate from en to es:\\nen: How would this improve the current situation? = es: ', 'Translate from en to es:\\nen: We must resist this trend. = es: ', 'Translate from en to es:\\nen: There are, however, a couple of issues. = es: ', 'Translate from en to es:\\nen: I have some questions on taxes. = es: ', 'Translate from en to es:\\nen: This agreement will enhance security on European territory. = es: ', 'Translate from en to es:\\nen: Well done and thank you very much. = es: ', 'Translate from en to es:\\nen: Let us try to avoid that. = es: ', 'Translate from en to es:\\nen: I do not understand. = es: ', 'Translate from en to es:\\nen: That is our red line. = es: ', 'Translate from en to es:\\nen: Please, Council, try again. = es: ', 'Translate from en to es:\\nen: Ten years ago, there was nothing. = es: ', 'Translate from en to es:\\nen: China is moving and they move fast. = es: ', 'Translate from en to es:\\nen: This legislation is essential for Europe. = es: ', 'Translate from en to es:\\nen: So thank you for your comment. = es: ', 'Translate from en to es:\\nen: Caning is a form of torture. = es: ', 'Translate from en to es:\\nen: Serbia is a crucial part of that with this commitment... = es: ', 'Translate from en to es:\\nen: I need to have a frank conversation with you. = es: ', 'Translate from en to es:\\nen: You were addressing the new generations. = es: ', 'Translate from en to es:\\nen: The Council has not completed the codecision. = es: ', 'Translate from en to es:\\nen: You say: ‘ look at refugees ’. = es: ', 'Translate from en to es:\\nen: ’ This will tarnish the Belgian Presidency. = es: ', 'Translate from en to es:\\nen: I am sorry to say this; I say it in sadness. = es: ', 'Translate from en to es:\\nen: In all this chaos, one thing was clear. = es: ', 'Translate from en to es:\\nen: Let me speak clearly. = es: ', 'Translate from en to es:\\nen: This has all gone too far and must be stopped. = es: ', 'Translate from en to es:\\nen: We must not let this happen again. = es: ', 'Translate from en to es:\\nen: That is clear. = es: ', 'Translate from en to es:\\nen: Indeed, after several years it was rather overdue. = es: ', 'Translate from en to es:\\nen: The aviation industry is massively important to Europe. = es: ', 'Translate from en to es:\\nen: It is not just about monies. = es: ', 'Translate from en to es:\\nen: What measures could it take? = es: ', 'Translate from en to es:\\nen: But let us face it: it will not come easily. = es: ', 'Translate from en to es:\\nen: I close by saying the following. = es: ', 'Translate from en to es:\\nen: Should Assad be included or not? = es: ', 'Translate from en to es:\\nen: What is your opinion? = es: ', 'Translate from en to es:\\nen: We would like to hear that. = es: ', 'Translate from en to es:\\nen: Do you want to threaten sanctions or not? = es: ', 'Translate from en to es:\\nen: Open the debate. = es: ', 'Translate from en to es:\\nen: You are the rotating Presidency. = es: ', 'Translate from en to es:\\nen: You are Vice-President of the Commission. = es: ', 'Translate from en to es:\\nen: You can take initiatives. = es: ', 'Translate from en to es:\\nen: You should set the agenda. = es: ', 'Translate from en to es:\\nen: I do not understand why. = es: ', 'Translate from en to es:\\nen: I promise you: only this will save your position, and nothing else. = es: ', 'Translate from en to es:\\nen: I think that will get support for you. = es: ', 'Translate from en to es:\\nen: Explore your mandate. = es: ', 'Translate from en to es:\\nen: Go ahead and tell us. = es: ', 'Translate from en to es:\\nen: This was one of them. = es: ', 'Translate from en to es:\\nen: Even the adoption of the document is questionable. = es: ', 'Translate from en to es:\\nen: The new constitution raises questions on an international level. = es: ', 'Translate from en to es:\\nen: These results are a call to order. = es: ', 'Translate from en to es:\\nen: However, what sort of society does this programme envisage? = es: ', 'Translate from en to es:\\nen: It was a real pleasure to work with you. = es: ', 'Translate from en to es:\\nen: I know that we will be able to count on you. = es: ', 'Translate from en to es:\\nen: Today, we need to go further. = es: ', 'Translate from en to es:\\nen: Secondly, access to public contracts. = es: ', 'Translate from en to es:\\nen: There is no time to waste. = es: ', 'Translate from en to es:\\nen: All on-call time is counted as working time. = es: ', 'Translate from en to es:\\nen: We must face up to reality. = es: ', 'Translate from en to es:\\nen: My scepticism gives way to concern. = es: ', 'Translate from en to es:\\nen: It is marked by a certain nonchalance. = es: ', 'Translate from en to es:\\nen: Well then, two consequences inevitably flow from this. = es: ', 'Translate from en to es:\\nen: There are natural disasters other than fires. = es: ', 'Translate from en to es:\\nen: I am thinking of the tsunami. = es: ', 'Translate from en to es:\\nen: I believe that we must go further. = es: ', 'Translate from en to es:\\nen: Then you will see that this affects everyone. = es: ', 'Translate from en to es:\\nen: I think that there are two parts to this debate. = es: ', 'Translate from en to es:\\nen: There is no other solution. = es: ', 'Translate from en to es:\\nen: I am really and truly, quietly, delighted about this. = es: ', 'Translate from en to es:\\nen: That will not be enough, however. = es: ', 'Translate from en to es:\\nen: However, we know that this issue is absolutely central. = es: ', 'Translate from en to es:\\nen: Let us not give in too quickly to pessimism. = es: ', 'Translate from en to es:\\nen: Many countries would be envious of these statistics. = es: ', 'Translate from en to es:\\nen: There is no point in creating a European economic government. = es: ', 'Translate from en to es:\\nen: I would like to quickly raise another point. = es: ', 'Translate from en to es:\\nen: I believe we need to change direction. = es: ', 'Translate from en to es:\\nen: That is not right, either. = es: ', 'Translate from en to es:\\nen: I would like to thank him for this. = es: ', 'Translate from en to es:\\nen: The political aspect is blocked. = es: ', 'Translate from en to es:\\nen: Allow me to raise two points. = es: ', 'Translate from en to es:\\nen: The EU ought to set an example in this area. = es: ', 'Translate from en to es:\\nen: We cannot accept this. = es: ', 'Translate from en to es:\\nen: My group and I share these concerns. = es: ', 'Translate from en to es:\\nen: We cannot let each country solve this problem. = es: ', 'Translate from en to es:\\nen: There has to be a European framework. = es: ', 'Translate from en to es:\\nen: It must be flexible, but it must exist. = es: ', 'Translate from en to es:\\nen: We must adopt a horizontal approach. = es: ', 'Translate from en to es:\\nen: That is the question. = es: ', 'Translate from en to es:\\nen: There is a need for greater flexibility. = es: ', 'Translate from en to es:\\nen: We must also deal with this problem at its source. = es: ', 'Translate from en to es:\\nen: It is restrictive, but we have no choice. = es: ', 'Translate from en to es:\\nen: Thank you. = es: ', 'Translate from en to es:\\nen: The text presented today is satisfactory. = es: ', 'Translate from en to es:\\nen: Discrimination, of whatever kind, cannot be tolerated. = es: ', 'Translate from en to es:\\nen: My thoughts are also with the victims. = es: ', 'Translate from en to es:\\nen: I would first like to make the following observation. = es: ', 'Translate from en to es:\\nen: They are no longer able to feed their animals. = es: ', 'Translate from en to es:\\nen: Hundreds of farms have gone bankrupt. = es: ', 'Translate from en to es:\\nen: This is a whole new ball game. = es: ', 'Translate from en to es:\\nen: The answer is ‘ yes ’. = es: ', 'Translate from en to es:\\nen: This is what this directive will enable. = es: ', 'Translate from en to es:\\nen: Obviously, all this is going to upset a few habits. = es: ', 'Translate from en to es:\\nen: All the technical conditions have been met. = es: ', 'Translate from en to es:\\nen: We can accept this as an established fact. = es: ', 'Translate from en to es:\\nen: Yes, I agree with you. = es: ', 'Translate from en to es:\\nen: The first phase is complete. = es: ', 'Translate from en to es:\\nen: In my opinion, this was another fundamental point. = es: ', 'Translate from en to es:\\nen: Some of these purchases will be cross-border. = es: ', 'Translate from en to es:\\nen: This is real progress. = es: ', 'Translate from en to es:\\nen: We achieved that consensus. = es: ', 'Translate from en to es:\\nen: That is quite right and proper. = es: ', 'Translate from en to es:\\nen: The situation has never been as distressing as it is now. = es: ', 'Translate from en to es:\\nen: I wonder where this is going to take us. = es: ', 'Translate from en to es:\\nen: This needs to change. = es: ', 'Translate from en to es:\\nen: This should also be followed up, though. = es: ', 'Translate from en to es:\\nen: I have also listened to your statements, Commissioner. = es: ', 'Translate from en to es:\\nen: This is not a healthy state of affairs. = es: ', 'Translate from en to es:\\nen: This is topsy-turvy land. = es: ', 'Translate from en to es:\\nen: Mr President, this crisis is a test for Europe. = es: ', 'Translate from en to es:\\nen: Europe is not the sum total of 27 times the national interest. = es: ', 'Translate from en to es:\\nen: It is now or never for Europe. = es: ', 'Translate from en to es:\\nen: I am sorry, but this is madness. = es: ', 'Translate from en to es:\\nen: This does not change anything in substance, however. = es: ', 'Translate from en to es:\\nen: I should nevertheless like to make a few comments. = es: ', 'Translate from en to es:\\nen: This is a fundamental issue. = es: ', 'Translate from en to es:\\nen: I will name three of these. = es: ', 'Translate from en to es:\\nen: On this point, the report is perfectly in order. = es: ', 'Translate from en to es:\\nen: This is handled very well in the directive. = es: ', 'Translate from en to es:\\nen: I am delighted with the result achieved, therefore. = es: ', 'Translate from en to es:\\nen: Yet official Europe is at a dead end. = es: ', 'Translate from en to es:\\nen: Ladies and gentlemen, cars represent freedom. = es: ', 'Translate from en to es:\\nen: Unfortunately, I disagree. = es: ', 'Translate from en to es:\\nen: Yet why did you not do more? = es: ', 'Translate from en to es:\\nen: The Commission must continue in this vein. = es: ', 'Translate from en to es:\\nen: Let their journeys not be in vain. = es: ', 'Translate from en to es:\\nen: The final aspect is agriculture. = es: ', 'Translate from en to es:\\nen: We are at a turning point. = es: ', 'Translate from en to es:\\nen: My answer goes without saying. = es: ', 'Translate from en to es:\\nen: I am looking forward to this. = es: ', 'Translate from en to es:\\nen: I understand and support this. = es: ', 'Translate from en to es:\\nen: That is the current reality. = es: ', 'Translate from en to es:\\nen: Is there anything more ridiculous? = es: ', 'Translate from en to es:\\nen: Yet what about the interests of European citizens? = es: ', 'Translate from en to es:\\nen: Could it be that they are less important? = es: ', 'Translate from en to es:\\nen: That is a fact. = es: ', 'Translate from en to es:\\nen: I disagree with that. = es: ', 'Translate from en to es:\\nen: The contrary is true. = es: ', 'Translate from en to es:\\nen: That was my first point. = es: ', 'Translate from en to es:\\nen: I will be very brief with my second point. = es: ', 'Translate from en to es:\\nen: ” Nothing much has changed since then. = es: ', 'Translate from en to es:\\nen: Obviously, all of that has to be stage-managed from Europe. = es: ', 'Translate from en to es:\\nen: Are they going to introduce electric aeroplanes any time soon? = es: ', 'Translate from en to es:\\nen: When is this madness going to stop? = es: ', 'Translate from en to es:\\nen: Keep up the good work and keep toeing the right line. = es: ', 'Translate from en to es:\\nen: I ask you to support this directive. = es: ', 'Translate from en to es:\\nen: Thank you for your understanding. = es: ', 'Translate from en to es:\\nen: Now it is a problem facing Europe. = es: ', 'Translate from en to es:\\nen: First among these is refraining from causing inconvenience. = es: ', 'Translate from en to es:\\nen: I do not think so. = es: ', 'Translate from en to es:\\nen: However, our group thinks that more is needed. = es: ', 'Translate from en to es:\\nen: These two aspects are closely related. = es: ', 'Translate from en to es:\\nen: That is not the Europe we want to see. = es: ', 'Translate from en to es:\\nen: Surely, that cannot be the correct interpretation. = es: ', 'Translate from en to es:\\nen: This is an insult to democracy. = es: ', 'Translate from en to es:\\nen: That is far too many. = es: ', 'Translate from en to es:\\nen: The first of two focal points is energy efficiency: a great opportunity. = es: ', 'Translate from en to es:\\nen: This is where the Eurobonds are necessary. = es: ', 'Translate from en to es:\\nen: Action: that is what is needed. = es: ', 'Translate from en to es:\\nen: Oh, yes, it was the protection of forests. = es: ', 'Translate from en to es:\\nen: Long live Member States, long live citizens! = es: ', 'Translate from en to es:\\nen: The impact of this cannot be underestimated. = es: ', 'Translate from en to es:\\nen: The same thing is happening in Europe. = es: ', 'Translate from en to es:\\nen: However, that final bill will still have to be paid. = es: ', 'Translate from en to es:\\nen: The war in Libya goes on. = es: ', 'Translate from en to es:\\nen: You are consistent. = es: ', 'Translate from en to es:\\nen: For that reason I have foregone the photographs. = es: ', 'Translate from en to es:\\nen: Europe must stand on the side of freedom. = es: ', 'Translate from en to es:\\nen: The unthinkable has happened. = es: ', 'Translate from en to es:\\nen: There is no such thing as zero risk. = es: ', 'Translate from en to es:\\nen: Today, we need to take three steps. = es: ', 'Translate from en to es:\\nen: The current system therefore does not work. = es: ', 'Translate from en to es:\\nen: This, however, is just the beginning. = es: ', 'Translate from en to es:\\nen: We are not imposing anything. = es: ', 'Translate from en to es:\\nen: That is cast in stone in the legislation. = es: ', 'Translate from en to es:\\nen: There has been quite some discussion about this. = es: ', 'Translate from en to es:\\nen: The transport sector is important for our economy. = es: ', 'Translate from en to es:\\nen: That will continue to be the case. = es: ', 'Translate from en to es:\\nen: Yet, we are doing something really peculiar. = es: ', 'Translate from en to es:\\nen: For me, personally, that is not consistent. = es: ', 'Translate from en to es:\\nen: I appeal to you for more time. = es: ', 'Translate from en to es:\\nen: But the Aker Group has long since gone. = es: ', 'Translate from en to es:\\nen: It has become STX of Korea. = es: ', 'Translate from en to es:\\nen: Something did not quite work out there. = es: ', 'Translate from en to es:\\nen: Secondly, the current situation affects us all. = es: ', 'Translate from en to es:\\nen: The financial crisis threatens a general European crisis. = es: ', 'Translate from en to es:\\nen: But not in Poland. = es: ', 'Translate from en to es:\\nen: At least, not so far. = es: ', 'Translate from en to es:\\nen: Poland has confidence in the European institutions. = es: ', 'Translate from en to es:\\nen: Thank you very much. = es: ', 'Translate from en to es:\\nen: I should like to put the following question to you, President. = es: ', 'Translate from en to es:\\nen: These organisations are operating legally in Europe today. = es: ', 'Translate from en to es:\\nen: There is no politically justified genocide. = es: ', 'Translate from en to es:\\nen: All must be named and condemned. = es: ', 'Translate from en to es:\\nen: I share the view that this is a success. = es: ', 'Translate from en to es:\\nen: The Bank granted a loan to Hungary. = es: ', 'Translate from en to es:\\nen: This is a good thing. = es: ', 'Translate from en to es:\\nen: It seems to me that we are moving in the right direction. = es: ', 'Translate from en to es:\\nen: We must not discriminate against them. = es: ', 'Translate from en to es:\\nen: The amendments tabled are sound. = es: ', 'Translate from en to es:\\nen: Repetition should be avoided. = es: ', 'Translate from en to es:\\nen: We support this Directive. = es: ', 'Translate from en to es:\\nen: Will talks even take place? = es: ', 'Translate from en to es:\\nen: Why did the world remain silent? = es: ', 'Translate from en to es:\\nen: However, we do not know the facts of the situation. = es: ', 'Translate from en to es:\\nen: The EU observers are helpless. = es: ', 'Translate from en to es:\\nen: This is the sort of example that Iran provides. = es: ', 'Translate from en to es:\\nen: We support the Resolution. = es: ', 'Translate from en to es:\\nen: I support this Resolution. = es: ', 'Translate from en to es:\\nen: Mr Fava is certainly to be commended. = es: ', 'Translate from en to es:\\nen: Nonetheless, the law is not working. = es: ', 'Translate from en to es:\\nen: Do not complain that the Union... = es: ', 'Translate from en to es:\\nen: Do you not understand this? = es: ', 'Translate from en to es:\\nen: We also discussed the Eastern Partnership this morning. = es: ', 'Translate from en to es:\\nen: Did they not have that trillion? = es: ', 'Translate from en to es:\\nen: I support them. = es: ', 'Translate from en to es:\\nen: There is no such response from the political class. = es: ', 'Translate from en to es:\\nen: That is not solidarity, that is hypocrisy. = es: ', 'Translate from en to es:\\nen: This is an important area of macroregional cooperation. = es: ', 'Translate from en to es:\\nen: I stress the word ‘ inconvenience ’. = es: ', 'Translate from en to es:\\nen: I would like to ask the Commissioner for a reply. = es: ', 'Translate from en to es:\\nen: There is one more thing. = es: ', 'Translate from en to es:\\nen: This should all be found in this resolution. = es: ', 'Translate from en to es:\\nen: That is what I wish for everyone. = es: ', 'Translate from en to es:\\nen: My conclusions are as follows. = es: ', 'Translate from en to es:\\nen: I think it would be a good idea. = es: ', 'Translate from en to es:\\nen: Therefore, I would like to say one more thing. = es: ', 'Translate from en to es:\\nen: All the rest is a matter for the free market. = es: ', 'Translate from en to es:\\nen: Of course, promotion is not everything. = es: ', 'Translate from en to es:\\nen: Liberty will triumph in Cuba. = es: ', 'Translate from en to es:\\nen: Was that a joke? = es: ', 'Translate from en to es:\\nen: However, Europeana is not such an entity. = es: ', 'Translate from en to es:\\nen: How do you assess the programme? = es: ', 'Translate from en to es:\\nen: Nevertheless, something must be done. = es: ', 'Translate from en to es:\\nen: Thank you very much. = es: ', 'Translate from en to es:\\nen: We would like it to be a European diplomacy. = es: ', 'Translate from en to es:\\nen: This will enable you to be effective. = es: ', 'Translate from en to es:\\nen: The second matter is that of representativeness. = es: ', 'Translate from en to es:\\nen: This is something which we should guarantee. = es: ', 'Translate from en to es:\\nen: We have to remember the Union ’ s fundamental principles. = es: ', 'Translate from en to es:\\nen: It is time to act upon this report. = es: ', 'Translate from en to es:\\nen: Bureaucracy must not ruin us. = es: ', 'Translate from en to es:\\nen: Greater authority involves greater responsibility. = es: ', 'Translate from en to es:\\nen: The dying cannot wait. = es: ', 'Translate from en to es:\\nen: The Union is the largest donor of development aid. = es: ', 'Translate from en to es:\\nen: We should be proud of this. = es: ', 'Translate from en to es:\\nen: I believe that what we are doing is unnecessary. = es: ', 'Translate from en to es:\\nen: Mr President, there are no ideal laws. = es: ', 'Translate from en to es:\\nen: When will this happen? = es: ', 'Translate from en to es:\\nen: Only now are we finding out. = es: ', 'Translate from en to es:\\nen: This is something very important. = es: ', 'Translate from en to es:\\nen: Thank you. = es: ', 'Translate from en to es:\\nen: I would like to conclude with two more comments. = es: ', 'Translate from en to es:\\nen: Thank you very much. = es: ', 'Translate from en to es:\\nen: As a Parliament in a free Europe, we must... = es: ', 'Translate from en to es:\\nen: Now it is the turn of the constitution. = es: ', 'Translate from en to es:\\nen: The world is finally back to rights. = es: ', 'Translate from en to es:\\nen: However, Europe is more than that. = es: ', 'Translate from en to es:\\nen: More needs to be done. = es: ', 'Translate from en to es:\\nen: Crises generate opportunities. = es: ', 'Translate from en to es:\\nen: They are trying to get it under control, and not before time. = es: ', 'Translate from en to es:\\nen: What role will commercial policy play in this context? = es: ', 'Translate from en to es:\\nen: It is that which our society also needs to do. = es: ', 'Translate from en to es:\\nen: Let us move forward with a fair view of the family! = es: ', 'Translate from en to es:\\nen: However, my speech is an appeal. = es: ', 'Translate from en to es:\\nen: End of quotation. = es: ', 'Translate from en to es:\\nen: End of quotation. = es: ', 'Translate from en to es:\\nen: End of quotation. = es: ', 'Translate from en to es:\\nen: It is clear that this is not the answer. = es: ', 'Translate from en to es:\\nen: Europe is our home. = es: ', 'Translate from en to es:\\nen: This is certainly true of the Treaty of Lisbon. = es: ', 'Translate from en to es:\\nen: Has the President of the Commission been taking any action? = es: ', 'Translate from en to es:\\nen: We cannot agree with this proposal. = es: ', 'Translate from en to es:\\nen: The financial and economic crisis is also a social crisis. = es: ', 'Translate from en to es:\\nen: We consider these results to be very positive as well. = es: ', 'Translate from en to es:\\nen: What would we expect from the EU? = es: ', 'Translate from en to es:\\nen: Solidarity. = es: ', 'Translate from en to es:\\nen: It is feared that the number of victims could increase. = es: ', 'Translate from en to es:\\nen: However, it is now necessary to look forwards. = es: ', 'Translate from en to es:\\nen: There are some principles and practices to be safeguarded. = es: ', 'Translate from en to es:\\nen: Congratulations to the rapporteurs on their work. = es: ', 'Translate from en to es:\\nen: We must do this or risk compromising our future. = es: ', 'Translate from en to es:\\nen: We must face the facts. = es: ', 'Translate from en to es:\\nen: There are three issues that must be tackled. = es: ', 'Translate from en to es:\\nen: That is why this issue is so relevant. = es: ', 'Translate from en to es:\\nen: The creation of the European Monetary Fund is crucial. = es: ', 'Translate from en to es:\\nen: He is a human rights defender. = es: ', 'Translate from en to es:\\nen: That is why we need to continue to improve these measures. = es: ', 'Translate from en to es:\\nen: These regions are huge reservoirs of important resources. = es: ', 'Translate from en to es:\\nen: We have to give something back. = es: ', 'Translate from en to es:\\nen: I would like to make two proposals. = es: ', 'Translate from en to es:\\nen: My second proposal concerns energy. = es: ', 'Translate from en to es:\\nen: We have to take account of the positive experiences of the regions. = es: ', 'Translate from en to es:\\nen: This way, it seems as though we are always starting from square one. = es: ', 'Translate from en to es:\\nen: We will be equally active, but without concessions. = es: ', 'Translate from en to es:\\nen: How are we going to support it? = es: ', 'Translate from en to es:\\nen: What will be the basis for it? = es: ', 'Translate from en to es:\\nen: The Commission and the new President must uphold this agenda. = es: ', 'Translate from en to es:\\nen: I hope that you will succeed in your objectives. = es: ', 'Translate from en to es:\\nen: The Commission explained to us that this would be impossible to achieve. = es: ', 'Translate from en to es:\\nen: I would like to mention something else with regard to this commitment. = es: ', 'Translate from en to es:\\nen: Thank you also for your support. = es: ', 'Translate from en to es:\\nen: We cannot accept this. = es: ', 'Translate from en to es:\\nen: I sincerely hope … = es: ', 'Translate from en to es:\\nen: It is vital that this happens. = es: ', 'Translate from en to es:\\nen: I think that is very positive. = es: ', 'Translate from en to es:\\nen: I believe that is what is at stake. = es: ', 'Translate from en to es:\\nen: Cohesion policy is a key policy for the EU. = es: ', 'Translate from en to es:\\nen: I have researched this schooling system myself. = es: ', 'Translate from en to es:\\nen: I am sorry that this report has not been debated. = es: ', 'Translate from en to es:\\nen: In order to achieve these … = es: ', 'Translate from en to es:\\nen: I would like to highlight three important aspects. = es: ', 'Translate from en to es:\\nen: Thank you. = es: ', 'Translate from en to es:\\nen: Romania has a considerable number of such populated settlements. = es: ', 'Translate from en to es:\\nen: However, this development has generated ambivalent attitudes. = es: ', 'Translate from en to es:\\nen: This is an unprecedented abuse. = es: ', 'Translate from en to es:\\nen: Thank you. = es: ', 'Translate from en to es:\\nen: Thank you. = es: ', 'Translate from en to es:\\nen: Competition among operators does not work from this perspective. = es: ', 'Translate from en to es:\\nen: Ultimately, it is always the consumer who pays. = es: ', 'Translate from en to es:\\nen: Is this the best instrument available? = es: ', 'Translate from en to es:\\nen: Please God. = es: ', 'Translate from en to es:\\nen: This is a problem which has a number of different aspects to it. = es: ', 'Translate from en to es:\\nen: This kind of violence is prevalent on a wide scale. = es: ', 'Translate from en to es:\\nen: The second step is the one being taken today. = es: ', 'Translate from en to es:\\nen: Thank you. = es: ', 'Translate from en to es:\\nen: Thank you. = es: ', 'Translate from en to es:\\nen: Thank you. = es: ', 'Translate from en to es:\\nen: The mafia is the major cause of the crisis. = es: ', 'Translate from en to es:\\nen: Starvation is the most powerful electoral factor in history. = es: ', 'Translate from en to es:\\nen: I, too, welcome the Commission ’ s initiative. = es: ', 'Translate from en to es:\\nen: We cannot put up with a similar situation here. = es: ', 'Translate from en to es:\\nen: There is no production method which is 100% safe. = es: ', 'Translate from en to es:\\nen: We will consider every legal option for implementing such a ban. = es: ', 'Translate from en to es:\\nen: I would like to introduce another argument. = es: ', 'Translate from en to es:\\nen: We actually do not know the exact figure. = es: ', 'Translate from en to es:\\nen: However, we cannot just stop at this. = es: ', 'Translate from en to es:\\nen: measures of this kind. = es: ', 'Translate from en to es:\\nen: The era of cheap crude oil has gone. = es: ', 'Translate from en to es:\\nen: These hospitals are supposedly unprofitable. = es: ', 'Translate from en to es:\\nen: Why is this? = es: ', 'Translate from en to es:\\nen: The answer according to the rules is ‘ yes ’. = es: ', 'Translate from en to es:\\nen: Neither one nor the other can operate without each other. = es: ', 'Translate from en to es:\\nen: I therefore believe that we are on the right track. = es: ', 'Translate from en to es:\\nen: In actual fact, I do not feel that everything is absolutely fine. = es: ', 'Translate from en to es:\\nen: Today, every day, we are moving in that direction. = es: ', 'Translate from en to es:\\nen: One example is the Southern Corridor. = es: ', 'Translate from en to es:\\nen: We cannot. = es: ', 'Translate from en to es:\\nen: Who is going to pay for all this? = es: ', 'Translate from en to es:\\nen: This has not happened everywhere. = es: ', 'Translate from en to es:\\nen: Little or nothing has been done. = es: ', 'Translate from en to es:\\nen: In this case, too, a good example has not been set. = es: ', 'Translate from en to es:\\nen: Is this how the Commission respects directives? = es: ', 'Translate from en to es:\\nen: Ten years have gone by and the deaths have continued. = es: ', 'Translate from en to es:\\nen: The Member States and Europe must guarantee security. = es: ', 'Translate from en to es:\\nen: Think of Guantánamo. = es: ', 'Translate from en to es:\\nen: Europe is the fatherland of rights. = es: ', 'Translate from en to es:\\nen: Mobility is now a right. = es: ', 'Translate from en to es:\\nen: The Council should take it into proper account. = es: ', 'Translate from en to es:\\nen: We need an effective and ongoing policy. = es: ', 'Translate from en to es:\\nen: There are still many problems to be dealt with. = es: ', 'Translate from en to es:\\nen: It is an ongoing environmental disaster. = es: ', 'Translate from en to es:\\nen: It must do everything it can to achieve these goals. = es: ', 'Translate from en to es:\\nen: This is the challenge we face. = es: ', 'Translate from en to es:\\nen: I now turn to the report. = es: ', 'Translate from en to es:\\nen: We accepted the request. = es: ', 'Translate from en to es:\\nen: No information and no members of parliament are allowed in. = es: ', 'Translate from en to es:\\nen: Europe looks on passively. = es: ', 'Translate from en to es:\\nen: This is the most significant political fact. = es: ', 'Translate from en to es:\\nen: It would be extremely dangerous to make distinctions. = es: ', 'Translate from en to es:\\nen: Cesare Battisti is not a political refugee. = es: ', 'Translate from en to es:\\nen: History demands it of us. = es: ', 'Translate from en to es:\\nen: It will be difficult. = es: ', 'Translate from en to es:\\nen: This method should be changed. = es: ', 'Translate from en to es:\\nen: That is why we voted in favour of it. = es: ', 'Translate from en to es:\\nen: It is time to stop talking. = es: ', 'Translate from en to es:\\nen: The European Union needs to make its presence felt. = es: ', 'Translate from en to es:\\nen: In today ’ s texts, we have this. = es: ', 'Translate from en to es:\\nen: Europe wants to do organised crime an enormous favour. = es: ']\n",
            "['Translate from en to es:\\nen: Do we want to liberalise the markets? = es:  ¿Queremos liberalizar los mercados?\\n', 'Translate from en to es:\\nen: However, this does not mean dismantling them. = es:  Sin embargo, esto no significa desmantelarlos.\\n', 'Translate from en to es:\\nen: I will now start. = es:  Ahora voy a empezar.\\n', 'Translate from en to es:\\nen: The international community cannot remain impassive. = es:  La comunidad internacional no puede permanecer indiferente.\\n', 'Translate from en to es:\\nen: Nonetheless, there must be a balanced outcome. = es:  Sin embargo, debe haber un resultado equilibrado.\\n', 'Translate from en to es:\\nen: We now know what he wanted it for. = es:  Ahora sabemos por qué lo quería.\\n', 'Translate from en to es:\\nen: Secondly, some of your suggestions are inadvisable. = es:  En segundo lugar, algunas de sus sugerencias son inadmisibles.\\n', 'Translate from en to es:\\nen: This would not do. = es:  No es lo que se necesita.\\n', 'Translate from en to es:\\nen: I cannot, therefore, agree with you on this point. = es:  Por tanto, no puedo coincidir con usted en este punto.\\n', 'Translate from en to es:\\nen: It can already be seen, Mr Cappato. = es:  Ya puede verse, señor Cappato.\\n', 'Translate from en to es:\\nen: Thank you for your generosity, Mr President. = es:  Gracias por su generosidad, señor Presidente.\\n', 'Translate from en to es:\\nen: The ideal solution would be to use physical means. = es:  La solución ideal sería utilizar medios físicos.\\n', 'Translate from en to es:\\nen: I think the task is quite a difficult one. = es:  Creo que el trabajo es bastante difícil.\\n', 'Translate from en to es:\\nen: I am pleased at that. = es:  Me alegra que así sea.\\n', 'Translate from en to es:\\nen: This is by no means the case. = es:  No es así en absoluto.\\n', 'Translate from en to es:\\nen: Many thanks, that is all. = es:  Muchas gracias, eso es todo.\\n', 'Translate from en to es:\\nen: We already have an established law at the national level. = es:  Ya tenemos una ley establecida a nivel nacional.\\n', 'Translate from en to es:\\nen: I believe that we should congratulate ourselves. = es:  Creo que debemos felicitarnos.\\n', 'Translate from en to es:\\nen: It is a shame that no one listened to us. = es:  Es una pena que nadie nos haya escuchado.\\n', 'Translate from en to es:\\nen: Perhaps you should do so now. = es:  Tal vez debería hacerlo ahora mismo.\\n', 'Translate from en to es:\\nen: We really owe it to all the victims. = es:  Debemos hacerlo por todos los víctimas.\\n', 'Translate from en to es:\\nen: It is a real problem. = es:  Es un problema real.\\n', 'Translate from en to es:\\nen: We have that right. = es:  Tenemos ese derecho.\\n', 'Translate from en to es:\\nen: You can count on our solidarity. = es:  Podemos contar con nuestra solidaridad.\\n', 'Translate from en to es:\\nen: Women for Zapatero! = es:  ¡Mujeres por Zapatero!\\n', 'Translate from en to es:\\nen: This text does, however, have significant added value. = es:  Sin embargo, este texto tiene valor añadido.\\n', 'Translate from en to es:\\nen: The judgment of history is clear. = es:  La historia ha sido clara.\\n', 'Translate from en to es:\\nen: The ruins of the homeland are safe. = es:  Los cenizas de la patria están a salvo.\\n', 'Translate from en to es:\\nen: Do not worry comrades. = es:  No se preocupen, compañeros.\\n', 'Translate from en to es:\\nen: Now we are going. = es:  Ahora nos vamos.\\n', 'Translate from en to es:\\nen: I am delighted at what Mr Cioloş had to say. = es:  Me alegro de lo que ha dicho el señor Cioloş.\\n', 'Translate from en to es:\\nen: Let us therefore be consistent. = es:  Por tanto, debemos ser consistentes.\\n', 'Translate from en to es:\\nen: This is one of the two conditions. = es:  Esto es uno de los dos requisitos.\\n', 'Translate from en to es:\\nen: Indeed it is. = es:  De hecho, lo es.\\n', 'Translate from en to es:\\nen: The truth is that there is a great deal at stake. = es:  La verdad es que hay mucho en juego.\\n', 'Translate from en to es:\\nen: Since then, we have been trying to resolve this issue. = es:  Desde entonces, hemos estado tratando de resolver este problema.\\n', 'Translate from en to es:\\nen: We have not managed to do so. = es:  No hemos conseguido ello.\\n', 'Translate from en to es:\\nen: They almost never have rooms and they never have interpretation. = es:  Raras veces tienen habitaciones y nunca tienen traducción.\\n', 'Translate from en to es:\\nen: This is not enough. = es:  No es suficiente.\\n', 'Translate from en to es:\\nen: We have an opportunity. = es:  Tenemos una oportunidad.\\n', 'Translate from en to es:\\nen: public freedoms. = es:  libertades públicas.\\n', 'Translate from en to es:\\nen: What is the point of the Alliance of Civilisations? = es:  ¿Qué es lo que tiene la Alianza de Civilizaciones?\\n', 'Translate from en to es:\\nen: That is how it should be. = es:  Debería ser así.\\n', 'Translate from en to es:\\nen: Talking does not cost anything, but we need to act. = es:  Hablar no cuesta nada, pero tenemos que actuar.\\n', 'Translate from en to es:\\nen: I do not believe it is. = es:  No creo que lo sea.\\n', 'Translate from en to es:\\nen: We are worth the same and deserve the same. = es:  Valoramos lo mismo y merecemos lo mismo.\\n', 'Translate from en to es:\\nen: The parliamentary passage of this report is not over, therefore. = es:  El paso parlamentario de este informe no ha terminado, por tanto.\\n', 'Translate from en to es:\\nen: The initial draft was a bad one. = es:  El primer borrador era un malo.\\n', 'Translate from en to es:\\nen: That is not enough. = es:  Eso no es suficiente.\\n', 'Translate from en to es:\\nen: Europe is the right stage for this purpose. = es:  Europa es el escenario adecuado para este fin.\\n', 'Translate from en to es:\\nen: And I ask for the control systems to be reviewed. = es:  Y pido que se revisen los sistemas de control.\\n', 'Translate from en to es:\\nen: And for Mrs Merkel to accept responsibility. = es:  Y que la señora Merkel asuma la responsabilidad.\\n', 'Translate from en to es:\\nen: She cannot ignore the fact that Hamburg is in her country. = es:  No puede ignorar que Hamburgo está en su país.\\n', 'Translate from en to es:\\nen: She cannot ignore her responsibilities. = es:  No puede ignorar sus responsabilidades.\\n', 'Translate from en to es:\\nen: An epidemic knows no frontiers. = es:  Una epidemia no tiene fronteras.\\n', 'Translate from en to es:\\nen: We ask for compensation. = es:  Preguntamos por la indemnización.\\n', 'Translate from en to es:\\nen: It is Germany that has a serious credibility problem. = es:  Es Alemania la que tiene un problema de credibilidad serio.\\n', 'Translate from en to es:\\nen: She is nothing of the sort: she lacks moral fibre. = es:  No es así: carece de moralidad.\\n', 'Translate from en to es:\\nen: We can no longer close our eyes to the situation. = es:  Ya no podemos ignorar la situación.\\n', 'Translate from en to es:\\nen: Some may say these ideas are elementary. = es:  Algunos dirán que estas ideas son elementales.\\n', 'Translate from en to es:\\nen: Therefore, EU support is necessary. = es:  Por tanto, el apoyo de la UE es necesario.\\n', 'Translate from en to es:\\nen: I hope that the Council will take note of this. = es:  Espero que el Consejo tome en consideración esto.\\n', 'Translate from en to es:\\nen: The spread of aquaculture is important. = es:  La expansión de la acuicultura es importante.\\n', 'Translate from en to es:\\nen: None of this has come to pass. = es:  Nada de esto ha ocurrido.\\n', 'Translate from en to es:\\nen: Let us move on to some details. = es:  Ahora vamos a pasar a los detalles.\\n', 'Translate from en to es:\\nen: Goodbye, then, to the Spanish Presidency. = es:  Adiós, entonces, a la Presidencia española.\\n', 'Translate from en to es:\\nen: Unlike me, you have had time to talk about them. = es:  A diferencia de mí, usted ha tenido tiempo de hablar de ellos.\\n', 'Translate from en to es:\\nen: I have a general thought. = es:  Tengo una idea general.\\n', 'Translate from en to es:\\nen: No, a thousand times no. = es:  No, mil veces no.\\n', 'Translate from en to es:\\nen: At the moment, projects drag on endlessly. = es:  En la actualidad, los proyectos se prolongan indebidamente.\\n', 'Translate from en to es:\\nen: This must be done without delay and without waiting any longer. = es:  Debe hacerse sin demora y sin esperar más.\\n', 'Translate from en to es:\\nen: It is a disappointing outcome. = es:  Es un resultado desalentador.\\n', 'Translate from en to es:\\nen: Why not? = es:  ¿Por qué no?\\n', 'Translate from en to es:\\nen: It deserves that. = es:  Esa es la razón.\\n', 'Translate from en to es:\\nen: The courage shown by newspaper is also commendable. = es:  La valentía mostrada por el periódico también merece elogio', 'Translate from en to es:\\nen: An election campaign is about to begin in Spain. = es:  Ya se va a iniciar una campaña electoral en España.\\n', 'Translate from en to es:\\nen: Let us reinvigorate our values. = es:  Reinvigoremos nuestros valores.\\n', 'Translate from en to es:\\nen: Valencian farmers do not live off subsidies. = es:  Los agricultores valencianos no viven de subsidios.\\n', 'Translate from en to es:\\nen: That is real justice. = es:  Eso es justicia real.\\n', 'Translate from en to es:\\nen: This is not our intention. = es:  No es nuestra intención.\\n', 'Translate from en to es:\\nen: For that, I congratulate her. = es:  Por eso, felicito a la señora.\\n', 'Translate from en to es:\\nen: Something is going on, and it is quite obvious. = es:  Se está produciendo algo y es bastante obvio.\\n', 'Translate from en to es:\\nen: Where do we do all of this? = es:  ¿Dónde hacemos todo esto?\\n', 'Translate from en to es:\\nen: Well, in the next CAP reform, of course. = es:  Bueno, en la próxima reforma de la PAC.\\n', 'Translate from en to es:\\nen: Good luck, Venezuela! = es:  ¡Buena suerte, Venezuela!\\n', 'Translate from en to es:\\nen: There is still much to be done. = es:  Aún queda mucho por hacer.\\n', 'Translate from en to es:\\nen: It is clear that the current agreement does not do this. = es:  Es evidente que el acuerdo actual no lo hace.\\n', 'Translate from en to es:\\nen: These products are primarily Moroccan tomatoes. = es:  Estos productos son principalmente tomates marroquíes.\\n', 'Translate from en to es:\\nen: We have come a long way but there is a lot left to do. = es:  Hemos avanzado mucho pero hay mucho por hacer.\\n', 'Translate from en to es:\\nen: That is the risk. = es:  Ese es el riesgo.\\n', 'Translate from en to es:\\nen: My country, Spain, has only just embarked on this experience. = es:  Mi país, España, solo ha empezado a vivir esta experiencia.\\n', 'Translate from en to es:\\nen: These cases, however, are of urgent need. = es:  Sin embargo, estos casos son de urgencia.\\n', 'Translate from en to es:\\nen: Naturally, we do not welcome any of these references. = es:  Naturalmente, no nos gusta ninguna de estas referencias.\\n', 'Translate from en to es:\\nen: That is the case with agriculture. = es:  Eso es así en el campo de la agricultura.\\n', 'Translate from en to es:\\nen: We have therefore called for two things. = es:  Por eso hemos pedido dos cosas.\\n', 'Translate from en to es:\\nen: Nothing could be further from the truth. = es:  Nada podría ser más alejado de la verdad.\\n', 'Translate from en to es:\\nen: existing mechanisms. = es:  existentes.\\n', 'Translate from en to es:\\nen: Allow me to do so with you this evening. = es:  Permítanme hacerlo con usted esta noche.\\n', 'Translate from en to es:\\nen: This, then, is the point I am trying to make. = es:  Esa es la conclusión que quiero hacer.\\n', 'Translate from en to es:\\nen: I do not know if I am dreaming, ladies and gentlemen. = es:  No sé si estoy soñando, señorías.\\n', 'Translate from en to es:\\nen: This is your opportunity. = es:  Esta es su oportunidad.\\n', 'Translate from en to es:\\nen: As I have already said, it is the time to support Europe. = es:  Como ya he dicho, es el momento de apoyar a Europa.\\n', 'Translate from en to es:\\nen: Moreover, their capacity for regeneration is very limited. = es:  Además, su capacidad de regeneración es muy limitada.\\n', 'Translate from en to es:\\nen: The Treaty is very clear. = es:  El Tratado es muy claro.\\n', 'Translate from en to es:\\nen: Sensitive areas must be protected. = es:  Se debe proteger a las zonas sensibles.\\n', 'Translate from en to es:\\nen: However, not all areas are equally sensitive. = es:  Sin embargo, no todas las áreas son igualmente sensibles.\\n', 'Translate from en to es:\\nen: citizens, want. = es:  los ciudadanos, los desean.\\n', 'Translate from en to es:\\nen: I would like to highlight the participation of the public. = es:  Quisiera destacar la participación del público.\\n', 'Translate from en to es:\\nen: Is he familiar with the Spanish Constitution? = es:  ¿Conoce el texto de la Constitución española?\\n', 'Translate from en to es:\\nen: The figures speak for themselves. = es:  Las cifras hablan por sí mismas.\\n', 'Translate from en to es:\\nen: Social dialogue is vital. = es:  El diálogo social es vital.\\n', 'Translate from en to es:\\nen: Thank you, all four rapporteurs. = es:  Gracias a todos los cuatro ponentes.\\n', 'Translate from en to es:\\nen: That should be our approach. = es:  Deberíamos adoptar este enfoque.\\n', 'Translate from en to es:\\nen: The third point is simplification. = es:  El tercer punto es la simplificación.\\n', 'Translate from en to es:\\nen: We do not want everyone trying to go their own way. = es:  No queremos que todos sean independientes.\\n', 'Translate from en to es:\\nen: We must ensure that this gap is reduced. = es:  Debemos asegurarnos de que este desequilibrio se reduzca.', 'Translate from en to es:\\nen: That would certainly be a sound instrument. = es:  Eso sería un instrumento muy eficaz.\\n', 'Translate from en to es:\\nen: These are things which are often lumped together. = es:  Estas cosas suelen agruparse.\\n', 'Translate from en to es:\\nen: However, this is not fraud, but wastefulness. = es:  Sin embargo, esto no es el fraude, sino la desperdicia.\\n', 'Translate from en to es:\\nen: There was a silence, a taboo. = es:  Había un silencio, un tabú.\\n', 'Translate from en to es:\\nen: The European Parliament considers this unacceptable. = es:  El Parlamento Europeo considera esto inaceptable.\\n', 'Translate from en to es:\\nen: Thank you very much. = es:  Muchas gracias.\\n', 'Translate from en to es:\\nen: Not everything can be measured by the same yardstick. = es:  No todo puede medirse con el mismo palo.\\n', 'Translate from en to es:\\nen: Do you know what this is? = es:  ¿Sabe usted qué es esto?\\n', 'Translate from en to es:\\nen: Mr President, I want to keep this short. = es:  Señor Presidente, quiero mantenerlo breve.\\n', 'Translate from en to es:\\nen: I have a lot of sympathy for that. = es:  Tengo mucho cariño por eso.\\n', 'Translate from en to es:\\nen: This is something that we can talk about. = es:  Esto es algo que podemos hablar.\\n', 'Translate from en to es:\\nen: The problem is that that is exactly what we have not done. = es:  El problema es que no hemos hecho exactamente eso.\\n', 'Translate from en to es:\\nen: What we need is exactly the opposite. = es:  Lo que necesitamos es lo contrario.\\n', 'Translate from en to es:\\nen: The first public hearing is due to take place on 31 March. = es:  La primera audiencia pública se celebrará el 31 de marzo.\\n', 'Translate from en to es:\\nen: The most important of these have already been mentioned. = es:  Las más importantes ya han sido mencionadas.\\n', 'Translate from en to es:\\nen: We have already heard about all of this. = es:  Ya hemos oído todo esto.\\n', 'Translate from en to es:\\nen: Who are you aiming to pillory for this? = es:  ¿Quiénes van a ser los que se pongan en ridículo?\\n', 'Translate from en to es:\\nen: A brief remark on cloning. = es:  Un breve comentario sobre la clonación.\\n', 'Translate from en to es:\\nen: Madam President, it is perfectly simple. = es:  Señora Presidenta, es perfectamente simple.\\n', 'Translate from en to es:\\nen: We need an instrument to deal with this problem. = es:  Necesitamos un instrumento para hacer frente a este problema.\\n', 'Translate from en to es:\\nen: In my opinion, it is right to consider something like this. = es:  En mi opinión, es correcto considerar algo así.\\n', 'Translate from en to es:\\nen: This is just one of the many improvements proposed. = es:  Esto es solo uno de los muchos cambios propuestos.\\n', 'Translate from en to es:\\nen: Thank you for your positive cooperation. = es:  Gracias por su colaboración positiva.\\n', 'Translate from en to es:\\nen: We have lost a lot of money. = es:  Hemos perdido mucho dinero.\\n', 'Translate from en to es:\\nen: Let me explain how I arrived at this image. = es:  Permítanme explicar cómo he llegado a esta imagen.\\n', 'Translate from en to es:\\nen: The fund is too small to achieve anything. = es:  El fondo es demasiado pequeño para lograr nada.\\n', 'Translate from en to es:\\nen: We need to find something better. = es:  Tenemos que encontrar algo mejor.\\n', 'Translate from en to es:\\nen: Why exactly? = es:  ¿Por qué?\\n', 'Translate from en to es:\\nen: We do not all need to reinvent the bicycle. = es:  No todos tenemos que reinventar el bicicleta.\\n', 'Translate from en to es:\\nen: They are important to the attractiveness of a town. = es:  Son importantes para la atractividad de una ciudad.\\n', 'Translate from en to es:\\nen: That would take some of the strain off a city. = es:  Esto aliviaría la carga de una ciudad.\\n', 'Translate from en to es:\\nen: It is also important to take account of demographic change. = es:  Es importante tener en cuenta el cambio demográfico.\\n', 'Translate from en to es:\\nen: Our society is constantly ageing. = es:  Nuestra sociedad se está envejeciendo constantemente.\\n', 'Translate from en to es:\\nen: Anything else would simply promote the countryside. = es:  Lo demás solo promovería la campiña.\\n', 'Translate from en to es:\\nen: We do not need an urban mobility observatory. = es:  No necesitamos un observatorio de la movilidad urbana.\\n', 'Translate from en to es:\\nen: It also safeguards the use of personal data. = es:  También protege el uso de datos personales.\\n', 'Translate from en to es:\\nen: A revision of the current regulation was necessary. = es:  Una revisión de la actual regulación era necesaria.\\n', 'Translate from en to es:\\nen: However, this dialogue must be conducted honestly. = es:  Sin embargo, este diálogo debe ser honesto.\\n', 'Translate from en to es:\\nen: What is your position on this? = es:  ¿Cuál es su posición en este asunto?\\n', 'Translate from en to es:\\nen: How is it currently being dealt with? = es:  ¿Cómo se está tratando actualmente?\\n', 'Translate from en to es:\\nen: Hopefully, they would also find out what you did five years ago. = es:  Espero que también descubran lo que hiciste hace cinco años.\\n', 'Translate from en to es:\\nen: I believe that is very, very little. = es:  Creo que es muy poco.\\n', 'Translate from en to es:\\nen: There is no joint proposal for this election. = es:  No hay propuesta conjunta para esta elección.\\n', 'Translate from en to es:\\nen: This is where Stockholm fails. = es:  Esto es donde falla Estocolmo.\\n', 'Translate from en to es:\\nen: Are there adequate controls? = es:  ¿Hay controles adecuados?\\n', 'Translate from en to es:\\nen: Unemployment cannot be lastingly combated in this way. = es:  No se puede combatir de esta forma el paro a largo plazo.\\n', 'Translate from en to es:\\nen: In this form, we will reject this programme. = es:  En esta forma, rechazaremos este programa.\\n', 'Translate from en to es:\\nen: Time is running out! = es:  ¡El tiempo se está acabando!\\n', 'Translate from en to es:\\nen: The choice is between the market and social policy. = es:  El debate es entre el mercado y la política social.\\n', 'Translate from en to es:\\nen: This is the case of Aminatou Haidar. = es:  Este es el caso de Aminatou Haidar.\\n', 'Translate from en to es:\\nen: That was my first request, Mr President. = es:  Ese fue mi primer pedido, señor Presidente.\\n', 'Translate from en to es:\\nen: The second request will follow immediately. = es:  El segundo pedido vendrá inmediatamente después.\\n', 'Translate from en to es:\\nen: That is my personal opinion on the matter. = es:  Es mi opinión personal sobre el tema.\\n', 'Translate from en to es:\\nen: Do you have an opinion on this? = es:  ¿Tiene una opinión sobre esto?\\n', 'Translate from en to es:\\nen: Europe must actively involve itself here. = es:  Europa debe involucrarse activamente en ello.\\n', 'Translate from en to es:\\nen: We need cooperation, not confrontation. = es:  Necesitamos cooperación, no confrontación.\\n', 'Translate from en to es:\\nen: I would like to put that in a political context. = es:  Quisiera ponerlo en el contexto político.\\n', 'Translate from en to es:\\nen: I would like to ask you to reconsider this. = es:  Me gustaría que reconsiderara esta decisión.\\n', 'Translate from en to es:\\nen: I would like to ask you to reconsider this. = es:  Me gustaría que reconsiderara esta decisión.\\n', 'Translate from en to es:\\nen: Did Mrs Malmström explain this to you? = es:  ¿Se lo ha explicado a usted la señora Malmström?\\n', 'Translate from en to es:\\nen: It did not answer my question, however. = es:  No obstante, no me ha respondido.\\n', 'Translate from en to es:\\nen: I would be grateful if you could answer precisely. = es:  Me gustaría que respondiera con precisión.\\n', 'Translate from en to es:\\nen: Our view of the situation is exactly the same. = es:  Nuestra visión de la situación es exactamente la misma.\\n', 'Translate from en to es:\\nen: This is why we are supporting this motion. = es:  Por eso apoyamos esta moción.\\n', 'Translate from en to es:\\nen: Why is that? = es:  ¿Por qué?\\n', 'Translate from en to es:\\nen: I believe this is the challenge. = es:  Creo que esto es el reto.\\n', 'Translate from en to es:\\nen: The two things cannot be compared. = es:  Las dos cosas no pueden compararse.\\n', 'Translate from en to es:\\nen: They have deformed extremities and organs. = es:  Tienen extremidades y órganos deformados.\\n', 'Translate from en to es:\\nen: Can we accept responsibility for this? = es:  ¿Podemos asumir la responsabilidad por esto?\\n', 'Translate from en to es:\\nen: This is a consistent approach. = es:  Se trata de una postura consistente.\\n', 'Translate from en to es:\\nen: Of course, it must also apply to imports. = es:  Por supuesto, también debe aplicarse a las importaciones.\\n', 'Translate from en to es:\\nen: This is a fundamental, ethical question. = es:  Se trata de una cuestión fundamental, ética.\\n', 'Translate from en to es:\\nen: I do not want to and I am not able to. = es:  No quiero y no puedo.\\n', 'Translate from en to es:\\nen: I do not believe that this is an exaggerated horror story. = es:  No creo que sea una historia de horror exagerada.\\n', 'Translate from en to es:\\nen: We can push this through. = es:  Podemos impulsar este proyecto.\\n', 'Translate from en to es:\\nen: In any case, we need a one-stop shop. = es:  En cualquier caso, necesitamos un único punto de encuentro.\\n', 'Translate from en to es:\\nen: That is not the case, however. = es:  Sin embargo, no es así.\\n', 'Translate from en to es:\\nen: Cities are an important driving force behind development in Europe. = es:  Las ciudades son una fuerza impulsora importante para el desarrollo en Europa.\\n', 'Translate from en to es:\\nen: Is this still the case? = es:  ¿Es esto todavía así?\\n', 'Translate from en to es:\\nen: If so, what percentage were you thinking of? = es:  ¿Y cuál fue la proporción que se tenía en mente?\\n', 'Translate from en to es:\\nen: Ireland shows that this is not the case. = es:  Irlanda demuestra que esto no es así.\\n', 'Translate from en to es:\\nen: It is very important; action needs to be taken quickly. = es:  Es muy importante; se necesita actuar con rapidez.\\n', 'Translate from en to es:\\nen: Our patients expect it. = es:  Nuestros pacientes esperan que lo hagamos.\\n', 'Translate from en to es:\\nen: Then we will have done a good job. = es:  Entonces habremos hecho un buen trabajo.\\n', 'Translate from en to es:\\nen: Indeed, why should they? = es:  De hecho, ¿por qué deberían?\\n', 'Translate from en to es:\\nen: Our industry is investing money and manpower in development. = es:  Nuestra industria está invirtiendo dinero y mano de obra en el desarrollo.\\n', 'Translate from en to es:\\nen: I am a farmer by profession. = es:  Yo soy agricultor por profesión.\\n', 'Translate from en to es:\\nen: I am already looking forward to your proposal. = es:  Ya estoy esperando su propuesta.\\n', 'Translate from en to es:\\nen: We owe this to our citizens. = es:  Debemos esto a nuestros ciudadanos.\\n', 'Translate from en to es:\\nen: There is therefore an urgent need for action. = es:  Por tanto, es necesario actuar con urgencia.\\n', 'Translate from en to es:\\nen: I would like to mention this once again. = es:  Quisiera mencionarlo una vez más.\\n', 'Translate from en to es:\\nen: We will abstain from voting on this amendment. = es:  No votaremos en contra de esta enmienda.\\n', 'Translate from en to es:\\nen: This will lead to significant cost increases. = es:  Esto provocará un aumento significativo de los costes.\\n', 'Translate from en to es:\\nen: I have a request for you, Mr Füle. = es:  Tengo una petición para usted, señor Füle.\\n', 'Translate from en to es:\\nen: More work is urgently needed on this. = es:  Se necesita urgentemente más trabajo en este ámbito.\\n', 'Translate from en to es:\\nen: We are being transported to the concentration camp. = es:  Estamos siendo trasladados al campo de concentración.\\n', 'Translate from en to es:\\nen: Thank you once again for everything that you have done for me. = es:  Gracias otra vez por todo lo que ha hecho por mí.\\n', 'Translate from en to es:\\nen: Greetings to you all. See you in heaven. = es:  Saludos a todos. ¡Vean cómo nos vemos en el cielo', 'Translate from en to es:\\nen: Robert. = es:  Robert.\\n', 'Translate from en to es:\\nen: We see two major problems with this. = es:  Veemos dos grandes problemas con esto.\\n', 'Translate from en to es:\\nen: That is rather dishonest. = es:  Eso es bastante deshonesto.\\n', 'Translate from en to es:\\nen: Or have we obstructed it? = es:  ¿O hemos obstaculizado el proceso?\\n', 'Translate from en to es:\\nen: These instruments are urgently needed. = es:  Estos instrumentos son urgentes.\\n', 'Translate from en to es:\\nen: When will the Commission submit this proposal? = es:  ¿Cuándo presentará la Comisión esta propuesta?\\n', 'Translate from en to es:\\nen: What are you doing to speed things up? = es:  ¿Qué estás haciendo para acelerar las cosas?\\n', 'Translate from en to es:\\nen: How is this being achieved? = es:  ¿Cómo se está logrando?\\n', 'Translate from en to es:\\nen: There have already been deaths and woundings. = es:  Ya han ocurrido muertes y heridas.\\n', 'Translate from en to es:\\nen: Sudan was a failed state. = es:  El Sudán era un estado fallido.\\n', 'Translate from en to es:\\nen: I suppose that this represents some sort of progress. = es:  Supongo que esto representa algún progreso.\\n', 'Translate from en to es:\\nen: We are currently talking about 51 regions. = es:  Actualmente estamos hablando de 51 regiones.\\n', 'Translate from en to es:\\nen: What about conflicts of interest? = es:  ¿Qué hay de conflictos de intereses?\\n', 'Translate from en to es:\\nen: Not all financial innovation is sound. = es:  No todo el innovador financiero es sano.\\n', 'Translate from en to es:\\nen: We are not going to step on your toes. = es:  No vamos a pisarle los talones.\\n', 'Translate from en to es:\\nen: Why did it not include it? = es:  ¿Por qué no lo incluyó?\\n', 'Translate from en to es:\\nen: At present things are not too satisfactory. = es:  En la actualidad las cosas no están demasiado satisfactorias.\\n', 'Translate from en to es:\\nen: The communication contains some worrying messages. = es:  La comunicación contiene algunas alarmantes mensajes.\\n', 'Translate from en to es:\\nen: I would like to thank you for this opportunity. = es:  Quisiera agradecerle esta oportunidad.\\n', 'Translate from en to es:\\nen: What have you in the Council done? = es:  ¿Qué ha hecho el Consejo?\\n', 'Translate from en to es:\\nen: You have to change your position on this line. = es:  Tiene que cambiar su posición en esta línea.\\n', 'Translate from en to es:\\nen: Will you do so? = es:  ¿Lo hará?\\n', 'Translate from en to es:\\nen: To my mind, it makes no economic sense. = es:  Para mi, no tiene sentido económico.\\n', 'Translate from en to es:\\nen: It does not make humanitarian sense. = es:  No tiene sentido humanitario.\\n', 'Translate from en to es:\\nen: The industry is already in serious trouble. = es:  La industria ya está en grave apuros.\\n', 'Translate from en to es:\\nen: For the moment, we do not have this type of quality information. = es:  Por el momento, no disponemos de este tipo de información de calidad.\\n', 'Translate from en to es:\\nen: The problems we face are European. = es:  Los problemas que enfrentamos son europeos.\\n', 'Translate from en to es:\\nen: We did not reach an agreement. = es:  No hemos llegado a un acuerdo.\\n', 'Translate from en to es:\\nen: Let us have some action. = es:  Hagamos algo.\\n', 'Translate from en to es:\\nen: If it does not, it needs changing. = es:  Si no lo hace, necesita cambiarse.\\n', 'Translate from en to es:\\nen: So we have got to be careful about that. = es:  Por eso tenemos que ser cuidadosos.\\n', 'Translate from en to es:\\nen: The first, of course, is jobs. = es:  Naturalmente, el primer punto es los empleos.\\n', 'Translate from en to es:\\nen: It is an aspect of the Internet that needs our attention. = es:  Es un aspecto de la red que necesita nuestra atención.\\n', 'Translate from en to es:\\nen: We have to make sure that minorities also feel protected. = es:  Tenemos que asegurarnos de que las minorías también se sientan prote', 'Translate from en to es:\\nen: I would just like briefly to explain why. = es:  Solo quiero explicar brevemente por qué.\\n', 'Translate from en to es:\\nen: That is why Amendment 81 is so important. = es:  Por eso, la enmienda 81 es tan importante.\\n', 'Translate from en to es:\\nen: So I think it should be included. = es:  Por tanto, creo que debería incluirse.\\n', 'Translate from en to es:\\nen: This is a good report. = es:  Este es un buen informe.\\n', 'Translate from en to es:\\nen: The situation has got much worse since then. = es:  La situación ha empeorado desde entonces.\\n', 'Translate from en to es:\\nen: With this ban we are failing in both areas. = es:  Con esta prohibición estamos fallando en ambos aspectos.\\n', 'Translate from en to es:\\nen: We should bear that in mind. = es:  Debemos tenerlo en cuenta.\\n', 'Translate from en to es:\\nen: There is no easy response to this issue either. = es:  No hay respuesta fácil a esta cuestión.\\n', 'Translate from en to es:\\nen: If there was, some country would have found it by now. = es:  Si hubiera, algún país lo habría encontrado ya.\\n', 'Translate from en to es:\\nen: That is our challenge today. = es:  Ese es nuestro desafío hoy.\\n', 'Translate from en to es:\\nen: Four months later: nothing. = es:  Cuatro meses después: nada.\\n', 'Translate from en to es:\\nen: Three quick points. = es:  Tres puntos rápidos.\\n', 'Translate from en to es:\\nen: It is actually a major opener. = es:  En realidad, es un gran abreviador.\\n', 'Translate from en to es:\\nen: The study was paid for by Parliament. = es:  El estudio fue financiado por el Parlamento.\\n', 'Translate from en to es:\\nen: Under the current treaty rules, we are merely consulted. = es:  Según las reglas del Tratado, solo nos consultan.\\n', 'Translate from en to es:\\nen: Many of them are prepared to start immediately. = es:  Muchos de ellos están preparados para empezar de inmediato.\\n', 'Translate from en to es:\\nen: It would have strengthened them. = es:  Esto habría fortalecido a los países.\\n', 'Translate from en to es:\\nen: They wanted that. = es:  Ellos lo quisieron.\\n', 'Translate from en to es:\\nen: Why hide behind the Commission? = es:  ¿Por qué escondirse detrás de la Comisión?\\n', 'Translate from en to es:\\nen: The lack of reciprocity is not being addressed. = es:  No se está abordando la falta de reciprocidad.\\n', 'Translate from en to es:\\nen: Tell me; I am all ears. = es:  Dígamelo; estoy a su disposición.\\n', 'Translate from en to es:\\nen: But you could not do even this today. = es:  Pero hoy no podría hacer ni esto.\\n', 'Translate from en to es:\\nen: Only some data will go there. = es:  Sólo algunos datos irán allí.\\n', 'Translate from en to es:\\nen: SWIFT tells us that is not the case. = es:  SWIFT nos dice que no es así.\\n', 'Translate from en to es:\\nen: The United States administration tells us that is not the case. = es:  La administración estadounidense nos dice que no es así.\\n', 'Translate from en to es:\\nen: Where are they? = es:  ¿Dónde están?\\n', 'Translate from en to es:\\nen: This is the first major FTA. = es:  Este es el primer gran FTA.\\n', 'Translate from en to es:\\nen: This is a template. = es:  Esto es un modelo.\\n', 'Translate from en to es:\\nen: We need to do it right. = es:  Tenemos que hacerlo bien.\\n', 'Translate from en to es:\\nen: Please do not get me wrong. = es:  No me equivoque.\\n', 'Translate from en to es:\\nen: Employees in the EU deserve better. = es:  Los trabajadores de la UE merecen algo mejor.\\n', 'Translate from en to es:\\nen: That is indeed very disquieting. = es:  Eso sí que es muy inquietante.\\n', 'Translate from en to es:\\nen: We should not let it pass. = es:  No debemos permitir que pase.\\n', 'Translate from en to es:\\nen: That is what we need to answer. = es:  Eso es lo que tenemos que contestar.\\n', 'Translate from en to es:\\nen: Madam President, I supported this report. = es:  Señora Presidenta, he apoyado este informe.\\n', 'Translate from en to es:\\nen: They are furious at the complete lack of transparency. = es:  Están furiosos por la total falta de transparencia.\\n', 'Translate from en to es:\\nen: This is not how it should be in a democracy. = es:  No es así en una democracia.\\n', 'Translate from en to es:\\nen: Criminal groups operate freely in the country. = es:  Grupos criminales operan libremente en el país.\\n', 'Translate from en to es:\\nen: The situation is completely unclear for the local people. = es:  La situación es completamente desconocida para los habitantes locales.\\n', 'Translate from en to es:\\nen: However, these are exceptional circumstances. = es:  Sin embargo, estas son circunstancias excepcionales.\\n', 'Translate from en to es:\\nen: For example, what would be the exact role? = es:  Por ejemplo, ¿qué sería exactamente su papel?\\n', 'Translate from en to es:\\nen: To whom would this person be accountable? = es:  ¿A quién se haría responsable?\\n', 'Translate from en to es:\\nen: How would this improve the current situation? = es:  ¿Cómo mejoraría la situación actual?\\n', 'Translate from en to es:\\nen: We must resist this trend. = es:  Debemos resistir este tendencia.\\n', 'Translate from en to es:\\nen: There are, however, a couple of issues. = es:  Sin embargo, existen algunas cuestiones.\\n', 'Translate from en to es:\\nen: I have some questions on taxes. = es:  Tengo algunas preguntas sobre los impuestos.\\n', 'Translate from en to es:\\nen: This agreement will enhance security on European territory. = es:  Este acuerdo mejorará la seguridad en territorio europeo.\\n', 'Translate from en to es:\\nen: Well done and thank you very much. = es:  Bien hecho y gracias.\\n', 'Translate from en to es:\\nen: Let us try to avoid that. = es:  Intentemos evitarlo.\\n', 'Translate from en to es:\\nen: I do not understand. = es:  No entiendo.\\n', 'Translate from en to es:\\nen: That is our red line. = es:  Ese es nuestro límite rojo.\\n', 'Translate from en to es:\\nen: Please, Council, try again. = es:  Señorías, por favor, intente de nuevo.\\n', 'Translate from en to es:\\nen: Ten years ago, there was nothing. = es:  Diez años atrás, nada.\\n', 'Translate from en to es:\\nen: China is moving and they move fast. = es:  China se mueve y se mueve rápido.\\n', 'Translate from en to es:\\nen: This legislation is essential for Europe. = es:  Esta legislación es esencial para Europa.\\n', 'Translate from en to es:\\nen: So thank you for your comment. = es:  Así que gracias por su comentario.\\n', 'Translate from en to es:\\nen: Caning is a form of torture. = es:  La flagelación es una forma de tortura.\\n', 'Translate from en to es:\\nen: Serbia is a crucial part of that with this commitment... = es:  Serbia es una parte crucial de este compromiso...\\n', 'Translate from en to es:\\nen: I need to have a frank conversation with you. = es:  Tengo que tener una conversación franca con usted.\\n', 'Translate from en to es:\\nen: You were addressing the new generations. = es:  Usted se dirigía a las nuevas generaciones.\\n', 'Translate from en to es:\\nen: The Council has not completed the codecision. = es:  El Consejo no ha finalizado la tramitación.\\n', 'Translate from en to es:\\nen: You say: ‘ look at refugees ’. = es:  Usted dice: « miremos a los refugiados ».\\n', 'Translate from en to es:\\nen: ’ This will tarnish the Belgian Presidency. = es:  Esto tachará la Presidencia belga.\\n', 'Translate from en to es:\\nen: I am sorry to say this; I say it in sadness. = es:  Lo lamento; lo digo en tristeza.\\n', 'Translate from en to es:\\nen: In all this chaos, one thing was clear. = es:  En todo este caos, una cosa era clara.\\n', 'Translate from en to es:\\nen: Let me speak clearly. = es:  Permítanme hablar claramente.\\n', 'Translate from en to es:\\nen: This has all gone too far and must be stopped. = es:  Todo esto ha ido demasiado lejos y debe parar.\\n', 'Translate from en to es:\\nen: We must not let this happen again. = es:  No debemos permitir que esto suceda de nuevo.\\n', 'Translate from en to es:\\nen: That is clear. = es:  Eso es evidente.\\n', 'Translate from en to es:\\nen: Indeed, after several years it was rather overdue. = es:  De hecho, después de varios años era bastante tarde.\\n', 'Translate from en to es:\\nen: The aviation industry is massively important to Europe. = es:  La industria aeronáutica es muy importante para Europa.\\n', 'Translate from en to es:\\nen: It is not just about monies. = es:  No se trata solo de dinero.\\n', 'Translate from en to es:\\nen: What measures could it take? = es:  ¿Qué medidas podría adoptar?\\n', 'Translate from en to es:\\nen: But let us face it: it will not come easily. = es:  Pero, ¿cómo va a ser?\\n', 'Translate from en to es:\\nen: I close by saying the following. = es:  Finalmente, digo lo siguiente.\\n', 'Translate from en to es:\\nen: Should Assad be included or not? = es:  ¿Debería incluirse o no al presidente Asad?\\n', 'Translate from en to es:\\nen: What is your opinion? = es:  ¿Cuál es su opinión?\\n', 'Translate from en to es:\\nen: We would like to hear that. = es:  Queremos oírlo.\\n', 'Translate from en to es:\\nen: Do you want to threaten sanctions or not? = es:  ¿Quieren amenazar con sanciones o no?\\n', 'Translate from en to es:\\nen: Open the debate. = es:  Abran el debate.\\n', 'Translate from en to es:\\nen: You are the rotating Presidency. = es:  Usted es la Presidencia rotativa.\\n', 'Translate from en to es:\\nen: You are Vice-President of the Commission. = es:  Usted es Vicepresidente de la Comisión.\\n', 'Translate from en to es:\\nen: You can take initiatives. = es:  Podemos tomar iniciativas.\\n', 'Translate from en to es:\\nen: You should set the agenda. = es:  Ustedes deben establecer el programa.\\n', 'Translate from en to es:\\nen: I do not understand why. = es:  No entiendo por qué.\\n', 'Translate from en to es:\\nen: I promise you: only this will save your position, and nothing else. = es:  Les garantizo: sólo esto les salvará, y nada más.\\n', 'Translate from en to es:\\nen: I think that will get support for you. = es:  Creo que esto le dará apoyo.\\n', 'Translate from en to es:\\nen: Explore your mandate. = es:  Explore su mandato.\\n', 'Translate from en to es:\\nen: Go ahead and tell us. = es:  Ponganse al día.\\n', 'Translate from en to es:\\nen: This was one of them. = es:  Ese fue uno de ellos.\\n', 'Translate from en to es:\\nen: Even the adoption of the document is questionable. = es:  Aún la adopción del documento es cuestionable.\\n', 'Translate from en to es:\\nen: The new constitution raises questions on an international level. = es:  La nueva constitución plantea cuestiones internacionales.\\n', 'Translate from en to es:\\nen: These results are a call to order. = es:  Estos resultados son una llamada a la orden.\\n', 'Translate from en to es:\\nen: However, what sort of society does this programme envisage? = es:  Sin embargo, ¿qué sociedad se preveía con este programa?\\n', 'Translate from en to es:\\nen: It was a real pleasure to work with you. = es:  Fue un verdadero placer trabajar con usted.\\n', 'Translate from en to es:\\nen: I know that we will be able to count on you. = es:  Sé que podremos contar con usted.\\n', 'Translate from en to es:\\nen: Today, we need to go further. = es:  Hoy, necesitamos ir más allá.\\n', 'Translate from en to es:\\nen: Secondly, access to public contracts. = es:  En segundo lugar, acceso a los contratos públicos.\\n', 'Translate from en to es:\\nen: There is no time to waste. = es:  No hay tiempo que perder.\\n', 'Translate from en to es:\\nen: All on-call time is counted as working time. = es:  Todo tiempo de llamada es contado como tiempo de trabajo.\\n', 'Translate from en to es:\\nen: We must face up to reality. = es:  Debemos enfrentarnos a la realidad.\\n', 'Translate from en to es:\\nen: My scepticism gives way to concern. = es:  Mi escepticismo da paso a la preocupación.\\n', 'Translate from en to es:\\nen: It is marked by a certain nonchalance. = es:  Se caracteriza por una cierta indiferencia.\\n', 'Translate from en to es:\\nen: Well then, two consequences inevitably flow from this. = es:  Entonces, dos consecuencias inevitables se derivan de esto.\\n', 'Translate from en to es:\\nen: There are natural disasters other than fires. = es:  Hay otros desastres naturales además de los incendios.\\n', 'Translate from en to es:\\nen: I am thinking of the tsunami. = es:  Pienso en el tsunami.\\n', 'Translate from en to es:\\nen: I believe that we must go further. = es:  Creo que debemos ir más allá.\\n', 'Translate from en to es:\\nen: Then you will see that this affects everyone. = es:  Luego veremos que afecta a todos.\\n', 'Translate from en to es:\\nen: I think that there are two parts to this debate. = es:  Creo que hay dos partes en este debate.\\n', 'Translate from en to es:\\nen: There is no other solution. = es:  No hay otra solución.\\n', 'Translate from en to es:\\nen: I am really and truly, quietly, delighted about this. = es:  Estoy realmente y verdaderamente, en silencio, contento con esto.', 'Translate from en to es:\\nen: That will not be enough, however. = es:  Sin embargo, esto no será suficiente.\\n', 'Translate from en to es:\\nen: However, we know that this issue is absolutely central. = es:  Sin embargo, sabemos que este tema es fundamental.\\n', 'Translate from en to es:\\nen: Let us not give in too quickly to pessimism. = es:  No debemos rendirnos demasiado pronto a la pesimismo.\\n', 'Translate from en to es:\\nen: Many countries would be envious of these statistics. = es:  Muchos países se envidiarían de estas estadísticas.\\n', 'Translate from en to es:\\nen: There is no point in creating a European economic government. = es:  No hay sentido en crear un gobierno económico europeo.\\n', 'Translate from en to es:\\nen: I would like to quickly raise another point. = es:  Me gustaría mencionar rápidamente otro punto.\\n', 'Translate from en to es:\\nen: I believe we need to change direction. = es:  Creo que necesitamos cambiar de rumbo.\\n', 'Translate from en to es:\\nen: That is not right, either. = es:  Eso no es correcto, tampoco.\\n', 'Translate from en to es:\\nen: I would like to thank him for this. = es:  Le agradezco esto.\\n', 'Translate from en to es:\\nen: The political aspect is blocked. = es:  El aspecto político está bloqueado.\\n', 'Translate from en to es:\\nen: Allow me to raise two points. = es:  Permítanme plantear dos puntos.\\n', 'Translate from en to es:\\nen: The EU ought to set an example in this area. = es:  La UE debería dar un ejemplo en este ámbito.\\n', 'Translate from en to es:\\nen: We cannot accept this. = es:  No podemos aceptarlo.\\n', 'Translate from en to es:\\nen: My group and I share these concerns. = es:  Mi grupo y yo compartimos estas preocupaciones.\\n', 'Translate from en to es:\\nen: We cannot let each country solve this problem. = es:  No podemos dejar que cada país solucione este problema.\\n', 'Translate from en to es:\\nen: There has to be a European framework. = es:  Hay que tener un marco europeo.\\n', 'Translate from en to es:\\nen: It must be flexible, but it must exist. = es:  Debe ser flexible, pero debe existir.\\n', 'Translate from en to es:\\nen: We must adopt a horizontal approach. = es:  Debemos adoptar una aproximación horizontal.\\n', 'Translate from en to es:\\nen: That is the question. = es:  Ese es el problema.\\n', 'Translate from en to es:\\nen: There is a need for greater flexibility. = es:  Se necesita mayor flexibilidad.\\n', 'Translate from en to es:\\nen: We must also deal with this problem at its source. = es:  También tenemos que tratar este problema en su fuente.\\n', 'Translate from en to es:\\nen: It is restrictive, but we have no choice. = es:  Es restrictiva, pero no tenemos otra opción.\\n', 'Translate from en to es:\\nen: Thank you. = es:  Gracias.\\n', 'Translate from en to es:\\nen: The text presented today is satisfactory. = es:  El texto presentado hoy es satisfactorio.\\n', 'Translate from en to es:\\nen: Discrimination, of whatever kind, cannot be tolerated. = es:  No se puede tolerar ningún tipo de discriminación.\\n', 'Translate from en to es:\\nen: My thoughts are also with the victims. = es:  Mis pensamientos también están con las víctimas.\\n', 'Translate from en to es:\\nen: I would first like to make the following observation. = es:  Primero, quiero hacer una observación.\\n', 'Translate from en to es:\\nen: They are no longer able to feed their animals. = es:  Ya no pueden alimentar a sus animales.\\n', 'Translate from en to es:\\nen: Hundreds of farms have gone bankrupt. = es:  Se han declarado en quiebra centenares de fincas.\\n', 'Translate from en to es:\\nen: This is a whole new ball game. = es:  Esto es un juego totalmente distinto.\\n', 'Translate from en to es:\\nen: The answer is ‘ yes ’. = es:  La respuesta es « sí ».\\n', 'Translate from en to es:\\nen: This is what this directive will enable. = es:  Esto es lo que permitirá este Directivo.\\n', 'Translate from en to es:\\nen: Obviously, all this is going to upset a few habits. = es:  Obviamente, todo esto va a alterar unos hábitos.\\n', 'Translate from en to es:\\nen: All the technical conditions have been met. = es:  Todos los requisitos técnicos se han cumplido.\\n', 'Translate from en to es:\\nen: We can accept this as an established fact. = es:  Podemos aceptar esto como un hecho establecido.\\n', 'Translate from en to es:\\nen: Yes, I agree with you. = es:  Sí, estoy de acuerdo contigo.\\n', 'Translate from en to es:\\nen: The first phase is complete. = es:  La primera fase está completa.\\n', 'Translate from en to es:\\nen: In my opinion, this was another fundamental point. = es:  En mi opinión, este fue otro punto fundamental.\\n', 'Translate from en to es:\\nen: Some of these purchases will be cross-border. = es:  Algunos de estos compras serán transfronterizos.\\n', 'Translate from en to es:\\nen: This is real progress. = es:  Esto es un progreso real.\\n', 'Translate from en to es:\\nen: We achieved that consensus. = es:  Hemos conseguido ese consenso.\\n', 'Translate from en to es:\\nen: That is quite right and proper. = es:  Esto es correcto y apropiado.\\n', 'Translate from en to es:\\nen: The situation has never been as distressing as it is now. = es:  La situación nunca ha sido tan desesperante como ahora.\\n', 'Translate from en to es:\\nen: I wonder where this is going to take us. = es:  Me pregunto dónde va a llevarnos esto.\\n', 'Translate from en to es:\\nen: This needs to change. = es:  Esto tiene que cambiar.\\n', 'Translate from en to es:\\nen: This should also be followed up, though. = es:  También debería seguirse este procedimiento.\\n', 'Translate from en to es:\\nen: I have also listened to your statements, Commissioner. = es:  También he escuchado sus declaraciones, señor Comisario.\\n', 'Translate from en to es:\\nen: This is not a healthy state of affairs. = es:  No es una situación saludable.\\n', 'Translate from en to es:\\nen: This is topsy-turvy land. = es:  Este es un país de topsy-turvy.\\n', 'Translate from en to es:\\nen: Mr President, this crisis is a test for Europe. = es:  Señor Presidente, esta crisis es un test para Europa.\\n', 'Translate from en to es:\\nen: Europe is not the sum total of 27 times the national interest. = es:  Europa no es la suma de 27 veces el interés nacional.\\n', 'Translate from en to es:\\nen: It is now or never for Europe. = es:  Ahora o nunca para Europa.\\n', 'Translate from en to es:\\nen: I am sorry, but this is madness. = es:  Lo lamento, pero esto es locura.\\n', 'Translate from en to es:\\nen: This does not change anything in substance, however. = es:  Sin embargo, esto no cambia en substancia.\\n', 'Translate from en to es:\\nen: I should nevertheless like to make a few comments. = es:  Sin embargo, quisiera hacer algunas observaciones.\\n', 'Translate from en to es:\\nen: This is a fundamental issue. = es:  Es un asunto fundamental.\\n', 'Translate from en to es:\\nen: I will name three of these. = es:  Nombraré tres de estos.\\n', 'Translate from en to es:\\nen: On this point, the report is perfectly in order. = es:  En este punto, el informe está perfectamente en orden.\\n', 'Translate from en to es:\\nen: This is handled very well in the directive. = es:  Esto se maneja muy bien en la directiva.\\n', 'Translate from en to es:\\nen: I am delighted with the result achieved, therefore. = es:  Me complace el resultado obtenido, por tanto.\\n', 'Translate from en to es:\\nen: Yet official Europe is at a dead end. = es:  Pero Europa oficial está en un callejón sin salida.\\n', 'Translate from en to es:\\nen: Ladies and gentlemen, cars represent freedom. = es:  Señorías, los coches representan la libertad.\\n', 'Translate from en to es:\\nen: Unfortunately, I disagree. = es:  Sin embargo, no estoy de acuerdo.\\n', 'Translate from en to es:\\nen: Yet why did you not do more? = es:  Pero ¿por qué no lo hizo más?\\n', 'Translate from en to es:\\nen: The Commission must continue in this vein. = es:  La Comisión debe seguir en esta línea.\\n', 'Translate from en to es:\\nen: Let their journeys not be in vain. = es:  Que sus viajes no sean en vano.\\n', 'Translate from en to es:\\nen: The final aspect is agriculture. = es:  El último aspecto es la agricultura.\\n', 'Translate from en to es:\\nen: We are at a turning point. = es:  Estamos en un punto de inflexión.\\n', 'Translate from en to es:\\nen: My answer goes without saying. = es:  Mi respuesta es obvia.\\n', 'Translate from en to es:\\nen: I am looking forward to this. = es:  Estoy esperando esto.\\n', 'Translate from en to es:\\nen: I understand and support this. = es:  Entiendo y apoyo esta medida.\\n', 'Translate from en to es:\\nen: That is the current reality. = es:  Ese es el actual realismo.\\n', 'Translate from en to es:\\nen: Is there anything more ridiculous? = es:  ¿No es más ridículo?\\n', 'Translate from en to es:\\nen: Yet what about the interests of European citizens? = es:  Pero ¿qué intereses tienen los ciudadanos europeos?\\n', 'Translate from en to es:\\nen: Could it be that they are less important? = es:  ¿Podría ser que sean menos importantes?\\n', 'Translate from en to es:\\nen: That is a fact. = es:  Eso es un hecho.\\n', 'Translate from en to es:\\nen: I disagree with that. = es:  No estoy de acuerdo con eso.\\n', 'Translate from en to es:\\nen: The contrary is true. = es:  Lo contrario es cierto.\\n', 'Translate from en to es:\\nen: That was my first point. = es:  Ese fue mi primer punto.\\n', 'Translate from en to es:\\nen: I will be very brief with my second point. = es:  Seré muy breve con mi segundo punto.\\n', 'Translate from en to es:\\nen: ” Nothing much has changed since then. = es:  « Nada ha cambiado desde entonces.\\n', 'Translate from en to es:\\nen: Obviously, all of that has to be stage-managed from Europe. = es:  Obviamente, todo esto tiene que ser gestionado desde Europa.\\n', 'Translate from en to es:\\nen: Are they going to introduce electric aeroplanes any time soon? = es:  ¿Están a punto de introducir aeronaves eléctricas en el fut', 'Translate from en to es:\\nen: When is this madness going to stop? = es:  ¿Cuándo va a parar esta locura?\\n', 'Translate from en to es:\\nen: Keep up the good work and keep toeing the right line. = es:  Siga el buen trabajo y sigue la línea correcta.\\n', 'Translate from en to es:\\nen: I ask you to support this directive. = es:  Pido su apoyo a este Directivo.\\n', 'Translate from en to es:\\nen: Thank you for your understanding. = es:  Gracias por su comprensión.\\n', 'Translate from en to es:\\nen: Now it is a problem facing Europe. = es:  Ahora es un problema que Europa debe enfrentarse.\\n', 'Translate from en to es:\\nen: First among these is refraining from causing inconvenience. = es:  Entre estas, la primera es evitar causar molestias.\\n', 'Translate from en to es:\\nen: I do not think so. = es:  No creo que así sea.\\n', 'Translate from en to es:\\nen: However, our group thinks that more is needed. = es:  Sin embargo, nuestro grupo cree que se necesita más.\\n', 'Translate from en to es:\\nen: These two aspects are closely related. = es:  Estos dos aspectos están estrechamente relacionados.\\n', 'Translate from en to es:\\nen: That is not the Europe we want to see. = es:  No es la Europa que queremos ver.\\n', 'Translate from en to es:\\nen: Surely, that cannot be the correct interpretation. = es:  Sin duda, no es la interpretación correcta.\\n', 'Translate from en to es:\\nen: This is an insult to democracy. = es:  Es un insulto a la democracia.\\n', 'Translate from en to es:\\nen: That is far too many. = es:  Eso es demasiado.\\n', 'Translate from en to es:\\nen: The first of two focal points is energy efficiency: a great opportunity. = es:  El primer de dos puntos de referencia es la eficiencia energética: una gran o', 'Translate from en to es:\\nen: This is where the Eurobonds are necessary. = es:  Es ahí donde los bonos Euro son necesarios.\\n', 'Translate from en to es:\\nen: Action: that is what is needed. = es:  La acción es lo que se necesita.\\n', 'Translate from en to es:\\nen: Oh, yes, it was the protection of forests. = es:  Sí, era la protección de los bosques.\\n', 'Translate from en to es:\\nen: Long live Member States, long live citizens! = es:  ¡Viva los Estados miembros, viva los ciudadanos!\\n', 'Translate from en to es:\\nen: The impact of this cannot be underestimated. = es:  El impacto de esto no puede ser subestimado.\\n', 'Translate from en to es:\\nen: The same thing is happening in Europe. = es:  Lo mismo está ocurriendo en Europa.\\n', 'Translate from en to es:\\nen: However, that final bill will still have to be paid. = es:  Sin embargo, el pago final aún no ha sido pagado.\\n', 'Translate from en to es:\\nen: The war in Libya goes on. = es:  La guerra en Libia continúa.\\n', 'Translate from en to es:\\nen: You are consistent. = es:  Usted es consistente.\\n', 'Translate from en to es:\\nen: For that reason I have foregone the photographs. = es:  Por eso he renunciado a las fotografías.\\n', 'Translate from en to es:\\nen: Europe must stand on the side of freedom. = es:  Europa debe estar del lado de la libertad.\\n', 'Translate from en to es:\\nen: The unthinkable has happened. = es:  Lo que no se imaginaba ha ocurrido.\\n', 'Translate from en to es:\\nen: There is no such thing as zero risk. = es:  No existe tal cosa como el riesgo cero.\\n', 'Translate from en to es:\\nen: Today, we need to take three steps. = es:  Hoy tenemos que dar tres pasos.\\n', 'Translate from en to es:\\nen: The current system therefore does not work. = es:  El sistema actual no funciona.\\n', 'Translate from en to es:\\nen: This, however, is just the beginning. = es:  Sin embargo, esto es solo el principio.\\n', 'Translate from en to es:\\nen: We are not imposing anything. = es:  No estamos imponiendo nada.\\n', 'Translate from en to es:\\nen: That is cast in stone in the legislation. = es:  Esto está grabado en la ley.\\n', 'Translate from en to es:\\nen: There has been quite some discussion about this. = es:  Se ha discutido bastante sobre este tema.\\n', 'Translate from en to es:\\nen: The transport sector is important for our economy. = es:  El sector de transporte es importante para nuestra economía.\\n', 'Translate from en to es:\\nen: That will continue to be the case. = es:  Eso seguirá siendo así.\\n', 'Translate from en to es:\\nen: Yet, we are doing something really peculiar. = es:  Sin embargo, estamos haciendo algo realmente peculiar.\\n', 'Translate from en to es:\\nen: For me, personally, that is not consistent. = es:  Para mí, personalmente, no es consistente.\\n', 'Translate from en to es:\\nen: I appeal to you for more time. = es:  Les pido más tiempo.\\n', 'Translate from en to es:\\nen: But the Aker Group has long since gone. = es:  Pero la Aker Group ya ha desaparecido.\\n', 'Translate from en to es:\\nen: It has become STX of Korea. = es:  Se ha convertido en STX de Corea.\\n', 'Translate from en to es:\\nen: Something did not quite work out there. = es:  Algo no ha funcionado allí.\\n', 'Translate from en to es:\\nen: Secondly, the current situation affects us all. = es:  En segundo lugar, la situación actual nos afecta a todos.\\n', 'Translate from en to es:\\nen: The financial crisis threatens a general European crisis. = es:  La crisis financiera amenaza una crisis general europea.\\n', 'Translate from en to es:\\nen: But not in Poland. = es:  Pero no en Polonia.\\n', 'Translate from en to es:\\nen: At least, not so far. = es:  Al menos, hasta ahora.\\n', 'Translate from en to es:\\nen: Poland has confidence in the European institutions. = es:  Polonia tiene confianza en las instituciones europeas.\\n', 'Translate from en to es:\\nen: Thank you very much. = es:  Muchas gracias.\\n', 'Translate from en to es:\\nen: I should like to put the following question to you, President. = es:  Me gustaría hacerle una pregunta al Presidente.\\n', 'Translate from en to es:\\nen: These organisations are operating legally in Europe today. = es:  Estas organizaciones operan legalmente en Europa hoy en día.\\n', 'Translate from en to es:\\nen: There is no politically justified genocide. = es:  No hay genocidio justificado políticamente.\\n', 'Translate from en to es:\\nen: All must be named and condemned. = es:  Todos deben nombrarse y condenarse.\\n', 'Translate from en to es:\\nen: I share the view that this is a success. = es:  Comparto la opinión de que es un éxito.\\n', 'Translate from en to es:\\nen: The Bank granted a loan to Hungary. = es:  La BCE concedió un préstamo a Hungría.\\n', 'Translate from en to es:\\nen: This is a good thing. = es:  Esto es algo bueno.\\n', 'Translate from en to es:\\nen: It seems to me that we are moving in the right direction. = es:  Me parece que estamos en la dirección correcta.\\n', 'Translate from en to es:\\nen: We must not discriminate against them. = es:  No debemos discriminar contra ellos.\\n', 'Translate from en to es:\\nen: The amendments tabled are sound. = es:  Las enmiendas presentadas son razonables.\\n', 'Translate from en to es:\\nen: Repetition should be avoided. = es:  Se debe evitar la repetición.\\n', 'Translate from en to es:\\nen: We support this Directive. = es:  Estamos a favor de esta Directiva.\\n', 'Translate from en to es:\\nen: Will talks even take place? = es:  ¿Se celebrarán incluso las conversaciones?\\n', 'Translate from en to es:\\nen: Why did the world remain silent? = es:  ¿Por qué el mundo permaneció callado?\\n', 'Translate from en to es:\\nen: However, we do not know the facts of the situation. = es:  Sin embargo, no sabemos los hechos de la situación.\\n', 'Translate from en to es:\\nen: The EU observers are helpless. = es:  Los observadores de la UE son incapaces.\\n', 'Translate from en to es:\\nen: This is the sort of example that Iran provides. = es:  Este es el tipo de ejemplo que Iran proporciona.\\n', 'Translate from en to es:\\nen: We support the Resolution. = es:  Nos apoyamos en la Resolución.\\n', 'Translate from en to es:\\nen: I support this Resolution. = es:  Yo apoyo esta Resolución.\\n', 'Translate from en to es:\\nen: Mr Fava is certainly to be commended. = es:  El señor Fava merece una gran alabanza.\\n', 'Translate from en to es:\\nen: Nonetheless, the law is not working. = es:  Sin embargo, la ley no funciona.\\n', 'Translate from en to es:\\nen: Do not complain that the Union... = es:  No se quejen de que la Unión...\\n', 'Translate from en to es:\\nen: Do you not understand this? = es:  ¿No entienden esto?\\n', 'Translate from en to es:\\nen: We also discussed the Eastern Partnership this morning. = es:  También hemos hablado de la Alianza Oriental esta mañana.\\n', 'Translate from en to es:\\nen: Did they not have that trillion? = es:  ¿No tenían ese trillón?\\n', 'Translate from en to es:\\nen: I support them. = es:  Yo los apoyo.\\n', 'Translate from en to es:\\nen: There is no such response from the political class. = es:  No hay respuesta política.\\n', 'Translate from en to es:\\nen: That is not solidarity, that is hypocrisy. = es:  Eso no es solidaridad, es hipocresía.\\n', 'Translate from en to es:\\nen: This is an important area of macroregional cooperation. = es:  Es un área importante de cooperación macroregional.\\n', 'Translate from en to es:\\nen: I stress the word ‘ inconvenience ’. = es:  Emphasizo la palabra « incomodidad ».\\n', 'Translate from en to es:\\nen: I would like to ask the Commissioner for a reply. = es:  Me gustaría que la Comisaria respondiera a esta pregunta.\\n', 'Translate from en to es:\\nen: There is one more thing. = es:  Hay una última cosa.\\n', 'Translate from en to es:\\nen: This should all be found in this resolution. = es:  Todo esto debería estar en esta resolución.\\n', 'Translate from en to es:\\nen: That is what I wish for everyone. = es:  Eso es lo que deseo para todos.\\n', 'Translate from en to es:\\nen: My conclusions are as follows. = es:  Mis conclusiones son las siguientes.\\n', 'Translate from en to es:\\nen: I think it would be a good idea. = es:  Creo que sería una buena idea.\\n', 'Translate from en to es:\\nen: Therefore, I would like to say one more thing. = es:  Por tanto, quiero decir otra cosa.\\n', 'Translate from en to es:\\nen: All the rest is a matter for the free market. = es:  Todo lo demás es un asunto del mercado libre.\\n', 'Translate from en to es:\\nen: Of course, promotion is not everything. = es:  Por supuesto, la promoción no es todo.\\n', 'Translate from en to es:\\nen: Liberty will triumph in Cuba. = es:  La libertad triunfará en Cuba.\\n', 'Translate from en to es:\\nen: Was that a joke? = es:  ¿Era una broma?\\n', 'Translate from en to es:\\nen: However, Europeana is not such an entity. = es:  Sin embargo, Europeana no es tal.\\n', 'Translate from en to es:\\nen: How do you assess the programme? = es:  ¿Cómo evalúa el programa?\\n', 'Translate from en to es:\\nen: Nevertheless, something must be done. = es:  Sin embargo, algo debe hacerse.\\n', 'Translate from en to es:\\nen: Thank you very much. = es:  Muchas gracias.\\n', 'Translate from en to es:\\nen: We would like it to be a European diplomacy. = es:  Queremos que sea una diplomacia europea.\\n', 'Translate from en to es:\\nen: This will enable you to be effective. = es:  Esto le permitirá ser efectivo.\\n', 'Translate from en to es:\\nen: The second matter is that of representativeness. = es:  El segundo tema es el de representatividad.\\n', 'Translate from en to es:\\nen: This is something which we should guarantee. = es:  Esto es algo que debemos garantizar.\\n', 'Translate from en to es:\\nen: We have to remember the Union ’ s fundamental principles. = es:  Tenemos que recordar los principios fundamentales de la Unión.\\n', 'Translate from en to es:\\nen: It is time to act upon this report. = es:  Es hora de actuar sobre este informe.\\n', 'Translate from en to es:\\nen: Bureaucracy must not ruin us. = es:  La burocracia no debe destruirnos.\\n', 'Translate from en to es:\\nen: Greater authority involves greater responsibility. = es:  La mayor autoridad implica mayor responsabilidad.\\n', 'Translate from en to es:\\nen: The dying cannot wait. = es:  Los moribundos no pueden esperar.\\n', 'Translate from en to es:\\nen: The Union is the largest donor of development aid. = es:  La Unión es el mayor donante de ayuda al desarrollo.\\n', 'Translate from en to es:\\nen: We should be proud of this. = es:  Debemos estar orgullosos de esto.\\n', 'Translate from en to es:\\nen: I believe that what we are doing is unnecessary. = es:  Creo que lo que estamos haciendo es innecesario.\\n', 'Translate from en to es:\\nen: Mr President, there are no ideal laws. = es:  Señor Presidente, no hay leyes ideales.\\n', 'Translate from en to es:\\nen: When will this happen? = es:  ¿Cuándo ocurrirá esto?\\n', 'Translate from en to es:\\nen: Only now are we finding out. = es:  Ahora ya lo sabemos.\\n', 'Translate from en to es:\\nen: This is something very important. = es:  Esto es algo muy importante.\\n', 'Translate from en to es:\\nen: Thank you. = es:  Gracias.\\n', 'Translate from en to es:\\nen: I would like to conclude with two more comments. = es:  Quisiera concluir con dos comentarios más.\\n', 'Translate from en to es:\\nen: Thank you very much. = es:  Muchas gracias.\\n', 'Translate from en to es:\\nen: As a Parliament in a free Europe, we must... = es:  Como Parlamento en una Europa libre, debemos...\\n', 'Translate from en to es:\\nen: Now it is the turn of the constitution. = es:  Ahora es la vez de la Constitución.\\n', 'Translate from en to es:\\nen: The world is finally back to rights. = es:  El mundo ya está de vuelta a derechas.\\n', 'Translate from en to es:\\nen: However, Europe is more than that. = es:  Sin embargo, Europa es más que eso.\\n', 'Translate from en to es:\\nen: More needs to be done. = es:  Se necesita más.\\n', 'Translate from en to es:\\nen: Crises generate opportunities. = es:  Las crisis generan oportunidades.\\n', 'Translate from en to es:\\nen: They are trying to get it under control, and not before time. = es:  Están tratando de controlarlo y no antes de tiempo.\\n', 'Translate from en to es:\\nen: What role will commercial policy play in this context? = es:  ¿Qué papel tendrá la política comercial en este contexto?\\n', 'Translate from en to es:\\nen: It is that which our society also needs to do. = es:  Eso es lo que nuestra sociedad también necesita hacer.\\n', 'Translate from en to es:\\nen: Let us move forward with a fair view of the family! = es:  ¡Adelante con una visión justa de la familia!\\n', 'Translate from en to es:\\nen: However, my speech is an appeal. = es:  Sin embargo, mi discurso es una petición.\\n', 'Translate from en to es:\\nen: End of quotation. = es:  Fin de la cita.\\n', 'Translate from en to es:\\nen: End of quotation. = es:  Fin de la cita.\\n', 'Translate from en to es:\\nen: End of quotation. = es:  Fin de la cita.\\n', 'Translate from en to es:\\nen: It is clear that this is not the answer. = es:  Es evidente que esta no es la respuesta.\\n', 'Translate from en to es:\\nen: Europe is our home. = es:  Europa es nuestra casa.\\n', 'Translate from en to es:\\nen: This is certainly true of the Treaty of Lisbon. = es:  Esto es cierto del Tratado de Lisboa.\\n', 'Translate from en to es:\\nen: Has the President of the Commission been taking any action? = es:  ¿Ha tomado alguna acción el Presidente de la Comisión?\\n', 'Translate from en to es:\\nen: We cannot agree with this proposal. = es:  No podemos aceptar esta propuesta.\\n', 'Translate from en to es:\\nen: The financial and economic crisis is also a social crisis. = es:  La crisis financiera y económica también es una crisis social.\\n', 'Translate from en to es:\\nen: We consider these results to be very positive as well. = es:  Consideramos estos resultados positivos también.\\n', 'Translate from en to es:\\nen: What would we expect from the EU? = es:  ¿Qué esperaríamos de la UE?\\n', 'Translate from en to es:\\nen: Solidarity. = es:  Solidaridad.\\n', 'Translate from en to es:\\nen: It is feared that the number of victims could increase. = es:  Se teme que el número de víctimas aumente.\\n', 'Translate from en to es:\\nen: However, it is now necessary to look forwards. = es:  Sin embargo, ahora es necesario mirar hacia delante.\\n', 'Translate from en to es:\\nen: There are some principles and practices to be safeguarded. = es:  Hay algunas normas y prácticas que proteger.\\n', 'Translate from en to es:\\nen: Congratulations to the rapporteurs on their work. = es:  Felicitaciones a los ponentes por su trabajo.\\n', 'Translate from en to es:\\nen: We must do this or risk compromising our future. = es:  Si no lo hacemos, corremos el riesgo de comprometer nuestro fut', 'Translate from en to es:\\nen: We must face the facts. = es:  Debemos enfrentar las realidades.\\n', 'Translate from en to es:\\nen: There are three issues that must be tackled. = es:  Hay tres cuestiones que deben abordarse.\\n', 'Translate from en to es:\\nen: That is why this issue is so relevant. = es:  Por eso, este tema es tan relevante.\\n', 'Translate from en to es:\\nen: The creation of the European Monetary Fund is crucial. = es:  La creación del Fondo Monetario Europeo es crucial.\\n', 'Translate from en to es:\\nen: He is a human rights defender. = es:  Es un defensor de los derechos humanos.\\n', 'Translate from en to es:\\nen: That is why we need to continue to improve these measures. = es:  Por eso, necesitamos seguir mejorando estas medidas.\\n', 'Translate from en to es:\\nen: These regions are huge reservoirs of important resources. = es:  Estas regiones son grandes reservorios de importantes recursos.\\n', 'Translate from en to es:\\nen: We have to give something back. = es:  Tenemos que dar algo a cambio.\\n', 'Translate from en to es:\\nen: I would like to make two proposals. = es:  Quisiera hacer dos propuestas.\\n', 'Translate from en to es:\\nen: My second proposal concerns energy. = es:  Mi segunda propuesta se refiere a la energía.\\n', 'Translate from en to es:\\nen: We have to take account of the positive experiences of the regions. = es:  Tenemos que tener en cuenta las experiencias positivas de las regiones.\\n', 'Translate from en to es:\\nen: This way, it seems as though we are always starting from square one. = es:  De este modo, parece que siempre estamos empezando desde cero.\\n', 'Translate from en to es:\\nen: We will be equally active, but without concessions. = es:  Seremos igualmente activos, pero sin concesiones.\\n', 'Translate from en to es:\\nen: How are we going to support it? = es:  ¿Cómo vamos a apoyarlo?\\n', 'Translate from en to es:\\nen: What will be the basis for it? = es:  ¿Qué será la base de ella?\\n', 'Translate from en to es:\\nen: The Commission and the new President must uphold this agenda. = es:  La Comisión y el nuevo Presidente deben respetar este programa.\\n', 'Translate from en to es:\\nen: I hope that you will succeed in your objectives. = es:  Espero que consiga sus objetivos.\\n', 'Translate from en to es:\\nen: The Commission explained to us that this would be impossible to achieve. = es:  La Comisión nos ha explicado que esto sería imposible.\\n', 'Translate from en to es:\\nen: I would like to mention something else with regard to this commitment. = es:  Me gustaría mencionar algo más con respecto a esta comprometida.\\n', 'Translate from en to es:\\nen: Thank you also for your support. = es:  Gracias también por su apoyo.\\n', 'Translate from en to es:\\nen: We cannot accept this. = es:  No podemos aceptarlo.\\n', 'Translate from en to es:\\nen: I sincerely hope … = es:  En serio, espero …\\n', 'Translate from en to es:\\nen: It is vital that this happens. = es:  Es vital que esto ocurra.\\n', 'Translate from en to es:\\nen: I think that is very positive. = es:  Creo que es muy positivo.\\n', 'Translate from en to es:\\nen: I believe that is what is at stake. = es:  Creo que es lo que está en juego.\\n', 'Translate from en to es:\\nen: Cohesion policy is a key policy for the EU. = es:  La política de cohesión es una política clave para la UE.\\n', 'Translate from en to es:\\nen: I have researched this schooling system myself. = es:  He investigado este sistema educativo por mí mismo.\\n', 'Translate from en to es:\\nen: I am sorry that this report has not been debated. = es:  Lamento que este informe no haya sido debatido.\\n', 'Translate from en to es:\\nen: In order to achieve these … = es:  Para lograrlo …\\n', 'Translate from en to es:\\nen: I would like to highlight three important aspects. = es:  Me gustaría destacar tres aspectos importantes.\\n', 'Translate from en to es:\\nen: Thank you. = es:  Gracias.\\n', 'Translate from en to es:\\nen: Romania has a considerable number of such populated settlements. = es:  Rumania tiene una gran cantidad de asentamientos poblados.\\n', 'Translate from en to es:\\nen: However, this development has generated ambivalent attitudes. = es:  Sin embargo, este desarrollo ha generado actitudes ambivalentes.\\n', 'Translate from en to es:\\nen: This is an unprecedented abuse. = es:  Se trata de un abuso sin precedentes.\\n', 'Translate from en to es:\\nen: Thank you. = es:  Gracias.\\n', 'Translate from en to es:\\nen: Thank you. = es:  Gracias.\\n', 'Translate from en to es:\\nen: Competition among operators does not work from this perspective. = es:  La competencia entre los operadores no funciona desde este punto de vista.\\n', 'Translate from en to es:\\nen: Ultimately, it is always the consumer who pays. = es:  En última instancia, siempre es el consumidor quien paga.\\n', 'Translate from en to es:\\nen: Is this the best instrument available? = es:  ¿Es este el mejor instrumento disponible?\\n', 'Translate from en to es:\\nen: Please God. = es:  Dios manda.\\n', 'Translate from en to es:\\nen: This is a problem which has a number of different aspects to it. = es:  Este es un problema que tiene varias dimensiones.\\n', 'Translate from en to es:\\nen: This kind of violence is prevalent on a wide scale. = es:  Este tipo de violencia es muy extendido.\\n', 'Translate from en to es:\\nen: The second step is the one being taken today. = es:  El segundo paso es el que se está dando hoy.\\n', 'Translate from en to es:\\nen: Thank you. = es:  Gracias.\\n', 'Translate from en to es:\\nen: Thank you. = es:  Gracias.\\n', 'Translate from en to es:\\nen: Thank you. = es:  Gracias.\\n', 'Translate from en to es:\\nen: The mafia is the major cause of the crisis. = es:  La mafia es la causa principal de la crisis.\\n', 'Translate from en to es:\\nen: Starvation is the most powerful electoral factor in history. = es:  La hambruna es el factor electoral más poderoso de la historia.\\n', 'Translate from en to es:\\nen: I, too, welcome the Commission ’ s initiative. = es:  También me gusta la iniciativa de la Comisión.\\n', 'Translate from en to es:\\nen: We cannot put up with a similar situation here. = es:  No podemos tolerar una situación similar aquí.\\n', 'Translate from en to es:\\nen: There is no production method which is 100% safe. = es:  No hay método de producción que sea del 100 %.\\n', 'Translate from en to es:\\nen: We will consider every legal option for implementing such a ban. = es:  Consideraremos todas las opciones legales para implementar un embargo.\\n', 'Translate from en to es:\\nen: I would like to introduce another argument. = es:  Me gustaría introducir otro argumento.\\n', 'Translate from en to es:\\nen: We actually do not know the exact figure. = es:  No sabemos con exactitud el número.\\n', 'Translate from en to es:\\nen: However, we cannot just stop at this. = es:  Sin embargo, no podemos detenernos aquí.\\n', 'Translate from en to es:\\nen: measures of this kind. = es:  medidas de este tipo.\\n', 'Translate from en to es:\\nen: The era of cheap crude oil has gone. = es:  El período de petróleo barato ha pasado.\\n', 'Translate from en to es:\\nen: These hospitals are supposedly unprofitable. = es:  Estos hospitales supuestamente no son rentables.\\n', 'Translate from en to es:\\nen: Why is this? = es:  ¿Por qué?\\n', 'Translate from en to es:\\nen: The answer according to the rules is ‘ yes ’. = es:  Según las reglas, la respuesta es « sí ».\\n', 'Translate from en to es:\\nen: Neither one nor the other can operate without each other. = es:  Ni una ni la otra pueden funcionar sin la otra.\\n', 'Translate from en to es:\\nen: I therefore believe that we are on the right track. = es:  Por tanto, creo que estamos en el camino correcto.\\n', 'Translate from en to es:\\nen: In actual fact, I do not feel that everything is absolutely fine. = es:  En realidad, no me siento del todo tranquilo.\\n', 'Translate from en to es:\\nen: Today, every day, we are moving in that direction. = es:  Hoy día, cada día, nos movemos en esa dirección.\\n', 'Translate from en to es:\\nen: One example is the Southern Corridor. = es:  Un ejemplo es el Corredor del Sur.\\n', 'Translate from en to es:\\nen: We cannot. = es:  No podemos.\\n', 'Translate from en to es:\\nen: Who is going to pay for all this? = es:  ¿Quién va a pagar todo esto?\\n', 'Translate from en to es:\\nen: This has not happened everywhere. = es:  No ha ocurrido en todo el mundo.\\n', 'Translate from en to es:\\nen: Little or nothing has been done. = es:  Se ha hecho muy poco.\\n', 'Translate from en to es:\\nen: In this case, too, a good example has not been set. = es:  En este caso, también, no se ha dado un buen ejemplo.\\n', 'Translate from en to es:\\nen: Is this how the Commission respects directives? = es:  ¿Es así como la Comisión respeta las directivas?\\n', 'Translate from en to es:\\nen: Ten years have gone by and the deaths have continued. = es:  Ya han pasado diez años y las muertes siguen.\\n', 'Translate from en to es:\\nen: The Member States and Europe must guarantee security. = es:  Los Estados miembros y Europa deben garantizar la seguridad.\\n', 'Translate from en to es:\\nen: Think of Guantánamo. = es:  Piensen en Guantánamo.\\n', 'Translate from en to es:\\nen: Europe is the fatherland of rights. = es:  Europa es el país de los derechos.\\n', 'Translate from en to es:\\nen: Mobility is now a right. = es:  La movilidad es ahora un derecho.\\n', 'Translate from en to es:\\nen: The Council should take it into proper account. = es:  El Consejo debería tomárselo en cuenta.\\n', 'Translate from en to es:\\nen: We need an effective and ongoing policy. = es:  Necesitamos una política efectiva y continua.\\n', 'Translate from en to es:\\nen: There are still many problems to be dealt with. = es:  Aún quedan muchos problemas por resolver.\\n', 'Translate from en to es:\\nen: It is an ongoing environmental disaster. = es:  Es un desastre medioambiental continuo.\\n', 'Translate from en to es:\\nen: It must do everything it can to achieve these goals. = es:  Debe hacer todo lo posible para alcanzar estos objetivos.\\n', 'Translate from en to es:\\nen: This is the challenge we face. = es:  Este es el reto que nos enfrenta.\\n', 'Translate from en to es:\\nen: I now turn to the report. = es:  Ahora me giro al informe.\\n', 'Translate from en to es:\\nen: We accepted the request. = es:  Hemos aceptado la petición.\\n', 'Translate from en to es:\\nen: No information and no members of parliament are allowed in. = es:  No se permite información y no se permite que los parlamentarios entren.\\n', 'Translate from en to es:\\nen: Europe looks on passively. = es:  Europa contempla esto pasivamente.\\n', 'Translate from en to es:\\nen: This is the most significant political fact. = es:  Es la más significativa de las políticas.\\n', 'Translate from en to es:\\nen: It would be extremely dangerous to make distinctions. = es:  Sería extremadamente peligroso hacer distinciones.\\n', 'Translate from en to es:\\nen: Cesare Battisti is not a political refugee. = es:  Cesare Battisti no es un refugiado político.\\n', 'Translate from en to es:\\nen: History demands it of us. = es:  La historia nos obliga a ello.\\n', 'Translate from en to es:\\nen: It will be difficult. = es:  Será difícil.\\n', 'Translate from en to es:\\nen: This method should be changed. = es:  Este método debe cambiarse.\\n', 'Translate from en to es:\\nen: That is why we voted in favour of it. = es:  Por eso hemos votado a favor de él.\\n', 'Translate from en to es:\\nen: It is time to stop talking. = es:  Es hora de parar de hablar.\\n', 'Translate from en to es:\\nen: The European Union needs to make its presence felt. = es:  La Unión Europea debe hacerse sentir.\\n', 'Translate from en to es:\\nen: In today ’ s texts, we have this. = es:  En los textos de hoy tenemos esto.\\n', 'Translate from en to es:\\nen: Europe wants to do organised crime an enormous favour. = es:  Europa quiere hacer un enorme favor a la delincuencia organizada.\\n']\n",
            "['Do we want to liberalise the markets?', 'However, this does not mean dismantling them.', 'I will now start.', 'The international community cannot remain impassive.', 'Nonetheless, there must be a balanced outcome.', 'We now know what he wanted it for.', 'Secondly, some of your suggestions are inadvisable.', 'This would not do.', 'I cannot, therefore, agree with you on this point.', 'It can already be seen, Mr Cappato.', 'Thank you for your generosity, Mr President.', 'The ideal solution would be to use physical means.', 'I think the task is quite a difficult one.', 'I am pleased at that.', 'This is by no means the case.', 'Many thanks, that is all.', 'We already have an established law at the national level.', 'I believe that we should congratulate ourselves.', 'It is a shame that no one listened to us.', 'Perhaps you should do so now.', 'We really owe it to all the victims.', 'It is a real problem.', 'We have that right.', 'You can count on our solidarity.', 'Women for Zapatero!', 'This text does, however, have significant added value.', 'The judgment of history is clear.', 'The ruins of the homeland are safe.', 'Do not worry comrades.', 'Now we are going.', 'I am delighted at what Mr Cioloş had to say.', 'Let us therefore be consistent.', 'This is one of the two conditions.', 'Indeed it is.', 'The truth is that there is a great deal at stake.', 'Since then, we have been trying to resolve this issue.', 'We have not managed to do so.', 'They almost never have rooms and they never have interpretation.', 'This is not enough.', 'We have an opportunity.', 'public freedoms.', 'What is the point of the Alliance of Civilisations?', 'That is how it should be.', 'Talking does not cost anything, but we need to act.', 'I do not believe it is.', 'We are worth the same and deserve the same.', 'The parliamentary passage of this report is not over, therefore.', 'The initial draft was a bad one.', 'That is not enough.', 'Europe is the right stage for this purpose.', 'And I ask for the control systems to be reviewed.', 'And for Mrs Merkel to accept responsibility.', 'She cannot ignore the fact that Hamburg is in her country.', 'She cannot ignore her responsibilities.', 'An epidemic knows no frontiers.', 'We ask for compensation.', 'It is Germany that has a serious credibility problem.', 'She is nothing of the sort: she lacks moral fibre.', 'We can no longer close our eyes to the situation.', 'Some may say these ideas are elementary.', 'Therefore, EU support is necessary.', 'I hope that the Council will take note of this.', 'The spread of aquaculture is important.', 'None of this has come to pass.', 'Let us move on to some details.', 'Goodbye, then, to the Spanish Presidency.', 'Unlike me, you have had time to talk about them.', 'I have a general thought.', 'No, a thousand times no.', 'At the moment, projects drag on endlessly.', 'This must be done without delay and without waiting any longer.', 'It is a disappointing outcome.', 'Why not?', 'It deserves that.', 'The courage shown by newspaper is also commendable.', 'An election campaign is about to begin in Spain.', 'Let us reinvigorate our values.', 'Valencian farmers do not live off subsidies.', 'That is real justice.', 'This is not our intention.', 'For that, I congratulate her.', 'Something is going on, and it is quite obvious.', 'Where do we do all of this?', 'Well, in the next CAP reform, of course.', 'Good luck, Venezuela!', 'There is still much to be done.', 'It is clear that the current agreement does not do this.', 'These products are primarily Moroccan tomatoes.', 'We have come a long way but there is a lot left to do.', 'That is the risk.', 'My country, Spain, has only just embarked on this experience.', 'These cases, however, are of urgent need.', 'Naturally, we do not welcome any of these references.', 'That is the case with agriculture.', 'We have therefore called for two things.', 'Nothing could be further from the truth.', 'existing mechanisms.', 'Allow me to do so with you this evening.', 'This, then, is the point I am trying to make.', 'I do not know if I am dreaming, ladies and gentlemen.', 'This is your opportunity.', 'As I have already said, it is the time to support Europe.', 'Moreover, their capacity for regeneration is very limited.', 'The Treaty is very clear.', 'Sensitive areas must be protected.', 'However, not all areas are equally sensitive.', 'citizens, want.', 'I would like to highlight the participation of the public.', 'Is he familiar with the Spanish Constitution?', 'The figures speak for themselves.', 'Social dialogue is vital.', 'Thank you, all four rapporteurs.', 'That should be our approach.', 'The third point is simplification.', 'We do not want everyone trying to go their own way.', 'We must ensure that this gap is reduced.', 'That would certainly be a sound instrument.', 'These are things which are often lumped together.', 'However, this is not fraud, but wastefulness.', 'There was a silence, a taboo.', 'The European Parliament considers this unacceptable.', 'Thank you very much.', 'Not everything can be measured by the same yardstick.', 'Do you know what this is?', 'Mr President, I want to keep this short.', 'I have a lot of sympathy for that.', 'This is something that we can talk about.', 'The problem is that that is exactly what we have not done.', 'What we need is exactly the opposite.', 'The first public hearing is due to take place on 31 March.', 'The most important of these have already been mentioned.', 'We have already heard about all of this.', 'Who are you aiming to pillory for this?', 'A brief remark on cloning.', 'Madam President, it is perfectly simple.', 'We need an instrument to deal with this problem.', 'In my opinion, it is right to consider something like this.', 'This is just one of the many improvements proposed.', 'Thank you for your positive cooperation.', 'We have lost a lot of money.', 'Let me explain how I arrived at this image.', 'The fund is too small to achieve anything.', 'We need to find something better.', 'Why exactly?', 'We do not all need to reinvent the bicycle.', 'They are important to the attractiveness of a town.', 'That would take some of the strain off a city.', 'It is also important to take account of demographic change.', 'Our society is constantly ageing.', 'Anything else would simply promote the countryside.', 'We do not need an urban mobility observatory.', 'It also safeguards the use of personal data.', 'A revision of the current regulation was necessary.', 'However, this dialogue must be conducted honestly.', 'What is your position on this?', 'How is it currently being dealt with?', 'Hopefully, they would also find out what you did five years ago.', 'I believe that is very, very little.', 'There is no joint proposal for this election.', 'This is where Stockholm fails.', 'Are there adequate controls?', 'Unemployment cannot be lastingly combated in this way.', 'In this form, we will reject this programme.', 'Time is running out!', 'The choice is between the market and social policy.', 'This is the case of Aminatou Haidar.', 'That was my first request, Mr President.', 'The second request will follow immediately.', 'That is my personal opinion on the matter.', 'Do you have an opinion on this?', 'Europe must actively involve itself here.', 'We need cooperation, not confrontation.', 'I would like to put that in a political context.', 'I would like to ask you to reconsider this.', 'I would like to ask you to reconsider this.', 'Did Mrs Malmström explain this to you?', 'It did not answer my question, however.', 'I would be grateful if you could answer precisely.', 'Our view of the situation is exactly the same.', 'This is why we are supporting this motion.', 'Why is that?', 'I believe this is the challenge.', 'The two things cannot be compared.', 'They have deformed extremities and organs.', 'Can we accept responsibility for this?', 'This is a consistent approach.', 'Of course, it must also apply to imports.', 'This is a fundamental, ethical question.', 'I do not want to and I am not able to.', 'I do not believe that this is an exaggerated horror story.', 'We can push this through.', 'In any case, we need a one-stop shop.', 'That is not the case, however.', 'Cities are an important driving force behind development in Europe.', 'Is this still the case?', 'If so, what percentage were you thinking of?', 'Ireland shows that this is not the case.', 'It is very important; action needs to be taken quickly.', 'Our patients expect it.', 'Then we will have done a good job.', 'Indeed, why should they?', 'Our industry is investing money and manpower in development.', 'I am a farmer by profession.', 'I am already looking forward to your proposal.', 'We owe this to our citizens.', 'There is therefore an urgent need for action.', 'I would like to mention this once again.', 'We will abstain from voting on this amendment.', 'This will lead to significant cost increases.', 'I have a request for you, Mr Füle.', 'More work is urgently needed on this.', 'We are being transported to the concentration camp.', 'Thank you once again for everything that you have done for me.', 'Greetings to you all. See you in heaven.', 'Robert.', 'We see two major problems with this.', 'That is rather dishonest.', 'Or have we obstructed it?', 'These instruments are urgently needed.', 'When will the Commission submit this proposal?', 'What are you doing to speed things up?', 'How is this being achieved?', 'There have already been deaths and woundings.', 'Sudan was a failed state.', 'I suppose that this represents some sort of progress.', 'We are currently talking about 51 regions.', 'What about conflicts of interest?', 'Not all financial innovation is sound.', 'We are not going to step on your toes.', 'Why did it not include it?', 'At present things are not too satisfactory.', 'The communication contains some worrying messages.', 'I would like to thank you for this opportunity.', 'What have you in the Council done?', 'You have to change your position on this line.', 'Will you do so?', 'To my mind, it makes no economic sense.', 'It does not make humanitarian sense.', 'The industry is already in serious trouble.', 'For the moment, we do not have this type of quality information.', 'The problems we face are European.', 'We did not reach an agreement.', 'Let us have some action.', 'If it does not, it needs changing.', 'So we have got to be careful about that.', 'The first, of course, is jobs.', 'It is an aspect of the Internet that needs our attention.', 'We have to make sure that minorities also feel protected.', 'I would just like briefly to explain why.', 'That is why Amendment 81 is so important.', 'So I think it should be included.', 'This is a good report.', 'The situation has got much worse since then.', 'With this ban we are failing in both areas.', 'We should bear that in mind.', 'There is no easy response to this issue either.', 'If there was, some country would have found it by now.', 'That is our challenge today.', 'Four months later: nothing.', 'Three quick points.', 'It is actually a major opener.', 'The study was paid for by Parliament.', 'Under the current treaty rules, we are merely consulted.', 'Many of them are prepared to start immediately.', 'It would have strengthened them.', 'They wanted that.', 'Why hide behind the Commission?', 'The lack of reciprocity is not being addressed.', 'Tell me; I am all ears.', 'But you could not do even this today.', 'Only some data will go there.', 'SWIFT tells us that is not the case.', 'The United States administration tells us that is not the case.', 'Where are they?', 'This is the first major FTA.', 'This is a template.', 'We need to do it right.', 'Please do not get me wrong.', 'Employees in the EU deserve better.', 'That is indeed very disquieting.', 'We should not let it pass.', 'That is what we need to answer.', 'Madam President, I supported this report.', 'They are furious at the complete lack of transparency.', 'This is not how it should be in a democracy.', 'Criminal groups operate freely in the country.', 'The situation is completely unclear for the local people.', 'However, these are exceptional circumstances.', 'For example, what would be the exact role?', 'To whom would this person be accountable?', 'How would this improve the current situation?', 'We must resist this trend.', 'There are, however, a couple of issues.', 'I have some questions on taxes.', 'This agreement will enhance security on European territory.', 'Well done and thank you very much.', 'Let us try to avoid that.', 'I do not understand.', 'That is our red line.', 'Please, Council, try again.', 'Ten years ago, there was nothing.', 'China is moving and they move fast.', 'This legislation is essential for Europe.', 'So thank you for your comment.', 'Caning is a form of torture.', 'Serbia is a crucial part of that with this commitment...', 'I need to have a frank conversation with you.', 'You were addressing the new generations.', 'The Council has not completed the codecision.', 'You say: ‘ look at refugees ’.', '’ This will tarnish the Belgian Presidency.', 'I am sorry to say this; I say it in sadness.', 'In all this chaos, one thing was clear.', 'Let me speak clearly.', 'This has all gone too far and must be stopped.', 'We must not let this happen again.', 'That is clear.', 'Indeed, after several years it was rather overdue.', 'The aviation industry is massively important to Europe.', 'It is not just about monies.', 'What measures could it take?', 'But let us face it: it will not come easily.', 'I close by saying the following.', 'Should Assad be included or not?', 'What is your opinion?', 'We would like to hear that.', 'Do you want to threaten sanctions or not?', 'Open the debate.', 'You are the rotating Presidency.', 'You are Vice-President of the Commission.', 'You can take initiatives.', 'You should set the agenda.', 'I do not understand why.', 'I promise you: only this will save your position, and nothing else.', 'I think that will get support for you.', 'Explore your mandate.', 'Go ahead and tell us.', 'This was one of them.', 'Even the adoption of the document is questionable.', 'The new constitution raises questions on an international level.', 'These results are a call to order.', 'However, what sort of society does this programme envisage?', 'It was a real pleasure to work with you.', 'I know that we will be able to count on you.', 'Today, we need to go further.', 'Secondly, access to public contracts.', 'There is no time to waste.', 'All on-call time is counted as working time.', 'We must face up to reality.', 'My scepticism gives way to concern.', 'It is marked by a certain nonchalance.', 'Well then, two consequences inevitably flow from this.', 'There are natural disasters other than fires.', 'I am thinking of the tsunami.', 'I believe that we must go further.', 'Then you will see that this affects everyone.', 'I think that there are two parts to this debate.', 'There is no other solution.', 'I am really and truly, quietly, delighted about this.', 'That will not be enough, however.', 'However, we know that this issue is absolutely central.', 'Let us not give in too quickly to pessimism.', 'Many countries would be envious of these statistics.', 'There is no point in creating a European economic government.', 'I would like to quickly raise another point.', 'I believe we need to change direction.', 'That is not right, either.', 'I would like to thank him for this.', 'The political aspect is blocked.', 'Allow me to raise two points.', 'The EU ought to set an example in this area.', 'We cannot accept this.', 'My group and I share these concerns.', 'We cannot let each country solve this problem.', 'There has to be a European framework.', 'It must be flexible, but it must exist.', 'We must adopt a horizontal approach.', 'That is the question.', 'There is a need for greater flexibility.', 'We must also deal with this problem at its source.', 'It is restrictive, but we have no choice.', 'Thank you.', 'The text presented today is satisfactory.', 'Discrimination, of whatever kind, cannot be tolerated.', 'My thoughts are also with the victims.', 'I would first like to make the following observation.', 'They are no longer able to feed their animals.', 'Hundreds of farms have gone bankrupt.', 'This is a whole new ball game.', 'The answer is ‘ yes ’.', 'This is what this directive will enable.', 'Obviously, all this is going to upset a few habits.', 'All the technical conditions have been met.', 'We can accept this as an established fact.', 'Yes, I agree with you.', 'The first phase is complete.', 'In my opinion, this was another fundamental point.', 'Some of these purchases will be cross-border.', 'This is real progress.', 'We achieved that consensus.', 'That is quite right and proper.', 'The situation has never been as distressing as it is now.', 'I wonder where this is going to take us.', 'This needs to change.', 'This should also be followed up, though.', 'I have also listened to your statements, Commissioner.', 'This is not a healthy state of affairs.', 'This is topsy-turvy land.', 'Mr President, this crisis is a test for Europe.', 'Europe is not the sum total of 27 times the national interest.', 'It is now or never for Europe.', 'I am sorry, but this is madness.', 'This does not change anything in substance, however.', 'I should nevertheless like to make a few comments.', 'This is a fundamental issue.', 'I will name three of these.', 'On this point, the report is perfectly in order.', 'This is handled very well in the directive.', 'I am delighted with the result achieved, therefore.', 'Yet official Europe is at a dead end.', 'Ladies and gentlemen, cars represent freedom.', 'Unfortunately, I disagree.', 'Yet why did you not do more?', 'The Commission must continue in this vein.', 'Let their journeys not be in vain.', 'The final aspect is agriculture.', 'We are at a turning point.', 'My answer goes without saying.', 'I am looking forward to this.', 'I understand and support this.', 'That is the current reality.', 'Is there anything more ridiculous?', 'Yet what about the interests of European citizens?', 'Could it be that they are less important?', 'That is a fact.', 'I disagree with that.', 'The contrary is true.', 'That was my first point.', 'I will be very brief with my second point.', '” Nothing much has changed since then.', 'Obviously, all of that has to be stage-managed from Europe.', 'Are they going to introduce electric aeroplanes any time soon?', 'When is this madness going to stop?', 'Keep up the good work and keep toeing the right line.', 'I ask you to support this directive.', 'Thank you for your understanding.', 'Now it is a problem facing Europe.', 'First among these is refraining from causing inconvenience.', 'I do not think so.', 'However, our group thinks that more is needed.', 'These two aspects are closely related.', 'That is not the Europe we want to see.', 'Surely, that cannot be the correct interpretation.', 'This is an insult to democracy.', 'That is far too many.', 'The first of two focal points is energy efficiency: a great opportunity.', 'This is where the Eurobonds are necessary.', 'Action: that is what is needed.', 'Oh, yes, it was the protection of forests.', 'Long live Member States, long live citizens!', 'The impact of this cannot be underestimated.', 'The same thing is happening in Europe.', 'However, that final bill will still have to be paid.', 'The war in Libya goes on.', 'You are consistent.', 'For that reason I have foregone the photographs.', 'Europe must stand on the side of freedom.', 'The unthinkable has happened.', 'There is no such thing as zero risk.', 'Today, we need to take three steps.', 'The current system therefore does not work.', 'This, however, is just the beginning.', 'We are not imposing anything.', 'That is cast in stone in the legislation.', 'There has been quite some discussion about this.', 'The transport sector is important for our economy.', 'That will continue to be the case.', 'Yet, we are doing something really peculiar.', 'For me, personally, that is not consistent.', 'I appeal to you for more time.', 'But the Aker Group has long since gone.', 'It has become STX of Korea.', 'Something did not quite work out there.', 'Secondly, the current situation affects us all.', 'The financial crisis threatens a general European crisis.', 'But not in Poland.', 'At least, not so far.', 'Poland has confidence in the European institutions.', 'Thank you very much.', 'I should like to put the following question to you, President.', 'These organisations are operating legally in Europe today.', 'There is no politically justified genocide.', 'All must be named and condemned.', 'I share the view that this is a success.', 'The Bank granted a loan to Hungary.', 'This is a good thing.', 'It seems to me that we are moving in the right direction.', 'We must not discriminate against them.', 'The amendments tabled are sound.', 'Repetition should be avoided.', 'We support this Directive.', 'Will talks even take place?', 'Why did the world remain silent?', 'However, we do not know the facts of the situation.', 'The EU observers are helpless.', 'This is the sort of example that Iran provides.', 'We support the Resolution.', 'I support this Resolution.', 'Mr Fava is certainly to be commended.', 'Nonetheless, the law is not working.', 'Do not complain that the Union...', 'Do you not understand this?', 'We also discussed the Eastern Partnership this morning.', 'Did they not have that trillion?', 'I support them.', 'There is no such response from the political class.', 'That is not solidarity, that is hypocrisy.', 'This is an important area of macroregional cooperation.', 'I stress the word ‘ inconvenience ’.', 'I would like to ask the Commissioner for a reply.', 'There is one more thing.', 'This should all be found in this resolution.', 'That is what I wish for everyone.', 'My conclusions are as follows.', 'I think it would be a good idea.', 'Therefore, I would like to say one more thing.', 'All the rest is a matter for the free market.', 'Of course, promotion is not everything.', 'Liberty will triumph in Cuba.', 'Was that a joke?', 'However, Europeana is not such an entity.', 'How do you assess the programme?', 'Nevertheless, something must be done.', 'Thank you very much.', 'We would like it to be a European diplomacy.', 'This will enable you to be effective.', 'The second matter is that of representativeness.', 'This is something which we should guarantee.', 'We have to remember the Union ’ s fundamental principles.', 'It is time to act upon this report.', 'Bureaucracy must not ruin us.', 'Greater authority involves greater responsibility.', 'The dying cannot wait.', 'The Union is the largest donor of development aid.', 'We should be proud of this.', 'I believe that what we are doing is unnecessary.', 'Mr President, there are no ideal laws.', 'When will this happen?', 'Only now are we finding out.', 'This is something very important.', 'Thank you.', 'I would like to conclude with two more comments.', 'Thank you very much.', 'As a Parliament in a free Europe, we must...', 'Now it is the turn of the constitution.', 'The world is finally back to rights.', 'However, Europe is more than that.', 'More needs to be done.', 'Crises generate opportunities.', 'They are trying to get it under control, and not before time.', 'What role will commercial policy play in this context?', 'It is that which our society also needs to do.', 'Let us move forward with a fair view of the family!', 'However, my speech is an appeal.', 'End of quotation.', 'End of quotation.', 'End of quotation.', 'It is clear that this is not the answer.', 'Europe is our home.', 'This is certainly true of the Treaty of Lisbon.', 'Has the President of the Commission been taking any action?', 'We cannot agree with this proposal.', 'The financial and economic crisis is also a social crisis.', 'We consider these results to be very positive as well.', 'What would we expect from the EU?', 'Solidarity.', 'It is feared that the number of victims could increase.', 'However, it is now necessary to look forwards.', 'There are some principles and practices to be safeguarded.', 'Congratulations to the rapporteurs on their work.', 'We must do this or risk compromising our future.', 'We must face the facts.', 'There are three issues that must be tackled.', 'That is why this issue is so relevant.', 'The creation of the European Monetary Fund is crucial.', 'He is a human rights defender.', 'That is why we need to continue to improve these measures.', 'These regions are huge reservoirs of important resources.', 'We have to give something back.', 'I would like to make two proposals.', 'My second proposal concerns energy.', 'We have to take account of the positive experiences of the regions.', 'This way, it seems as though we are always starting from square one.', 'We will be equally active, but without concessions.', 'How are we going to support it?', 'What will be the basis for it?', 'The Commission and the new President must uphold this agenda.', 'I hope that you will succeed in your objectives.', 'The Commission explained to us that this would be impossible to achieve.', 'I would like to mention something else with regard to this commitment.', 'Thank you also for your support.', 'We cannot accept this.', 'I sincerely hope …', 'It is vital that this happens.', 'I think that is very positive.', 'I believe that is what is at stake.', 'Cohesion policy is a key policy for the EU.', 'I have researched this schooling system myself.', 'I am sorry that this report has not been debated.', 'In order to achieve these …', 'I would like to highlight three important aspects.', 'Thank you.', 'Romania has a considerable number of such populated settlements.', 'However, this development has generated ambivalent attitudes.', 'This is an unprecedented abuse.', 'Thank you.', 'Thank you.', 'Competition among operators does not work from this perspective.', 'Ultimately, it is always the consumer who pays.', 'Is this the best instrument available?', 'Please God.', 'This is a problem which has a number of different aspects to it.', 'This kind of violence is prevalent on a wide scale.', 'The second step is the one being taken today.', 'Thank you.', 'Thank you.', 'Thank you.', 'The mafia is the major cause of the crisis.', 'Starvation is the most powerful electoral factor in history.', 'I, too, welcome the Commission ’ s initiative.', 'We cannot put up with a similar situation here.', 'There is no production method which is 100% safe.', 'We will consider every legal option for implementing such a ban.', 'I would like to introduce another argument.', 'We actually do not know the exact figure.', 'However, we cannot just stop at this.', 'measures of this kind.', 'The era of cheap crude oil has gone.', 'These hospitals are supposedly unprofitable.', 'Why is this?', 'The answer according to the rules is ‘ yes ’.', 'Neither one nor the other can operate without each other.', 'I therefore believe that we are on the right track.', 'In actual fact, I do not feel that everything is absolutely fine.', 'Today, every day, we are moving in that direction.', 'One example is the Southern Corridor.', 'We cannot.', 'Who is going to pay for all this?', 'This has not happened everywhere.', 'Little or nothing has been done.', 'In this case, too, a good example has not been set.', 'Is this how the Commission respects directives?', 'Ten years have gone by and the deaths have continued.', 'The Member States and Europe must guarantee security.', 'Think of Guantánamo.', 'Europe is the fatherland of rights.', 'Mobility is now a right.', 'The Council should take it into proper account.', 'We need an effective and ongoing policy.', 'There are still many problems to be dealt with.', 'It is an ongoing environmental disaster.', 'It must do everything it can to achieve these goals.', 'This is the challenge we face.', 'I now turn to the report.', 'We accepted the request.', 'No information and no members of parliament are allowed in.', 'Europe looks on passively.', 'This is the most significant political fact.', 'It would be extremely dangerous to make distinctions.', 'Cesare Battisti is not a political refugee.', 'History demands it of us.', 'It will be difficult.', 'This method should be changed.', 'That is why we voted in favour of it.', 'It is time to stop talking.', 'The European Union needs to make its presence felt.', 'In today ’ s texts, we have this.', 'Europe wants to do organised crime an enormous favour.']\n",
            "['¿Quieren liberalizar los mercados?', 'Pero eso no significa desmantelarlos.', 'Ahora sí que empiezo.', 'La comunidad internacional no puede permanecer impasible ante esto.', 'Pero, sin embargo, hay que tener un resultado equilibrado.', 'Hoy sabemos ya para qué la quería.', 'Además, pide algunas otras que son desaconsejables.', 'No, hombre, no.', 'Por lo tanto, no le puedo seguir en eso.', 'Ya se sabe, señor Cappato.', 'Gracias por su generosidad, señor Presidente.', 'Lo ideal sería contar con medios materiales.', 'Creo que el trabajo es bastante difícil.', 'Por ello me siento satisfecho.', 'Nada de eso.', 'Nada más y muchas gracias.', 'Tenemos ya un derecho establecido en el nivel nacional.', 'Creo que tenemos que felicitarnos.', 'Es una pena que no nos escucharan.', '¡Háganlo ahora!', 'Se lo debemos verdaderamente a todas las víctimas.', 'Es un problema real.', 'Tenemos esa legitimidad.', 'Puede contar con nuestra solidaridad.', '¡Las mujeres con Zapatero!', 'Pero este texto tiene, además, un importante valor añadido.', 'El juicio de la historia está claro.', 'Las ruinas de la patria están seguras.', 'Tranquilos compañeros.', 'Ya nos vamos ».', 'Celebro las palabras del Comisario Cioloş.', 'Seamos, pues, consecuentes.', 'Ésta es una de las dos condiciones.', 'Efectivamente.', 'Y la verdad es que lo que nos jugamos es mucho.', 'Desde entonces hemos intentado resolver esta cuestión.', 'No lo hemos conseguido.', 'Casi nunca tienen salas y nunca disponen de interpretación.', 'Pero no es suficiente.', 'Tenemos una oportunidad.', 'públicas.', '¿Para qué sirve la Alianza de Civilizaciones?', 'Así debe ser.', 'Hablar no cuesta nada, pero hay que actuar.', 'Yo creo que no.', 'Por tanto, valemos lo mismo y merecemos lo mismo.', 'No termina aquí pues el parlamentario de este informe.', 'La propuesta inicial fue mala.', 'Pero no es suficiente.', 'Europa es el escenario adecuado para ello.', 'Y que se revisen los sistemas de control.', 'Y que se exija responsabilidad a la señora Merkel.', 'No puede ignorar que Hamburgo está en su Estado.', 'No puede ignorar sus responsabilidades.', 'Una epidemia no conoce fronteras.', 'Pedimos indemnizaciones.', 'Es Alemania la que tiene un grave problema de credibilidad.', 'Nada de eso: carece de crédito moral.', 'No podemos seguir cerrando los ojos.', 'Estas ideas son, se me dirá, elementales.', 'Por ello, el apoyo de la Unión es necesario.', 'Espero que el Consejo tome buena nota.', 'Es importante el despliegue de la acuicultura.', 'Nada de esto se ha hecho realidad.', 'Procedamos a algunas precisiones.', 'Adiós, pues, a la Presidencia española.', 'Usted ha tenido tiempo para relatarlos. Yo no.', 'Y una reflexión general.', 'No, y mil veces no.', 'En la actualidad, los proyectos se eternizan.', 'Sin demoras y sin esperar a más.', 'El resultado es decepcionante.', '¿Por qué no?', 'Lo merece.', 'También encomiable es la valentía de.', 'Vamos a entrar en campaña electoral.', 'Reactivemos nuestros valores.', 'Los agricultores valencianos no viven de las subvenciones.', 'Esa es la verdadera justicia.', 'Esa no es nuestra pretensión.', 'Por ello, mi felicitación.', 'Algo está pasando, y es evidente.', '¿Dónde hacemos todo esto?', 'Pues en la próxima reforma de la PAC.', '¡Buena suerte, Venezuela!', 'Quedan muchas cosas por hacer.', 'No es el caso, desde luego, del presente acuerdo.', 'Principalmente son tomates marroquíes.', 'Hemos recorrido mucho camino pero hay mucho por hacer.', 'Este es el riesgo.', 'Mi país, España, apenas ha comenzado con la experiencia.', 'Los casos son, sin embargo, de urgente necesidad.', 'Desde luego, no agradecemos ninguna de las referencias.', 'Es el caso de la agricultura.', 'Por eso hemos pedido, fundamentalmente, dos cosas.', 'Nada más lejos de la realidad.', 'existentes.', 'Me va a permitir que lo haga esta tarde con usted.', 'Por tanto, ¿que es lo que le quiero decir?', 'No sé, queridos colegas, si sueño.', 'Es su oportunidad.', 'Ya lo he dicho, es el momento de apostar por Europa.', 'Además, su capacidad de regeneración es muy limitada.', 'El Tratado es muy claro.', 'Hay que proteger las zonas sensibles.', 'Pero todas las zonas no son igualmente sensibles.', 'ciudadanos esperamos.', 'Me interesa destacar la participación de estos últimos.', '¿Usted conoce la Constitución Española?', 'Las cifras hablan por sí solas.', 'Es fundamental el diálogo social.', 'Muchas gracias a los cuatro ponentes.', 'Éste debería ser nuestro enfoque.', 'El tercer punto es la simplificación.', 'No queremos que cada uno intente ir por su lado.', 'Debemos asegurarnos de que esta distancia se reduce.', 'Se trataría de un instrumento importante.', 'Muchas veces confundimos las cosas.', 'Pero eso no es fraude, es despilfarro.', 'Hubo silencio, un tabú.', 'Para el Parlamento Europeo esto es inaceptable.', 'Muchas gracias.', 'No se puede medir todo por el mismo rasero.', '¿Sabe lo que es eso?', 'Señor Presidente, seré breve.', 'Lo comprendo perfectamente.', 'Es un tema que podemos discutir.', 'El problema es precisamente que no lo hemos hecho.', 'Lo que necesitamos es justo lo contrario.', 'La primera vista pública tendrá lugar el 31 de marzo.', 'Las más importantes ya han sido mencionadas.', 'Ya lo hemos escuchado todo a este respecto.', '¿A quién intentan ridiculizar con esto?', 'Una breve observación sobre la clonación.', 'Señora Presidenta, la cuestión es simple.', 'Necesitamos un instrumento para solucionar este problema.', 'A mi juicio, es acertado considerar algo así.', 'Esta es solo una de las muchas mejoras propuestas.', 'Gracias por su positiva cooperación.', 'Hemos perdido mucho dinero.', 'Permítame explicar cómo he llegado a esta conclusión.', 'El fondo es demasiado pequeño como para lograr algo.', 'Tenemos que encontrar algo mejor.', '¿Por qué exactamente?', 'No todos necesitamos reinventar la bicicleta.', 'Son importantes para el atractivo de la ciudad.', 'Esto descongestionará en parte las ciudades.', 'También es importante tener en cuenta el cambio demográfico.', 'Nuestra sociedad está envejeciendo constantemente.', 'Cualquier otra cosa fomentaría las zonas rurales.', 'No necesitamos un observatorio de movilidad urbana.', 'Además, también prevé la protección de la información personal.', 'Era necesario revisar el Reglamento vigente.', 'Sin embargo, ese diálogo se debe mantener con honestidad.', '¿Qué opina usted de todo esto?', '¿Cómo se está tratando este tema?', 'Esperemos que también descubran lo que hizo hace cinco años.', 'Y creo que es muy, muy poco.', 'No hay ninguna propuesta conjunta para estas elecciones.', 'Ése es el error del programa de Estocolmo.', '¿Existen controles adecuados?', 'El desempleo no puede ser combatido de esta manera.', 'En su forma actual, rechazaremos el programa.', '¡El tiempo se acaba!', 'La elección es entre el mercado y la política social.', 'Se trata del caso de Aminatou Haidar.', 'Esta ha sido mi primera petición, señor Presidente.', 'La segunda petición la realizaré inmediatamente.', 'Ésa es mi opinión personal sobre el asunto.', '¿Tiene usted alguna opinión al respecto?', 'Europa debe involucrarse activamente en este asunto.', 'Necesitamos cooperación, no confrontación.', 'Me gustaría poner eso mismo en un contexto político.', 'Me gustaría pedirle que lo reconsiderara.', 'Me gustaría pedirle que lo reconsiderara.', '¿Le explicó la señora Malmström este hecho?', 'Sin embargo, no respondió a mi pregunta.', 'Le agradecería que respondiera con precisión.', 'Nuestra opinión sobre la situación es exactamente la misma.', 'Por este motivo apoyamos esta propuesta.', '¿Por qué?', 'Creo que este es el reto.', 'No se pueden comparar ambas cosas.', 'Sus extremidades y órganos están deformados.', '¿Podemos asumir la responsabilidad por esto?', 'Este es un enfoque consistente.', 'Por supuesto, también debe aplicarle a las importaciones.', 'Esta es una cuestión fundamental y ética.', 'Yo no quiero ni puedo.', 'No considero que este sea un cuento de terror exagerado.', 'Podemos aprobar esto.', 'En cualquier caso, necesitamos una ventanilla única.', 'Sin embargo, este no es el caso.', 'Las ciudades son un importante motor para el desarrollo de Europa.', '¿Sigue siendo así?', 'Si lo es, ¿en qué porcentaje está pensando?', 'Irlanda demuestra que no es así.', 'Es algo muy importante; hay que actuar con rapidez.', 'Así lo esperan nuestros pacientes.', 'Entonces habremos hecho un buen trabajo.', 'En verdad, ¿por qué deberían hacerlo?', 'La industria invierte dinero y mano de obra en el desarrollo.', 'Soy agricultor de profesión.', 'Ya estoy deseando conocer su propuesta.', 'Se lo debemos a nuestros ciudadanos.', 'Por tanto, hay una necesidad urgente de acción.', 'Me gustaría mencionar esto una vez más.', 'Nos abstendremos de votar esta enmienda.', 'Esto hace que se incrementen los costes.', 'Tengo una petición para usted, señor Füle.', 'Y se necesita trabajar con este fin urgentemente.', 'Nos llevan al campo de concentración.', 'Gracias de nuevo por todo lo que habéis hecho por mí.', 'Saludos a todos. Nos vemos en el cielo.', 'Robert.', 'Observamos dos problemas principales al respecto.', 'Eso es bastante deshonesto.', '¿O la hemos obstruido?', 'Estos instrumentos se necesitan con urgencia.', '¿Cuándo presentará la Comisión esta propuesta?', '¿Qué está haciendo para acelerar las cosas?', '¿Cómo se está consiguiendo esto?', 'Ya se han producido víctimas mortales y heridos.', 'Sudán era un Estado desestructurado.', 'Supongo que eso representa algún tipo de progreso.', 'Actualmente hablamos de 51 regiones.', '¿Qué pasa con los conflictos de interés?', 'No toda la innovación financiera es sólida.', 'No vamos a pisarles.', '¿Por qué no lo incluyó?', 'En estos momentos las cosas no pintan muy bien.', 'La Comunicación contiene una serie de mensajes inquietantes.', 'Quisiera darles las gracias por esta oportunidad.', '¿Qué han hecho ustedes en el Consejo?', 'Tienen que cambiar su posición.', '¿Van a hacerlo?', 'A mi juicio, no tiene ningún sentido económico.', 'No tiene ningún sentido humanitario.', 'La industria tiene ya graves problemas.', 'Por el momento, no tenemos este tipo de información de calidad.', 'Los problemas a los que nos enfrentamos son europeos.', 'No hemos llegado a un acuerdo.', 'Actuemos.', 'Si no lo hace, necesita un cambio.', 'Así que tenemos que tener cuidado con eso.', 'La primera, por supuesto, es el empelo.', 'Es un aspecto de Internet que requiere nuestra atención.', 'Tenemos que proteger también a las minorías.', 'Me gustaría explicar brevemente porqué.', 'Por esta razón es tan importante la enmienda 81.', 'Por lo tanto, creo que debería estar incluido.', 'Este es un buen informe.', 'La situación ha empeorado mucho desde entonces.', 'Con esta prohibición estamos fracasando en ambos aspectos.', 'Tenemos que tener eso en cuenta.', 'Tampoco hay una respuesta sencilla a este problema.', 'Si la hubiese, algún país ya la habría encontrado.', 'Ese es el desafío actual.', 'Cuatro meses después: nada.', 'Tres comentarios breves.', 'De hecho es un importante abridor.', 'El estudio fue pagado por el Parlamento.', 'Según el tratado actual, estamos siendo meramente consultados.', 'Muchos de ellos están preparados para comenzar de inmediato.', 'Les habría fortalecido.', 'Ellos lo deseaban.', '¿Por qué se escuda detrás de la Comisión?', 'No tiene en cuenta que no hay reciprocidad.', 'Dígame cómo explicárselo.', 'Pero no han podido hacerlo ni siquiera hoy.', 'Sólo algunos datos irán allí.', 'El SWIFT nos dice que no es así.', 'La Administración estadounidense nos dice que no es así.', '¿Dónde están?', 'Éste es el primer acuerdo de libre comercio importante.', 'Se trata de una plantilla.', 'Tenemos que hacerlo bien.', 'Por favor, no me malinterpreten.', 'Los empleados de la UE merecen algo mejor.', 'Verdaderamente eso es muy poco tranquilizador.', 'No deberíamos olvidarlo.', 'Eso es a lo que debemos responder.', 'Señora Presidenta, he apoyado este informe.', 'Les indigna la completa falta de transparencia.', 'Esto no debería ser posible en una democracia.', 'Los grupos criminales operan con libertad en el país.', 'La situación es totalmente incierta para los nativos.', 'Sin embargo, estas son circunstancias excepcionales.', 'Por ejemplo, ¿cuál sería su función exacta?', '¿Ante quién respondería esta persona?', '¿Cómo mejoraría esto la situación actual?', 'Debemos resistirnos a esa tendencia.', 'Hay, no obstante, un par de problemas.', 'Tengo algunas preguntas relativas a los impuestos.', 'Este acuerdo mejorará la seguridad en territorio europeo.', 'Buen trabajo y muchas gracias.', 'Tratemos de evitar eso.', 'No lo entiendo.', 'Esa es nuestra línea roja.', 'Por favor, Consejo, inténtenlo de nuevo.', 'Hace diez años no tenían nada.', 'China se mueve y lo hace rápido.', 'La legislación resulta esencial para Europa.', 'Así que, muchas gracias por su comentario.', 'Además, la flagelación es una forma de tortura.', 'Serbia forma una parte fundamental de esa integración con este compromiso …', 'Necesito tener una conversación sincera con usted.', 'Usted se dirigía a las nuevas generaciones.', 'El Consejo no ha completado la codecisión.', 'Usted dice: « consideren a los refugiados ».', '» Esto deslucirá la Presidencia belga.', 'Siento decirlo y lo digo con tristeza.', 'En todo este caos, una cosa quedó clara.', 'Voy a hablar claro.', 'Se ha ido muy lejos y hay que ponerle fin.', 'No permitamos que esto vuelva a suceder.', 'Eso está claro.', 'De hecho, tras varios años ya iba siendo hora.', 'El sector de la aviación es sumamente importante para Europa.', 'No se trata simplemente de dinero.', '¿Qué medidas podría adoptar?', 'Pero seamos realistas: no será fácil.', 'Para terminar, quiero decir lo siguiente.', '¿Debe incluirse a Assad o no?', '¿Cuál es su opinión?', 'Nos gustaría saberlo.', '¿Quiere amenazarles con sanciones o no?', 'Inicie el debate.', 'Usted es la Presidenta rotatoria.', 'Es la Vicepresidenta de la Comisión.', 'Usted puede tomar iniciativas.', 'Usted debe establecer el orden del día.', 'No entiendo por qué.', 'Se lo prometo: solo así conservará su puesto.', 'Creo que así conseguiría apoyos.', 'Explore su mandato.', 'Adelante, cuéntenoslo.', 'Esta fue una de ellas.', 'Incluso la aprobación del documento es cuestionable.', 'La constitución nueva suscita preguntas a nivel internacional.', 'Estos resultados son una llamada al orden.', 'Sin embargo, ¿qué tipo de sociedad contempla este programa?', 'Fue un verdadero placer trabajar con usted.', 'Sé que podremos contar con usted.', 'Hoy, necesitamos ir más allá.', 'En segundo lugar, el acceso a los contratos públicos.', 'No hay tiempo que perder.', 'Todo el tiempo de guardia se cuenta como tiempo de trabajo.', 'Debemos enfrentarnos a la realidad.', 'Mi escepticismo alimenta la preocupación.', 'Se caracteriza por una cierta despreocupación.', 'Pues bien, de esto se derivan dos consecuencias.', 'Hay desastres naturales distintos de los incendios.', 'Estoy pensando en los tsunamis.', 'Creo que debemos ir más allá.', 'Luego verán que esto nos afecta a todos.', 'Creo que este debate tiene dos partes.', 'No hay otra solución.', 'Lo que realmente me complace con plena tranquilidad.', 'Sin embargo, eso no bastará.', 'Sin embargo, sabemos que es un tema central.', 'No caigamos prematuramente en el pesimismo.', 'Muchos países envidiarían estas estadísticas.', 'No tiene sentido crear un gobierno económico europeo.', 'Quiero plantear rápidamente otro punto.', 'Creo que debemos corregir el rumbo.', 'Eso tampoco es correcto.', 'Me gustaría darle las gracias.', 'El aspecto político está bloqueado.', 'Permítanme que aborde dos puntos.', 'La UE debería dar ejemplo en este ámbito.', 'No podemos aceptar esto.', 'Mi grupo y yo compartimos esas preocupaciones.', 'No podemos dejar que cada país solucione este problema.', 'Tiene que haber un marco europeo.', 'Tiene que ser flexible, pero debe existir.', 'Tenemos que adoptar un enfoque horizontal.', 'Esa es la cuestión.', 'Necesitamos una mayor flexibilidad.', 'También debemos acatar este problema desde su origen.', 'Es restrictivo, pero no tenemos otra opción.', 'Muchas gracias.', 'El texto que se ha presentado hoy es satisfactorio.', 'No podemos tolerar ningún tipo de discriminación.', 'Mis pensamientos están también con las víctimas.', 'En primer lugar, quisiera hacer la siguiente observación.', 'Ya no pueden dar de comer a sus animales.', 'Han quebrado cientos de explotaciones ganaderas.', 'Es una situación totalmente distinta.', 'La respuesta es « sí, pero ».', 'Esto es lo que esta Directiva hace posible.', 'Obviamente, todo esto va a alterar algunos hábitos.', 'Han cumplido con todos los requisitos técnicos.', 'Podemos constatar que es un hecho.', 'Sí, estoy de acuerdo con usted.', 'La primera fase ya está terminada.', 'En mi opinión este ha sido otro punto fundamental.', 'Algunas de estas compras serán transfronterizas.', 'Esto es un progreso real.', 'Hemos logrado el consenso.', 'Es algo totalmente apropiado y cierto.', 'La situación nunca ha sido tan alarmante como ahora ».', 'Me pregunto a dónde nos va a llevar esto.', 'Esto necesita cambiar.', 'Aún así, debería hacer un seguimiento de ello.', 'También he estado escuchando sus declaraciones, Comisario.', 'No se trata de una situación sana.', 'El mundo está patas arriba.', 'Señor Presidente, esta crisis representa una prueba para Europa.', 'Europa no es la suma de 27 intereses nacionales.', 'Para Europa, es ahora o nunca.', 'Lo siento, pero esto es una locura.', 'No obstante, eso no cambia nada en esencia.', 'De todos modos, me gustaría hacer unos comentarios.', 'Este es un tema fundamental.', 'Mencionaré tres de ellas.', 'En este punto, el informe está perfectamente en orden.', 'Esto está muy bien tratado en la Directiva.', 'Me congratula, por tanto, el resultado obtenido.', 'Pero la Europa oficial está en punto muerto.', 'Señorías, los coches suponen libertad.', 'Por desgracia, yo no estoy de acuerdo.', 'Sin embargo, ¿por qué no hacen más?', 'La Comisión debe continuar en esa línea.', 'Esperemos que su viaje no sea en vano.', 'El último aspecto es el de la agricultura.', 'Estamos en un momento decisivo.', 'Mi respuesta se sobrentiende.', 'Espero que así sea.', 'Entiendo este argumento y lo respaldo.', 'Ésa es la realidad a día de hoy.', '¿Hay algo más ridículo que eso?', 'Y ¿qué hay de los intereses de los ciudadanos europeos?', '¿Será tal vez que son menos importantes?', 'Eso es un hecho.', 'No estoy de acuerdo.', 'Todo lo contrario.', 'Ese era mi primer punto.', 'Seré muy breve con mi segundo punto.', 'Pocas cosas han cambiado desde entonces.', 'Como es obvio todo ello debe ser dirigido desde Europa.', '¿Introducirán aviones eléctricos pronto?', '¿Cuándo va acabar esta locura?', 'Sigan trabajando así de bien y en la línea adecuada.', 'Les pido que apoyen esta Directiva.', 'Gracias por su comprensión.', 'Ahora es un problema que afecta a Europa.', 'La primera de esas obligaciones es no causar molestias.', 'No lo creo.', 'Sin embargo, nuestro grupo opina que se necesita mucho más.', 'Estos dos aspectos están estrechamente relacionados.', 'Esa no es la Europa que queremos ver.', 'Ciertamente esa no es la interpretación correcta.', 'Esto es un insulto a la democracia.', 'Se trata de un número muy elevado.', 'Todavía hay un trecho del dicho al hecho.', 'Aquí es donde son necesarios los eurobonos.', 'Acción, eso es lo que hace falta.', 'Oh, sí, era la protección de los bosques.', '¡Vivan los Estados miembros y vivan los ciudadanos!', 'No podemos subestimar el impacto de todo ello.', 'Lo mismo está ocurriendo en Europa.', 'Sin embargo, esa factura final todavía tiene que pagarse.', 'La guerra en Libia continúa.', 'Usted es coherente.', 'Por ello he dejado a un lado las fotografías.', 'Europa debe estar al lado de la libertad.', 'Lo impensable ha ocurrido.', 'No existe el riesgo cero.', 'Hoy necesitamos dar tres pasos.', 'El sistema actual no funciona.', 'Esto, no obstante, es solo el principio.', 'No estamos imponiendo nada.', 'La legislación lo establece de forma definitiva.', 'Se ha debatido extensamente sobre esta cuestión.', 'El sector del transporte es importante para nuestra economía.', 'Eso sigue sucediendo.', 'Aun así, estamos haciendo algo muy peculiar.', 'Personalmente, opino que eso no es coherente.', 'Le pido más tiempo.', 'Pero Aker hace mucho que ha desaparecido.', 'Se ha convertido en el Grupo STX de Corea.', 'Algo no funcionó bien allí.', 'En segundo lugar, la situación actual nos afecta a todos.', 'La crisis financiera amenaza con una crisis europea general.', 'Pero no en Polonia.', 'Al menos, no hasta el momento.', 'Polonia tiene confianza en las instituciones europeas.', 'Muchísimas gracias.', 'Quiero hacerle la siguiente pregunta, Presidente.', 'En la actualidad estas organizaciones operan de forma legal en Europa.', 'Ningún genocidio puede justificarse políticamente.', 'Todos deben ser reconocidos y condenados.', 'Comparto la opinión de que esto es un éxito.', 'El Banco concedió un préstamo a Hungría.', 'Esto es algo positivo.', 'Me parece que vamos en la dirección adecuada.', 'No debemos discriminarlos.', 'Las enmiendas presentadas son firmes.', 'Se debería evitar la repetición.', 'Apoyamos esta Directiva.', '¿Se mantendrán siquiera conversaciones?', '¿Cómo es que el mundo no dijo nada?', 'No obstante, no conocemos los hechos de la situación.', 'Los observadores de la Unión Europea están indefensos.', 'Este es el tipo de ejemplo que Irán aporta.', 'Apoyamos la Resolución.', 'Apoyo esta Resolución.', 'El señor Fava es realmente digno de elogio.', 'No obstante, la ley no funciona.', 'No se quejen de que la Unión...', '¿No lo entienden?', 'También hemos debatido sobre la Asociación Oriental.', '¿Acaso no tenían esos miles de millones antes?', 'Y yo la apoyo.', 'No existe tal respuesta por parte de la clase política.', 'Eso no es solidaridad, sino hipocresía.', 'Se trata de una importante área de cooperación macro regional.', 'Hago hincapié en la palabra « molestias ».', 'Quiero pedirle al Comisario una respuesta.', 'Hay un elemento más.', 'Todo ello debería figurar en esta resolución.', 'Eso es lo que deseo para todo el mundo.', 'Mis conclusiones son las siguientes.', 'Creo que sería una buena idea.', 'Por tanto, quisiera decir algo más.', 'El resto es un asunto de libre mercado.', 'Naturalmente, la promoción no lo es todo.', 'La libertad triunfará en Cuba.', '¿Era una broma?', 'Sin embargo, Europeana no es una entidad de ese tipo.', '¿Cómo valora el programa?', 'Sin embargo, es necesario hacer algo.', 'Muchas gracias.', 'Nos gustaría que este representara una diplomacia europea.', 'Esto le permitirá ser eficiente.', 'El segundo temor es el de la representatividad.', 'Es algo que deberíamos garantizar.', 'Debemos recordar los principios fundamentales de la Unión.', 'Es hora de aplicar este informe.', 'La burocracia no debe destruirnos.', 'Mayor autoridad implica una mayor responsabilidad.', 'Los moribundos no pueden esperar.', 'La unión es el mayor donante de ayuda al desarrollo.', 'Deberíamos estar orgullosos de esto.', 'Creo que lo que estamos haciendo no es necesario.', 'Señor Presidente, no hay leyes ideales.', '¿Cuándo ocurrirá esto?', 'Es ahora cuando estamos empezando a averiguarlo.', 'Se trata de algo muy relevante.', 'Gracias por su atención.', 'Me gustaría acabar con otros dos comentarios.', 'Muchas gracias.', 'Como Parlamento en una Europa libre, tenemos que....', 'Ahora le toca a la Constitución.', 'El mundo por fin vuelve a su sitio.', 'No obstante, Europa es más que eso.', 'Se tiene que hacer más.', 'Las crisis generan oportunidades.', 'Están intentando tenerlo bajo control y no antes de tiempo.', '¿Qué papel va a tener la política comercial en este contexto?', 'Eso es lo que nuestra sociedad necesita también.', '¡Progresemos con una visión justa de la familia!', 'Sin embargo, mi intervención me reclama.', 'Fin de la cita.', 'Fin de la cita.', 'Fin de la cita.', 'Es evidente que esta no es la respuesta.', 'Europa es nuestro hogar.', 'Y otro tanto podemos decir del Tratado de Lisboa.', '¿Ha adoptado alguna iniciativa el Presidente de la Comisión?', 'No podemos estar de acuerdo con esta propuesta.', 'La crisis financiera y económica es también una crisis social.', 'También consideramos muy positivos estos resultados.', '¿Qué esperaríamos entonces de la UE?', 'Solidaridad.', 'Se teme que el número de víctimas podría aumentar.', 'Sin embargo, ahora es necesario mirar hacia delante.', 'Hay algunos principios y prácticas que hay que proteger.', 'Felicidades a los ponentes por su trabajo.', 'Debemos hacerlo o arriesgar nuestro futuro.', 'Debemos afrontar la realidad.', 'Se han de afrontar tres cuestiones.', 'Es por eso que este tema es tan relevante.', 'La creación del Fondo Monetario Europeo es crucial.', 'Es un defensor de los derechos humanos.', 'Por eso necesitamos seguir mejorando estas medidas.', 'Estas zonas son reservas enormes de recursos importantes.', 'Tenemos que dar algo a cambio.', 'Quisiera hacer dos propuestas.', 'Mi segunda propuesta tiene que ver con la energía.', 'Debemos tener en cuenta las experiencias positivas de las regiones.', 'Al hacerlo, al parecer siempre volvemos al principio.', 'Estaremos igualmente activos, pero sin concesiones.', '¿Cómo vamos a respaldar el proyecto?', '¿En qué bases se asentará?', 'La Comisión y el nuevo Presidente deben mantener esta agenda.', 'Espero que tenga éxito con sus objetivos.', 'La Comisión nos ha explicado que sería irrealizable.', 'Quiero hacer otro apunte respecto a esta propuesta.', 'Gracias por su apoyo.', 'No podemos aceptar esto.', 'Espero sinceramente...', 'Es fundamental que esto suceda.', 'Me parece muy positivo.', 'Creo que eso es lo que está en juego.', 'La política de cohesión es una política fundamental para la UE.', 'Yo misma he investigado este sistema escolar.', 'Lamento que no se haya debatido este informe.', 'Para conseguirlos …', 'Me gustaría destacar tres aspectos importantes.', 'Gracias.', 'Rumania tiene un número considerable de este tipo de ciudades.', 'Sin embargo, esta evolución ha generado actitudes ambivalentes.', 'Esto constituye un abuso sin precedentes.', 'Gracias.', 'Gracias.', 'La competencia entre operadores no funciona desde esta perspectiva.', 'Al final, siempre es el consumidor el que paga.', '¿Es la mejor herramienta disponible?', '¡Dios lo quiera!', 'Se trata de un problema en el que influyen aspectos diferentes.', 'Este tipo de violencia está muy extendida.', 'La segunda medida es la que se está adoptando hoy.', 'Gracias.', 'Gracias.', 'Gracias.', 'La mafia es la principal causa de la crisis.', 'El hambre es el factor electoral más potente de la historia.', 'Yo también valoro positivamente la iniciativa de la Comisión.', 'No podemos permitir una situación similar aquí.', 'No existe un método de producción 100% seguro.', 'Consideraremos toda acción legal para aplicar tal prohibición.', 'Me gustaría presentar otro argumento.', 'En realidad desconocemos la cifra exacta.', 'Sin embargo, no podemos quedarnos aquí.', 'resistencia social que provocan.', 'La época del petróleo crudo barato ha pasado.', 'Supuestamente estos hospitales no son rentables.', '¿Y ello a que se debe?', 'Según las normas, la respuesta es « sí ».', 'Ni unas ni otras pueden operar de manera independiente.', 'Por tanto, creo que vamos por buen camino.', 'De hecho, no creo que todo vaya perfectamente.', 'En la actualidad nos movemos cada día en esa dirección.', 'Un ejemplo es el corredor meridional.', 'No podemos.', '¿Quién va a pagar todo esto?', 'Esto no ha ocurrido en todos los sitios.', 'Se ha hecho poco o nada.', 'En este caso tampoco se ha establecido un buen ejemplo.', '¿Es así como la Comisión respeta las directivas?', 'Han pasado diez años y las muertes continúan.', 'Los Estados miembros y Europa tienen que garantizar la seguridad.', 'Basta con pensar en Guantánamo.', 'Europa es la patria de los derechos.', 'Actualmente, la movilidad es un derecho.', 'El Consejo debería tomarlo debidamente en cuenta.', 'Necesitamos una política eficaz y constante.', 'Quedan muchos problemas por resolver.', 'Es una constante catástrofe medioambiental.', 'Tiene que hacer todo lo posible para lograr estos objetivos.', 'Ese es el reto al que nos enfrentamos.', 'Paso a centrarme en el informe.', 'Aceptamos aquella petición.', 'No permiten que entre información ni diputados del Parlamento.', 'Europa observa pasivamente.', 'Este es el hecho político más importante.', 'Hacer distinciones sería extremadamente peligroso.', 'Cesare Battisti no es un refugiado político.', 'La historia nos lo exige.', 'Será difícil.', 'Este método tiene que cambiar.', 'Por ello hemos votado a favor del informe.', 'Es hora de dejar de hablar.', 'La Unión Europea debe hacer sentir su presencia.', 'En los textos de hoy tenemos esto.', 'Europa quiere hacerle un enorme favor al crimen organizado.']\n",
            "['¿Queremos liberalizar los mercados?', 'Sin embargo, esto no significa desmantelarlos.', 'Ahora voy a empezar.', 'La comunidad internacional no puede permanecer indiferente.', 'Sin embargo, debe haber un resultado equilibrado.', 'Ahora sabemos por qué lo quería.', 'En segundo lugar, algunas de sus sugerencias son inadmisibles.', 'No es lo que se necesita.', 'Por tanto, no puedo coincidir con usted en este punto.', 'Ya puede verse, señor Cappato.', 'Gracias por su generosidad, señor Presidente.', 'La solución ideal sería utilizar medios físicos.', 'Creo que el trabajo es bastante difícil.', 'Me alegra que así sea.', 'No es así en absoluto.', 'Muchas gracias, eso es todo.', 'Ya tenemos una ley establecida a nivel nacional.', 'Creo que debemos felicitarnos.', 'Es una pena que nadie nos haya escuchado.', 'Tal vez debería hacerlo ahora mismo.', 'Debemos hacerlo por todos los víctimas.', 'Es un problema real.', 'Tenemos ese derecho.', 'Podemos contar con nuestra solidaridad.', '¡Mujeres por Zapatero!', 'Sin embargo, este texto tiene valor añadido.', 'La historia ha sido clara.', 'Los cenizas de la patria están a salvo.', 'No se preocupen, compañeros.', 'Ahora nos vamos.', 'Me alegro de lo que ha dicho el señor Cioloş.', 'Por tanto, debemos ser consistentes.', 'Esto es uno de los dos requisitos.', 'De hecho, lo es.', 'La verdad es que hay mucho en juego.', 'Desde entonces, hemos estado tratando de resolver este problema.', 'No hemos conseguido ello.', 'Raras veces tienen habitaciones y nunca tienen traducción.', 'No es suficiente.', 'Tenemos una oportunidad.', 'libertades públicas.', '¿Qué es lo que tiene la Alianza de Civilizaciones?', 'Debería ser así.', 'Hablar no cuesta nada, pero tenemos que actuar.', 'No creo que lo sea.', 'Valoramos lo mismo y merecemos lo mismo.', 'El paso parlamentario de este informe no ha terminado, por tanto.', 'El primer borrador era un malo.', 'Eso no es suficiente.', 'Europa es el escenario adecuado para este fin.', 'Y pido que se revisen los sistemas de control.', 'Y que la señora Merkel asuma la responsabilidad.', 'No puede ignorar que Hamburgo está en su país.', 'No puede ignorar sus responsabilidades.', 'Una epidemia no tiene fronteras.', 'Preguntamos por la indemnización.', 'Es Alemania la que tiene un problema de credibilidad serio.', 'No es así: carece de moralidad.', 'Ya no podemos ignorar la situación.', 'Algunos dirán que estas ideas son elementales.', 'Por tanto, el apoyo de la UE es necesario.', 'Espero que el Consejo tome en consideración esto.', 'La expansión de la acuicultura es importante.', 'Nada de esto ha ocurrido.', 'Ahora vamos a pasar a los detalles.', 'Adiós, entonces, a la Presidencia española.', 'A diferencia de mí, usted ha tenido tiempo de hablar de ellos.', 'Tengo una idea general.', 'No, mil veces no.', 'En la actualidad, los proyectos se prolongan indebidamente.', 'Debe hacerse sin demora y sin esperar más.', 'Es un resultado desalentador.', '¿Por qué no?', 'Esa es la razón.', '', 'Ya se va a iniciar una campaña electoral en España.', 'Reinvigoremos nuestros valores.', 'Los agricultores valencianos no viven de subsidios.', 'Eso es justicia real.', 'No es nuestra intención.', 'Por eso, felicito a la señora.', 'Se está produciendo algo y es bastante obvio.', '¿Dónde hacemos todo esto?', 'Bueno, en la próxima reforma de la PAC.', '¡Buena suerte, Venezuela!', 'Aún queda mucho por hacer.', 'Es evidente que el acuerdo actual no lo hace.', 'Estos productos son principalmente tomates marroquíes.', 'Hemos avanzado mucho pero hay mucho por hacer.', 'Ese es el riesgo.', 'Mi país, España, solo ha empezado a vivir esta experiencia.', 'Sin embargo, estos casos son de urgencia.', 'Naturalmente, no nos gusta ninguna de estas referencias.', 'Eso es así en el campo de la agricultura.', 'Por eso hemos pedido dos cosas.', 'Nada podría ser más alejado de la verdad.', 'existentes.', 'Permítanme hacerlo con usted esta noche.', 'Esa es la conclusión que quiero hacer.', 'No sé si estoy soñando, señorías.', 'Esta es su oportunidad.', 'Como ya he dicho, es el momento de apoyar a Europa.', 'Además, su capacidad de regeneración es muy limitada.', 'El Tratado es muy claro.', 'Se debe proteger a las zonas sensibles.', 'Sin embargo, no todas las áreas son igualmente sensibles.', 'los ciudadanos, los desean.', 'Quisiera destacar la participación del público.', '¿Conoce el texto de la Constitución española?', 'Las cifras hablan por sí mismas.', 'El diálogo social es vital.', 'Gracias a todos los cuatro ponentes.', 'Deberíamos adoptar este enfoque.', 'El tercer punto es la simplificación.', 'No queremos que todos sean independientes.', '', 'Eso sería un instrumento muy eficaz.', 'Estas cosas suelen agruparse.', 'Sin embargo, esto no es el fraude, sino la desperdicia.', 'Había un silencio, un tabú.', 'El Parlamento Europeo considera esto inaceptable.', 'Muchas gracias.', 'No todo puede medirse con el mismo palo.', '¿Sabe usted qué es esto?', 'Señor Presidente, quiero mantenerlo breve.', 'Tengo mucho cariño por eso.', 'Esto es algo que podemos hablar.', 'El problema es que no hemos hecho exactamente eso.', 'Lo que necesitamos es lo contrario.', 'La primera audiencia pública se celebrará el 31 de marzo.', 'Las más importantes ya han sido mencionadas.', 'Ya hemos oído todo esto.', '¿Quiénes van a ser los que se pongan en ridículo?', 'Un breve comentario sobre la clonación.', 'Señora Presidenta, es perfectamente simple.', 'Necesitamos un instrumento para hacer frente a este problema.', 'En mi opinión, es correcto considerar algo así.', 'Esto es solo uno de los muchos cambios propuestos.', 'Gracias por su colaboración positiva.', 'Hemos perdido mucho dinero.', 'Permítanme explicar cómo he llegado a esta imagen.', 'El fondo es demasiado pequeño para lograr nada.', 'Tenemos que encontrar algo mejor.', '¿Por qué?', 'No todos tenemos que reinventar el bicicleta.', 'Son importantes para la atractividad de una ciudad.', 'Esto aliviaría la carga de una ciudad.', 'Es importante tener en cuenta el cambio demográfico.', 'Nuestra sociedad se está envejeciendo constantemente.', 'Lo demás solo promovería la campiña.', 'No necesitamos un observatorio de la movilidad urbana.', 'También protege el uso de datos personales.', 'Una revisión de la actual regulación era necesaria.', 'Sin embargo, este diálogo debe ser honesto.', '¿Cuál es su posición en este asunto?', '¿Cómo se está tratando actualmente?', 'Espero que también descubran lo que hiciste hace cinco años.', 'Creo que es muy poco.', 'No hay propuesta conjunta para esta elección.', 'Esto es donde falla Estocolmo.', '¿Hay controles adecuados?', 'No se puede combatir de esta forma el paro a largo plazo.', 'En esta forma, rechazaremos este programa.', '¡El tiempo se está acabando!', 'El debate es entre el mercado y la política social.', 'Este es el caso de Aminatou Haidar.', 'Ese fue mi primer pedido, señor Presidente.', 'El segundo pedido vendrá inmediatamente después.', 'Es mi opinión personal sobre el tema.', '¿Tiene una opinión sobre esto?', 'Europa debe involucrarse activamente en ello.', 'Necesitamos cooperación, no confrontación.', 'Quisiera ponerlo en el contexto político.', 'Me gustaría que reconsiderara esta decisión.', 'Me gustaría que reconsiderara esta decisión.', '¿Se lo ha explicado a usted la señora Malmström?', 'No obstante, no me ha respondido.', 'Me gustaría que respondiera con precisión.', 'Nuestra visión de la situación es exactamente la misma.', 'Por eso apoyamos esta moción.', '¿Por qué?', 'Creo que esto es el reto.', 'Las dos cosas no pueden compararse.', 'Tienen extremidades y órganos deformados.', '¿Podemos asumir la responsabilidad por esto?', 'Se trata de una postura consistente.', 'Por supuesto, también debe aplicarse a las importaciones.', 'Se trata de una cuestión fundamental, ética.', 'No quiero y no puedo.', 'No creo que sea una historia de horror exagerada.', 'Podemos impulsar este proyecto.', 'En cualquier caso, necesitamos un único punto de encuentro.', 'Sin embargo, no es así.', 'Las ciudades son una fuerza impulsora importante para el desarrollo en Europa.', '¿Es esto todavía así?', '¿Y cuál fue la proporción que se tenía en mente?', 'Irlanda demuestra que esto no es así.', 'Es muy importante; se necesita actuar con rapidez.', 'Nuestros pacientes esperan que lo hagamos.', 'Entonces habremos hecho un buen trabajo.', 'De hecho, ¿por qué deberían?', 'Nuestra industria está invirtiendo dinero y mano de obra en el desarrollo.', 'Yo soy agricultor por profesión.', 'Ya estoy esperando su propuesta.', 'Debemos esto a nuestros ciudadanos.', 'Por tanto, es necesario actuar con urgencia.', 'Quisiera mencionarlo una vez más.', 'No votaremos en contra de esta enmienda.', 'Esto provocará un aumento significativo de los costes.', 'Tengo una petición para usted, señor Füle.', 'Se necesita urgentemente más trabajo en este ámbito.', 'Estamos siendo trasladados al campo de concentración.', 'Gracias otra vez por todo lo que ha hecho por mí.', '', 'Robert.', 'Veemos dos grandes problemas con esto.', 'Eso es bastante deshonesto.', '¿O hemos obstaculizado el proceso?', 'Estos instrumentos son urgentes.', '¿Cuándo presentará la Comisión esta propuesta?', '¿Qué estás haciendo para acelerar las cosas?', '¿Cómo se está logrando?', 'Ya han ocurrido muertes y heridas.', 'El Sudán era un estado fallido.', 'Supongo que esto representa algún progreso.', 'Actualmente estamos hablando de 51 regiones.', '¿Qué hay de conflictos de intereses?', 'No todo el innovador financiero es sano.', 'No vamos a pisarle los talones.', '¿Por qué no lo incluyó?', 'En la actualidad las cosas no están demasiado satisfactorias.', 'La comunicación contiene algunas alarmantes mensajes.', 'Quisiera agradecerle esta oportunidad.', '¿Qué ha hecho el Consejo?', 'Tiene que cambiar su posición en esta línea.', '¿Lo hará?', 'Para mi, no tiene sentido económico.', 'No tiene sentido humanitario.', 'La industria ya está en grave apuros.', 'Por el momento, no disponemos de este tipo de información de calidad.', 'Los problemas que enfrentamos son europeos.', 'No hemos llegado a un acuerdo.', 'Hagamos algo.', 'Si no lo hace, necesita cambiarse.', 'Por eso tenemos que ser cuidadosos.', 'Naturalmente, el primer punto es los empleos.', 'Es un aspecto de la red que necesita nuestra atención.', '', 'Solo quiero explicar brevemente por qué.', 'Por eso, la enmienda 81 es tan importante.', 'Por tanto, creo que debería incluirse.', 'Este es un buen informe.', 'La situación ha empeorado desde entonces.', 'Con esta prohibición estamos fallando en ambos aspectos.', 'Debemos tenerlo en cuenta.', 'No hay respuesta fácil a esta cuestión.', 'Si hubiera, algún país lo habría encontrado ya.', 'Ese es nuestro desafío hoy.', 'Cuatro meses después: nada.', 'Tres puntos rápidos.', 'En realidad, es un gran abreviador.', 'El estudio fue financiado por el Parlamento.', 'Según las reglas del Tratado, solo nos consultan.', 'Muchos de ellos están preparados para empezar de inmediato.', 'Esto habría fortalecido a los países.', 'Ellos lo quisieron.', '¿Por qué escondirse detrás de la Comisión?', 'No se está abordando la falta de reciprocidad.', 'Dígamelo; estoy a su disposición.', 'Pero hoy no podría hacer ni esto.', 'Sólo algunos datos irán allí.', 'SWIFT nos dice que no es así.', 'La administración estadounidense nos dice que no es así.', '¿Dónde están?', 'Este es el primer gran FTA.', 'Esto es un modelo.', 'Tenemos que hacerlo bien.', 'No me equivoque.', 'Los trabajadores de la UE merecen algo mejor.', 'Eso sí que es muy inquietante.', 'No debemos permitir que pase.', 'Eso es lo que tenemos que contestar.', 'Señora Presidenta, he apoyado este informe.', 'Están furiosos por la total falta de transparencia.', 'No es así en una democracia.', 'Grupos criminales operan libremente en el país.', 'La situación es completamente desconocida para los habitantes locales.', 'Sin embargo, estas son circunstancias excepcionales.', 'Por ejemplo, ¿qué sería exactamente su papel?', '¿A quién se haría responsable?', '¿Cómo mejoraría la situación actual?', 'Debemos resistir este tendencia.', 'Sin embargo, existen algunas cuestiones.', 'Tengo algunas preguntas sobre los impuestos.', 'Este acuerdo mejorará la seguridad en territorio europeo.', 'Bien hecho y gracias.', 'Intentemos evitarlo.', 'No entiendo.', 'Ese es nuestro límite rojo.', 'Señorías, por favor, intente de nuevo.', 'Diez años atrás, nada.', 'China se mueve y se mueve rápido.', 'Esta legislación es esencial para Europa.', 'Así que gracias por su comentario.', 'La flagelación es una forma de tortura.', 'Serbia es una parte crucial de este compromiso...', 'Tengo que tener una conversación franca con usted.', 'Usted se dirigía a las nuevas generaciones.', 'El Consejo no ha finalizado la tramitación.', 'Usted dice: « miremos a los refugiados ».', 'Esto tachará la Presidencia belga.', 'Lo lamento; lo digo en tristeza.', 'En todo este caos, una cosa era clara.', 'Permítanme hablar claramente.', 'Todo esto ha ido demasiado lejos y debe parar.', 'No debemos permitir que esto suceda de nuevo.', 'Eso es evidente.', 'De hecho, después de varios años era bastante tarde.', 'La industria aeronáutica es muy importante para Europa.', 'No se trata solo de dinero.', '¿Qué medidas podría adoptar?', 'Pero, ¿cómo va a ser?', 'Finalmente, digo lo siguiente.', '¿Debería incluirse o no al presidente Asad?', '¿Cuál es su opinión?', 'Queremos oírlo.', '¿Quieren amenazar con sanciones o no?', 'Abran el debate.', 'Usted es la Presidencia rotativa.', 'Usted es Vicepresidente de la Comisión.', 'Podemos tomar iniciativas.', 'Ustedes deben establecer el programa.', 'No entiendo por qué.', 'Les garantizo: sólo esto les salvará, y nada más.', 'Creo que esto le dará apoyo.', 'Explore su mandato.', 'Ponganse al día.', 'Ese fue uno de ellos.', 'Aún la adopción del documento es cuestionable.', 'La nueva constitución plantea cuestiones internacionales.', 'Estos resultados son una llamada a la orden.', 'Sin embargo, ¿qué sociedad se preveía con este programa?', 'Fue un verdadero placer trabajar con usted.', 'Sé que podremos contar con usted.', 'Hoy, necesitamos ir más allá.', 'En segundo lugar, acceso a los contratos públicos.', 'No hay tiempo que perder.', 'Todo tiempo de llamada es contado como tiempo de trabajo.', 'Debemos enfrentarnos a la realidad.', 'Mi escepticismo da paso a la preocupación.', 'Se caracteriza por una cierta indiferencia.', 'Entonces, dos consecuencias inevitables se derivan de esto.', 'Hay otros desastres naturales además de los incendios.', 'Pienso en el tsunami.', 'Creo que debemos ir más allá.', 'Luego veremos que afecta a todos.', 'Creo que hay dos partes en este debate.', 'No hay otra solución.', '', 'Sin embargo, esto no será suficiente.', 'Sin embargo, sabemos que este tema es fundamental.', 'No debemos rendirnos demasiado pronto a la pesimismo.', 'Muchos países se envidiarían de estas estadísticas.', 'No hay sentido en crear un gobierno económico europeo.', 'Me gustaría mencionar rápidamente otro punto.', 'Creo que necesitamos cambiar de rumbo.', 'Eso no es correcto, tampoco.', 'Le agradezco esto.', 'El aspecto político está bloqueado.', 'Permítanme plantear dos puntos.', 'La UE debería dar un ejemplo en este ámbito.', 'No podemos aceptarlo.', 'Mi grupo y yo compartimos estas preocupaciones.', 'No podemos dejar que cada país solucione este problema.', 'Hay que tener un marco europeo.', 'Debe ser flexible, pero debe existir.', 'Debemos adoptar una aproximación horizontal.', 'Ese es el problema.', 'Se necesita mayor flexibilidad.', 'También tenemos que tratar este problema en su fuente.', 'Es restrictiva, pero no tenemos otra opción.', 'Gracias.', 'El texto presentado hoy es satisfactorio.', 'No se puede tolerar ningún tipo de discriminación.', 'Mis pensamientos también están con las víctimas.', 'Primero, quiero hacer una observación.', 'Ya no pueden alimentar a sus animales.', 'Se han declarado en quiebra centenares de fincas.', 'Esto es un juego totalmente distinto.', 'La respuesta es « sí ».', 'Esto es lo que permitirá este Directivo.', 'Obviamente, todo esto va a alterar unos hábitos.', 'Todos los requisitos técnicos se han cumplido.', 'Podemos aceptar esto como un hecho establecido.', 'Sí, estoy de acuerdo contigo.', 'La primera fase está completa.', 'En mi opinión, este fue otro punto fundamental.', 'Algunos de estos compras serán transfronterizos.', 'Esto es un progreso real.', 'Hemos conseguido ese consenso.', 'Esto es correcto y apropiado.', 'La situación nunca ha sido tan desesperante como ahora.', 'Me pregunto dónde va a llevarnos esto.', 'Esto tiene que cambiar.', 'También debería seguirse este procedimiento.', 'También he escuchado sus declaraciones, señor Comisario.', 'No es una situación saludable.', 'Este es un país de topsy-turvy.', 'Señor Presidente, esta crisis es un test para Europa.', 'Europa no es la suma de 27 veces el interés nacional.', 'Ahora o nunca para Europa.', 'Lo lamento, pero esto es locura.', 'Sin embargo, esto no cambia en substancia.', 'Sin embargo, quisiera hacer algunas observaciones.', 'Es un asunto fundamental.', 'Nombraré tres de estos.', 'En este punto, el informe está perfectamente en orden.', 'Esto se maneja muy bien en la directiva.', 'Me complace el resultado obtenido, por tanto.', 'Pero Europa oficial está en un callejón sin salida.', 'Señorías, los coches representan la libertad.', 'Sin embargo, no estoy de acuerdo.', 'Pero ¿por qué no lo hizo más?', 'La Comisión debe seguir en esta línea.', 'Que sus viajes no sean en vano.', 'El último aspecto es la agricultura.', 'Estamos en un punto de inflexión.', 'Mi respuesta es obvia.', 'Estoy esperando esto.', 'Entiendo y apoyo esta medida.', 'Ese es el actual realismo.', '¿No es más ridículo?', 'Pero ¿qué intereses tienen los ciudadanos europeos?', '¿Podría ser que sean menos importantes?', 'Eso es un hecho.', 'No estoy de acuerdo con eso.', 'Lo contrario es cierto.', 'Ese fue mi primer punto.', 'Seré muy breve con mi segundo punto.', '« Nada ha cambiado desde entonces.', 'Obviamente, todo esto tiene que ser gestionado desde Europa.', '', '¿Cuándo va a parar esta locura?', 'Siga el buen trabajo y sigue la línea correcta.', 'Pido su apoyo a este Directivo.', 'Gracias por su comprensión.', 'Ahora es un problema que Europa debe enfrentarse.', 'Entre estas, la primera es evitar causar molestias.', 'No creo que así sea.', 'Sin embargo, nuestro grupo cree que se necesita más.', 'Estos dos aspectos están estrechamente relacionados.', 'No es la Europa que queremos ver.', 'Sin duda, no es la interpretación correcta.', 'Es un insulto a la democracia.', 'Eso es demasiado.', '', 'Es ahí donde los bonos Euro son necesarios.', 'La acción es lo que se necesita.', 'Sí, era la protección de los bosques.', '¡Viva los Estados miembros, viva los ciudadanos!', 'El impacto de esto no puede ser subestimado.', 'Lo mismo está ocurriendo en Europa.', 'Sin embargo, el pago final aún no ha sido pagado.', 'La guerra en Libia continúa.', 'Usted es consistente.', 'Por eso he renunciado a las fotografías.', 'Europa debe estar del lado de la libertad.', 'Lo que no se imaginaba ha ocurrido.', 'No existe tal cosa como el riesgo cero.', 'Hoy tenemos que dar tres pasos.', 'El sistema actual no funciona.', 'Sin embargo, esto es solo el principio.', 'No estamos imponiendo nada.', 'Esto está grabado en la ley.', 'Se ha discutido bastante sobre este tema.', 'El sector de transporte es importante para nuestra economía.', 'Eso seguirá siendo así.', 'Sin embargo, estamos haciendo algo realmente peculiar.', 'Para mí, personalmente, no es consistente.', 'Les pido más tiempo.', 'Pero la Aker Group ya ha desaparecido.', 'Se ha convertido en STX de Corea.', 'Algo no ha funcionado allí.', 'En segundo lugar, la situación actual nos afecta a todos.', 'La crisis financiera amenaza una crisis general europea.', 'Pero no en Polonia.', 'Al menos, hasta ahora.', 'Polonia tiene confianza en las instituciones europeas.', 'Muchas gracias.', 'Me gustaría hacerle una pregunta al Presidente.', 'Estas organizaciones operan legalmente en Europa hoy en día.', 'No hay genocidio justificado políticamente.', 'Todos deben nombrarse y condenarse.', 'Comparto la opinión de que es un éxito.', 'La BCE concedió un préstamo a Hungría.', 'Esto es algo bueno.', 'Me parece que estamos en la dirección correcta.', 'No debemos discriminar contra ellos.', 'Las enmiendas presentadas son razonables.', 'Se debe evitar la repetición.', 'Estamos a favor de esta Directiva.', '¿Se celebrarán incluso las conversaciones?', '¿Por qué el mundo permaneció callado?', 'Sin embargo, no sabemos los hechos de la situación.', 'Los observadores de la UE son incapaces.', 'Este es el tipo de ejemplo que Iran proporciona.', 'Nos apoyamos en la Resolución.', 'Yo apoyo esta Resolución.', 'El señor Fava merece una gran alabanza.', 'Sin embargo, la ley no funciona.', 'No se quejen de que la Unión...', '¿No entienden esto?', 'También hemos hablado de la Alianza Oriental esta mañana.', '¿No tenían ese trillón?', 'Yo los apoyo.', 'No hay respuesta política.', 'Eso no es solidaridad, es hipocresía.', 'Es un área importante de cooperación macroregional.', 'Emphasizo la palabra « incomodidad ».', 'Me gustaría que la Comisaria respondiera a esta pregunta.', 'Hay una última cosa.', 'Todo esto debería estar en esta resolución.', 'Eso es lo que deseo para todos.', 'Mis conclusiones son las siguientes.', 'Creo que sería una buena idea.', 'Por tanto, quiero decir otra cosa.', 'Todo lo demás es un asunto del mercado libre.', 'Por supuesto, la promoción no es todo.', 'La libertad triunfará en Cuba.', '¿Era una broma?', 'Sin embargo, Europeana no es tal.', '¿Cómo evalúa el programa?', 'Sin embargo, algo debe hacerse.', 'Muchas gracias.', 'Queremos que sea una diplomacia europea.', 'Esto le permitirá ser efectivo.', 'El segundo tema es el de representatividad.', 'Esto es algo que debemos garantizar.', 'Tenemos que recordar los principios fundamentales de la Unión.', 'Es hora de actuar sobre este informe.', 'La burocracia no debe destruirnos.', 'La mayor autoridad implica mayor responsabilidad.', 'Los moribundos no pueden esperar.', 'La Unión es el mayor donante de ayuda al desarrollo.', 'Debemos estar orgullosos de esto.', 'Creo que lo que estamos haciendo es innecesario.', 'Señor Presidente, no hay leyes ideales.', '¿Cuándo ocurrirá esto?', 'Ahora ya lo sabemos.', 'Esto es algo muy importante.', 'Gracias.', 'Quisiera concluir con dos comentarios más.', 'Muchas gracias.', 'Como Parlamento en una Europa libre, debemos...', 'Ahora es la vez de la Constitución.', 'El mundo ya está de vuelta a derechas.', 'Sin embargo, Europa es más que eso.', 'Se necesita más.', 'Las crisis generan oportunidades.', 'Están tratando de controlarlo y no antes de tiempo.', '¿Qué papel tendrá la política comercial en este contexto?', 'Eso es lo que nuestra sociedad también necesita hacer.', '¡Adelante con una visión justa de la familia!', 'Sin embargo, mi discurso es una petición.', 'Fin de la cita.', 'Fin de la cita.', 'Fin de la cita.', 'Es evidente que esta no es la respuesta.', 'Europa es nuestra casa.', 'Esto es cierto del Tratado de Lisboa.', '¿Ha tomado alguna acción el Presidente de la Comisión?', 'No podemos aceptar esta propuesta.', 'La crisis financiera y económica también es una crisis social.', 'Consideramos estos resultados positivos también.', '¿Qué esperaríamos de la UE?', 'Solidaridad.', 'Se teme que el número de víctimas aumente.', 'Sin embargo, ahora es necesario mirar hacia delante.', 'Hay algunas normas y prácticas que proteger.', 'Felicitaciones a los ponentes por su trabajo.', '', 'Debemos enfrentar las realidades.', 'Hay tres cuestiones que deben abordarse.', 'Por eso, este tema es tan relevante.', 'La creación del Fondo Monetario Europeo es crucial.', 'Es un defensor de los derechos humanos.', 'Por eso, necesitamos seguir mejorando estas medidas.', 'Estas regiones son grandes reservorios de importantes recursos.', 'Tenemos que dar algo a cambio.', 'Quisiera hacer dos propuestas.', 'Mi segunda propuesta se refiere a la energía.', 'Tenemos que tener en cuenta las experiencias positivas de las regiones.', 'De este modo, parece que siempre estamos empezando desde cero.', 'Seremos igualmente activos, pero sin concesiones.', '¿Cómo vamos a apoyarlo?', '¿Qué será la base de ella?', 'La Comisión y el nuevo Presidente deben respetar este programa.', 'Espero que consiga sus objetivos.', 'La Comisión nos ha explicado que esto sería imposible.', 'Me gustaría mencionar algo más con respecto a esta comprometida.', 'Gracias también por su apoyo.', 'No podemos aceptarlo.', 'En serio, espero …', 'Es vital que esto ocurra.', 'Creo que es muy positivo.', 'Creo que es lo que está en juego.', 'La política de cohesión es una política clave para la UE.', 'He investigado este sistema educativo por mí mismo.', 'Lamento que este informe no haya sido debatido.', 'Para lograrlo …', 'Me gustaría destacar tres aspectos importantes.', 'Gracias.', 'Rumania tiene una gran cantidad de asentamientos poblados.', 'Sin embargo, este desarrollo ha generado actitudes ambivalentes.', 'Se trata de un abuso sin precedentes.', 'Gracias.', 'Gracias.', 'La competencia entre los operadores no funciona desde este punto de vista.', 'En última instancia, siempre es el consumidor quien paga.', '¿Es este el mejor instrumento disponible?', 'Dios manda.', 'Este es un problema que tiene varias dimensiones.', 'Este tipo de violencia es muy extendido.', 'El segundo paso es el que se está dando hoy.', 'Gracias.', 'Gracias.', 'Gracias.', 'La mafia es la causa principal de la crisis.', 'La hambruna es el factor electoral más poderoso de la historia.', 'También me gusta la iniciativa de la Comisión.', 'No podemos tolerar una situación similar aquí.', 'No hay método de producción que sea del 100 %.', 'Consideraremos todas las opciones legales para implementar un embargo.', 'Me gustaría introducir otro argumento.', 'No sabemos con exactitud el número.', 'Sin embargo, no podemos detenernos aquí.', 'medidas de este tipo.', 'El período de petróleo barato ha pasado.', 'Estos hospitales supuestamente no son rentables.', '¿Por qué?', 'Según las reglas, la respuesta es « sí ».', 'Ni una ni la otra pueden funcionar sin la otra.', 'Por tanto, creo que estamos en el camino correcto.', 'En realidad, no me siento del todo tranquilo.', 'Hoy día, cada día, nos movemos en esa dirección.', 'Un ejemplo es el Corredor del Sur.', 'No podemos.', '¿Quién va a pagar todo esto?', 'No ha ocurrido en todo el mundo.', 'Se ha hecho muy poco.', 'En este caso, también, no se ha dado un buen ejemplo.', '¿Es así como la Comisión respeta las directivas?', 'Ya han pasado diez años y las muertes siguen.', 'Los Estados miembros y Europa deben garantizar la seguridad.', 'Piensen en Guantánamo.', 'Europa es el país de los derechos.', 'La movilidad es ahora un derecho.', 'El Consejo debería tomárselo en cuenta.', 'Necesitamos una política efectiva y continua.', 'Aún quedan muchos problemas por resolver.', 'Es un desastre medioambiental continuo.', 'Debe hacer todo lo posible para alcanzar estos objetivos.', 'Este es el reto que nos enfrenta.', 'Ahora me giro al informe.', 'Hemos aceptado la petición.', 'No se permite información y no se permite que los parlamentarios entren.', 'Europa contempla esto pasivamente.', 'Es la más significativa de las políticas.', 'Sería extremadamente peligroso hacer distinciones.', 'Cesare Battisti no es un refugiado político.', 'La historia nos obliga a ello.', 'Será difícil.', 'Este método debe cambiarse.', 'Por eso hemos votado a favor de él.', 'Es hora de parar de hablar.', 'La Unión Europea debe hacerse sentir.', 'En los textos de hoy tenemos esto.', 'Europa quiere hacer un enorme favor a la delincuencia organizada.']\n",
            "BLEU score: 39.37723083205917\n"
          ]
        }
      ],
      "source": [
        "result = compute_metrics(preprocessed_test_dataset,output_sequences)\n",
        "print(f'BLEU score: {result[\"bleu\"]}')"
      ]
    }
  ],
  "metadata": {
    "accelerator": "GPU",
    "colab": {
      "gpuType": "T4",
      "provenance": []
    },
    "kernelspec": {
      "display_name": "Python 3",
      "name": "python3"
    },
    "language_info": {
      "codemirror_mode": {
        "name": "ipython",
        "version": 3
      },
      "file_extension": ".py",
      "mimetype": "text/x-python",
      "name": "python",
      "nbconvert_exporter": "python",
      "pygments_lexer": "ipython3",
      "version": "3.10.15"
    },
    "widgets": {
      "application/vnd.jupyter.widget-state+json": {
        "02ae2e7c77c24d8ca9cc1563ab625d64": {
          "model_module": "@jupyter-widgets/controls",
          "model_module_version": "1.5.0",
          "model_name": "DescriptionStyleModel",
          "state": {
            "_model_module": "@jupyter-widgets/controls",
            "_model_module_version": "1.5.0",
            "_model_name": "DescriptionStyleModel",
            "_view_count": null,
            "_view_module": "@jupyter-widgets/base",
            "_view_module_version": "1.2.0",
            "_view_name": "StyleView",
            "description_width": ""
          }
        },
        "04d6d5534ab54928944887ffe7c768bc": {
          "model_module": "@jupyter-widgets/controls",
          "model_module_version": "1.5.0",
          "model_name": "DescriptionStyleModel",
          "state": {
            "_model_module": "@jupyter-widgets/controls",
            "_model_module_version": "1.5.0",
            "_model_name": "DescriptionStyleModel",
            "_view_count": null,
            "_view_module": "@jupyter-widgets/base",
            "_view_module_version": "1.2.0",
            "_view_name": "StyleView",
            "description_width": ""
          }
        },
        "0c45604ee504431a804b34ad1b825fcf": {
          "model_module": "@jupyter-widgets/controls",
          "model_module_version": "1.5.0",
          "model_name": "HTMLModel",
          "state": {
            "_dom_classes": [],
            "_model_module": "@jupyter-widgets/controls",
            "_model_module_version": "1.5.0",
            "_model_name": "HTMLModel",
            "_view_count": null,
            "_view_module": "@jupyter-widgets/controls",
            "_view_module_version": "1.5.0",
            "_view_name": "HTMLView",
            "description": "",
            "description_tooltip": null,
            "layout": "IPY_MODEL_939db26d2a7b406c91fc40711dc0af9d",
            "placeholder": "​",
            "style": "IPY_MODEL_2adee6006f2b4146a80cb5cb298a7ecc",
            "value": "model-00002-of-00002.safetensors: 100%"
          }
        },
        "0dba5a19747247cba94790c117f64921": {
          "model_module": "@jupyter-widgets/controls",
          "model_module_version": "1.5.0",
          "model_name": "DescriptionStyleModel",
          "state": {
            "_model_module": "@jupyter-widgets/controls",
            "_model_module_version": "1.5.0",
            "_model_name": "DescriptionStyleModel",
            "_view_count": null,
            "_view_module": "@jupyter-widgets/base",
            "_view_module_version": "1.2.0",
            "_view_name": "StyleView",
            "description_width": ""
          }
        },
        "0dba847ababc4bd0b0dfbf148df4bbfc": {
          "model_module": "@jupyter-widgets/controls",
          "model_module_version": "1.5.0",
          "model_name": "DescriptionStyleModel",
          "state": {
            "_model_module": "@jupyter-widgets/controls",
            "_model_module_version": "1.5.0",
            "_model_name": "DescriptionStyleModel",
            "_view_count": null,
            "_view_module": "@jupyter-widgets/base",
            "_view_module_version": "1.2.0",
            "_view_name": "StyleView",
            "description_width": ""
          }
        },
        "1332dc1126e04ecb94e1a16c17e4a8bb": {
          "model_module": "@jupyter-widgets/controls",
          "model_module_version": "1.5.0",
          "model_name": "FloatProgressModel",
          "state": {
            "_dom_classes": [],
            "_model_module": "@jupyter-widgets/controls",
            "_model_module_version": "1.5.0",
            "_model_name": "FloatProgressModel",
            "_view_count": null,
            "_view_module": "@jupyter-widgets/controls",
            "_view_module_version": "1.5.0",
            "_view_name": "ProgressView",
            "bar_style": "success",
            "description": "",
            "description_tooltip": null,
            "layout": "IPY_MODEL_9acb5f182a2245c6845265fb24598610",
            "max": 609,
            "min": 0,
            "orientation": "horizontal",
            "style": "IPY_MODEL_1c44edf580a745a796f053763ef0c10e",
            "value": 609
          }
        },
        "13d2bbe8a20f41cab9cdeba3ee8bc1d7": {
          "model_module": "@jupyter-widgets/base",
          "model_module_version": "1.2.0",
          "model_name": "LayoutModel",
          "state": {
            "_model_module": "@jupyter-widgets/base",
            "_model_module_version": "1.2.0",
            "_model_name": "LayoutModel",
            "_view_count": null,
            "_view_module": "@jupyter-widgets/base",
            "_view_module_version": "1.2.0",
            "_view_name": "LayoutView",
            "align_content": null,
            "align_items": null,
            "align_self": null,
            "border": null,
            "bottom": null,
            "display": null,
            "flex": null,
            "flex_flow": null,
            "grid_area": null,
            "grid_auto_columns": null,
            "grid_auto_flow": null,
            "grid_auto_rows": null,
            "grid_column": null,
            "grid_gap": null,
            "grid_row": null,
            "grid_template_areas": null,
            "grid_template_columns": null,
            "grid_template_rows": null,
            "height": null,
            "justify_content": null,
            "justify_items": null,
            "left": null,
            "margin": null,
            "max_height": null,
            "max_width": null,
            "min_height": null,
            "min_width": null,
            "object_fit": null,
            "object_position": null,
            "order": null,
            "overflow": null,
            "overflow_x": null,
            "overflow_y": null,
            "padding": null,
            "right": null,
            "top": null,
            "visibility": null,
            "width": null
          }
        },
        "14483bbbf7a54f97af987eac7c729465": {
          "model_module": "@jupyter-widgets/base",
          "model_module_version": "1.2.0",
          "model_name": "LayoutModel",
          "state": {
            "_model_module": "@jupyter-widgets/base",
            "_model_module_version": "1.2.0",
            "_model_name": "LayoutModel",
            "_view_count": null,
            "_view_module": "@jupyter-widgets/base",
            "_view_module_version": "1.2.0",
            "_view_name": "LayoutView",
            "align_content": null,
            "align_items": null,
            "align_self": null,
            "border": null,
            "bottom": null,
            "display": null,
            "flex": null,
            "flex_flow": null,
            "grid_area": null,
            "grid_auto_columns": null,
            "grid_auto_flow": null,
            "grid_auto_rows": null,
            "grid_column": null,
            "grid_gap": null,
            "grid_row": null,
            "grid_template_areas": null,
            "grid_template_columns": null,
            "grid_template_rows": null,
            "height": null,
            "justify_content": null,
            "justify_items": null,
            "left": null,
            "margin": null,
            "max_height": null,
            "max_width": null,
            "min_height": null,
            "min_width": null,
            "object_fit": null,
            "object_position": null,
            "order": null,
            "overflow": null,
            "overflow_x": null,
            "overflow_y": null,
            "padding": null,
            "right": null,
            "top": null,
            "visibility": null,
            "width": null
          }
        },
        "1550afebe1304839b6f0968c1f65635b": {
          "model_module": "@jupyter-widgets/base",
          "model_module_version": "1.2.0",
          "model_name": "LayoutModel",
          "state": {
            "_model_module": "@jupyter-widgets/base",
            "_model_module_version": "1.2.0",
            "_model_name": "LayoutModel",
            "_view_count": null,
            "_view_module": "@jupyter-widgets/base",
            "_view_module_version": "1.2.0",
            "_view_name": "LayoutView",
            "align_content": null,
            "align_items": null,
            "align_self": null,
            "border": null,
            "bottom": null,
            "display": null,
            "flex": null,
            "flex_flow": null,
            "grid_area": null,
            "grid_auto_columns": null,
            "grid_auto_flow": null,
            "grid_auto_rows": null,
            "grid_column": null,
            "grid_gap": null,
            "grid_row": null,
            "grid_template_areas": null,
            "grid_template_columns": null,
            "grid_template_rows": null,
            "height": null,
            "justify_content": null,
            "justify_items": null,
            "left": null,
            "margin": null,
            "max_height": null,
            "max_width": null,
            "min_height": null,
            "min_width": null,
            "object_fit": null,
            "object_position": null,
            "order": null,
            "overflow": null,
            "overflow_x": null,
            "overflow_y": null,
            "padding": null,
            "right": null,
            "top": null,
            "visibility": null,
            "width": null
          }
        },
        "16cff61e16a74a8faeea300f1aa0a44b": {
          "model_module": "@jupyter-widgets/controls",
          "model_module_version": "1.5.0",
          "model_name": "FloatProgressModel",
          "state": {
            "_dom_classes": [],
            "_model_module": "@jupyter-widgets/controls",
            "_model_module_version": "1.5.0",
            "_model_name": "FloatProgressModel",
            "_view_count": null,
            "_view_module": "@jupyter-widgets/controls",
            "_view_module_version": "1.5.0",
            "_view_name": "ProgressView",
            "bar_style": "success",
            "description": "",
            "description_tooltip": null,
            "layout": "IPY_MODEL_13d2bbe8a20f41cab9cdeba3ee8bc1d7",
            "max": 2,
            "min": 0,
            "orientation": "horizontal",
            "style": "IPY_MODEL_8966d12f6e1e4801a4c3a2237833c43e",
            "value": 2
          }
        },
        "1c44edf580a745a796f053763ef0c10e": {
          "model_module": "@jupyter-widgets/controls",
          "model_module_version": "1.5.0",
          "model_name": "ProgressStyleModel",
          "state": {
            "_model_module": "@jupyter-widgets/controls",
            "_model_module_version": "1.5.0",
            "_model_name": "ProgressStyleModel",
            "_view_count": null,
            "_view_module": "@jupyter-widgets/base",
            "_view_module_version": "1.2.0",
            "_view_name": "StyleView",
            "bar_color": null,
            "description_width": ""
          }
        },
        "1c94872bf825495eb62915cd2644e5f5": {
          "model_module": "@jupyter-widgets/controls",
          "model_module_version": "1.5.0",
          "model_name": "DescriptionStyleModel",
          "state": {
            "_model_module": "@jupyter-widgets/controls",
            "_model_module_version": "1.5.0",
            "_model_name": "DescriptionStyleModel",
            "_view_count": null,
            "_view_module": "@jupyter-widgets/base",
            "_view_module_version": "1.2.0",
            "_view_name": "StyleView",
            "description_width": ""
          }
        },
        "1db7c353bdc842018dc3cd08ab0ee822": {
          "model_module": "@jupyter-widgets/base",
          "model_module_version": "1.2.0",
          "model_name": "LayoutModel",
          "state": {
            "_model_module": "@jupyter-widgets/base",
            "_model_module_version": "1.2.0",
            "_model_name": "LayoutModel",
            "_view_count": null,
            "_view_module": "@jupyter-widgets/base",
            "_view_module_version": "1.2.0",
            "_view_name": "LayoutView",
            "align_content": null,
            "align_items": null,
            "align_self": null,
            "border": null,
            "bottom": null,
            "display": null,
            "flex": null,
            "flex_flow": null,
            "grid_area": null,
            "grid_auto_columns": null,
            "grid_auto_flow": null,
            "grid_auto_rows": null,
            "grid_column": null,
            "grid_gap": null,
            "grid_row": null,
            "grid_template_areas": null,
            "grid_template_columns": null,
            "grid_template_rows": null,
            "height": null,
            "justify_content": null,
            "justify_items": null,
            "left": null,
            "margin": null,
            "max_height": null,
            "max_width": null,
            "min_height": null,
            "min_width": null,
            "object_fit": null,
            "object_position": null,
            "order": null,
            "overflow": null,
            "overflow_x": null,
            "overflow_y": null,
            "padding": null,
            "right": null,
            "top": null,
            "visibility": null,
            "width": null
          }
        },
        "1f059aecbeac42ce805dda63cdf0e04d": {
          "model_module": "@jupyter-widgets/controls",
          "model_module_version": "1.5.0",
          "model_name": "DescriptionStyleModel",
          "state": {
            "_model_module": "@jupyter-widgets/controls",
            "_model_module_version": "1.5.0",
            "_model_name": "DescriptionStyleModel",
            "_view_count": null,
            "_view_module": "@jupyter-widgets/base",
            "_view_module_version": "1.2.0",
            "_view_name": "StyleView",
            "description_width": ""
          }
        },
        "1f3e6cc71a944c8a865ef901977ed491": {
          "model_module": "@jupyter-widgets/base",
          "model_module_version": "1.2.0",
          "model_name": "LayoutModel",
          "state": {
            "_model_module": "@jupyter-widgets/base",
            "_model_module_version": "1.2.0",
            "_model_name": "LayoutModel",
            "_view_count": null,
            "_view_module": "@jupyter-widgets/base",
            "_view_module_version": "1.2.0",
            "_view_name": "LayoutView",
            "align_content": null,
            "align_items": null,
            "align_self": null,
            "border": null,
            "bottom": null,
            "display": null,
            "flex": null,
            "flex_flow": null,
            "grid_area": null,
            "grid_auto_columns": null,
            "grid_auto_flow": null,
            "grid_auto_rows": null,
            "grid_column": null,
            "grid_gap": null,
            "grid_row": null,
            "grid_template_areas": null,
            "grid_template_columns": null,
            "grid_template_rows": null,
            "height": null,
            "justify_content": null,
            "justify_items": null,
            "left": null,
            "margin": null,
            "max_height": null,
            "max_width": null,
            "min_height": null,
            "min_width": null,
            "object_fit": null,
            "object_position": null,
            "order": null,
            "overflow": null,
            "overflow_x": null,
            "overflow_y": null,
            "padding": null,
            "right": null,
            "top": null,
            "visibility": null,
            "width": null
          }
        },
        "2195f4ff1b054e88bb7f90f7355f7141": {
          "model_module": "@jupyter-widgets/controls",
          "model_module_version": "1.5.0",
          "model_name": "HTMLModel",
          "state": {
            "_dom_classes": [],
            "_model_module": "@jupyter-widgets/controls",
            "_model_module_version": "1.5.0",
            "_model_name": "HTMLModel",
            "_view_count": null,
            "_view_module": "@jupyter-widgets/controls",
            "_view_module_version": "1.5.0",
            "_view_name": "HTMLView",
            "description": "",
            "description_tooltip": null,
            "layout": "IPY_MODEL_1db7c353bdc842018dc3cd08ab0ee822",
            "placeholder": "​",
            "style": "IPY_MODEL_1f059aecbeac42ce805dda63cdf0e04d",
            "value": "generation_config.json: 100%"
          }
        },
        "27310c9ff2db4492829f09bf40f16093": {
          "model_module": "@jupyter-widgets/controls",
          "model_module_version": "1.5.0",
          "model_name": "DescriptionStyleModel",
          "state": {
            "_model_module": "@jupyter-widgets/controls",
            "_model_module_version": "1.5.0",
            "_model_name": "DescriptionStyleModel",
            "_view_count": null,
            "_view_module": "@jupyter-widgets/base",
            "_view_module_version": "1.2.0",
            "_view_name": "StyleView",
            "description_width": ""
          }
        },
        "2adee6006f2b4146a80cb5cb298a7ecc": {
          "model_module": "@jupyter-widgets/controls",
          "model_module_version": "1.5.0",
          "model_name": "DescriptionStyleModel",
          "state": {
            "_model_module": "@jupyter-widgets/controls",
            "_model_module_version": "1.5.0",
            "_model_name": "DescriptionStyleModel",
            "_view_count": null,
            "_view_module": "@jupyter-widgets/base",
            "_view_module_version": "1.2.0",
            "_view_name": "StyleView",
            "description_width": ""
          }
        },
        "2c5112d32c9f4614815083f6d4688826": {
          "model_module": "@jupyter-widgets/controls",
          "model_module_version": "1.5.0",
          "model_name": "ProgressStyleModel",
          "state": {
            "_model_module": "@jupyter-widgets/controls",
            "_model_module_version": "1.5.0",
            "_model_name": "ProgressStyleModel",
            "_view_count": null,
            "_view_module": "@jupyter-widgets/base",
            "_view_module_version": "1.2.0",
            "_view_name": "StyleView",
            "bar_color": null,
            "description_width": ""
          }
        },
        "2cd5981846894d298f339bba957c04f9": {
          "model_module": "@jupyter-widgets/controls",
          "model_module_version": "1.5.0",
          "model_name": "FloatProgressModel",
          "state": {
            "_dom_classes": [],
            "_model_module": "@jupyter-widgets/controls",
            "_model_module_version": "1.5.0",
            "_model_name": "FloatProgressModel",
            "_view_count": null,
            "_view_module": "@jupyter-widgets/controls",
            "_view_module_version": "1.5.0",
            "_view_name": "ProgressView",
            "bar_style": "success",
            "description": "",
            "description_tooltip": null,
            "layout": "IPY_MODEL_2f4f11561c5747c08011ee77225ca941",
            "max": 3500297344,
            "min": 0,
            "orientation": "horizontal",
            "style": "IPY_MODEL_43980460124240339c57d35341409137",
            "value": 3500297344
          }
        },
        "2ee6471cb69541e29df0a78f9213c9c2": {
          "model_module": "@jupyter-widgets/controls",
          "model_module_version": "1.5.0",
          "model_name": "HTMLModel",
          "state": {
            "_dom_classes": [],
            "_model_module": "@jupyter-widgets/controls",
            "_model_module_version": "1.5.0",
            "_model_name": "HTMLModel",
            "_view_count": null,
            "_view_module": "@jupyter-widgets/controls",
            "_view_module_version": "1.5.0",
            "_view_name": "HTMLView",
            "description": "",
            "description_tooltip": null,
            "layout": "IPY_MODEL_6768a820c77d47f48eff9cec2e4d5c12",
            "placeholder": "​",
            "style": "IPY_MODEL_d0e0715965024aecadf294fb29f02a40",
            "value": " 2/2 [01:39&lt;00:00, 45.55s/it]"
          }
        },
        "2f4f11561c5747c08011ee77225ca941": {
          "model_module": "@jupyter-widgets/base",
          "model_module_version": "1.2.0",
          "model_name": "LayoutModel",
          "state": {
            "_model_module": "@jupyter-widgets/base",
            "_model_module_version": "1.2.0",
            "_model_name": "LayoutModel",
            "_view_count": null,
            "_view_module": "@jupyter-widgets/base",
            "_view_module_version": "1.2.0",
            "_view_name": "LayoutView",
            "align_content": null,
            "align_items": null,
            "align_self": null,
            "border": null,
            "bottom": null,
            "display": null,
            "flex": null,
            "flex_flow": null,
            "grid_area": null,
            "grid_auto_columns": null,
            "grid_auto_flow": null,
            "grid_auto_rows": null,
            "grid_column": null,
            "grid_gap": null,
            "grid_row": null,
            "grid_template_areas": null,
            "grid_template_columns": null,
            "grid_template_rows": null,
            "height": null,
            "justify_content": null,
            "justify_items": null,
            "left": null,
            "margin": null,
            "max_height": null,
            "max_width": null,
            "min_height": null,
            "min_width": null,
            "object_fit": null,
            "object_position": null,
            "order": null,
            "overflow": null,
            "overflow_x": null,
            "overflow_y": null,
            "padding": null,
            "right": null,
            "top": null,
            "visibility": null,
            "width": null
          }
        },
        "36bc63eac84f4465a760907115c5b71c": {
          "model_module": "@jupyter-widgets/controls",
          "model_module_version": "1.5.0",
          "model_name": "HTMLModel",
          "state": {
            "_dom_classes": [],
            "_model_module": "@jupyter-widgets/controls",
            "_model_module_version": "1.5.0",
            "_model_name": "HTMLModel",
            "_view_count": null,
            "_view_module": "@jupyter-widgets/controls",
            "_view_module_version": "1.5.0",
            "_view_name": "HTMLView",
            "description": "",
            "description_tooltip": null,
            "layout": "IPY_MODEL_d5ed587dcede4c529d9a680cd3efeb48",
            "placeholder": "​",
            "style": "IPY_MODEL_04d6d5534ab54928944887ffe7c768bc",
            "value": "Batching examples: 100%"
          }
        },
        "389c06ec75964331a61349adc2f1ed03": {
          "model_module": "@jupyter-widgets/controls",
          "model_module_version": "1.5.0",
          "model_name": "FloatProgressModel",
          "state": {
            "_dom_classes": [],
            "_model_module": "@jupyter-widgets/controls",
            "_model_module_version": "1.5.0",
            "_model_name": "FloatProgressModel",
            "_view_count": null,
            "_view_module": "@jupyter-widgets/controls",
            "_view_module_version": "1.5.0",
            "_view_name": "ProgressView",
            "bar_style": "success",
            "description": "",
            "description_tooltip": null,
            "layout": "IPY_MODEL_f7a626df3dfd4ee89678b9d21401b77e",
            "max": 16,
            "min": 0,
            "orientation": "horizontal",
            "style": "IPY_MODEL_6c063c101aa849d2a8b63af5165fe2b3",
            "value": 16
          }
        },
        "38f53009c2584c77ad6ba831a119c4c6": {
          "model_module": "@jupyter-widgets/controls",
          "model_module_version": "1.5.0",
          "model_name": "HBoxModel",
          "state": {
            "_dom_classes": [],
            "_model_module": "@jupyter-widgets/controls",
            "_model_module_version": "1.5.0",
            "_model_name": "HBoxModel",
            "_view_count": null,
            "_view_module": "@jupyter-widgets/controls",
            "_view_module_version": "1.5.0",
            "_view_name": "HBoxView",
            "box_style": "",
            "children": [
              "IPY_MODEL_6acb4358d0a1445180bb8c5f5ae4deb2",
              "IPY_MODEL_5b0dd2b65be74cb6a169583bf1a7886f",
              "IPY_MODEL_39553763b6cb410b8186a25c2781a9c1"
            ],
            "layout": "IPY_MODEL_bd19d2a424db4bcf8e31ffd5c69a894c"
          }
        },
        "39553763b6cb410b8186a25c2781a9c1": {
          "model_module": "@jupyter-widgets/controls",
          "model_module_version": "1.5.0",
          "model_name": "HTMLModel",
          "state": {
            "_dom_classes": [],
            "_model_module": "@jupyter-widgets/controls",
            "_model_module_version": "1.5.0",
            "_model_name": "HTMLModel",
            "_view_count": null,
            "_view_module": "@jupyter-widgets/controls",
            "_view_module_version": "1.5.0",
            "_view_name": "HTMLView",
            "description": "",
            "description_tooltip": null,
            "layout": "IPY_MODEL_14483bbbf7a54f97af987eac7c729465",
            "placeholder": "​",
            "style": "IPY_MODEL_8e2610fd1ab14363bb5118e8d42ea842",
            "value": " 9.98G/9.98G [01:13&lt;00:00, 212MB/s]"
          }
        },
        "3b5160caa0a5476ba8383cc1226abcd2": {
          "model_module": "@jupyter-widgets/base",
          "model_module_version": "1.2.0",
          "model_name": "LayoutModel",
          "state": {
            "_model_module": "@jupyter-widgets/base",
            "_model_module_version": "1.2.0",
            "_model_name": "LayoutModel",
            "_view_count": null,
            "_view_module": "@jupyter-widgets/base",
            "_view_module_version": "1.2.0",
            "_view_name": "LayoutView",
            "align_content": null,
            "align_items": null,
            "align_self": null,
            "border": null,
            "bottom": null,
            "display": null,
            "flex": null,
            "flex_flow": null,
            "grid_area": null,
            "grid_auto_columns": null,
            "grid_auto_flow": null,
            "grid_auto_rows": null,
            "grid_column": null,
            "grid_gap": null,
            "grid_row": null,
            "grid_template_areas": null,
            "grid_template_columns": null,
            "grid_template_rows": null,
            "height": null,
            "justify_content": null,
            "justify_items": null,
            "left": null,
            "margin": null,
            "max_height": null,
            "max_width": null,
            "min_height": null,
            "min_width": null,
            "object_fit": null,
            "object_position": null,
            "order": null,
            "overflow": null,
            "overflow_x": null,
            "overflow_y": null,
            "padding": null,
            "right": null,
            "top": null,
            "visibility": null,
            "width": null
          }
        },
        "43980460124240339c57d35341409137": {
          "model_module": "@jupyter-widgets/controls",
          "model_module_version": "1.5.0",
          "model_name": "ProgressStyleModel",
          "state": {
            "_model_module": "@jupyter-widgets/controls",
            "_model_module_version": "1.5.0",
            "_model_name": "ProgressStyleModel",
            "_view_count": null,
            "_view_module": "@jupyter-widgets/base",
            "_view_module_version": "1.2.0",
            "_view_name": "StyleView",
            "bar_color": null,
            "description_width": ""
          }
        },
        "46374c0d7c044fca9c54c2cebf5c7a77": {
          "model_module": "@jupyter-widgets/base",
          "model_module_version": "1.2.0",
          "model_name": "LayoutModel",
          "state": {
            "_model_module": "@jupyter-widgets/base",
            "_model_module_version": "1.2.0",
            "_model_name": "LayoutModel",
            "_view_count": null,
            "_view_module": "@jupyter-widgets/base",
            "_view_module_version": "1.2.0",
            "_view_name": "LayoutView",
            "align_content": null,
            "align_items": null,
            "align_self": null,
            "border": null,
            "bottom": null,
            "display": null,
            "flex": null,
            "flex_flow": null,
            "grid_area": null,
            "grid_auto_columns": null,
            "grid_auto_flow": null,
            "grid_auto_rows": null,
            "grid_column": null,
            "grid_gap": null,
            "grid_row": null,
            "grid_template_areas": null,
            "grid_template_columns": null,
            "grid_template_rows": null,
            "height": null,
            "justify_content": null,
            "justify_items": null,
            "left": null,
            "margin": null,
            "max_height": null,
            "max_width": null,
            "min_height": null,
            "min_width": null,
            "object_fit": null,
            "object_position": null,
            "order": null,
            "overflow": null,
            "overflow_x": null,
            "overflow_y": null,
            "padding": null,
            "right": null,
            "top": null,
            "visibility": null,
            "width": null
          }
        },
        "4af2bcd67a79427d86295272fb34f514": {
          "model_module": "@jupyter-widgets/controls",
          "model_module_version": "1.5.0",
          "model_name": "DescriptionStyleModel",
          "state": {
            "_model_module": "@jupyter-widgets/controls",
            "_model_module_version": "1.5.0",
            "_model_name": "DescriptionStyleModel",
            "_view_count": null,
            "_view_module": "@jupyter-widgets/base",
            "_view_module_version": "1.2.0",
            "_view_name": "StyleView",
            "description_width": ""
          }
        },
        "4cc0769e36d14b108619dcdda71d5271": {
          "model_module": "@jupyter-widgets/controls",
          "model_module_version": "1.5.0",
          "model_name": "ProgressStyleModel",
          "state": {
            "_model_module": "@jupyter-widgets/controls",
            "_model_module_version": "1.5.0",
            "_model_name": "ProgressStyleModel",
            "_view_count": null,
            "_view_module": "@jupyter-widgets/base",
            "_view_module_version": "1.2.0",
            "_view_name": "StyleView",
            "bar_color": null,
            "description_width": ""
          }
        },
        "4d39fa5ab9b2483f8e837534f5cb6403": {
          "model_module": "@jupyter-widgets/base",
          "model_module_version": "1.2.0",
          "model_name": "LayoutModel",
          "state": {
            "_model_module": "@jupyter-widgets/base",
            "_model_module_version": "1.2.0",
            "_model_name": "LayoutModel",
            "_view_count": null,
            "_view_module": "@jupyter-widgets/base",
            "_view_module_version": "1.2.0",
            "_view_name": "LayoutView",
            "align_content": null,
            "align_items": null,
            "align_self": null,
            "border": null,
            "bottom": null,
            "display": null,
            "flex": null,
            "flex_flow": null,
            "grid_area": null,
            "grid_auto_columns": null,
            "grid_auto_flow": null,
            "grid_auto_rows": null,
            "grid_column": null,
            "grid_gap": null,
            "grid_row": null,
            "grid_template_areas": null,
            "grid_template_columns": null,
            "grid_template_rows": null,
            "height": null,
            "justify_content": null,
            "justify_items": null,
            "left": null,
            "margin": null,
            "max_height": null,
            "max_width": null,
            "min_height": null,
            "min_width": null,
            "object_fit": null,
            "object_position": null,
            "order": null,
            "overflow": null,
            "overflow_x": null,
            "overflow_y": null,
            "padding": null,
            "right": null,
            "top": null,
            "visibility": null,
            "width": null
          }
        },
        "5b0dd2b65be74cb6a169583bf1a7886f": {
          "model_module": "@jupyter-widgets/controls",
          "model_module_version": "1.5.0",
          "model_name": "FloatProgressModel",
          "state": {
            "_dom_classes": [],
            "_model_module": "@jupyter-widgets/controls",
            "_model_module_version": "1.5.0",
            "_model_name": "FloatProgressModel",
            "_view_count": null,
            "_view_module": "@jupyter-widgets/controls",
            "_view_module_version": "1.5.0",
            "_view_name": "ProgressView",
            "bar_style": "success",
            "description": "",
            "description_tooltip": null,
            "layout": "IPY_MODEL_5c52897b010349fc9be5b815d15f1935",
            "max": 9976578928,
            "min": 0,
            "orientation": "horizontal",
            "style": "IPY_MODEL_6b25a63cb07047e7a63e99c7ba2a0e56",
            "value": 9976578928
          }
        },
        "5be5569c3dbc4405a236f8a10d34d86e": {
          "model_module": "@jupyter-widgets/controls",
          "model_module_version": "1.5.0",
          "model_name": "DescriptionStyleModel",
          "state": {
            "_model_module": "@jupyter-widgets/controls",
            "_model_module_version": "1.5.0",
            "_model_name": "DescriptionStyleModel",
            "_view_count": null,
            "_view_module": "@jupyter-widgets/base",
            "_view_module_version": "1.2.0",
            "_view_name": "StyleView",
            "description_width": ""
          }
        },
        "5c52897b010349fc9be5b815d15f1935": {
          "model_module": "@jupyter-widgets/base",
          "model_module_version": "1.2.0",
          "model_name": "LayoutModel",
          "state": {
            "_model_module": "@jupyter-widgets/base",
            "_model_module_version": "1.2.0",
            "_model_name": "LayoutModel",
            "_view_count": null,
            "_view_module": "@jupyter-widgets/base",
            "_view_module_version": "1.2.0",
            "_view_name": "LayoutView",
            "align_content": null,
            "align_items": null,
            "align_self": null,
            "border": null,
            "bottom": null,
            "display": null,
            "flex": null,
            "flex_flow": null,
            "grid_area": null,
            "grid_auto_columns": null,
            "grid_auto_flow": null,
            "grid_auto_rows": null,
            "grid_column": null,
            "grid_gap": null,
            "grid_row": null,
            "grid_template_areas": null,
            "grid_template_columns": null,
            "grid_template_rows": null,
            "height": null,
            "justify_content": null,
            "justify_items": null,
            "left": null,
            "margin": null,
            "max_height": null,
            "max_width": null,
            "min_height": null,
            "min_width": null,
            "object_fit": null,
            "object_position": null,
            "order": null,
            "overflow": null,
            "overflow_x": null,
            "overflow_y": null,
            "padding": null,
            "right": null,
            "top": null,
            "visibility": null,
            "width": null
          }
        },
        "5d5c01992c134b51b5bcc150eba766ec": {
          "model_module": "@jupyter-widgets/base",
          "model_module_version": "1.2.0",
          "model_name": "LayoutModel",
          "state": {
            "_model_module": "@jupyter-widgets/base",
            "_model_module_version": "1.2.0",
            "_model_name": "LayoutModel",
            "_view_count": null,
            "_view_module": "@jupyter-widgets/base",
            "_view_module_version": "1.2.0",
            "_view_name": "LayoutView",
            "align_content": null,
            "align_items": null,
            "align_self": null,
            "border": null,
            "bottom": null,
            "display": null,
            "flex": null,
            "flex_flow": null,
            "grid_area": null,
            "grid_auto_columns": null,
            "grid_auto_flow": null,
            "grid_auto_rows": null,
            "grid_column": null,
            "grid_gap": null,
            "grid_row": null,
            "grid_template_areas": null,
            "grid_template_columns": null,
            "grid_template_rows": null,
            "height": null,
            "justify_content": null,
            "justify_items": null,
            "left": null,
            "margin": null,
            "max_height": null,
            "max_width": null,
            "min_height": null,
            "min_width": null,
            "object_fit": null,
            "object_position": null,
            "order": null,
            "overflow": null,
            "overflow_x": null,
            "overflow_y": null,
            "padding": null,
            "right": null,
            "top": null,
            "visibility": null,
            "width": null
          }
        },
        "6066cb7b865842c88ef5db1515135c87": {
          "model_module": "@jupyter-widgets/base",
          "model_module_version": "1.2.0",
          "model_name": "LayoutModel",
          "state": {
            "_model_module": "@jupyter-widgets/base",
            "_model_module_version": "1.2.0",
            "_model_name": "LayoutModel",
            "_view_count": null,
            "_view_module": "@jupyter-widgets/base",
            "_view_module_version": "1.2.0",
            "_view_name": "LayoutView",
            "align_content": null,
            "align_items": null,
            "align_self": null,
            "border": null,
            "bottom": null,
            "display": null,
            "flex": null,
            "flex_flow": null,
            "grid_area": null,
            "grid_auto_columns": null,
            "grid_auto_flow": null,
            "grid_auto_rows": null,
            "grid_column": null,
            "grid_gap": null,
            "grid_row": null,
            "grid_template_areas": null,
            "grid_template_columns": null,
            "grid_template_rows": null,
            "height": null,
            "justify_content": null,
            "justify_items": null,
            "left": null,
            "margin": null,
            "max_height": null,
            "max_width": null,
            "min_height": null,
            "min_width": null,
            "object_fit": null,
            "object_position": null,
            "order": null,
            "overflow": null,
            "overflow_x": null,
            "overflow_y": null,
            "padding": null,
            "right": null,
            "top": null,
            "visibility": null,
            "width": null
          }
        },
        "64da833ed58e4dc49b05efa0e0b7827d": {
          "model_module": "@jupyter-widgets/base",
          "model_module_version": "1.2.0",
          "model_name": "LayoutModel",
          "state": {
            "_model_module": "@jupyter-widgets/base",
            "_model_module_version": "1.2.0",
            "_model_name": "LayoutModel",
            "_view_count": null,
            "_view_module": "@jupyter-widgets/base",
            "_view_module_version": "1.2.0",
            "_view_name": "LayoutView",
            "align_content": null,
            "align_items": null,
            "align_self": null,
            "border": null,
            "bottom": null,
            "display": null,
            "flex": null,
            "flex_flow": null,
            "grid_area": null,
            "grid_auto_columns": null,
            "grid_auto_flow": null,
            "grid_auto_rows": null,
            "grid_column": null,
            "grid_gap": null,
            "grid_row": null,
            "grid_template_areas": null,
            "grid_template_columns": null,
            "grid_template_rows": null,
            "height": null,
            "justify_content": null,
            "justify_items": null,
            "left": null,
            "margin": null,
            "max_height": null,
            "max_width": null,
            "min_height": null,
            "min_width": null,
            "object_fit": null,
            "object_position": null,
            "order": null,
            "overflow": null,
            "overflow_x": null,
            "overflow_y": null,
            "padding": null,
            "right": null,
            "top": null,
            "visibility": null,
            "width": null
          }
        },
        "656adba43b9744e1bfa4bf862a5b68fe": {
          "model_module": "@jupyter-widgets/controls",
          "model_module_version": "1.5.0",
          "model_name": "FloatProgressModel",
          "state": {
            "_dom_classes": [],
            "_model_module": "@jupyter-widgets/controls",
            "_model_module_version": "1.5.0",
            "_model_name": "FloatProgressModel",
            "_view_count": null,
            "_view_module": "@jupyter-widgets/controls",
            "_view_module_version": "1.5.0",
            "_view_name": "ProgressView",
            "bar_style": "success",
            "description": "",
            "description_tooltip": null,
            "layout": "IPY_MODEL_695e6aa450b9459999023fdb8eeaddae",
            "max": 26788,
            "min": 0,
            "orientation": "horizontal",
            "style": "IPY_MODEL_4cc0769e36d14b108619dcdda71d5271",
            "value": 26788
          }
        },
        "66555b1667a1407cb61fadefb6efe0ff": {
          "model_module": "@jupyter-widgets/base",
          "model_module_version": "1.2.0",
          "model_name": "LayoutModel",
          "state": {
            "_model_module": "@jupyter-widgets/base",
            "_model_module_version": "1.2.0",
            "_model_name": "LayoutModel",
            "_view_count": null,
            "_view_module": "@jupyter-widgets/base",
            "_view_module_version": "1.2.0",
            "_view_name": "LayoutView",
            "align_content": null,
            "align_items": null,
            "align_self": null,
            "border": null,
            "bottom": null,
            "display": null,
            "flex": null,
            "flex_flow": null,
            "grid_area": null,
            "grid_auto_columns": null,
            "grid_auto_flow": null,
            "grid_auto_rows": null,
            "grid_column": null,
            "grid_gap": null,
            "grid_row": null,
            "grid_template_areas": null,
            "grid_template_columns": null,
            "grid_template_rows": null,
            "height": null,
            "justify_content": null,
            "justify_items": null,
            "left": null,
            "margin": null,
            "max_height": null,
            "max_width": null,
            "min_height": null,
            "min_width": null,
            "object_fit": null,
            "object_position": null,
            "order": null,
            "overflow": null,
            "overflow_x": null,
            "overflow_y": null,
            "padding": null,
            "right": null,
            "top": null,
            "visibility": null,
            "width": null
          }
        },
        "6768a820c77d47f48eff9cec2e4d5c12": {
          "model_module": "@jupyter-widgets/base",
          "model_module_version": "1.2.0",
          "model_name": "LayoutModel",
          "state": {
            "_model_module": "@jupyter-widgets/base",
            "_model_module_version": "1.2.0",
            "_model_name": "LayoutModel",
            "_view_count": null,
            "_view_module": "@jupyter-widgets/base",
            "_view_module_version": "1.2.0",
            "_view_name": "LayoutView",
            "align_content": null,
            "align_items": null,
            "align_self": null,
            "border": null,
            "bottom": null,
            "display": null,
            "flex": null,
            "flex_flow": null,
            "grid_area": null,
            "grid_auto_columns": null,
            "grid_auto_flow": null,
            "grid_auto_rows": null,
            "grid_column": null,
            "grid_gap": null,
            "grid_row": null,
            "grid_template_areas": null,
            "grid_template_columns": null,
            "grid_template_rows": null,
            "height": null,
            "justify_content": null,
            "justify_items": null,
            "left": null,
            "margin": null,
            "max_height": null,
            "max_width": null,
            "min_height": null,
            "min_width": null,
            "object_fit": null,
            "object_position": null,
            "order": null,
            "overflow": null,
            "overflow_x": null,
            "overflow_y": null,
            "padding": null,
            "right": null,
            "top": null,
            "visibility": null,
            "width": null
          }
        },
        "695e6aa450b9459999023fdb8eeaddae": {
          "model_module": "@jupyter-widgets/base",
          "model_module_version": "1.2.0",
          "model_name": "LayoutModel",
          "state": {
            "_model_module": "@jupyter-widgets/base",
            "_model_module_version": "1.2.0",
            "_model_name": "LayoutModel",
            "_view_count": null,
            "_view_module": "@jupyter-widgets/base",
            "_view_module_version": "1.2.0",
            "_view_name": "LayoutView",
            "align_content": null,
            "align_items": null,
            "align_self": null,
            "border": null,
            "bottom": null,
            "display": null,
            "flex": null,
            "flex_flow": null,
            "grid_area": null,
            "grid_auto_columns": null,
            "grid_auto_flow": null,
            "grid_auto_rows": null,
            "grid_column": null,
            "grid_gap": null,
            "grid_row": null,
            "grid_template_areas": null,
            "grid_template_columns": null,
            "grid_template_rows": null,
            "height": null,
            "justify_content": null,
            "justify_items": null,
            "left": null,
            "margin": null,
            "max_height": null,
            "max_width": null,
            "min_height": null,
            "min_width": null,
            "object_fit": null,
            "object_position": null,
            "order": null,
            "overflow": null,
            "overflow_x": null,
            "overflow_y": null,
            "padding": null,
            "right": null,
            "top": null,
            "visibility": null,
            "width": null
          }
        },
        "69fd5416240b4a3f9198bc13c312b754": {
          "model_module": "@jupyter-widgets/controls",
          "model_module_version": "1.5.0",
          "model_name": "FloatProgressModel",
          "state": {
            "_dom_classes": [],
            "_model_module": "@jupyter-widgets/controls",
            "_model_module_version": "1.5.0",
            "_model_name": "FloatProgressModel",
            "_view_count": null,
            "_view_module": "@jupyter-widgets/controls",
            "_view_module_version": "1.5.0",
            "_view_name": "ProgressView",
            "bar_style": "success",
            "description": "",
            "description_tooltip": null,
            "layout": "IPY_MODEL_6066cb7b865842c88ef5db1515135c87",
            "max": 8146,
            "min": 0,
            "orientation": "horizontal",
            "style": "IPY_MODEL_e0c730a86b0041eabafe409340cf2ec3",
            "value": 8146
          }
        },
        "6a9f181dc1594d9fad1a0e8301ab4fd3": {
          "model_module": "@jupyter-widgets/controls",
          "model_module_version": "1.5.0",
          "model_name": "FloatProgressModel",
          "state": {
            "_dom_classes": [],
            "_model_module": "@jupyter-widgets/controls",
            "_model_module_version": "1.5.0",
            "_model_name": "FloatProgressModel",
            "_view_count": null,
            "_view_module": "@jupyter-widgets/controls",
            "_view_module_version": "1.5.0",
            "_view_name": "ProgressView",
            "bar_style": "success",
            "description": "",
            "description_tooltip": null,
            "layout": "IPY_MODEL_66555b1667a1407cb61fadefb6efe0ff",
            "max": 188,
            "min": 0,
            "orientation": "horizontal",
            "style": "IPY_MODEL_eb0f0576e5e74017a5162db5997ab6d0",
            "value": 188
          }
        },
        "6acb4358d0a1445180bb8c5f5ae4deb2": {
          "model_module": "@jupyter-widgets/controls",
          "model_module_version": "1.5.0",
          "model_name": "HTMLModel",
          "state": {
            "_dom_classes": [],
            "_model_module": "@jupyter-widgets/controls",
            "_model_module_version": "1.5.0",
            "_model_name": "HTMLModel",
            "_view_count": null,
            "_view_module": "@jupyter-widgets/controls",
            "_view_module_version": "1.5.0",
            "_view_name": "HTMLView",
            "description": "",
            "description_tooltip": null,
            "layout": "IPY_MODEL_f54e710d0b214504be4cc8758c954cbf",
            "placeholder": "​",
            "style": "IPY_MODEL_1c94872bf825495eb62915cd2644e5f5",
            "value": "model-00001-of-00002.safetensors: 100%"
          }
        },
        "6b25a63cb07047e7a63e99c7ba2a0e56": {
          "model_module": "@jupyter-widgets/controls",
          "model_module_version": "1.5.0",
          "model_name": "ProgressStyleModel",
          "state": {
            "_model_module": "@jupyter-widgets/controls",
            "_model_module_version": "1.5.0",
            "_model_name": "ProgressStyleModel",
            "_view_count": null,
            "_view_module": "@jupyter-widgets/base",
            "_view_module_version": "1.2.0",
            "_view_name": "StyleView",
            "bar_color": null,
            "description_width": ""
          }
        },
        "6c063c101aa849d2a8b63af5165fe2b3": {
          "model_module": "@jupyter-widgets/controls",
          "model_module_version": "1.5.0",
          "model_name": "ProgressStyleModel",
          "state": {
            "_model_module": "@jupyter-widgets/controls",
            "_model_module_version": "1.5.0",
            "_model_name": "ProgressStyleModel",
            "_view_count": null,
            "_view_module": "@jupyter-widgets/base",
            "_view_module_version": "1.2.0",
            "_view_name": "StyleView",
            "bar_color": null,
            "description_width": ""
          }
        },
        "7c0f07acb89e4ec7a7142bee22d0ffc1": {
          "model_module": "@jupyter-widgets/controls",
          "model_module_version": "1.5.0",
          "model_name": "FloatProgressModel",
          "state": {
            "_dom_classes": [],
            "_model_module": "@jupyter-widgets/controls",
            "_model_module_version": "1.5.0",
            "_model_name": "FloatProgressModel",
            "_view_count": null,
            "_view_module": "@jupyter-widgets/controls",
            "_view_module_version": "1.5.0",
            "_view_name": "ProgressView",
            "bar_style": "success",
            "description": "",
            "description_tooltip": null,
            "layout": "IPY_MODEL_4d39fa5ab9b2483f8e837534f5cb6403",
            "max": 16,
            "min": 0,
            "orientation": "horizontal",
            "style": "IPY_MODEL_b25e2b1488274aff91b057bf2b538dff",
            "value": 16
          }
        },
        "7c4274f03e3943cca317015889fd5321": {
          "model_module": "@jupyter-widgets/controls",
          "model_module_version": "1.5.0",
          "model_name": "HTMLModel",
          "state": {
            "_dom_classes": [],
            "_model_module": "@jupyter-widgets/controls",
            "_model_module_version": "1.5.0",
            "_model_name": "HTMLModel",
            "_view_count": null,
            "_view_module": "@jupyter-widgets/controls",
            "_view_module_version": "1.5.0",
            "_view_name": "HTMLView",
            "description": "",
            "description_tooltip": null,
            "layout": "IPY_MODEL_eb612eb7def7422382777499204bd4d5",
            "placeholder": "​",
            "style": "IPY_MODEL_4af2bcd67a79427d86295272fb34f514",
            "value": "Loading checkpoint shards: 100%"
          }
        },
        "7c5b5df07185494d9c3e9670eb558a9b": {
          "model_module": "@jupyter-widgets/controls",
          "model_module_version": "1.5.0",
          "model_name": "DescriptionStyleModel",
          "state": {
            "_model_module": "@jupyter-widgets/controls",
            "_model_module_version": "1.5.0",
            "_model_name": "DescriptionStyleModel",
            "_view_count": null,
            "_view_module": "@jupyter-widgets/base",
            "_view_module_version": "1.2.0",
            "_view_name": "StyleView",
            "description_width": ""
          }
        },
        "7da0f8d4c14d4821a322ab2f290094c5": {
          "model_module": "@jupyter-widgets/controls",
          "model_module_version": "1.5.0",
          "model_name": "DescriptionStyleModel",
          "state": {
            "_model_module": "@jupyter-widgets/controls",
            "_model_module_version": "1.5.0",
            "_model_name": "DescriptionStyleModel",
            "_view_count": null,
            "_view_module": "@jupyter-widgets/base",
            "_view_module_version": "1.2.0",
            "_view_name": "StyleView",
            "description_width": ""
          }
        },
        "7dda2dde7b3f4943871c8ae7f5a97d0a": {
          "model_module": "@jupyter-widgets/controls",
          "model_module_version": "1.5.0",
          "model_name": "HTMLModel",
          "state": {
            "_dom_classes": [],
            "_model_module": "@jupyter-widgets/controls",
            "_model_module_version": "1.5.0",
            "_model_name": "HTMLModel",
            "_view_count": null,
            "_view_module": "@jupyter-widgets/controls",
            "_view_module_version": "1.5.0",
            "_view_name": "HTMLView",
            "description": "",
            "description_tooltip": null,
            "layout": "IPY_MODEL_c8ce77726d004987bf1a2d80f63d409b",
            "placeholder": "​",
            "style": "IPY_MODEL_e4a906370930464f8f7b76f783443a91",
            "value": " 188/188 [00:00&lt;00:00, 12.5kB/s]"
          }
        },
        "7f45142dd163479da556f9351dc40a1e": {
          "model_module": "@jupyter-widgets/controls",
          "model_module_version": "1.5.0",
          "model_name": "HBoxModel",
          "state": {
            "_dom_classes": [],
            "_model_module": "@jupyter-widgets/controls",
            "_model_module_version": "1.5.0",
            "_model_name": "HBoxModel",
            "_view_count": null,
            "_view_module": "@jupyter-widgets/controls",
            "_view_module_version": "1.5.0",
            "_view_name": "HBoxView",
            "box_style": "",
            "children": [
              "IPY_MODEL_ca820224af3f42869f3355f9f4b157f7",
              "IPY_MODEL_656adba43b9744e1bfa4bf862a5b68fe",
              "IPY_MODEL_c4841a5131ff4f09ac6548bcc8e65372"
            ],
            "layout": "IPY_MODEL_1550afebe1304839b6f0968c1f65635b"
          }
        },
        "821a610d7aac4e6191025918fab24b07": {
          "model_module": "@jupyter-widgets/controls",
          "model_module_version": "1.5.0",
          "model_name": "HTMLModel",
          "state": {
            "_dom_classes": [],
            "_model_module": "@jupyter-widgets/controls",
            "_model_module_version": "1.5.0",
            "_model_name": "HTMLModel",
            "_view_count": null,
            "_view_module": "@jupyter-widgets/controls",
            "_view_module_version": "1.5.0",
            "_view_name": "HTMLView",
            "description": "",
            "description_tooltip": null,
            "layout": "IPY_MODEL_af05aa958cdb4bd9995c05b2741a0b29",
            "placeholder": "​",
            "style": "IPY_MODEL_0dba5a19747247cba94790c117f64921",
            "value": " 3.50G/3.50G [00:25&lt;00:00, 89.7MB/s]"
          }
        },
        "827cd2c15c7c43e3892c40c90d462ec3": {
          "model_module": "@jupyter-widgets/controls",
          "model_module_version": "1.5.0",
          "model_name": "DescriptionStyleModel",
          "state": {
            "_model_module": "@jupyter-widgets/controls",
            "_model_module_version": "1.5.0",
            "_model_name": "DescriptionStyleModel",
            "_view_count": null,
            "_view_module": "@jupyter-widgets/base",
            "_view_module_version": "1.2.0",
            "_view_name": "StyleView",
            "description_width": ""
          }
        },
        "86cab6e60cd748cfa97ce2681e27f14d": {
          "model_module": "@jupyter-widgets/controls",
          "model_module_version": "1.5.0",
          "model_name": "HTMLModel",
          "state": {
            "_dom_classes": [],
            "_model_module": "@jupyter-widgets/controls",
            "_model_module_version": "1.5.0",
            "_model_name": "HTMLModel",
            "_view_count": null,
            "_view_module": "@jupyter-widgets/controls",
            "_view_module_version": "1.5.0",
            "_view_name": "HTMLView",
            "description": "",
            "description_tooltip": null,
            "layout": "IPY_MODEL_f795b9cee96b431f8d97df493a67178c",
            "placeholder": "​",
            "style": "IPY_MODEL_5be5569c3dbc4405a236f8a10d34d86e",
            "value": "Map: 100%"
          }
        },
        "8966d12f6e1e4801a4c3a2237833c43e": {
          "model_module": "@jupyter-widgets/controls",
          "model_module_version": "1.5.0",
          "model_name": "ProgressStyleModel",
          "state": {
            "_model_module": "@jupyter-widgets/controls",
            "_model_module_version": "1.5.0",
            "_model_name": "ProgressStyleModel",
            "_view_count": null,
            "_view_module": "@jupyter-widgets/base",
            "_view_module_version": "1.2.0",
            "_view_name": "StyleView",
            "bar_color": null,
            "description_width": ""
          }
        },
        "8a288521789946e59822daefdc65dc76": {
          "model_module": "@jupyter-widgets/base",
          "model_module_version": "1.2.0",
          "model_name": "LayoutModel",
          "state": {
            "_model_module": "@jupyter-widgets/base",
            "_model_module_version": "1.2.0",
            "_model_name": "LayoutModel",
            "_view_count": null,
            "_view_module": "@jupyter-widgets/base",
            "_view_module_version": "1.2.0",
            "_view_name": "LayoutView",
            "align_content": null,
            "align_items": null,
            "align_self": null,
            "border": null,
            "bottom": null,
            "display": null,
            "flex": null,
            "flex_flow": null,
            "grid_area": null,
            "grid_auto_columns": null,
            "grid_auto_flow": null,
            "grid_auto_rows": null,
            "grid_column": null,
            "grid_gap": null,
            "grid_row": null,
            "grid_template_areas": null,
            "grid_template_columns": null,
            "grid_template_rows": null,
            "height": null,
            "justify_content": null,
            "justify_items": null,
            "left": null,
            "margin": null,
            "max_height": null,
            "max_width": null,
            "min_height": null,
            "min_width": null,
            "object_fit": null,
            "object_position": null,
            "order": null,
            "overflow": null,
            "overflow_x": null,
            "overflow_y": null,
            "padding": null,
            "right": null,
            "top": null,
            "visibility": null,
            "width": null
          }
        },
        "8d046b2458fa45369a77ffd4d33d545a": {
          "model_module": "@jupyter-widgets/controls",
          "model_module_version": "1.5.0",
          "model_name": "HTMLModel",
          "state": {
            "_dom_classes": [],
            "_model_module": "@jupyter-widgets/controls",
            "_model_module_version": "1.5.0",
            "_model_name": "HTMLModel",
            "_view_count": null,
            "_view_module": "@jupyter-widgets/controls",
            "_view_module_version": "1.5.0",
            "_view_name": "HTMLView",
            "description": "",
            "description_tooltip": null,
            "layout": "IPY_MODEL_b3378368bc514c6d9e5559006a2aa022",
            "placeholder": "​",
            "style": "IPY_MODEL_827cd2c15c7c43e3892c40c90d462ec3",
            "value": " 16/16 [00:00&lt;00:00, 361.52 examples/s]"
          }
        },
        "8e2610fd1ab14363bb5118e8d42ea842": {
          "model_module": "@jupyter-widgets/controls",
          "model_module_version": "1.5.0",
          "model_name": "DescriptionStyleModel",
          "state": {
            "_model_module": "@jupyter-widgets/controls",
            "_model_module_version": "1.5.0",
            "_model_name": "DescriptionStyleModel",
            "_view_count": null,
            "_view_module": "@jupyter-widgets/base",
            "_view_module_version": "1.2.0",
            "_view_name": "StyleView",
            "description_width": ""
          }
        },
        "939db26d2a7b406c91fc40711dc0af9d": {
          "model_module": "@jupyter-widgets/base",
          "model_module_version": "1.2.0",
          "model_name": "LayoutModel",
          "state": {
            "_model_module": "@jupyter-widgets/base",
            "_model_module_version": "1.2.0",
            "_model_name": "LayoutModel",
            "_view_count": null,
            "_view_module": "@jupyter-widgets/base",
            "_view_module_version": "1.2.0",
            "_view_name": "LayoutView",
            "align_content": null,
            "align_items": null,
            "align_self": null,
            "border": null,
            "bottom": null,
            "display": null,
            "flex": null,
            "flex_flow": null,
            "grid_area": null,
            "grid_auto_columns": null,
            "grid_auto_flow": null,
            "grid_auto_rows": null,
            "grid_column": null,
            "grid_gap": null,
            "grid_row": null,
            "grid_template_areas": null,
            "grid_template_columns": null,
            "grid_template_rows": null,
            "height": null,
            "justify_content": null,
            "justify_items": null,
            "left": null,
            "margin": null,
            "max_height": null,
            "max_width": null,
            "min_height": null,
            "min_width": null,
            "object_fit": null,
            "object_position": null,
            "order": null,
            "overflow": null,
            "overflow_x": null,
            "overflow_y": null,
            "padding": null,
            "right": null,
            "top": null,
            "visibility": null,
            "width": null
          }
        },
        "95d6e78e5cc64b548a4246e75cbdd339": {
          "model_module": "@jupyter-widgets/controls",
          "model_module_version": "1.5.0",
          "model_name": "HTMLModel",
          "state": {
            "_dom_classes": [],
            "_model_module": "@jupyter-widgets/controls",
            "_model_module_version": "1.5.0",
            "_model_name": "HTMLModel",
            "_view_count": null,
            "_view_module": "@jupyter-widgets/controls",
            "_view_module_version": "1.5.0",
            "_view_name": "HTMLView",
            "description": "",
            "description_tooltip": null,
            "layout": "IPY_MODEL_c8e4ac606ff94649ae5bea5fd03a53bd",
            "placeholder": "​",
            "style": "IPY_MODEL_c802a71fa81e4b1f98a401562c8f8bb6",
            "value": "config.json: 100%"
          }
        },
        "95dbb8d6f8d44bcd993082ceeeeae790": {
          "model_module": "@jupyter-widgets/base",
          "model_module_version": "1.2.0",
          "model_name": "LayoutModel",
          "state": {
            "_model_module": "@jupyter-widgets/base",
            "_model_module_version": "1.2.0",
            "_model_name": "LayoutModel",
            "_view_count": null,
            "_view_module": "@jupyter-widgets/base",
            "_view_module_version": "1.2.0",
            "_view_name": "LayoutView",
            "align_content": null,
            "align_items": null,
            "align_self": null,
            "border": null,
            "bottom": null,
            "display": null,
            "flex": null,
            "flex_flow": null,
            "grid_area": null,
            "grid_auto_columns": null,
            "grid_auto_flow": null,
            "grid_auto_rows": null,
            "grid_column": null,
            "grid_gap": null,
            "grid_row": null,
            "grid_template_areas": null,
            "grid_template_columns": null,
            "grid_template_rows": null,
            "height": null,
            "justify_content": null,
            "justify_items": null,
            "left": null,
            "margin": null,
            "max_height": null,
            "max_width": null,
            "min_height": null,
            "min_width": null,
            "object_fit": null,
            "object_position": null,
            "order": null,
            "overflow": null,
            "overflow_x": null,
            "overflow_y": null,
            "padding": null,
            "right": null,
            "top": null,
            "visibility": null,
            "width": null
          }
        },
        "998d3caf217c4c4c989421063ec108d3": {
          "model_module": "@jupyter-widgets/base",
          "model_module_version": "1.2.0",
          "model_name": "LayoutModel",
          "state": {
            "_model_module": "@jupyter-widgets/base",
            "_model_module_version": "1.2.0",
            "_model_name": "LayoutModel",
            "_view_count": null,
            "_view_module": "@jupyter-widgets/base",
            "_view_module_version": "1.2.0",
            "_view_name": "LayoutView",
            "align_content": null,
            "align_items": null,
            "align_self": null,
            "border": null,
            "bottom": null,
            "display": null,
            "flex": null,
            "flex_flow": null,
            "grid_area": null,
            "grid_auto_columns": null,
            "grid_auto_flow": null,
            "grid_auto_rows": null,
            "grid_column": null,
            "grid_gap": null,
            "grid_row": null,
            "grid_template_areas": null,
            "grid_template_columns": null,
            "grid_template_rows": null,
            "height": null,
            "justify_content": null,
            "justify_items": null,
            "left": null,
            "margin": null,
            "max_height": null,
            "max_width": null,
            "min_height": null,
            "min_width": null,
            "object_fit": null,
            "object_position": null,
            "order": null,
            "overflow": null,
            "overflow_x": null,
            "overflow_y": null,
            "padding": null,
            "right": null,
            "top": null,
            "visibility": null,
            "width": null
          }
        },
        "9acb5f182a2245c6845265fb24598610": {
          "model_module": "@jupyter-widgets/base",
          "model_module_version": "1.2.0",
          "model_name": "LayoutModel",
          "state": {
            "_model_module": "@jupyter-widgets/base",
            "_model_module_version": "1.2.0",
            "_model_name": "LayoutModel",
            "_view_count": null,
            "_view_module": "@jupyter-widgets/base",
            "_view_module_version": "1.2.0",
            "_view_name": "LayoutView",
            "align_content": null,
            "align_items": null,
            "align_self": null,
            "border": null,
            "bottom": null,
            "display": null,
            "flex": null,
            "flex_flow": null,
            "grid_area": null,
            "grid_auto_columns": null,
            "grid_auto_flow": null,
            "grid_auto_rows": null,
            "grid_column": null,
            "grid_gap": null,
            "grid_row": null,
            "grid_template_areas": null,
            "grid_template_columns": null,
            "grid_template_rows": null,
            "height": null,
            "justify_content": null,
            "justify_items": null,
            "left": null,
            "margin": null,
            "max_height": null,
            "max_width": null,
            "min_height": null,
            "min_width": null,
            "object_fit": null,
            "object_position": null,
            "order": null,
            "overflow": null,
            "overflow_x": null,
            "overflow_y": null,
            "padding": null,
            "right": null,
            "top": null,
            "visibility": null,
            "width": null
          }
        },
        "9e4021943a1443ad876e2c03b6aa54be": {
          "model_module": "@jupyter-widgets/base",
          "model_module_version": "1.2.0",
          "model_name": "LayoutModel",
          "state": {
            "_model_module": "@jupyter-widgets/base",
            "_model_module_version": "1.2.0",
            "_model_name": "LayoutModel",
            "_view_count": null,
            "_view_module": "@jupyter-widgets/base",
            "_view_module_version": "1.2.0",
            "_view_name": "LayoutView",
            "align_content": null,
            "align_items": null,
            "align_self": null,
            "border": null,
            "bottom": null,
            "display": null,
            "flex": null,
            "flex_flow": null,
            "grid_area": null,
            "grid_auto_columns": null,
            "grid_auto_flow": null,
            "grid_auto_rows": null,
            "grid_column": null,
            "grid_gap": null,
            "grid_row": null,
            "grid_template_areas": null,
            "grid_template_columns": null,
            "grid_template_rows": null,
            "height": null,
            "justify_content": null,
            "justify_items": null,
            "left": null,
            "margin": null,
            "max_height": null,
            "max_width": null,
            "min_height": null,
            "min_width": null,
            "object_fit": null,
            "object_position": null,
            "order": null,
            "overflow": null,
            "overflow_x": null,
            "overflow_y": null,
            "padding": null,
            "right": null,
            "top": null,
            "visibility": null,
            "width": null
          }
        },
        "a1f24667c8b54398a3c1964d450b0770": {
          "model_module": "@jupyter-widgets/controls",
          "model_module_version": "1.5.0",
          "model_name": "HBoxModel",
          "state": {
            "_dom_classes": [],
            "_model_module": "@jupyter-widgets/controls",
            "_model_module_version": "1.5.0",
            "_model_name": "HBoxModel",
            "_view_count": null,
            "_view_module": "@jupyter-widgets/controls",
            "_view_module_version": "1.5.0",
            "_view_name": "HBoxView",
            "box_style": "",
            "children": [
              "IPY_MODEL_7c4274f03e3943cca317015889fd5321",
              "IPY_MODEL_16cff61e16a74a8faeea300f1aa0a44b",
              "IPY_MODEL_e79fe5bd141d42fa937dec87eae8c1bc"
            ],
            "layout": "IPY_MODEL_1f3e6cc71a944c8a865ef901977ed491"
          }
        },
        "a3ea9d959af9467691639f687667393a": {
          "model_module": "@jupyter-widgets/controls",
          "model_module_version": "1.5.0",
          "model_name": "FloatProgressModel",
          "state": {
            "_dom_classes": [],
            "_model_module": "@jupyter-widgets/controls",
            "_model_module_version": "1.5.0",
            "_model_name": "FloatProgressModel",
            "_view_count": null,
            "_view_module": "@jupyter-widgets/controls",
            "_view_module_version": "1.5.0",
            "_view_name": "ProgressView",
            "bar_style": "success",
            "description": "",
            "description_tooltip": null,
            "layout": "IPY_MODEL_95dbb8d6f8d44bcd993082ceeeeae790",
            "max": 2,
            "min": 0,
            "orientation": "horizontal",
            "style": "IPY_MODEL_2c5112d32c9f4614815083f6d4688826",
            "value": 2
          }
        },
        "af05aa958cdb4bd9995c05b2741a0b29": {
          "model_module": "@jupyter-widgets/base",
          "model_module_version": "1.2.0",
          "model_name": "LayoutModel",
          "state": {
            "_model_module": "@jupyter-widgets/base",
            "_model_module_version": "1.2.0",
            "_model_name": "LayoutModel",
            "_view_count": null,
            "_view_module": "@jupyter-widgets/base",
            "_view_module_version": "1.2.0",
            "_view_name": "LayoutView",
            "align_content": null,
            "align_items": null,
            "align_self": null,
            "border": null,
            "bottom": null,
            "display": null,
            "flex": null,
            "flex_flow": null,
            "grid_area": null,
            "grid_auto_columns": null,
            "grid_auto_flow": null,
            "grid_auto_rows": null,
            "grid_column": null,
            "grid_gap": null,
            "grid_row": null,
            "grid_template_areas": null,
            "grid_template_columns": null,
            "grid_template_rows": null,
            "height": null,
            "justify_content": null,
            "justify_items": null,
            "left": null,
            "margin": null,
            "max_height": null,
            "max_width": null,
            "min_height": null,
            "min_width": null,
            "object_fit": null,
            "object_position": null,
            "order": null,
            "overflow": null,
            "overflow_x": null,
            "overflow_y": null,
            "padding": null,
            "right": null,
            "top": null,
            "visibility": null,
            "width": null
          }
        },
        "b25e2b1488274aff91b057bf2b538dff": {
          "model_module": "@jupyter-widgets/controls",
          "model_module_version": "1.5.0",
          "model_name": "ProgressStyleModel",
          "state": {
            "_model_module": "@jupyter-widgets/controls",
            "_model_module_version": "1.5.0",
            "_model_name": "ProgressStyleModel",
            "_view_count": null,
            "_view_module": "@jupyter-widgets/base",
            "_view_module_version": "1.2.0",
            "_view_name": "StyleView",
            "bar_color": null,
            "description_width": ""
          }
        },
        "b2f117dedd29405ea3d1b4ed1629f7bc": {
          "model_module": "@jupyter-widgets/controls",
          "model_module_version": "1.5.0",
          "model_name": "HBoxModel",
          "state": {
            "_dom_classes": [],
            "_model_module": "@jupyter-widgets/controls",
            "_model_module_version": "1.5.0",
            "_model_name": "HBoxModel",
            "_view_count": null,
            "_view_module": "@jupyter-widgets/controls",
            "_view_module_version": "1.5.0",
            "_view_name": "HBoxView",
            "box_style": "",
            "children": [
              "IPY_MODEL_d5adf62636f64ef5be9fe15200659919",
              "IPY_MODEL_69fd5416240b4a3f9198bc13c312b754",
              "IPY_MODEL_fdb1fd6d8f7a48a39f0568b3fe92873e"
            ],
            "layout": "IPY_MODEL_f8a4778a319c48cb82224914f5f58e69"
          }
        },
        "b3378368bc514c6d9e5559006a2aa022": {
          "model_module": "@jupyter-widgets/base",
          "model_module_version": "1.2.0",
          "model_name": "LayoutModel",
          "state": {
            "_model_module": "@jupyter-widgets/base",
            "_model_module_version": "1.2.0",
            "_model_name": "LayoutModel",
            "_view_count": null,
            "_view_module": "@jupyter-widgets/base",
            "_view_module_version": "1.2.0",
            "_view_name": "LayoutView",
            "align_content": null,
            "align_items": null,
            "align_self": null,
            "border": null,
            "bottom": null,
            "display": null,
            "flex": null,
            "flex_flow": null,
            "grid_area": null,
            "grid_auto_columns": null,
            "grid_auto_flow": null,
            "grid_auto_rows": null,
            "grid_column": null,
            "grid_gap": null,
            "grid_row": null,
            "grid_template_areas": null,
            "grid_template_columns": null,
            "grid_template_rows": null,
            "height": null,
            "justify_content": null,
            "justify_items": null,
            "left": null,
            "margin": null,
            "max_height": null,
            "max_width": null,
            "min_height": null,
            "min_width": null,
            "object_fit": null,
            "object_position": null,
            "order": null,
            "overflow": null,
            "overflow_x": null,
            "overflow_y": null,
            "padding": null,
            "right": null,
            "top": null,
            "visibility": null,
            "width": null
          }
        },
        "b70bcd5076904bc7a5edda47a35162d2": {
          "model_module": "@jupyter-widgets/controls",
          "model_module_version": "1.5.0",
          "model_name": "HBoxModel",
          "state": {
            "_dom_classes": [],
            "_model_module": "@jupyter-widgets/controls",
            "_model_module_version": "1.5.0",
            "_model_name": "HBoxModel",
            "_view_count": null,
            "_view_module": "@jupyter-widgets/controls",
            "_view_module_version": "1.5.0",
            "_view_name": "HBoxView",
            "box_style": "",
            "children": [
              "IPY_MODEL_36bc63eac84f4465a760907115c5b71c",
              "IPY_MODEL_7c0f07acb89e4ec7a7142bee22d0ffc1",
              "IPY_MODEL_8d046b2458fa45369a77ffd4d33d545a"
            ],
            "layout": "IPY_MODEL_c7f13fd7f1664bbea8e09abd90e65519"
          }
        },
        "b83bc6b34e8d420584a1444cda964507": {
          "model_module": "@jupyter-widgets/base",
          "model_module_version": "1.2.0",
          "model_name": "LayoutModel",
          "state": {
            "_model_module": "@jupyter-widgets/base",
            "_model_module_version": "1.2.0",
            "_model_name": "LayoutModel",
            "_view_count": null,
            "_view_module": "@jupyter-widgets/base",
            "_view_module_version": "1.2.0",
            "_view_name": "LayoutView",
            "align_content": null,
            "align_items": null,
            "align_self": null,
            "border": null,
            "bottom": null,
            "display": null,
            "flex": null,
            "flex_flow": null,
            "grid_area": null,
            "grid_auto_columns": null,
            "grid_auto_flow": null,
            "grid_auto_rows": null,
            "grid_column": null,
            "grid_gap": null,
            "grid_row": null,
            "grid_template_areas": null,
            "grid_template_columns": null,
            "grid_template_rows": null,
            "height": null,
            "justify_content": null,
            "justify_items": null,
            "left": null,
            "margin": null,
            "max_height": null,
            "max_width": null,
            "min_height": null,
            "min_width": null,
            "object_fit": null,
            "object_position": null,
            "order": null,
            "overflow": null,
            "overflow_x": null,
            "overflow_y": null,
            "padding": null,
            "right": null,
            "top": null,
            "visibility": null,
            "width": null
          }
        },
        "bbbf795cd3c44d03a0c19a5852812c45": {
          "model_module": "@jupyter-widgets/controls",
          "model_module_version": "1.5.0",
          "model_name": "HBoxModel",
          "state": {
            "_dom_classes": [],
            "_model_module": "@jupyter-widgets/controls",
            "_model_module_version": "1.5.0",
            "_model_name": "HBoxModel",
            "_view_count": null,
            "_view_module": "@jupyter-widgets/controls",
            "_view_module_version": "1.5.0",
            "_view_name": "HBoxView",
            "box_style": "",
            "children": [
              "IPY_MODEL_2195f4ff1b054e88bb7f90f7355f7141",
              "IPY_MODEL_6a9f181dc1594d9fad1a0e8301ab4fd3",
              "IPY_MODEL_7dda2dde7b3f4943871c8ae7f5a97d0a"
            ],
            "layout": "IPY_MODEL_f48c6cb2f7df407fbfd16cf919a3a4d3"
          }
        },
        "bd19d2a424db4bcf8e31ffd5c69a894c": {
          "model_module": "@jupyter-widgets/base",
          "model_module_version": "1.2.0",
          "model_name": "LayoutModel",
          "state": {
            "_model_module": "@jupyter-widgets/base",
            "_model_module_version": "1.2.0",
            "_model_name": "LayoutModel",
            "_view_count": null,
            "_view_module": "@jupyter-widgets/base",
            "_view_module_version": "1.2.0",
            "_view_name": "LayoutView",
            "align_content": null,
            "align_items": null,
            "align_self": null,
            "border": null,
            "bottom": null,
            "display": null,
            "flex": null,
            "flex_flow": null,
            "grid_area": null,
            "grid_auto_columns": null,
            "grid_auto_flow": null,
            "grid_auto_rows": null,
            "grid_column": null,
            "grid_gap": null,
            "grid_row": null,
            "grid_template_areas": null,
            "grid_template_columns": null,
            "grid_template_rows": null,
            "height": null,
            "justify_content": null,
            "justify_items": null,
            "left": null,
            "margin": null,
            "max_height": null,
            "max_width": null,
            "min_height": null,
            "min_width": null,
            "object_fit": null,
            "object_position": null,
            "order": null,
            "overflow": null,
            "overflow_x": null,
            "overflow_y": null,
            "padding": null,
            "right": null,
            "top": null,
            "visibility": null,
            "width": null
          }
        },
        "c1db576076e64ef8ac5656799a040db8": {
          "model_module": "@jupyter-widgets/base",
          "model_module_version": "1.2.0",
          "model_name": "LayoutModel",
          "state": {
            "_model_module": "@jupyter-widgets/base",
            "_model_module_version": "1.2.0",
            "_model_name": "LayoutModel",
            "_view_count": null,
            "_view_module": "@jupyter-widgets/base",
            "_view_module_version": "1.2.0",
            "_view_name": "LayoutView",
            "align_content": null,
            "align_items": null,
            "align_self": null,
            "border": null,
            "bottom": null,
            "display": null,
            "flex": null,
            "flex_flow": null,
            "grid_area": null,
            "grid_auto_columns": null,
            "grid_auto_flow": null,
            "grid_auto_rows": null,
            "grid_column": null,
            "grid_gap": null,
            "grid_row": null,
            "grid_template_areas": null,
            "grid_template_columns": null,
            "grid_template_rows": null,
            "height": null,
            "justify_content": null,
            "justify_items": null,
            "left": null,
            "margin": null,
            "max_height": null,
            "max_width": null,
            "min_height": null,
            "min_width": null,
            "object_fit": null,
            "object_position": null,
            "order": null,
            "overflow": null,
            "overflow_x": null,
            "overflow_y": null,
            "padding": null,
            "right": null,
            "top": null,
            "visibility": null,
            "width": null
          }
        },
        "c4841a5131ff4f09ac6548bcc8e65372": {
          "model_module": "@jupyter-widgets/controls",
          "model_module_version": "1.5.0",
          "model_name": "HTMLModel",
          "state": {
            "_dom_classes": [],
            "_model_module": "@jupyter-widgets/controls",
            "_model_module_version": "1.5.0",
            "_model_name": "HTMLModel",
            "_view_count": null,
            "_view_module": "@jupyter-widgets/controls",
            "_view_module_version": "1.5.0",
            "_view_name": "HTMLView",
            "description": "",
            "description_tooltip": null,
            "layout": "IPY_MODEL_9e4021943a1443ad876e2c03b6aa54be",
            "placeholder": "​",
            "style": "IPY_MODEL_27310c9ff2db4492829f09bf40f16093",
            "value": " 26.8k/26.8k [00:00&lt;00:00, 988kB/s]"
          }
        },
        "c600506deb8b47608ac779d3862385c6": {
          "model_module": "@jupyter-widgets/base",
          "model_module_version": "1.2.0",
          "model_name": "LayoutModel",
          "state": {
            "_model_module": "@jupyter-widgets/base",
            "_model_module_version": "1.2.0",
            "_model_name": "LayoutModel",
            "_view_count": null,
            "_view_module": "@jupyter-widgets/base",
            "_view_module_version": "1.2.0",
            "_view_name": "LayoutView",
            "align_content": null,
            "align_items": null,
            "align_self": null,
            "border": null,
            "bottom": null,
            "display": null,
            "flex": null,
            "flex_flow": null,
            "grid_area": null,
            "grid_auto_columns": null,
            "grid_auto_flow": null,
            "grid_auto_rows": null,
            "grid_column": null,
            "grid_gap": null,
            "grid_row": null,
            "grid_template_areas": null,
            "grid_template_columns": null,
            "grid_template_rows": null,
            "height": null,
            "justify_content": null,
            "justify_items": null,
            "left": null,
            "margin": null,
            "max_height": null,
            "max_width": null,
            "min_height": null,
            "min_width": null,
            "object_fit": null,
            "object_position": null,
            "order": null,
            "overflow": null,
            "overflow_x": null,
            "overflow_y": null,
            "padding": null,
            "right": null,
            "top": null,
            "visibility": null,
            "width": null
          }
        },
        "c7f13fd7f1664bbea8e09abd90e65519": {
          "model_module": "@jupyter-widgets/base",
          "model_module_version": "1.2.0",
          "model_name": "LayoutModel",
          "state": {
            "_model_module": "@jupyter-widgets/base",
            "_model_module_version": "1.2.0",
            "_model_name": "LayoutModel",
            "_view_count": null,
            "_view_module": "@jupyter-widgets/base",
            "_view_module_version": "1.2.0",
            "_view_name": "LayoutView",
            "align_content": null,
            "align_items": null,
            "align_self": null,
            "border": null,
            "bottom": null,
            "display": null,
            "flex": null,
            "flex_flow": null,
            "grid_area": null,
            "grid_auto_columns": null,
            "grid_auto_flow": null,
            "grid_auto_rows": null,
            "grid_column": null,
            "grid_gap": null,
            "grid_row": null,
            "grid_template_areas": null,
            "grid_template_columns": null,
            "grid_template_rows": null,
            "height": null,
            "justify_content": null,
            "justify_items": null,
            "left": null,
            "margin": null,
            "max_height": null,
            "max_width": null,
            "min_height": null,
            "min_width": null,
            "object_fit": null,
            "object_position": null,
            "order": null,
            "overflow": null,
            "overflow_x": null,
            "overflow_y": null,
            "padding": null,
            "right": null,
            "top": null,
            "visibility": null,
            "width": null
          }
        },
        "c802a71fa81e4b1f98a401562c8f8bb6": {
          "model_module": "@jupyter-widgets/controls",
          "model_module_version": "1.5.0",
          "model_name": "DescriptionStyleModel",
          "state": {
            "_model_module": "@jupyter-widgets/controls",
            "_model_module_version": "1.5.0",
            "_model_name": "DescriptionStyleModel",
            "_view_count": null,
            "_view_module": "@jupyter-widgets/base",
            "_view_module_version": "1.2.0",
            "_view_name": "StyleView",
            "description_width": ""
          }
        },
        "c8ce77726d004987bf1a2d80f63d409b": {
          "model_module": "@jupyter-widgets/base",
          "model_module_version": "1.2.0",
          "model_name": "LayoutModel",
          "state": {
            "_model_module": "@jupyter-widgets/base",
            "_model_module_version": "1.2.0",
            "_model_name": "LayoutModel",
            "_view_count": null,
            "_view_module": "@jupyter-widgets/base",
            "_view_module_version": "1.2.0",
            "_view_name": "LayoutView",
            "align_content": null,
            "align_items": null,
            "align_self": null,
            "border": null,
            "bottom": null,
            "display": null,
            "flex": null,
            "flex_flow": null,
            "grid_area": null,
            "grid_auto_columns": null,
            "grid_auto_flow": null,
            "grid_auto_rows": null,
            "grid_column": null,
            "grid_gap": null,
            "grid_row": null,
            "grid_template_areas": null,
            "grid_template_columns": null,
            "grid_template_rows": null,
            "height": null,
            "justify_content": null,
            "justify_items": null,
            "left": null,
            "margin": null,
            "max_height": null,
            "max_width": null,
            "min_height": null,
            "min_width": null,
            "object_fit": null,
            "object_position": null,
            "order": null,
            "overflow": null,
            "overflow_x": null,
            "overflow_y": null,
            "padding": null,
            "right": null,
            "top": null,
            "visibility": null,
            "width": null
          }
        },
        "c8e4ac606ff94649ae5bea5fd03a53bd": {
          "model_module": "@jupyter-widgets/base",
          "model_module_version": "1.2.0",
          "model_name": "LayoutModel",
          "state": {
            "_model_module": "@jupyter-widgets/base",
            "_model_module_version": "1.2.0",
            "_model_name": "LayoutModel",
            "_view_count": null,
            "_view_module": "@jupyter-widgets/base",
            "_view_module_version": "1.2.0",
            "_view_name": "LayoutView",
            "align_content": null,
            "align_items": null,
            "align_self": null,
            "border": null,
            "bottom": null,
            "display": null,
            "flex": null,
            "flex_flow": null,
            "grid_area": null,
            "grid_auto_columns": null,
            "grid_auto_flow": null,
            "grid_auto_rows": null,
            "grid_column": null,
            "grid_gap": null,
            "grid_row": null,
            "grid_template_areas": null,
            "grid_template_columns": null,
            "grid_template_rows": null,
            "height": null,
            "justify_content": null,
            "justify_items": null,
            "left": null,
            "margin": null,
            "max_height": null,
            "max_width": null,
            "min_height": null,
            "min_width": null,
            "object_fit": null,
            "object_position": null,
            "order": null,
            "overflow": null,
            "overflow_x": null,
            "overflow_y": null,
            "padding": null,
            "right": null,
            "top": null,
            "visibility": null,
            "width": null
          }
        },
        "c911ea98ae0348ef95cdcb1d251d1e86": {
          "model_module": "@jupyter-widgets/controls",
          "model_module_version": "1.5.0",
          "model_name": "HTMLModel",
          "state": {
            "_dom_classes": [],
            "_model_module": "@jupyter-widgets/controls",
            "_model_module_version": "1.5.0",
            "_model_name": "HTMLModel",
            "_view_count": null,
            "_view_module": "@jupyter-widgets/controls",
            "_view_module_version": "1.5.0",
            "_view_name": "HTMLView",
            "description": "",
            "description_tooltip": null,
            "layout": "IPY_MODEL_998d3caf217c4c4c989421063ec108d3",
            "placeholder": "​",
            "style": "IPY_MODEL_7da0f8d4c14d4821a322ab2f290094c5",
            "value": " 16/16 [00:00&lt;00:00, 177.04 examples/s]"
          }
        },
        "ca820224af3f42869f3355f9f4b157f7": {
          "model_module": "@jupyter-widgets/controls",
          "model_module_version": "1.5.0",
          "model_name": "HTMLModel",
          "state": {
            "_dom_classes": [],
            "_model_module": "@jupyter-widgets/controls",
            "_model_module_version": "1.5.0",
            "_model_name": "HTMLModel",
            "_view_count": null,
            "_view_module": "@jupyter-widgets/controls",
            "_view_module_version": "1.5.0",
            "_view_name": "HTMLView",
            "description": "",
            "description_tooltip": null,
            "layout": "IPY_MODEL_c600506deb8b47608ac779d3862385c6",
            "placeholder": "​",
            "style": "IPY_MODEL_02ae2e7c77c24d8ca9cc1563ab625d64",
            "value": "model.safetensors.index.json: 100%"
          }
        },
        "cc6c64d10fbd47a996c37e6386a40e56": {
          "model_module": "@jupyter-widgets/controls",
          "model_module_version": "1.5.0",
          "model_name": "HTMLModel",
          "state": {
            "_dom_classes": [],
            "_model_module": "@jupyter-widgets/controls",
            "_model_module_version": "1.5.0",
            "_model_name": "HTMLModel",
            "_view_count": null,
            "_view_module": "@jupyter-widgets/controls",
            "_view_module_version": "1.5.0",
            "_view_name": "HTMLView",
            "description": "",
            "description_tooltip": null,
            "layout": "IPY_MODEL_c1db576076e64ef8ac5656799a040db8",
            "placeholder": "​",
            "style": "IPY_MODEL_7c5b5df07185494d9c3e9670eb558a9b",
            "value": "Downloading shards: 100%"
          }
        },
        "d0e0715965024aecadf294fb29f02a40": {
          "model_module": "@jupyter-widgets/controls",
          "model_module_version": "1.5.0",
          "model_name": "DescriptionStyleModel",
          "state": {
            "_model_module": "@jupyter-widgets/controls",
            "_model_module_version": "1.5.0",
            "_model_name": "DescriptionStyleModel",
            "_view_count": null,
            "_view_module": "@jupyter-widgets/base",
            "_view_module_version": "1.2.0",
            "_view_name": "StyleView",
            "description_width": ""
          }
        },
        "d13ab3bdc5d94f72b7ac35b4dfbf6985": {
          "model_module": "@jupyter-widgets/controls",
          "model_module_version": "1.5.0",
          "model_name": "HBoxModel",
          "state": {
            "_dom_classes": [],
            "_model_module": "@jupyter-widgets/controls",
            "_model_module_version": "1.5.0",
            "_model_name": "HBoxModel",
            "_view_count": null,
            "_view_module": "@jupyter-widgets/controls",
            "_view_module_version": "1.5.0",
            "_view_name": "HBoxView",
            "box_style": "",
            "children": [
              "IPY_MODEL_0c45604ee504431a804b34ad1b825fcf",
              "IPY_MODEL_2cd5981846894d298f339bba957c04f9",
              "IPY_MODEL_821a610d7aac4e6191025918fab24b07"
            ],
            "layout": "IPY_MODEL_3b5160caa0a5476ba8383cc1226abcd2"
          }
        },
        "d5adf62636f64ef5be9fe15200659919": {
          "model_module": "@jupyter-widgets/controls",
          "model_module_version": "1.5.0",
          "model_name": "HTMLModel",
          "state": {
            "_dom_classes": [],
            "_model_module": "@jupyter-widgets/controls",
            "_model_module_version": "1.5.0",
            "_model_name": "HTMLModel",
            "_view_count": null,
            "_view_module": "@jupyter-widgets/controls",
            "_view_module_version": "1.5.0",
            "_view_name": "HTMLView",
            "description": "",
            "description_tooltip": null,
            "layout": "IPY_MODEL_46374c0d7c044fca9c54c2cebf5c7a77",
            "placeholder": "​",
            "style": "IPY_MODEL_0dba847ababc4bd0b0dfbf148df4bbfc",
            "value": "Downloading builder script: 100%"
          }
        },
        "d5ed587dcede4c529d9a680cd3efeb48": {
          "model_module": "@jupyter-widgets/base",
          "model_module_version": "1.2.0",
          "model_name": "LayoutModel",
          "state": {
            "_model_module": "@jupyter-widgets/base",
            "_model_module_version": "1.2.0",
            "_model_name": "LayoutModel",
            "_view_count": null,
            "_view_module": "@jupyter-widgets/base",
            "_view_module_version": "1.2.0",
            "_view_name": "LayoutView",
            "align_content": null,
            "align_items": null,
            "align_self": null,
            "border": null,
            "bottom": null,
            "display": null,
            "flex": null,
            "flex_flow": null,
            "grid_area": null,
            "grid_auto_columns": null,
            "grid_auto_flow": null,
            "grid_auto_rows": null,
            "grid_column": null,
            "grid_gap": null,
            "grid_row": null,
            "grid_template_areas": null,
            "grid_template_columns": null,
            "grid_template_rows": null,
            "height": null,
            "justify_content": null,
            "justify_items": null,
            "left": null,
            "margin": null,
            "max_height": null,
            "max_width": null,
            "min_height": null,
            "min_width": null,
            "object_fit": null,
            "object_position": null,
            "order": null,
            "overflow": null,
            "overflow_x": null,
            "overflow_y": null,
            "padding": null,
            "right": null,
            "top": null,
            "visibility": null,
            "width": null
          }
        },
        "d84c10a21efb4151a946a0ee346fe475": {
          "model_module": "@jupyter-widgets/controls",
          "model_module_version": "1.5.0",
          "model_name": "HTMLModel",
          "state": {
            "_dom_classes": [],
            "_model_module": "@jupyter-widgets/controls",
            "_model_module_version": "1.5.0",
            "_model_name": "HTMLModel",
            "_view_count": null,
            "_view_module": "@jupyter-widgets/controls",
            "_view_module_version": "1.5.0",
            "_view_name": "HTMLView",
            "description": "",
            "description_tooltip": null,
            "layout": "IPY_MODEL_b83bc6b34e8d420584a1444cda964507",
            "placeholder": "​",
            "style": "IPY_MODEL_e6cbb0c9ded74628803c3b50ce985c76",
            "value": " 609/609 [00:00&lt;00:00, 40.2kB/s]"
          }
        },
        "da8c92a9ebab496ab15e806b88464ee5": {
          "model_module": "@jupyter-widgets/base",
          "model_module_version": "1.2.0",
          "model_name": "LayoutModel",
          "state": {
            "_model_module": "@jupyter-widgets/base",
            "_model_module_version": "1.2.0",
            "_model_name": "LayoutModel",
            "_view_count": null,
            "_view_module": "@jupyter-widgets/base",
            "_view_module_version": "1.2.0",
            "_view_name": "LayoutView",
            "align_content": null,
            "align_items": null,
            "align_self": null,
            "border": null,
            "bottom": null,
            "display": null,
            "flex": null,
            "flex_flow": null,
            "grid_area": null,
            "grid_auto_columns": null,
            "grid_auto_flow": null,
            "grid_auto_rows": null,
            "grid_column": null,
            "grid_gap": null,
            "grid_row": null,
            "grid_template_areas": null,
            "grid_template_columns": null,
            "grid_template_rows": null,
            "height": null,
            "justify_content": null,
            "justify_items": null,
            "left": null,
            "margin": null,
            "max_height": null,
            "max_width": null,
            "min_height": null,
            "min_width": null,
            "object_fit": null,
            "object_position": null,
            "order": null,
            "overflow": null,
            "overflow_x": null,
            "overflow_y": null,
            "padding": null,
            "right": null,
            "top": null,
            "visibility": null,
            "width": null
          }
        },
        "e052cd1447154d86b97f8054feb9cdf2": {
          "model_module": "@jupyter-widgets/base",
          "model_module_version": "1.2.0",
          "model_name": "LayoutModel",
          "state": {
            "_model_module": "@jupyter-widgets/base",
            "_model_module_version": "1.2.0",
            "_model_name": "LayoutModel",
            "_view_count": null,
            "_view_module": "@jupyter-widgets/base",
            "_view_module_version": "1.2.0",
            "_view_name": "LayoutView",
            "align_content": null,
            "align_items": null,
            "align_self": null,
            "border": null,
            "bottom": null,
            "display": null,
            "flex": null,
            "flex_flow": null,
            "grid_area": null,
            "grid_auto_columns": null,
            "grid_auto_flow": null,
            "grid_auto_rows": null,
            "grid_column": null,
            "grid_gap": null,
            "grid_row": null,
            "grid_template_areas": null,
            "grid_template_columns": null,
            "grid_template_rows": null,
            "height": null,
            "justify_content": null,
            "justify_items": null,
            "left": null,
            "margin": null,
            "max_height": null,
            "max_width": null,
            "min_height": null,
            "min_width": null,
            "object_fit": null,
            "object_position": null,
            "order": null,
            "overflow": null,
            "overflow_x": null,
            "overflow_y": null,
            "padding": null,
            "right": null,
            "top": null,
            "visibility": null,
            "width": null
          }
        },
        "e0c730a86b0041eabafe409340cf2ec3": {
          "model_module": "@jupyter-widgets/controls",
          "model_module_version": "1.5.0",
          "model_name": "ProgressStyleModel",
          "state": {
            "_model_module": "@jupyter-widgets/controls",
            "_model_module_version": "1.5.0",
            "_model_name": "ProgressStyleModel",
            "_view_count": null,
            "_view_module": "@jupyter-widgets/base",
            "_view_module_version": "1.2.0",
            "_view_name": "StyleView",
            "bar_color": null,
            "description_width": ""
          }
        },
        "e4a906370930464f8f7b76f783443a91": {
          "model_module": "@jupyter-widgets/controls",
          "model_module_version": "1.5.0",
          "model_name": "DescriptionStyleModel",
          "state": {
            "_model_module": "@jupyter-widgets/controls",
            "_model_module_version": "1.5.0",
            "_model_name": "DescriptionStyleModel",
            "_view_count": null,
            "_view_module": "@jupyter-widgets/base",
            "_view_module_version": "1.2.0",
            "_view_name": "StyleView",
            "description_width": ""
          }
        },
        "e6401447d5574c6c914a10a86c9d7a12": {
          "model_module": "@jupyter-widgets/controls",
          "model_module_version": "1.5.0",
          "model_name": "HBoxModel",
          "state": {
            "_dom_classes": [],
            "_model_module": "@jupyter-widgets/controls",
            "_model_module_version": "1.5.0",
            "_model_name": "HBoxModel",
            "_view_count": null,
            "_view_module": "@jupyter-widgets/controls",
            "_view_module_version": "1.5.0",
            "_view_name": "HBoxView",
            "box_style": "",
            "children": [
              "IPY_MODEL_95d6e78e5cc64b548a4246e75cbdd339",
              "IPY_MODEL_1332dc1126e04ecb94e1a16c17e4a8bb",
              "IPY_MODEL_d84c10a21efb4151a946a0ee346fe475"
            ],
            "layout": "IPY_MODEL_8a288521789946e59822daefdc65dc76"
          }
        },
        "e6cbb0c9ded74628803c3b50ce985c76": {
          "model_module": "@jupyter-widgets/controls",
          "model_module_version": "1.5.0",
          "model_name": "DescriptionStyleModel",
          "state": {
            "_model_module": "@jupyter-widgets/controls",
            "_model_module_version": "1.5.0",
            "_model_name": "DescriptionStyleModel",
            "_view_count": null,
            "_view_module": "@jupyter-widgets/base",
            "_view_module_version": "1.2.0",
            "_view_name": "StyleView",
            "description_width": ""
          }
        },
        "e79fe5bd141d42fa937dec87eae8c1bc": {
          "model_module": "@jupyter-widgets/controls",
          "model_module_version": "1.5.0",
          "model_name": "HTMLModel",
          "state": {
            "_dom_classes": [],
            "_model_module": "@jupyter-widgets/controls",
            "_model_module_version": "1.5.0",
            "_model_name": "HTMLModel",
            "_view_count": null,
            "_view_module": "@jupyter-widgets/controls",
            "_view_module_version": "1.5.0",
            "_view_name": "HTMLView",
            "description": "",
            "description_tooltip": null,
            "layout": "IPY_MODEL_e052cd1447154d86b97f8054feb9cdf2",
            "placeholder": "​",
            "style": "IPY_MODEL_ff61ea6b056d4ef3ba43d77e5ef5333d",
            "value": " 2/2 [01:04&lt;00:00, 29.49s/it]"
          }
        },
        "e983089a34694b3b9759a359425f6413": {
          "model_module": "@jupyter-widgets/controls",
          "model_module_version": "1.5.0",
          "model_name": "HBoxModel",
          "state": {
            "_dom_classes": [],
            "_model_module": "@jupyter-widgets/controls",
            "_model_module_version": "1.5.0",
            "_model_name": "HBoxModel",
            "_view_count": null,
            "_view_module": "@jupyter-widgets/controls",
            "_view_module_version": "1.5.0",
            "_view_name": "HBoxView",
            "box_style": "",
            "children": [
              "IPY_MODEL_cc6c64d10fbd47a996c37e6386a40e56",
              "IPY_MODEL_a3ea9d959af9467691639f687667393a",
              "IPY_MODEL_2ee6471cb69541e29df0a78f9213c9c2"
            ],
            "layout": "IPY_MODEL_5d5c01992c134b51b5bcc150eba766ec"
          }
        },
        "eb0f0576e5e74017a5162db5997ab6d0": {
          "model_module": "@jupyter-widgets/controls",
          "model_module_version": "1.5.0",
          "model_name": "ProgressStyleModel",
          "state": {
            "_model_module": "@jupyter-widgets/controls",
            "_model_module_version": "1.5.0",
            "_model_name": "ProgressStyleModel",
            "_view_count": null,
            "_view_module": "@jupyter-widgets/base",
            "_view_module_version": "1.2.0",
            "_view_name": "StyleView",
            "bar_color": null,
            "description_width": ""
          }
        },
        "eb612eb7def7422382777499204bd4d5": {
          "model_module": "@jupyter-widgets/base",
          "model_module_version": "1.2.0",
          "model_name": "LayoutModel",
          "state": {
            "_model_module": "@jupyter-widgets/base",
            "_model_module_version": "1.2.0",
            "_model_name": "LayoutModel",
            "_view_count": null,
            "_view_module": "@jupyter-widgets/base",
            "_view_module_version": "1.2.0",
            "_view_name": "LayoutView",
            "align_content": null,
            "align_items": null,
            "align_self": null,
            "border": null,
            "bottom": null,
            "display": null,
            "flex": null,
            "flex_flow": null,
            "grid_area": null,
            "grid_auto_columns": null,
            "grid_auto_flow": null,
            "grid_auto_rows": null,
            "grid_column": null,
            "grid_gap": null,
            "grid_row": null,
            "grid_template_areas": null,
            "grid_template_columns": null,
            "grid_template_rows": null,
            "height": null,
            "justify_content": null,
            "justify_items": null,
            "left": null,
            "margin": null,
            "max_height": null,
            "max_width": null,
            "min_height": null,
            "min_width": null,
            "object_fit": null,
            "object_position": null,
            "order": null,
            "overflow": null,
            "overflow_x": null,
            "overflow_y": null,
            "padding": null,
            "right": null,
            "top": null,
            "visibility": null,
            "width": null
          }
        },
        "edeb660a2ecc41769efac439d25acd19": {
          "model_module": "@jupyter-widgets/controls",
          "model_module_version": "1.5.0",
          "model_name": "DescriptionStyleModel",
          "state": {
            "_model_module": "@jupyter-widgets/controls",
            "_model_module_version": "1.5.0",
            "_model_name": "DescriptionStyleModel",
            "_view_count": null,
            "_view_module": "@jupyter-widgets/base",
            "_view_module_version": "1.2.0",
            "_view_name": "StyleView",
            "description_width": ""
          }
        },
        "f19f529cd67446d4822683a36ecf84af": {
          "model_module": "@jupyter-widgets/controls",
          "model_module_version": "1.5.0",
          "model_name": "HBoxModel",
          "state": {
            "_dom_classes": [],
            "_model_module": "@jupyter-widgets/controls",
            "_model_module_version": "1.5.0",
            "_model_name": "HBoxModel",
            "_view_count": null,
            "_view_module": "@jupyter-widgets/controls",
            "_view_module_version": "1.5.0",
            "_view_name": "HBoxView",
            "box_style": "",
            "children": [
              "IPY_MODEL_86cab6e60cd748cfa97ce2681e27f14d",
              "IPY_MODEL_389c06ec75964331a61349adc2f1ed03",
              "IPY_MODEL_c911ea98ae0348ef95cdcb1d251d1e86"
            ],
            "layout": "IPY_MODEL_da8c92a9ebab496ab15e806b88464ee5"
          }
        },
        "f48c6cb2f7df407fbfd16cf919a3a4d3": {
          "model_module": "@jupyter-widgets/base",
          "model_module_version": "1.2.0",
          "model_name": "LayoutModel",
          "state": {
            "_model_module": "@jupyter-widgets/base",
            "_model_module_version": "1.2.0",
            "_model_name": "LayoutModel",
            "_view_count": null,
            "_view_module": "@jupyter-widgets/base",
            "_view_module_version": "1.2.0",
            "_view_name": "LayoutView",
            "align_content": null,
            "align_items": null,
            "align_self": null,
            "border": null,
            "bottom": null,
            "display": null,
            "flex": null,
            "flex_flow": null,
            "grid_area": null,
            "grid_auto_columns": null,
            "grid_auto_flow": null,
            "grid_auto_rows": null,
            "grid_column": null,
            "grid_gap": null,
            "grid_row": null,
            "grid_template_areas": null,
            "grid_template_columns": null,
            "grid_template_rows": null,
            "height": null,
            "justify_content": null,
            "justify_items": null,
            "left": null,
            "margin": null,
            "max_height": null,
            "max_width": null,
            "min_height": null,
            "min_width": null,
            "object_fit": null,
            "object_position": null,
            "order": null,
            "overflow": null,
            "overflow_x": null,
            "overflow_y": null,
            "padding": null,
            "right": null,
            "top": null,
            "visibility": null,
            "width": null
          }
        },
        "f54e710d0b214504be4cc8758c954cbf": {
          "model_module": "@jupyter-widgets/base",
          "model_module_version": "1.2.0",
          "model_name": "LayoutModel",
          "state": {
            "_model_module": "@jupyter-widgets/base",
            "_model_module_version": "1.2.0",
            "_model_name": "LayoutModel",
            "_view_count": null,
            "_view_module": "@jupyter-widgets/base",
            "_view_module_version": "1.2.0",
            "_view_name": "LayoutView",
            "align_content": null,
            "align_items": null,
            "align_self": null,
            "border": null,
            "bottom": null,
            "display": null,
            "flex": null,
            "flex_flow": null,
            "grid_area": null,
            "grid_auto_columns": null,
            "grid_auto_flow": null,
            "grid_auto_rows": null,
            "grid_column": null,
            "grid_gap": null,
            "grid_row": null,
            "grid_template_areas": null,
            "grid_template_columns": null,
            "grid_template_rows": null,
            "height": null,
            "justify_content": null,
            "justify_items": null,
            "left": null,
            "margin": null,
            "max_height": null,
            "max_width": null,
            "min_height": null,
            "min_width": null,
            "object_fit": null,
            "object_position": null,
            "order": null,
            "overflow": null,
            "overflow_x": null,
            "overflow_y": null,
            "padding": null,
            "right": null,
            "top": null,
            "visibility": null,
            "width": null
          }
        },
        "f795b9cee96b431f8d97df493a67178c": {
          "model_module": "@jupyter-widgets/base",
          "model_module_version": "1.2.0",
          "model_name": "LayoutModel",
          "state": {
            "_model_module": "@jupyter-widgets/base",
            "_model_module_version": "1.2.0",
            "_model_name": "LayoutModel",
            "_view_count": null,
            "_view_module": "@jupyter-widgets/base",
            "_view_module_version": "1.2.0",
            "_view_name": "LayoutView",
            "align_content": null,
            "align_items": null,
            "align_self": null,
            "border": null,
            "bottom": null,
            "display": null,
            "flex": null,
            "flex_flow": null,
            "grid_area": null,
            "grid_auto_columns": null,
            "grid_auto_flow": null,
            "grid_auto_rows": null,
            "grid_column": null,
            "grid_gap": null,
            "grid_row": null,
            "grid_template_areas": null,
            "grid_template_columns": null,
            "grid_template_rows": null,
            "height": null,
            "justify_content": null,
            "justify_items": null,
            "left": null,
            "margin": null,
            "max_height": null,
            "max_width": null,
            "min_height": null,
            "min_width": null,
            "object_fit": null,
            "object_position": null,
            "order": null,
            "overflow": null,
            "overflow_x": null,
            "overflow_y": null,
            "padding": null,
            "right": null,
            "top": null,
            "visibility": null,
            "width": null
          }
        },
        "f7a626df3dfd4ee89678b9d21401b77e": {
          "model_module": "@jupyter-widgets/base",
          "model_module_version": "1.2.0",
          "model_name": "LayoutModel",
          "state": {
            "_model_module": "@jupyter-widgets/base",
            "_model_module_version": "1.2.0",
            "_model_name": "LayoutModel",
            "_view_count": null,
            "_view_module": "@jupyter-widgets/base",
            "_view_module_version": "1.2.0",
            "_view_name": "LayoutView",
            "align_content": null,
            "align_items": null,
            "align_self": null,
            "border": null,
            "bottom": null,
            "display": null,
            "flex": null,
            "flex_flow": null,
            "grid_area": null,
            "grid_auto_columns": null,
            "grid_auto_flow": null,
            "grid_auto_rows": null,
            "grid_column": null,
            "grid_gap": null,
            "grid_row": null,
            "grid_template_areas": null,
            "grid_template_columns": null,
            "grid_template_rows": null,
            "height": null,
            "justify_content": null,
            "justify_items": null,
            "left": null,
            "margin": null,
            "max_height": null,
            "max_width": null,
            "min_height": null,
            "min_width": null,
            "object_fit": null,
            "object_position": null,
            "order": null,
            "overflow": null,
            "overflow_x": null,
            "overflow_y": null,
            "padding": null,
            "right": null,
            "top": null,
            "visibility": null,
            "width": null
          }
        },
        "f8a4778a319c48cb82224914f5f58e69": {
          "model_module": "@jupyter-widgets/base",
          "model_module_version": "1.2.0",
          "model_name": "LayoutModel",
          "state": {
            "_model_module": "@jupyter-widgets/base",
            "_model_module_version": "1.2.0",
            "_model_name": "LayoutModel",
            "_view_count": null,
            "_view_module": "@jupyter-widgets/base",
            "_view_module_version": "1.2.0",
            "_view_name": "LayoutView",
            "align_content": null,
            "align_items": null,
            "align_self": null,
            "border": null,
            "bottom": null,
            "display": null,
            "flex": null,
            "flex_flow": null,
            "grid_area": null,
            "grid_auto_columns": null,
            "grid_auto_flow": null,
            "grid_auto_rows": null,
            "grid_column": null,
            "grid_gap": null,
            "grid_row": null,
            "grid_template_areas": null,
            "grid_template_columns": null,
            "grid_template_rows": null,
            "height": null,
            "justify_content": null,
            "justify_items": null,
            "left": null,
            "margin": null,
            "max_height": null,
            "max_width": null,
            "min_height": null,
            "min_width": null,
            "object_fit": null,
            "object_position": null,
            "order": null,
            "overflow": null,
            "overflow_x": null,
            "overflow_y": null,
            "padding": null,
            "right": null,
            "top": null,
            "visibility": null,
            "width": null
          }
        },
        "fdb1fd6d8f7a48a39f0568b3fe92873e": {
          "model_module": "@jupyter-widgets/controls",
          "model_module_version": "1.5.0",
          "model_name": "HTMLModel",
          "state": {
            "_dom_classes": [],
            "_model_module": "@jupyter-widgets/controls",
            "_model_module_version": "1.5.0",
            "_model_name": "HTMLModel",
            "_view_count": null,
            "_view_module": "@jupyter-widgets/controls",
            "_view_module_version": "1.5.0",
            "_view_name": "HTMLView",
            "description": "",
            "description_tooltip": null,
            "layout": "IPY_MODEL_64da833ed58e4dc49b05efa0e0b7827d",
            "placeholder": "​",
            "style": "IPY_MODEL_edeb660a2ecc41769efac439d25acd19",
            "value": " 8.15k/8.15k [00:00&lt;00:00, 189kB/s]"
          }
        },
        "ff61ea6b056d4ef3ba43d77e5ef5333d": {
          "model_module": "@jupyter-widgets/controls",
          "model_module_version": "1.5.0",
          "model_name": "DescriptionStyleModel",
          "state": {
            "_model_module": "@jupyter-widgets/controls",
            "_model_module_version": "1.5.0",
            "_model_name": "DescriptionStyleModel",
            "_view_count": null,
            "_view_module": "@jupyter-widgets/base",
            "_view_module_version": "1.2.0",
            "_view_name": "StyleView",
            "description_width": ""
          }
        }
      }
    }
  },
  "nbformat": 4,
  "nbformat_minor": 0
}
