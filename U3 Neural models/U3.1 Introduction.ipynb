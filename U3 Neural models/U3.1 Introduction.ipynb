{
 "cells": [
  {
   "cell_type": "code",
   "execution_count": 57,
   "metadata": {},
   "outputs": [],
   "source": [
    "import graphviz; graphviz.Source('''\n",
    "digraph { \n",
    "    concentrate=True;\n",
    "    rankdir=BT;\n",
    "    node [shape=record];\n",
    "    WE [label=\"Word embedding\\n|{output:|input:}|{{m}|{V}}\"];\n",
    "    HL [label=\"MLP (Hidden layer weights)\\n|{output:|input:}|{{h}|{m · (n-1)}}\"];\n",
    "    OL [label=\"Softmax (Output weights)\\n|{output:|input:}|{{V}|{h + m · (n-1)}}\"];\n",
    "    WE -> HL\n",
    "    HL -> OL\n",
    "    WE -> OL\n",
    "    node [shape=circle];\n",
    "    wb [label=<W<sub>i-n-1</sub>>,fixedsize=true,width=0.7];\n",
    "    wm [label=\"...\",fixedsize=true,width=0.7];\n",
    "    we [label=<W<sub>i-1</sub>>,fixedsize=true,width=0.7];\n",
    "    wo  [label=<W<sub>i</sub>>,fixedsize=true,width=0.7];\n",
    "    wb -> WE\n",
    "    wm -> WE\n",
    "    we -> WE\n",
    "    OL  -> wo\n",
    "}''').render(filename='MLPXOR', format='svg');"
   ]
  },
  {
   "cell_type": "markdown",
   "metadata": {},
   "source": [
    "<img src=\"MLPXOR.svg\" width=\"350\"/>"
   ]
  }
 ],
 "metadata": {
  "kernelspec": {
   "display_name": ".venv_tfcuda",
   "language": "python",
   "name": "python3"
  },
  "language_info": {
   "codemirror_mode": {
    "name": "ipython",
    "version": 3
   },
   "file_extension": ".py",
   "mimetype": "text/x-python",
   "name": "python",
   "nbconvert_exporter": "python",
   "pygments_lexer": "ipython3",
   "version": "3.12.3"
  }
 },
 "nbformat": 4,
 "nbformat_minor": 2
}
