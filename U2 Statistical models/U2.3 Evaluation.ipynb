{
 "cells": [
  {
   "cell_type": "markdown",
   "metadata": {},
   "source": [
    "## Introduction\n",
    "\n",
    "How good are a set of translations?\n",
    "\n",
    "Challenging problem for several reasons:\n",
    "\n",
    "- There is no a single correct translation\n",
    "- Many possible translations that are all acceptable\n",
    "- All correct translations are not available\n",
    "\n",
    "Automatic evaluation\n",
    "\n",
    "- Objective and fast to compute\n",
    "- It allows the comparison among MT systems\n",
    "\n",
    "Manual evaluation\n",
    "- Subjective and costly both in time and money\n",
    "- Adecuacy and fluency"
   ]
  },
  {
   "cell_type": "markdown",
   "metadata": {},
   "source": [
    "# Automatic evaluation\n",
    "\n",
    "Two approaches\n",
    "- Comparison between automatic and reference (manual) translation: WER, **BLEU**, METEOR, **COMET**, etc.\n",
    "- Quality estimation only from automatic translation\n",
    "\n",
    "<!--WER: normalised minimum edit distance between automatic and reference translation-->"
   ]
  },
  {
   "cell_type": "markdown",
   "metadata": {},
   "source": [
    "## Bilingual Evaluation Understudy (BLEU)\n",
    "\n",
    "BLEU [1] measures the degree of overlapping at different n-gram orders between automatic and reference translations\n",
    "\n",
    "$$\n",
    "\\text{BLEU} = \\text{BP} \\cdot \\exp \\left( \\sum_{n=1}^N w_n \\log p_n \\right)\n",
    "$$\n",
    "\n",
    "where:\n",
    "- $\\text{BP} = \\left\\{ \\begin{matrix}1 & \\text{if} \\; r > c\\\\\\exp({1-\\frac{r}{c}}) & \\text{if} \\; r \\leq c \\end{matrix} \\right.$ \n",
    "- $r$ is the total length of reference translations\n",
    "- $c$ is the total length of automatic translations\n",
    "- $N$ is maximum n-gram order, usually set to $N=4$ \n",
    "- $w_n$ is the weight of the $n$-gram order, usually set to uniform $w_n=\\frac{1}{N}$\n",
    "- $p_n$ is the modified precision of the $n$-gram order. Proportion of automatic $n$-grams matching reference $n$-grams"
   ]
  },
  {
   "cell_type": "markdown",
   "metadata": {},
   "source": [
    "### Examples of computing modified precision"
   ]
  },
  {
   "cell_type": "code",
   "execution_count": 72,
   "metadata": {},
   "outputs": [
    {
     "name": "stdout",
     "output_type": "stream",
     "text": [
      "[['the', 'house', 'is', 'blue']]\n",
      "['the', 'home', 'is', 'blue']\n",
      "1-gram precision: 3/4\n",
      "2-gram precision: 1/3\n",
      "3-gram precision: 0/2\n",
      "4-gram precision: 0\n",
      "[['my', 'dog', 'was', 'white']]\n",
      "['my', 'dog', 'was', 'white']\n",
      "1-gram precision: 4/4\n",
      "2-gram precision: 3/3\n",
      "3-gram precision: 2/2\n",
      "4-gram precision: 1\n"
     ]
    }
   ],
   "source": [
    "from nltk.translate.bleu_score import modified_precision\n",
    "\n",
    "# single reference\n",
    "refs = [[['the','house','is','blue']],[['my','dog','was','white']]]\n",
    "autos = [['the','home','is','blue'],['my','dog','was','white']]\n",
    "\n",
    "for (ref,auto) in zip(refs,autos):\n",
    "    print(ref); print(auto)\n",
    "    for n in range (1,5):\n",
    "        print(f'{n}-gram precision: {modified_precision(ref,auto,n)}')"
   ]
  },
  {
   "cell_type": "code",
   "execution_count": 22,
   "metadata": {},
   "outputs": [
    {
     "name": "stdout",
     "output_type": "stream",
     "text": [
      "['the', 'house', 'is', 'blue']\n",
      "['the', 'the', 'the', 'the']\n",
      "1-gram precision: 1/4\n",
      "['the', 'house', 'the', 'dog']\n",
      "['the', 'the', 'the', 'the']\n",
      "1-gram precision: 2/4\n"
     ]
    }
   ],
   "source": [
    "from nltk.translate.bleu_score import modified_precision\n",
    "\n",
    "# single reference\n",
    "refs = [[['the','house','is','blue']],[['the','house','the','dog']]]\n",
    "autos = [['the','the','the','the'],['the','the','the','the']]\n",
    "\n",
    "for (ref,auto) in zip(refs,autos):\n",
    "    print(ref); print(auto)\n",
    "    for n in range (1,2):\n",
    "        print(f'{n}-gram precision: {modified_precision(ref,auto,n)}')"
   ]
  },
  {
   "cell_type": "code",
   "execution_count": 75,
   "metadata": {},
   "outputs": [
    {
     "name": "stdout",
     "output_type": "stream",
     "text": [
      "[['the', 'house', 'is', 'blue'], ['the', 'home', 'was', 'white']]\n",
      "['the', 'home', 'is', 'blue']\n",
      "1-gram precision: 4/4\n",
      "2-gram precision: 2/3\n",
      "3-gram precision: 0/2\n",
      "4-gram precision: 0\n"
     ]
    }
   ],
   "source": [
    "from nltk.translate.bleu_score import modified_precision\n",
    "\n",
    "# multiple references\n",
    "refs = [[['the','house','is','blue'],['the','home','was','white']]]\n",
    "autos = [['the','home','is','blue']]\n",
    "\n",
    "for (ref,auto) in zip(refs,autos):\n",
    "    print(ref); print(auto)\n",
    "    for n in range (1,5):\n",
    "        print(f'{n}-gram precision: {modified_precision(ref,auto,n)}')"
   ]
  },
  {
   "cell_type": "markdown",
   "metadata": {},
   "source": [
    "### Brevity penalty explained"
   ]
  },
  {
   "cell_type": "code",
   "execution_count": 34,
   "metadata": {},
   "outputs": [
    {
     "data": {
      "image/png": "[encoded data removed]",
      "text/plain": [
       "<Figure size 640x480 with 1 Axes>"
      ]
     },
     "metadata": {},
     "output_type": "display_data"
    }
   ],
   "source": [
    "import matplotlib.pyplot as plt\n",
    "import numpy as np\n",
    "\n",
    "# ratio = r/c\n",
    "ratio = np.linspace(0.5, 5.0, 100)\n",
    "BP = np.where(ratio<1.,1.,np.exp(1-ratio))\n",
    "\n",
    "fig, ax = plt.subplots()\n",
    "ax.set_xlabel('r/c')\n",
    "ax.set_ylabel('BP')\n",
    "ax.plot(ratio, BP)\n",
    "plt.show()"
   ]
  },
  {
   "cell_type": "code",
   "execution_count": 79,
   "metadata": {},
   "outputs": [
    {
     "name": "stdout",
     "output_type": "stream",
     "text": [
      "Multi-reference brevity penalty: 1.0\n"
     ]
    }
   ],
   "source": [
    "from nltk.translate.bleu_score import closest_ref_length, brevity_penalty\n",
    "\n",
    "# multiple references\n",
    "refs = [['house','is','blue'],['the','home','was','white']]\n",
    "auto = ['home','is','blue']\n",
    "\n",
    "auto_len = len(auto)\n",
    "ref_len = closest_ref_length(refs,auto_len)\n",
    "\n",
    "print(f'Multi-reference brevity penalty: {brevity_penalty(ref_len,auto_len)}')"
   ]
  },
  {
   "cell_type": "markdown",
   "metadata": {},
   "source": [
    "### BLEU computed at sentence and corpus level"
   ]
  },
  {
   "cell_type": "code",
   "execution_count": 4,
   "metadata": {},
   "outputs": [
    {
     "name": "stdout",
     "output_type": "stream",
     "text": [
      "[['the', 'house', 'is', 'blue']]\n",
      "['the', 'home', 'is', 'blue']\n",
      "BLEU: 0.00\n",
      "[['my', 'dog', 'was', 'white']]\n",
      "['my', 'dog', 'was', 'white']\n",
      "BLEU: 1.00\n"
     ]
    },
    {
     "name": "stderr",
     "output_type": "stream",
     "text": [
      "/home/jorcisai/.local/lib/python3.10/site-packages/nltk/translate/bleu_score.py:552: UserWarning: \n",
      "The hypothesis contains 0 counts of 3-gram overlaps.\n",
      "Therefore the BLEU score evaluates to 0, independently of\n",
      "how many N-gram overlaps of lower order it contains.\n",
      "Consider using lower n-gram order or use SmoothingFunction()\n",
      "  warnings.warn(_msg)\n",
      "/home/jorcisai/.local/lib/python3.10/site-packages/nltk/translate/bleu_score.py:552: UserWarning: \n",
      "The hypothesis contains 0 counts of 4-gram overlaps.\n",
      "Therefore the BLEU score evaluates to 0, independently of\n",
      "how many N-gram overlaps of lower order it contains.\n",
      "Consider using lower n-gram order or use SmoothingFunction()\n",
      "  warnings.warn(_msg)\n"
     ]
    }
   ],
   "source": [
    "from nltk.translate.bleu_score import sentence_bleu\n",
    "\n",
    "refs = [[['the','house','is','blue']],[['my','dog','was','white']]]\n",
    "autos = [['the','home','is','blue'],['my','dog','was','white']]\n",
    "\n",
    "for (ref,auto) in zip(refs,autos):\n",
    "    print(ref); print(auto)\n",
    "    print(f'BLEU: {sentence_bleu(ref,auto):.2f}')"
   ]
  },
  {
   "cell_type": "code",
   "execution_count": 5,
   "metadata": {},
   "outputs": [
    {
     "name": "stdout",
     "output_type": "stream",
     "text": [
      "[['the', 'house', 'is', 'blue']]\n",
      "['the', 'home', 'is', 'blue']\n",
      "BLEU: 0.19\n",
      "[['my', 'dog', 'was', 'white']]\n",
      "['my', 'dog', 'was', 'white']\n",
      "BLEU: 1.00\n"
     ]
    }
   ],
   "source": [
    "from nltk.translate.bleu_score import sentence_bleu, SmoothingFunction\n",
    "\n",
    "refs = [[['the','house','is','blue']],[['my','dog','was','white']]]\n",
    "autos = [['the','home','is','blue'],['my','dog','was','white']]\n",
    "\n",
    "chencherry = SmoothingFunction()\n",
    "for (ref,auto) in zip(refs,autos):\n",
    "    print(ref); print(auto)\n",
    "    print(f'BLEU: {sentence_bleu(ref,auto,smoothing_function=chencherry.method4):.2f}')"
   ]
  },
  {
   "cell_type": "code",
   "execution_count": 71,
   "metadata": {},
   "outputs": [
    {
     "name": "stdout",
     "output_type": "stream",
     "text": [
      "BLEU: 0.60\n",
      "BLEU: 0.60\n"
     ]
    }
   ],
   "source": [
    "import math\n",
    "from collections import Counter\n",
    "from nltk.translate.bleu_score import brevity_penalty, corpus_bleu\n",
    "\n",
    "refs = [[['the','house','is','blue']],[['my','dog','was','white']]]\n",
    "autos = [['home','is','blue'],['my','dog','was','white']]\n",
    "N = 4\n",
    "\n",
    "ref_len = 0\n",
    "auto_len = 0\n",
    "p_numerators = Counter()\n",
    "p_denominators = Counter()\n",
    "for (ref,auto) in zip(refs,autos):\n",
    "    ref_len += len(ref[0])\n",
    "    auto_len += len(auto)\n",
    "    for n in range (1,N+1):\n",
    "        p = modified_precision(ref,auto,n)\n",
    "        p_numerators[n] += p.numerator\n",
    "        p_denominators[n] += p.denominator\n",
    "\n",
    "geometricMean = 0.0\n",
    "for n in range (1,N+1):\n",
    "        geometricMean += 1/N*math.log(p_numerators[n]/p_denominators[n])\n",
    "\n",
    "print(f'BLEU: {brevity_penalty(ref_len,auto_len) * math.exp(geometricMean):.2f}')\n",
    "\n",
    "\n",
    "print(f'BLEU: {corpus_bleu(refs,autos):.2f}')"
   ]
  },
  {
   "cell_type": "markdown",
   "metadata": {},
   "source": [
    "## Crosslingual Optimized Metric for Evaluation of Translation (COMET)\n",
    "\n",
    "COMET [2] is a neural-based evaluation framework that generates estimates of human judgments based on:\n",
    "<ul>\n",
    "<li>Direct Assessments (DA)</li>\n",
    "<li>Human-mediated Translation Edit Rate (HTER)</li>\n",
    "<li>Multidimensional Quality Metric (MQM) framework </li>\n",
    "</ul>\n",
    "\n",
    "In contrast to n-gram-based evaluation measures, such as BLEU, COMET considers in addition the source-language input and pursues:\n",
    "\n",
    "<ul>\n",
    "<li>Accurate correlation with human judgements even at sentence level</li>\n",
    "<li>Greater capacity to differentiate the highest performing systems</li>\n",
    "</ul>"
   ]
  },
  {
   "cell_type": "markdown",
   "metadata": {},
   "source": [
    "## Model architectures\n",
    "\n",
    "Two models are considered: estimator model (regressor) and translation ranking model\n",
    "\n",
    "Common components: \n",
    "\n",
    "<ul>\n",
    "<li>Cross-lingual encoder based on XLM-RoBERTa applied to source and target</li> \n",
    "<li>Pooling layer based layer-wise attention mechanism at word level combined into sentence-level embedding</li>\n",
    "</ul>"
   ]
  },
  {
   "cell_type": "markdown",
   "metadata": {},
   "source": [
    "### Estimator model\n",
    "\n",
    "Combination of sentence-level embeddings or source $s$, hypothesis $h$ and reference $r$\n",
    "\n",
    "  - Element-wise source product $h \\odot s$\n",
    "  - Element-wise reference product $h \\odot r$\n",
    "  - Element-wise source difference $\\vert h - s \\vert$\n",
    "  - Element-wise reference difference $\\vert h - r \\vert$\n",
    "\n",
    "These combined features concatenated as $[h;r;h \\odot s;h \\odot r;h \\odot s;\\vert h - s \\vert;\\vert h - r \\vert]$ as input to a feed-forward regressor\n",
    "\n",
    "The model is trained to minimise mean square error between predicted score and DA, HTER and MQM\n",
    "\n",
    "![Estimator model architecture](figs/EstimatorModelCOMET2020.png)"
   ]
  },
  {
   "cell_type": "markdown",
   "metadata": {},
   "source": [
    "### Translation Ranking Model\n",
    "Model receives a tuple $(s,h^+,h^-,r)$ where hypothesis $h^+$ scores higher than $h^-$\n",
    "\n",
    "Tuple goes through cross-lingual encoder and pooling layer\n",
    "\n",
    "The triple margin loss is minimised\n",
    "\n",
    "${\\cal L}(s,h^+,h^-,r) = L(s,h^+,h^-) + L(r,h^+,h^-)$\n",
    "\n",
    "where\n",
    "\n",
    "$L(u,h^+,h^-) = \\max(0, d(u,h^+) - d(u,h^-) + \\epsilon)$\n",
    "\n",
    "and $d(u,v)$ is the Euclidean distance and $\\epsilon$, the margin.\n",
    "\n",
    "The embedding space is optimised so the distance between the anchor $u$ (either $s$ or $r$) and \n",
    "$h^-$ is greater than that of $h^+$.\n",
    "\n",
    "At inference time with only one hypothesis, the score $\\hat{f}(s,h,r)$ is the inverse of \n",
    "the harmonic mean of the distances from $h$ to $s$ and $r$:\n",
    "\n",
    "$\\hat{f}(s,h,r) = \\frac{1}{1 + f(s,h,r)}$\n",
    "\n",
    "where\n",
    "\n",
    "$f(s,h,r) = \\frac{2 \\cdot d(s,h) \\cdot d(r,h))}{d(s,h) + d(r,h))}$\n",
    "\n",
    "\n",
    "![Translation ranking model architecture](figs/TranslationRankingModelCOMET2020.png)"
   ]
  },
  {
   "cell_type": "code",
   "execution_count": 6,
   "metadata": {},
   "outputs": [
    {
     "data": {
      "application/vnd.jupyter.widget-view+json": {
       "model_id": "c3f61d6ddf6c484fafc063dd4d7d81ff",
       "version_major": 2,
       "version_minor": 0
      },
      "text/plain": [
       "Fetching 5 files:   0%|          | 0/5 [00:00<?, ?it/s]"
      ]
     },
     "metadata": {},
     "output_type": "display_data"
    },
    {
     "name": "stderr",
     "output_type": "stream",
     "text": [
      "Lightning automatically upgraded your loaded checkpoint from v1.8.3.post1 to v2.2.5. To apply the upgrade to your files permanently, run `python -m pytorch_lightning.utilities.upgrade_checkpoint ../../../../.cache/huggingface/hub/models--Unbabel--wmt22-comet-da/snapshots/371e9839ca4e213dde891b066cf3080f75ec7e72/checkpoints/model.ckpt`\n",
      "Encoder model frozen.\n",
      "/home/jorcisai/.local/lib/python3.10/site-packages/pytorch_lightning/core/saving.py:188: Found keys that are not in the model state dict but in the checkpoint: ['encoder.model.embeddings.position_ids']\n",
      "GPU available: True (cuda), used: True\n",
      "TPU available: False, using: 0 TPU cores\n",
      "IPU available: False, using: 0 IPUs\n",
      "HPU available: False, using: 0 HPUs\n",
      "LOCAL_RANK: 0 - CUDA_VISIBLE_DEVICES: [0]\n",
      "Predicting DataLoader 0: 100%|██████████| 1/1 [00:00<00:00, 29.41it/s]\n"
     ]
    },
    {
     "name": "stdout",
     "output_type": "stream",
     "text": [
      "Prediction([('scores', [0.9247062802314758, 0.9897541403770447]), ('system_score', 0.9572302103042603)])\n",
      "[0.9247062802314758, 0.9897541403770447]\n",
      "0.9572302103042603\n"
     ]
    }
   ],
   "source": [
    "from comet import download_model, load_from_checkpoint\n",
    "\n",
    "# Choose your model from Hugging Face Hub\n",
    "# model_path = download_model(\"Unbabel/XCOMET-XL\")\n",
    "# or for example:\n",
    "model_path = download_model(\"Unbabel/wmt22-comet-da\")\n",
    "\n",
    "# Load the model checkpoint:\n",
    "model = load_from_checkpoint(model_path)\n",
    "\n",
    "# Data must be in the following format:\n",
    "data = [\n",
    "    {\n",
    "        \"src\": \"la casa es azul\",\n",
    "        \"mt\": \"home is blue\",\n",
    "        \"ref\": \"the house is blue\"\n",
    "    },\n",
    "    {\n",
    "        \"src\": \"mi perro era blanco\",\n",
    "        \"mt\": \"my dog was white\",\n",
    "        \"ref\": \"my dog was white\"\n",
    "    }\n",
    "]\n",
    "# Call predict method:\n",
    "model_output = model.predict(data, batch_size=8, gpus=1)\n",
    "print(model_output)\n",
    "print(model_output.scores) # sentence-level scores\n",
    "print(model_output.system_score) # system-level score\n",
    "\n",
    "# Not all COMET models return metadata with detected errors.\n",
    "# print(model_output.metadata.error_spans) # detected error spans"
   ]
  },
  {
   "cell_type": "markdown",
   "metadata": {},
   "source": [
    "## Additional bibliography\n",
    "\n",
    "<ol>\n",
    "<li><a href=\"https://aclanthology.org/P02-1040.pdf\" target=\"_blank\">K. Papineni et al. Bleu: a Method for Automatic Evaluation of Machine Translation, ACL 2002.</a></li>\n",
    "<li><a href=\"https://aclanthology.org/2020.emnlp-main.213.pdf\" target=\"_blank\">R. Rei et al. COMET: A Neural Framework for MT Evaluation, EMNLP 2020.</a></li>\n",
    "<li><a href=\"https://aclanthology.org/2022.wmt-1.2.pdf\" target=\"_blank\">M. Freitag et al. Results of WMT22 Metrics Shared Task: Stop Using BLEU – Neural Metrics Are Better and More Robust, WMT 2022.</a></li>\n",
    "</ol>"
   ]
  }
 ],
 "metadata": {
  "kernelspec": {
   "display_name": "Python 3",
   "language": "python",
   "name": "python3"
  },
  "language_info": {
   "codemirror_mode": {
    "name": "ipython",
    "version": 3
   },
   "file_extension": ".py",
   "mimetype": "text/x-python",
   "name": "python",
   "nbconvert_exporter": "python",
   "pygments_lexer": "ipython3",
   "version": "3.10.12"
  }
 },
 "nbformat": 4,
 "nbformat_minor": 2
}
