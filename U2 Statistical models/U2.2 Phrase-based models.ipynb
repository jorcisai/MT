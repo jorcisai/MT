{
 "cells": [
  {
   "cell_type": "markdown",
   "metadata": {},
   "source": [
    "# Phrase-based models\n",
    "\n",
    "<ul>\n",
    "<li>Motivation: Capture many-to-many mapping to include word context</li>\n",
    "<li>Generative phrase-based models [1,2]: hidden variables for phrase segmentation and alignment</li>\n",
    "<li>Heuristic phrase-based models: alignment symmetrisation and relative counts [3, Chapter 5]</li>\n",
    "</ul>"
   ]
  },
  {
   "cell_type": "code",
   "execution_count": 20,
   "metadata": {},
   "outputs": [],
   "source": [
    "from nltk.translate import AlignedSent, IBMModel2, phrase_based\n",
    "\n",
    "esText = ['la casa es azul','mi casa era blanca','mi perro es blanco','el perro era azul']\n",
    "enText = ['the house is blue', 'my house was white','my dog is white', 'the dog was blue']\n",
    "\n",
    "# Source language is Euskera and target language is English\n",
    "corpus = []\n",
    "for enSent, esSent in zip(enText,esText):\n",
    "    corpus.append(AlignedSent(enSent.split(),esSent.split()))\n",
    "\n",
    "m2 = IBMModel2(corpus, 5)\n",
    "m2.align_all(corpus)"
   ]
  },
  {
   "cell_type": "code",
   "execution_count": 28,
   "metadata": {},
   "outputs": [
    {
     "name": "stdout",
     "output_type": "stream",
     "text": [
      "the house is blue > la casa es azul: 0-3 1-1 2-2 3-3\n",
      "((0, 4), (0, 4), 'the house is blue', 'la casa es azul')\n",
      "((0, 4), (1, 4), 'the house is blue', 'casa es azul')\n",
      "((1, 2), (0, 2), 'house', 'la casa')\n",
      "((1, 2), (1, 2), 'house', 'casa')\n",
      "((1, 3), (0, 3), 'house is', 'la casa es')\n",
      "((1, 3), (1, 3), 'house is', 'casa es')\n",
      "((2, 3), (2, 3), 'is', 'es')\n",
      "my house was white > mi casa era blanca: 0-3 1-1 2-2 3-3\n",
      "((0, 4), (0, 4), 'my house was white', 'mi casa era blanca')\n",
      "((0, 4), (1, 4), 'my house was white', 'casa era blanca')\n",
      "((1, 2), (0, 2), 'house', 'mi casa')\n",
      "((1, 2), (1, 2), 'house', 'casa')\n",
      "((1, 3), (0, 3), 'house was', 'mi casa era')\n",
      "((1, 3), (1, 3), 'house was', 'casa era')\n",
      "((2, 3), (2, 3), 'was', 'era')\n",
      "my dog is white > mi perro es blanco: 0-3 1-1 2-2 3-3\n",
      "((0, 4), (0, 4), 'my dog is white', 'mi perro es blanco')\n",
      "((0, 4), (1, 4), 'my dog is white', 'perro es blanco')\n",
      "((1, 2), (0, 2), 'dog', 'mi perro')\n",
      "((1, 2), (1, 2), 'dog', 'perro')\n",
      "((1, 3), (0, 3), 'dog is', 'mi perro es')\n",
      "((1, 3), (1, 3), 'dog is', 'perro es')\n",
      "((2, 3), (2, 3), 'is', 'es')\n",
      "the dog was blue > el perro era azul: 0-3 1-1 2-2 3-3\n",
      "((0, 4), (0, 4), 'the dog was blue', 'el perro era azul')\n",
      "((0, 4), (1, 4), 'the dog was blue', 'perro era azul')\n",
      "((1, 2), (0, 2), 'dog', 'el perro')\n",
      "((1, 2), (1, 2), 'dog', 'perro')\n",
      "((1, 3), (0, 3), 'dog was', 'el perro era')\n",
      "((1, 3), (1, 3), 'dog was', 'perro era')\n",
      "((2, 3), (2, 3), 'was', 'era')\n"
     ]
    }
   ],
   "source": [
    "for biSent in corpus:\n",
    "    esSent = \" \".join(biSent.words)\n",
    "    enSent = \" \".join(biSent.mots)\n",
    "    print(f'{esSent} > {enSent}: {biSent.alignment}')\n",
    "    phrases = phrase_based.phrase_extraction(esSent,enSent, biSent.alignment)\n",
    "    for i in sorted(phrases):\n",
    "         print(i)"
   ]
  },
  {
   "cell_type": "code",
   "execution_count": null,
   "metadata": {},
   "outputs": [],
   "source": []
  },
  {
   "cell_type": "markdown",
   "metadata": {},
   "source": [
    "## Additional bibliography\n",
    "\n",
    "<ol>\n",
    "<li><a href=\"https://aclanthology.org/W02-1018.pdf\" target=\"_blank\">D. Marcu and W. Wong. A Phrase-Based, Joint Probability Model for Statistical Machine Translation, EMNLP 2002.</a></li>\n",
    "<li><a href=\"https://aclanthology.org/2009.eamt-1.23.pdf\" target=\"_blank\">J. Andrés-Ferrer and A. Juan. A Phrase-Based Hidden Semi-Markov Approach to Machine Translation, EAMT 2009.</a></li>\n",
    "<li><a href=\"https://doi.org/10.1017/CBO9780511815829\" target=\"_blank\">P. Koehn. Statistical Machine Translation, MIT Press 2010.</a></li>\n",
    "</ol>"
   ]
  }
 ],
 "metadata": {
  "kernelspec": {
   "display_name": "Python 3",
   "language": "python",
   "name": "python3"
  },
  "language_info": {
   "codemirror_mode": {
    "name": "ipython",
    "version": 3
   },
   "file_extension": ".py",
   "mimetype": "text/x-python",
   "name": "python",
   "nbconvert_exporter": "python",
   "pygments_lexer": "ipython3",
   "version": "3.8.10"
  }
 },
 "nbformat": 4,
 "nbformat_minor": 2
}
